{
 "cells": [
  {
   "cell_type": "markdown",
   "id": "7c3e8983",
   "metadata": {},
   "source": [
    "# Import"
   ]
  },
  {
   "cell_type": "code",
   "execution_count": 1,
   "id": "37373970",
   "metadata": {},
   "outputs": [
    {
     "name": "stdout",
     "output_type": "stream",
     "text": [
      "class Transformer and Event successfully imported\n"
     ]
    }
   ],
   "source": [
    "%run 'transformer.py'\n",
    "%run 'subsampler.py'\n",
    "%run 'visualisation.py'"
   ]
  },
  {
   "cell_type": "code",
   "execution_count": 2,
   "id": "34c7013b",
   "metadata": {},
   "outputs": [],
   "source": [
    "%load_ext autoreload\n",
    "%autoreload 2\n",
    "\n",
    "import os\n",
    "import seaborn as sns\n",
    "import matplotlib.pyplot as plt\n",
    "\n",
    "from sklearn.model_selection import train_test_split\n",
    "from sklearn.svm import SVC\n",
    "from sklearn.ensemble import RandomForestClassifier\n",
    "from sklearn.neighbors import KNeighborsClassifier\n",
    "from sklearn.preprocessing import LabelEncoder\n",
    "from sklearn.decomposition import PCA\n",
    "from sklearn.ensemble import GradientBoostingClassifier\n",
    "import plotly.express as px\n",
    "\n",
    "from sklearn.metrics import accuracy_score\n",
    "from sklearn.metrics import recall_score"
   ]
  },
  {
   "cell_type": "code",
   "execution_count": 11,
   "id": "4d02f360",
   "metadata": {},
   "outputs": [],
   "source": [
    "# association_table = pd.read_excel('../data/association_table_corrected_index.xlsx', engine='openpyxl')"
   ]
  },
  {
   "cell_type": "code",
   "execution_count": 12,
   "id": "43816f2b",
   "metadata": {},
   "outputs": [],
   "source": [
    "# %store association_table"
   ]
  },
  {
   "cell_type": "code",
   "execution_count": 3,
   "id": "8c338690",
   "metadata": {},
   "outputs": [],
   "source": [
    "%store -r association_table"
   ]
  },
  {
   "cell_type": "code",
   "execution_count": 4,
   "id": "01c66ff6",
   "metadata": {},
   "outputs": [
    {
     "data": {
      "text/html": [
       "<div>\n",
       "<style scoped>\n",
       "    .dataframe tbody tr th:only-of-type {\n",
       "        vertical-align: middle;\n",
       "    }\n",
       "\n",
       "    .dataframe tbody tr th {\n",
       "        vertical-align: top;\n",
       "    }\n",
       "\n",
       "    .dataframe thead th {\n",
       "        text-align: right;\n",
       "    }\n",
       "</style>\n",
       "<table border=\"1\" class=\"dataframe\">\n",
       "  <thead>\n",
       "    <tr style=\"text-align: right;\">\n",
       "      <th></th>\n",
       "      <th>Index</th>\n",
       "      <th>Event</th>\n",
       "      <th>Duration</th>\n",
       "      <th>Event start</th>\n",
       "      <th>Event stop</th>\n",
       "      <th>File name</th>\n",
       "      <th>File start</th>\n",
       "      <th>File end</th>\n",
       "      <th>Sampling rate</th>\n",
       "      <th>Overlap</th>\n",
       "      <th>Unnamed: 10</th>\n",
       "      <th>Unnamed: 11</th>\n",
       "      <th>Unnamed: 12</th>\n",
       "      <th>npts</th>\n",
       "      <th>energy</th>\n",
       "      <th>path</th>\n",
       "    </tr>\n",
       "  </thead>\n",
       "  <tbody>\n",
       "    <tr>\n",
       "      <th>100690</th>\n",
       "      <td>100690</td>\n",
       "      <td>LP1</td>\n",
       "      <td>25</td>\n",
       "      <td>2008-02-21 15:35:52.700000+00:00</td>\n",
       "      <td>2008-02-21 15:36:17.700000+00:00</td>\n",
       "      <td>20080221_1500.UB1.SL.Z.sac</td>\n",
       "      <td>2008-02-21 15:00:00.038000+00:00</td>\n",
       "      <td>2008-02-21 16:00:00.038000+00:00</td>\n",
       "      <td>50.0</td>\n",
       "      <td>False</td>\n",
       "      <td>NaN</td>\n",
       "      <td>NaN</td>\n",
       "      <td>NaN</td>\n",
       "      <td>180001.0</td>\n",
       "      <td>0.09158</td>\n",
       "      <td>C:/Users/EC265595/Documents/Data/Ubinas_2006_2...</td>\n",
       "    </tr>\n",
       "    <tr>\n",
       "      <th>21423</th>\n",
       "      <td>21423</td>\n",
       "      <td>LP1</td>\n",
       "      <td>27</td>\n",
       "      <td>2006-07-21 12:24:13.310000+00:00</td>\n",
       "      <td>2006-07-21 12:24:40.310000+00:00</td>\n",
       "      <td>20060721_1201.UB1.SL.Z.sac</td>\n",
       "      <td>2006-07-21 12:00:00.019000+00:00</td>\n",
       "      <td>2006-07-21 12:59:59.969000+00:00</td>\n",
       "      <td>40.0</td>\n",
       "      <td>False</td>\n",
       "      <td>NaN</td>\n",
       "      <td>NaN</td>\n",
       "      <td>NaN</td>\n",
       "      <td>143999.0</td>\n",
       "      <td>0.03394</td>\n",
       "      <td>C:/Users/EC265595/Documents/Data/Ubinas_2006_2...</td>\n",
       "    </tr>\n",
       "    <tr>\n",
       "      <th>30312</th>\n",
       "      <td>30312</td>\n",
       "      <td>LP1</td>\n",
       "      <td>17</td>\n",
       "      <td>2006-03-09 16:59:20.920000+00:00</td>\n",
       "      <td>2006-03-09 16:59:37.920000+00:00</td>\n",
       "      <td>NaN</td>\n",
       "      <td>NaN</td>\n",
       "      <td>NaN</td>\n",
       "      <td>NaN</td>\n",
       "      <td>False</td>\n",
       "      <td>NaN</td>\n",
       "      <td>NaN</td>\n",
       "      <td>NaN</td>\n",
       "      <td>NaN</td>\n",
       "      <td>0.05580</td>\n",
       "      <td>NaN</td>\n",
       "    </tr>\n",
       "  </tbody>\n",
       "</table>\n",
       "</div>"
      ],
      "text/plain": [
       "         Index Event  Duration                       Event start  \\\n",
       "100690  100690   LP1        25  2008-02-21 15:35:52.700000+00:00   \n",
       "21423    21423   LP1        27  2006-07-21 12:24:13.310000+00:00   \n",
       "30312    30312   LP1        17  2006-03-09 16:59:20.920000+00:00   \n",
       "\n",
       "                              Event stop                   File name  \\\n",
       "100690  2008-02-21 15:36:17.700000+00:00  20080221_1500.UB1.SL.Z.sac   \n",
       "21423   2006-07-21 12:24:40.310000+00:00  20060721_1201.UB1.SL.Z.sac   \n",
       "30312   2006-03-09 16:59:37.920000+00:00                         NaN   \n",
       "\n",
       "                              File start                          File end  \\\n",
       "100690  2008-02-21 15:00:00.038000+00:00  2008-02-21 16:00:00.038000+00:00   \n",
       "21423   2006-07-21 12:00:00.019000+00:00  2006-07-21 12:59:59.969000+00:00   \n",
       "30312                                NaN                               NaN   \n",
       "\n",
       "        Sampling rate  Overlap  Unnamed: 10  Unnamed: 11  Unnamed: 12  \\\n",
       "100690           50.0    False          NaN          NaN          NaN   \n",
       "21423            40.0    False          NaN          NaN          NaN   \n",
       "30312             NaN    False          NaN          NaN          NaN   \n",
       "\n",
       "            npts   energy                                               path  \n",
       "100690  180001.0  0.09158  C:/Users/EC265595/Documents/Data/Ubinas_2006_2...  \n",
       "21423   143999.0  0.03394  C:/Users/EC265595/Documents/Data/Ubinas_2006_2...  \n",
       "30312        NaN  0.05580                                                NaN  "
      ]
     },
     "execution_count": 4,
     "metadata": {},
     "output_type": "execute_result"
    }
   ],
   "source": [
    "association_table.sample(3)"
   ]
  },
  {
   "cell_type": "markdown",
   "id": "ead0dbcf",
   "metadata": {},
   "source": [
    "# Preprocessing"
   ]
  },
  {
   "cell_type": "markdown",
   "id": "b69f6c42",
   "metadata": {},
   "source": [
    "## Downsampling"
   ]
  },
  {
   "cell_type": "code",
   "execution_count": 196,
   "id": "f81b2335",
   "metadata": {},
   "outputs": [],
   "source": [
    "table = Event().fit_transform(association_table)"
   ]
  },
  {
   "cell_type": "code",
   "execution_count": 197,
   "id": "609a9945",
   "metadata": {},
   "outputs": [
    {
     "data": {
      "text/plain": [
       "VT     100\n",
       "EXP    100\n",
       "HIB    100\n",
       "TOR    100\n",
       "TR     100\n",
       "PIS    100\n",
       "LP     100\n",
       "Name: event, dtype: int64"
      ]
     },
     "execution_count": 197,
     "metadata": {},
     "output_type": "execute_result"
    }
   ],
   "source": [
    "balanced_table = balanced_subsampler(table, 100) # prendre moins de 110\n",
    "balanced_table.event.value_counts()"
   ]
  },
  {
   "cell_type": "code",
   "execution_count": 198,
   "id": "97a669eb",
   "metadata": {
    "scrolled": true
   },
   "outputs": [
    {
     "data": {
      "text/html": [
       "<div>\n",
       "<style scoped>\n",
       "    .dataframe tbody tr th:only-of-type {\n",
       "        vertical-align: middle;\n",
       "    }\n",
       "\n",
       "    .dataframe tbody tr th {\n",
       "        vertical-align: top;\n",
       "    }\n",
       "\n",
       "    .dataframe thead th {\n",
       "        text-align: right;\n",
       "    }\n",
       "</style>\n",
       "<table border=\"1\" class=\"dataframe\">\n",
       "  <thead>\n",
       "    <tr style=\"text-align: right;\">\n",
       "      <th></th>\n",
       "      <th>Index</th>\n",
       "      <th>Event</th>\n",
       "      <th>Duration</th>\n",
       "      <th>Event start</th>\n",
       "      <th>Event stop</th>\n",
       "      <th>File name</th>\n",
       "      <th>File start</th>\n",
       "      <th>File end</th>\n",
       "      <th>Sampling rate</th>\n",
       "      <th>Overlap</th>\n",
       "      <th>Unnamed: 10</th>\n",
       "      <th>Unnamed: 11</th>\n",
       "      <th>Unnamed: 12</th>\n",
       "      <th>npts</th>\n",
       "      <th>energy</th>\n",
       "      <th>path</th>\n",
       "      <th>event</th>\n",
       "    </tr>\n",
       "  </thead>\n",
       "  <tbody>\n",
       "    <tr>\n",
       "      <th>113142</th>\n",
       "      <td>113142</td>\n",
       "      <td>TR2</td>\n",
       "      <td>74</td>\n",
       "      <td>2008-09-24 04:34:57.090000+00:00</td>\n",
       "      <td>2008-09-24 04:36:11.090000+00:00</td>\n",
       "      <td>20080924_0400.UB1.SL.Z.sac</td>\n",
       "      <td>2008-09-24 04:00:00.038000+00:00</td>\n",
       "      <td>2008-09-24 05:00:00.038000+00:00</td>\n",
       "      <td>50.0</td>\n",
       "      <td>False</td>\n",
       "      <td>NaN</td>\n",
       "      <td>NaN</td>\n",
       "      <td>NaN</td>\n",
       "      <td>180001.0</td>\n",
       "      <td>0.21874</td>\n",
       "      <td>C:/Users/EC265595/Documents/Data/Ubinas_2006_2...</td>\n",
       "      <td>TR</td>\n",
       "    </tr>\n",
       "    <tr>\n",
       "      <th>94278</th>\n",
       "      <td>94278</td>\n",
       "      <td>HIB</td>\n",
       "      <td>27</td>\n",
       "      <td>2007-11-13 03:43:54.990000+00:00</td>\n",
       "      <td>2007-11-13 03:44:21.990000+00:00</td>\n",
       "      <td>20071113_0300.UB1.SL.Z.sac</td>\n",
       "      <td>2007-11-13 03:00:00.039000+00:00</td>\n",
       "      <td>2007-11-13 04:00:00.039000+00:00</td>\n",
       "      <td>50.0</td>\n",
       "      <td>False</td>\n",
       "      <td>NaN</td>\n",
       "      <td>NaN</td>\n",
       "      <td>NaN</td>\n",
       "      <td>180001.0</td>\n",
       "      <td>0.84016</td>\n",
       "      <td>C:/Users/EC265595/Documents/Data/Ubinas_2006_2...</td>\n",
       "      <td>HIB</td>\n",
       "    </tr>\n",
       "    <tr>\n",
       "      <th>108821</th>\n",
       "      <td>108821</td>\n",
       "      <td>PIS</td>\n",
       "      <td>27</td>\n",
       "      <td>2008-06-22 14:14:10.730000+00:00</td>\n",
       "      <td>2008-06-22 14:14:37.730000+00:00</td>\n",
       "      <td>20080622_1400.UB1.SL.Z.sac</td>\n",
       "      <td>2008-06-22 14:00:00.036000+00:00</td>\n",
       "      <td>2008-06-22 15:00:00.036000+00:00</td>\n",
       "      <td>50.0</td>\n",
       "      <td>False</td>\n",
       "      <td>NaN</td>\n",
       "      <td>NaN</td>\n",
       "      <td>NaN</td>\n",
       "      <td>180001.0</td>\n",
       "      <td>0.17365</td>\n",
       "      <td>C:/Users/EC265595/Documents/Data/Ubinas_2006_2...</td>\n",
       "      <td>PIS</td>\n",
       "    </tr>\n",
       "    <tr>\n",
       "      <th>113342</th>\n",
       "      <td>113342</td>\n",
       "      <td>TR2</td>\n",
       "      <td>104</td>\n",
       "      <td>2008-02-10 17:57:48.790000+00:00</td>\n",
       "      <td>2008-02-10 17:59:32.790000+00:00</td>\n",
       "      <td>20080210_1700.UB1.SL.Z.sac</td>\n",
       "      <td>2008-02-10 17:00:00.039000+00:00</td>\n",
       "      <td>2008-02-10 18:00:00.039000+00:00</td>\n",
       "      <td>50.0</td>\n",
       "      <td>False</td>\n",
       "      <td>NaN</td>\n",
       "      <td>NaN</td>\n",
       "      <td>NaN</td>\n",
       "      <td>180001.0</td>\n",
       "      <td>0.37713</td>\n",
       "      <td>C:/Users/EC265595/Documents/Data/Ubinas_2006_2...</td>\n",
       "      <td>TR</td>\n",
       "    </tr>\n",
       "    <tr>\n",
       "      <th>38793</th>\n",
       "      <td>38793</td>\n",
       "      <td>LP1</td>\n",
       "      <td>32</td>\n",
       "      <td>2006-10-23 20:41:13.080000+00:00</td>\n",
       "      <td>2006-10-23 20:41:45.080000+00:00</td>\n",
       "      <td>20061023_2008.UB1.SL.Z.sac</td>\n",
       "      <td>2006-10-23 20:00:00.019000+00:00</td>\n",
       "      <td>2006-10-23 20:59:59.969000+00:00</td>\n",
       "      <td>40.0</td>\n",
       "      <td>False</td>\n",
       "      <td>NaN</td>\n",
       "      <td>NaN</td>\n",
       "      <td>NaN</td>\n",
       "      <td>143999.0</td>\n",
       "      <td>0.17108</td>\n",
       "      <td>C:/Users/EC265595/Documents/Data/Ubinas_2006_2...</td>\n",
       "      <td>LP</td>\n",
       "    </tr>\n",
       "    <tr>\n",
       "      <th>...</th>\n",
       "      <td>...</td>\n",
       "      <td>...</td>\n",
       "      <td>...</td>\n",
       "      <td>...</td>\n",
       "      <td>...</td>\n",
       "      <td>...</td>\n",
       "      <td>...</td>\n",
       "      <td>...</td>\n",
       "      <td>...</td>\n",
       "      <td>...</td>\n",
       "      <td>...</td>\n",
       "      <td>...</td>\n",
       "      <td>...</td>\n",
       "      <td>...</td>\n",
       "      <td>...</td>\n",
       "      <td>...</td>\n",
       "      <td>...</td>\n",
       "    </tr>\n",
       "    <tr>\n",
       "      <th>113146</th>\n",
       "      <td>113146</td>\n",
       "      <td>HIB</td>\n",
       "      <td>22</td>\n",
       "      <td>2008-09-24 05:10:23.070000+00:00</td>\n",
       "      <td>2008-09-24 05:10:45.070000+00:00</td>\n",
       "      <td>20080924_0500.UB1.SL.Z.sac</td>\n",
       "      <td>2008-09-24 05:00:00.038000+00:00</td>\n",
       "      <td>2008-09-24 06:00:00.038000+00:00</td>\n",
       "      <td>50.0</td>\n",
       "      <td>False</td>\n",
       "      <td>NaN</td>\n",
       "      <td>NaN</td>\n",
       "      <td>NaN</td>\n",
       "      <td>180001.0</td>\n",
       "      <td>0.26277</td>\n",
       "      <td>C:/Users/EC265595/Documents/Data/Ubinas_2006_2...</td>\n",
       "      <td>HIB</td>\n",
       "    </tr>\n",
       "    <tr>\n",
       "      <th>101500</th>\n",
       "      <td>101500</td>\n",
       "      <td>HIB</td>\n",
       "      <td>45</td>\n",
       "      <td>2008-02-27 13:36:37.710000+00:00</td>\n",
       "      <td>2008-02-27 13:37:22.710000+00:00</td>\n",
       "      <td>20080227_1300.UB1.SL.Z.sac</td>\n",
       "      <td>2008-02-27 13:00:00.039000+00:00</td>\n",
       "      <td>2008-02-27 14:00:00.039000+00:00</td>\n",
       "      <td>50.0</td>\n",
       "      <td>False</td>\n",
       "      <td>NaN</td>\n",
       "      <td>NaN</td>\n",
       "      <td>NaN</td>\n",
       "      <td>180001.0</td>\n",
       "      <td>0.17327</td>\n",
       "      <td>C:/Users/EC265595/Documents/Data/Ubinas_2006_2...</td>\n",
       "      <td>HIB</td>\n",
       "    </tr>\n",
       "    <tr>\n",
       "      <th>117249</th>\n",
       "      <td>117249</td>\n",
       "      <td>VT1</td>\n",
       "      <td>42</td>\n",
       "      <td>2009-05-25 02:16:53.800000+00:00</td>\n",
       "      <td>2009-05-25 02:17:35.800000+00:00</td>\n",
       "      <td>20090525_0200.UB1.SL.Z.sac</td>\n",
       "      <td>2009-05-25 02:00:00.039000+00:00</td>\n",
       "      <td>2009-05-25 03:00:00.039000+00:00</td>\n",
       "      <td>50.0</td>\n",
       "      <td>False</td>\n",
       "      <td>NaN</td>\n",
       "      <td>NaN</td>\n",
       "      <td>NaN</td>\n",
       "      <td>180001.0</td>\n",
       "      <td>0.42789</td>\n",
       "      <td>C:/Users/EC265595/Documents/Data/Ubinas_2006_2...</td>\n",
       "      <td>VT</td>\n",
       "    </tr>\n",
       "    <tr>\n",
       "      <th>114143</th>\n",
       "      <td>114143</td>\n",
       "      <td>VT1</td>\n",
       "      <td>22</td>\n",
       "      <td>2008-10-21 22:49:05.310000+00:00</td>\n",
       "      <td>2008-10-21 22:49:27.310000+00:00</td>\n",
       "      <td>20081021_2200.UB1.SL.Z.sac</td>\n",
       "      <td>2008-10-21 22:00:00.038000+00:00</td>\n",
       "      <td>2008-10-21 23:00:00.038000+00:00</td>\n",
       "      <td>50.0</td>\n",
       "      <td>False</td>\n",
       "      <td>NaN</td>\n",
       "      <td>NaN</td>\n",
       "      <td>NaN</td>\n",
       "      <td>180001.0</td>\n",
       "      <td>0.93937</td>\n",
       "      <td>C:/Users/EC265595/Documents/Data/Ubinas_2006_2...</td>\n",
       "      <td>VT</td>\n",
       "    </tr>\n",
       "    <tr>\n",
       "      <th>107044</th>\n",
       "      <td>107044</td>\n",
       "      <td>VT1</td>\n",
       "      <td>16</td>\n",
       "      <td>2008-04-26 15:09:43.210000+00:00</td>\n",
       "      <td>2008-04-26 15:09:59.210000+00:00</td>\n",
       "      <td>20080426_1500.UB1.SL.Z.sac</td>\n",
       "      <td>2008-04-26 15:00:00.036000+00:00</td>\n",
       "      <td>2008-04-26 16:00:00.036000+00:00</td>\n",
       "      <td>50.0</td>\n",
       "      <td>False</td>\n",
       "      <td>NaN</td>\n",
       "      <td>NaN</td>\n",
       "      <td>NaN</td>\n",
       "      <td>180001.0</td>\n",
       "      <td>0.21943</td>\n",
       "      <td>C:/Users/EC265595/Documents/Data/Ubinas_2006_2...</td>\n",
       "      <td>VT</td>\n",
       "    </tr>\n",
       "  </tbody>\n",
       "</table>\n",
       "<p>700 rows × 17 columns</p>\n",
       "</div>"
      ],
      "text/plain": [
       "         Index Event  Duration                       Event start  \\\n",
       "113142  113142   TR2        74  2008-09-24 04:34:57.090000+00:00   \n",
       "94278    94278   HIB        27  2007-11-13 03:43:54.990000+00:00   \n",
       "108821  108821   PIS        27  2008-06-22 14:14:10.730000+00:00   \n",
       "113342  113342   TR2       104  2008-02-10 17:57:48.790000+00:00   \n",
       "38793    38793   LP1        32  2006-10-23 20:41:13.080000+00:00   \n",
       "...        ...   ...       ...                               ...   \n",
       "113146  113146   HIB        22  2008-09-24 05:10:23.070000+00:00   \n",
       "101500  101500   HIB        45  2008-02-27 13:36:37.710000+00:00   \n",
       "117249  117249   VT1        42  2009-05-25 02:16:53.800000+00:00   \n",
       "114143  114143   VT1        22  2008-10-21 22:49:05.310000+00:00   \n",
       "107044  107044   VT1        16  2008-04-26 15:09:43.210000+00:00   \n",
       "\n",
       "                              Event stop                   File name  \\\n",
       "113142  2008-09-24 04:36:11.090000+00:00  20080924_0400.UB1.SL.Z.sac   \n",
       "94278   2007-11-13 03:44:21.990000+00:00  20071113_0300.UB1.SL.Z.sac   \n",
       "108821  2008-06-22 14:14:37.730000+00:00  20080622_1400.UB1.SL.Z.sac   \n",
       "113342  2008-02-10 17:59:32.790000+00:00  20080210_1700.UB1.SL.Z.sac   \n",
       "38793   2006-10-23 20:41:45.080000+00:00  20061023_2008.UB1.SL.Z.sac   \n",
       "...                                  ...                         ...   \n",
       "113146  2008-09-24 05:10:45.070000+00:00  20080924_0500.UB1.SL.Z.sac   \n",
       "101500  2008-02-27 13:37:22.710000+00:00  20080227_1300.UB1.SL.Z.sac   \n",
       "117249  2009-05-25 02:17:35.800000+00:00  20090525_0200.UB1.SL.Z.sac   \n",
       "114143  2008-10-21 22:49:27.310000+00:00  20081021_2200.UB1.SL.Z.sac   \n",
       "107044  2008-04-26 15:09:59.210000+00:00  20080426_1500.UB1.SL.Z.sac   \n",
       "\n",
       "                              File start                          File end  \\\n",
       "113142  2008-09-24 04:00:00.038000+00:00  2008-09-24 05:00:00.038000+00:00   \n",
       "94278   2007-11-13 03:00:00.039000+00:00  2007-11-13 04:00:00.039000+00:00   \n",
       "108821  2008-06-22 14:00:00.036000+00:00  2008-06-22 15:00:00.036000+00:00   \n",
       "113342  2008-02-10 17:00:00.039000+00:00  2008-02-10 18:00:00.039000+00:00   \n",
       "38793   2006-10-23 20:00:00.019000+00:00  2006-10-23 20:59:59.969000+00:00   \n",
       "...                                  ...                               ...   \n",
       "113146  2008-09-24 05:00:00.038000+00:00  2008-09-24 06:00:00.038000+00:00   \n",
       "101500  2008-02-27 13:00:00.039000+00:00  2008-02-27 14:00:00.039000+00:00   \n",
       "117249  2009-05-25 02:00:00.039000+00:00  2009-05-25 03:00:00.039000+00:00   \n",
       "114143  2008-10-21 22:00:00.038000+00:00  2008-10-21 23:00:00.038000+00:00   \n",
       "107044  2008-04-26 15:00:00.036000+00:00  2008-04-26 16:00:00.036000+00:00   \n",
       "\n",
       "        Sampling rate  Overlap  Unnamed: 10  Unnamed: 11  Unnamed: 12  \\\n",
       "113142           50.0    False          NaN          NaN          NaN   \n",
       "94278            50.0    False          NaN          NaN          NaN   \n",
       "108821           50.0    False          NaN          NaN          NaN   \n",
       "113342           50.0    False          NaN          NaN          NaN   \n",
       "38793            40.0    False          NaN          NaN          NaN   \n",
       "...               ...      ...          ...          ...          ...   \n",
       "113146           50.0    False          NaN          NaN          NaN   \n",
       "101500           50.0    False          NaN          NaN          NaN   \n",
       "117249           50.0    False          NaN          NaN          NaN   \n",
       "114143           50.0    False          NaN          NaN          NaN   \n",
       "107044           50.0    False          NaN          NaN          NaN   \n",
       "\n",
       "            npts   energy                                               path  \\\n",
       "113142  180001.0  0.21874  C:/Users/EC265595/Documents/Data/Ubinas_2006_2...   \n",
       "94278   180001.0  0.84016  C:/Users/EC265595/Documents/Data/Ubinas_2006_2...   \n",
       "108821  180001.0  0.17365  C:/Users/EC265595/Documents/Data/Ubinas_2006_2...   \n",
       "113342  180001.0  0.37713  C:/Users/EC265595/Documents/Data/Ubinas_2006_2...   \n",
       "38793   143999.0  0.17108  C:/Users/EC265595/Documents/Data/Ubinas_2006_2...   \n",
       "...          ...      ...                                                ...   \n",
       "113146  180001.0  0.26277  C:/Users/EC265595/Documents/Data/Ubinas_2006_2...   \n",
       "101500  180001.0  0.17327  C:/Users/EC265595/Documents/Data/Ubinas_2006_2...   \n",
       "117249  180001.0  0.42789  C:/Users/EC265595/Documents/Data/Ubinas_2006_2...   \n",
       "114143  180001.0  0.93937  C:/Users/EC265595/Documents/Data/Ubinas_2006_2...   \n",
       "107044  180001.0  0.21943  C:/Users/EC265595/Documents/Data/Ubinas_2006_2...   \n",
       "\n",
       "       event  \n",
       "113142    TR  \n",
       "94278    HIB  \n",
       "108821   PIS  \n",
       "113342    TR  \n",
       "38793     LP  \n",
       "...      ...  \n",
       "113146   HIB  \n",
       "101500   HIB  \n",
       "117249    VT  \n",
       "114143    VT  \n",
       "107044    VT  \n",
       "\n",
       "[700 rows x 17 columns]"
      ]
     },
     "execution_count": 198,
     "metadata": {},
     "output_type": "execute_result"
    }
   ],
   "source": [
    "balanced_table"
   ]
  },
  {
   "cell_type": "markdown",
   "id": "033d9c9d",
   "metadata": {},
   "source": [
    "## Column operations"
   ]
  },
  {
   "cell_type": "code",
   "execution_count": 248,
   "id": "17ff1abd",
   "metadata": {},
   "outputs": [],
   "source": [
    "# SI PAS DE DOWNSAMPLING\n",
    "data = association_table.copy()"
   ]
  },
  {
   "cell_type": "code",
   "execution_count": 199,
   "id": "667bf9bd",
   "metadata": {},
   "outputs": [],
   "source": [
    "# On fait une copie de la table association_table pour pas la modifier par erreur\n",
    "data = balanced_table.copy()"
   ]
  },
  {
   "cell_type": "code",
   "execution_count": 249,
   "id": "2f252692",
   "metadata": {},
   "outputs": [],
   "source": [
    "transfo = Transformer(directory_path = '/home/d5learner-15/Documents/cas_etude_volcano/data/Extracted/')"
   ]
  },
  {
   "cell_type": "code",
   "execution_count": null,
   "id": "60167521",
   "metadata": {},
   "outputs": [],
   "source": [
    "data_transformed = transfo.fit_transform(data)"
   ]
  },
  {
   "cell_type": "code",
   "execution_count": null,
   "id": "647a3d5d",
   "metadata": {},
   "outputs": [],
   "source": [
    "data_transformed"
   ]
  },
  {
   "cell_type": "code",
   "execution_count": null,
   "id": "35685441",
   "metadata": {},
   "outputs": [],
   "source": [
    "data_transformed.dropna(inplace=True)\n",
    "data_transformed = data_transformed.round(5)"
   ]
  },
  {
   "cell_type": "code",
   "execution_count": null,
   "id": "642bd422",
   "metadata": {},
   "outputs": [],
   "source": [
    "data_transformed.shape"
   ]
  },
  {
   "cell_type": "code",
   "execution_count": 205,
   "id": "b84dc4ca",
   "metadata": {},
   "outputs": [],
   "source": [
    "data_ml = data_transformed[['event','energy', 'Duration', 'mean_TF', 'variance_TF', 'median_TF','variance', 'mean','kurtosis_TF']]"
   ]
  },
  {
   "cell_type": "markdown",
   "id": "6d4ad61a",
   "metadata": {},
   "source": [
    "## X and y"
   ]
  },
  {
   "cell_type": "code",
   "execution_count": 206,
   "id": "7b3ebd53",
   "metadata": {},
   "outputs": [],
   "source": [
    "# Création de X et y\n",
    "\n",
    "data_to_use = data_ml.copy()\n",
    "\n",
    "y = data_to_use.pop('event')\n",
    "X = data_to_use"
   ]
  },
  {
   "cell_type": "code",
   "execution_count": 207,
   "id": "18050198",
   "metadata": {},
   "outputs": [],
   "source": [
    "le = LabelEncoder()\n",
    "y_encoded = le.fit_transform(y)"
   ]
  },
  {
   "cell_type": "code",
   "execution_count": 208,
   "id": "ce4715e0",
   "metadata": {
    "scrolled": true
   },
   "outputs": [
    {
     "data": {
      "text/plain": [
       "array(['EXP', 'HIB', 'LP', 'PIS', 'TOR', 'TR', 'VT'], dtype=object)"
      ]
     },
     "execution_count": 208,
     "metadata": {},
     "output_type": "execute_result"
    }
   ],
   "source": [
    "le.classes_"
   ]
  },
  {
   "cell_type": "code",
   "execution_count": 209,
   "id": "f47902fe",
   "metadata": {},
   "outputs": [
    {
     "data": {
      "text/plain": [
       "((700,), (700,))"
      ]
     },
     "execution_count": 209,
     "metadata": {},
     "output_type": "execute_result"
    }
   ],
   "source": [
    "y.shape, y_encoded.shape"
   ]
  },
  {
   "cell_type": "code",
   "execution_count": 210,
   "id": "86af4ab9",
   "metadata": {},
   "outputs": [
    {
     "data": {
      "text/plain": [
       "((700,), (700, 8))"
      ]
     },
     "execution_count": 210,
     "metadata": {},
     "output_type": "execute_result"
    }
   ],
   "source": [
    "y_encoded.shape, X.shape"
   ]
  },
  {
   "cell_type": "code",
   "execution_count": 211,
   "id": "b1d07bb1",
   "metadata": {},
   "outputs": [],
   "source": [
    "X_train, X_test, y_train, y_test = train_test_split(X, y_encoded, test_size=0.2, random_state=42)"
   ]
  },
  {
   "cell_type": "code",
   "execution_count": 212,
   "id": "1fc3c618",
   "metadata": {},
   "outputs": [
    {
     "data": {
      "text/plain": [
       "((560, 8), (140, 8), (560,), (140,))"
      ]
     },
     "execution_count": 212,
     "metadata": {},
     "output_type": "execute_result"
    }
   ],
   "source": [
    "X_train.shape, X_test.shape, y_train.shape, y_test.shape"
   ]
  },
  {
   "cell_type": "code",
   "execution_count": 226,
   "id": "b18d4387",
   "metadata": {},
   "outputs": [
    {
     "data": {
      "text/plain": [
       "VT     100\n",
       "EXP    100\n",
       "HIB    100\n",
       "TOR    100\n",
       "TR     100\n",
       "PIS    100\n",
       "LP     100\n",
       "Name: event, dtype: int64"
      ]
     },
     "execution_count": 226,
     "metadata": {},
     "output_type": "execute_result"
    }
   ],
   "source": [
    "y.value_counts()"
   ]
  },
  {
   "cell_type": "code",
   "execution_count": 214,
   "id": "44d2cf95",
   "metadata": {},
   "outputs": [],
   "source": [
    "# Save le df pour le modèle ML\n",
    "\n",
    "X_test.to_pickle(\"./X_test.pkl\")"
   ]
  },
  {
   "cell_type": "code",
   "execution_count": 215,
   "id": "623c65fc",
   "metadata": {},
   "outputs": [],
   "source": [
    "np.save('y_test',y_test)"
   ]
  },
  {
   "cell_type": "markdown",
   "id": "5425ec10",
   "metadata": {},
   "source": [
    "# ML"
   ]
  },
  {
   "cell_type": "markdown",
   "id": "99ac3a28",
   "metadata": {},
   "source": [
    "## SVC"
   ]
  },
  {
   "cell_type": "code",
   "execution_count": 235,
   "id": "0187b279",
   "metadata": {},
   "outputs": [
    {
     "name": "stdout",
     "output_type": "stream",
     "text": [
      "SVC accuracy: 0.18571428571428572\n"
     ]
    }
   ],
   "source": [
    "svc = SVC()\n",
    "svc.fit(X_train, y_train)\n",
    "svc_pred = svc.predict(X_test)\n",
    "svc_score = accuracy_score(y_test, svc_pred)\n",
    "print(\"SVC accuracy:\", svc_score)"
   ]
  },
  {
   "cell_type": "code",
   "execution_count": 236,
   "id": "19e7ad60",
   "metadata": {},
   "outputs": [],
   "source": [
    "np.save('svc_pred',svc_pred)"
   ]
  },
  {
   "cell_type": "markdown",
   "id": "0090bd88",
   "metadata": {},
   "source": [
    "## RandomForest"
   ]
  },
  {
   "cell_type": "code",
   "execution_count": 234,
   "id": "8827e0df",
   "metadata": {},
   "outputs": [
    {
     "name": "stdout",
     "output_type": "stream",
     "text": [
      "RF accuracy: 0.6642857142857143\n",
      "RF recall: 0.6870644928798785\n"
     ]
    }
   ],
   "source": [
    "rf = RandomForestClassifier()\n",
    "rf.fit(X_train, y_train)\n",
    "rf_pred = rf.predict(X_test)\n",
    "rf_score = accuracy_score(y_test, rf_pred)\n",
    "rf_recall_score = recall_score(y_test, rf_pred, average='macro')\n",
    "print(\"RF accuracy:\", rf_score)\n",
    "print(\"RF recall:\", rf_recall_score)"
   ]
  },
  {
   "cell_type": "code",
   "execution_count": 237,
   "id": "346cc096",
   "metadata": {},
   "outputs": [],
   "source": [
    "np.save('rf_pred',rf_pred)"
   ]
  },
  {
   "cell_type": "markdown",
   "id": "6ce96fad",
   "metadata": {},
   "source": [
    "## KNN"
   ]
  },
  {
   "cell_type": "code",
   "execution_count": 238,
   "id": "97e38ce8",
   "metadata": {},
   "outputs": [
    {
     "name": "stdout",
     "output_type": "stream",
     "text": [
      "SVC accuracy: 0.4642857142857143\n"
     ]
    }
   ],
   "source": [
    "knn = KNeighborsClassifier()\n",
    "knn.fit(X_train, y_train)\n",
    "knn_pred = knn.predict(X_test)\n",
    "knn_score = accuracy_score(y_test, knn_pred)\n",
    "print(\"SVC accuracy:\", knn_score)"
   ]
  },
  {
   "cell_type": "code",
   "execution_count": 239,
   "id": "78770b67",
   "metadata": {},
   "outputs": [],
   "source": [
    "np.save('knn_pred',knn_pred)"
   ]
  },
  {
   "cell_type": "markdown",
   "id": "11cc2eed",
   "metadata": {},
   "source": [
    "## XGBoost"
   ]
  },
  {
   "cell_type": "code",
   "execution_count": 233,
   "id": "4cf8739f",
   "metadata": {},
   "outputs": [
    {
     "name": "stdout",
     "output_type": "stream",
     "text": [
      "XGB accuracy: 0.6642857142857143\n",
      "XGB recall: 0.6803486837492086\n"
     ]
    }
   ],
   "source": [
    "xgb = GradientBoostingClassifier()\n",
    "xgb.fit(X_train, y_train)\n",
    "xgb_pred = xgb.predict(X_test)\n",
    "xgb_score = accuracy_score(y_test, xgb_pred)\n",
    "xgb_recall_score = recall_score(y_test, xgb_pred, average='macro')\n",
    "print(\"XGB accuracy:\", xgb_score)\n",
    "print(\"XGB recall:\", xgb_recall_score)"
   ]
  },
  {
   "cell_type": "code",
   "execution_count": 240,
   "id": "add65c54",
   "metadata": {},
   "outputs": [],
   "source": [
    "np.save('xgb_pred',xgb_pred)"
   ]
  },
  {
   "cell_type": "markdown",
   "id": "77eaba50",
   "metadata": {},
   "source": [
    "# Dataviz pour le rapport"
   ]
  },
  {
   "cell_type": "code",
   "execution_count": null,
   "id": "d81b79a8",
   "metadata": {},
   "outputs": [],
   "source": []
  },
  {
   "cell_type": "code",
   "execution_count": null,
   "id": "cf19166d",
   "metadata": {},
   "outputs": [],
   "source": []
  },
  {
   "cell_type": "code",
   "execution_count": null,
   "id": "14149a2a",
   "metadata": {},
   "outputs": [],
   "source": []
  },
  {
   "cell_type": "code",
   "execution_count": 220,
   "id": "1dfd07e2",
   "metadata": {
    "scrolled": false
   },
   "outputs": [
    {
     "data": {
      "application/vnd.plotly.v1+json": {
       "config": {
        "plotlyServerURL": "https://plot.ly"
       },
       "data": [
        {
         "hovertemplate": "0=%{x}<br>1=%{y}<br>color=%{marker.color}<extra></extra>",
         "legendgroup": "",
         "marker": {
          "color": [
           2,
           2,
           3,
           5,
           2,
           0,
           4,
           0,
           3,
           5,
           1,
           4,
           4,
           1,
           3,
           6,
           3,
           1,
           0,
           6,
           5,
           6,
           4,
           5,
           4,
           5,
           6,
           4,
           4,
           2,
           0,
           3,
           1,
           3,
           1,
           2,
           6,
           4,
           5,
           0,
           2,
           1,
           2,
           1,
           0,
           2,
           6,
           2,
           6,
           3,
           3,
           3,
           3,
           1,
           4,
           5,
           0,
           2,
           0,
           0,
           3,
           3,
           1,
           5,
           3,
           3,
           4,
           1,
           6,
           2,
           6,
           3,
           3,
           0,
           4,
           1,
           0,
           1,
           4,
           1,
           1,
           0,
           2,
           2,
           3,
           1,
           3,
           4,
           6,
           1,
           3,
           1,
           6,
           6,
           1,
           1,
           2,
           2,
           5,
           3,
           2,
           0,
           3,
           6,
           6,
           5,
           6,
           5,
           4,
           6,
           1,
           4,
           4,
           1,
           2,
           1,
           0,
           4,
           2,
           4,
           0,
           5,
           4,
           1,
           3,
           4,
           3,
           5,
           5,
           0,
           4,
           1,
           2,
           0,
           5,
           6,
           4,
           0,
           1,
           5
          ],
          "coloraxis": "coloraxis",
          "symbol": "circle"
         },
         "mode": "markers",
         "name": "",
         "orientation": "v",
         "showlegend": false,
         "type": "scatter",
         "x": [
          -2565519.861628236,
          -2599636.0164385606,
          -2599321.211922287,
          -2602589.819862554,
          -2602607.3628742355,
          -2598326.7354551326,
          -2602754.2941025337,
          -2593880.0996225835,
          -2602294.1247159285,
          -2602457.145530432,
          -2601830.576059547,
          -2598477.427037909,
          -2602752.995159344,
          -2599193.6038584155,
          -2598639.0030187205,
          -2602586.9738619467,
          -2586867.7355832304,
          -2601587.8212413033,
          -2561482.7650700686,
          -2588525.2305787653,
          -2567500.5145462262,
          -2593938.0545731205,
          -2594996.7123269723,
          -2602103.4041677667,
          -2524110.144716271,
          -2590951.4489010884,
          -2602721.053914732,
          1546161.7232317268,
          -2588623.255437397,
          -2600735.4753135983,
          -2593159.4576278375,
          -2602731.3832664615,
          -2584419.6094744857,
          -2597873.177604542,
          -1420422.5862572764,
          -2593686.4032576317,
          -2602622.45886212,
          -2597502.5104751857,
          -2587662.0373710883,
          -2593844.773107653,
          -2594941.726841159,
          -2592678.105170617,
          -2600725.9144575745,
          -2593751.285230135,
          -2601552.3979305937,
          -2552449.877721248,
          -2602401.190120072,
          -2590124.3610186344,
          -392293.5057748364,
          -2602751.128438156,
          -2583744.8032348966,
          -2586581.488408162,
          -2380410.5112779518,
          -2588581.6223463584,
          25410775.10212146,
          -2602439.4459658335,
          -2602746.2477050484,
          -2600386.869772509,
          -2599275.5953244185,
          -2563214.6821394367,
          -2602708.2960673273,
          -2474191.751714114,
          -2594097.4123038896,
          64412716.21817155,
          -2569214.83232346,
          -2589788.3167733764,
          -2588873.204795834,
          -2527442.9657383882,
          -2596255.8109449693,
          45275483.748859935,
          -2597775.3677849183,
          -2592903.030489528,
          -2602534.022466938,
          -2589691.0480181915,
          -2602744.6292270673,
          -2602231.8960045325,
          -2592492.5162499174,
          724706.737502164,
          -2602723.357461517,
          -2602695.924326139,
          -2579515.0033268924,
          -2591951.722410496,
          -2546904.839337859,
          -2594501.861564138,
          -2602289.5153064798,
          -2602718.0199846076,
          -2598367.8166823033,
          -2598238.777753198,
          -2602751.022937353,
          -2599688.351043139,
          -2589764.819454158,
          -2055765.3934363425,
          -2579135.0210730317,
          -2601368.9034979166,
          -2561319.5041983593,
          -1384707.3161894926,
          66181543.19988714,
          -2602741.971127081,
          -2602716.0426522787,
          -2593748.239585884,
          -2563710.1922895224,
          -2597276.555208717,
          76880320.1732199,
          -2598083.6870254613,
          -883882.5848692023,
          53757249.734781206,
          -2572548.980359083,
          -2602367.1821965305,
          -2590683.557047262,
          -2590991.8245352632,
          -2590815.4583923444,
          -2595817.4705006354,
          -2574740.265719804,
          -2602750.539182172,
          -2583638.3067356874,
          -2437548.762065285,
          -2602743.557360624,
          -2592224.9578136737,
          -2602625.3713391316,
          -2591889.9935918967,
          -2571011.959245113,
          -2591905.78871269,
          -2600831.0630795145,
          -2559287.6712383856,
          -2416477.483709935,
          -2602649.1768471417,
          -2595656.0454354086,
          -2583064.316338194,
          -2602059.8554552677,
          -2512727.7932405826,
          -2597862.097023876,
          -2522207.685844164,
          -2580557.3490684223,
          -2530804.6179677136,
          -2441574.9040708616,
          -2589617.1504487875,
          -2538857.711693179,
          -2594174.6383788125,
          -2582286.8926532697,
          -2602458.6431394033
         ],
         "xaxis": "x",
         "y": [
          -63323.03594081621,
          152723.15956071543,
          152727.60546048143,
          -27268.4562177917,
          -27268.404862105468,
          -27271.36724718311,
          -27268.064672701243,
          -63270.532229978075,
          153112.1087710226,
          153624.41188458476,
          152729.4159146819,
          -27270.421965016616,
          -27268.13921504841,
          -27270.472703112944,
          -27270.765846197733,
          -27274.96064445002,
          -27270.31384355706,
          -27269.036501135313,
          152727.94637586147,
          -27270.96768141472,
          -27268.571134857844,
          -27270.49954646486,
          -27270.72054663009,
          -27272.856493160813,
          -27263.51680868593,
          -27270.71367975761,
          -27268.60844881153,
          153482.15221779083,
          -63269.54375409803,
          -27268.853782038517,
          -27270.442043050763,
          -27268.218434721763,
          -27270.22296100323,
          -27270.601575459754,
          -27095.346562038794,
          -27269.717310922308,
          -27268.45661260452,
          -27271.662947452583,
          -27270.556003431695,
          152728.1666053148,
          -27270.55314554915,
          -27271.371352213315,
          -27277.55230469402,
          -27271.464013291567,
          153619.69783778532,
          -27266.128111474052,
          -27269.342727942716,
          -101950.67589957263,
          -26890.21095961364,
          -27268.059436571853,
          -27271.188497620333,
          -27270.044899928827,
          -63273.450836334836,
          -63272.7310717164,
          -57716.96400725762,
          -27268.518060960858,
          -27268.134667678576,
          -63270.948482020154,
          -27270.12824828603,
          152730.3099427425,
          152729.97247024253,
          -27260.0675037361,
          -27271.781966702274,
          -13714.169849448335,
          152730.0351011247,
          -63284.63918448745,
          -27271.431843782804,
          -63265.5547564713,
          -63270.480669572884,
          -53638.09397552571,
          -27270.975913326718,
          -27271.805727683255,
          -27268.43827765508,
          -27271.03222468843,
          -27268.35443614814,
          -27269.092324557172,
          -27269.78387197027,
          -26676.027958053808,
          125076.35459663377,
          -27268.30911943859,
          -27269.86540915226,
          -27270.390534505037,
          -63265.652376959646,
          -27271.57050955402,
          152729.2625867123,
          -27268.153568101046,
          -27269.988615706035,
          -27270.55271544058,
          -27268.060873859235,
          -27280.500936947814,
          -27269.899437344568,
          -63191.3356996297,
          -27268.793091273354,
          -27273.366566743585,
          153627.37748980563,
          -27071.83129197366,
          166649.05309573747,
          152730.11519981077,
          152729.97062813636,
          -63269.53447120236,
          -63269.4569448918,
          -27270.056512470557,
          -47155.021312951125,
          -27271.105186158995,
          -62985.45461329963,
          -51898.30459776331,
          -27271.418558550093,
          -27269.077897613017,
          -27269.642617994115,
          -27270.666166103496,
          -27270.699850789562,
          -27271.16812104532,
          152728.17338324917,
          -35081.01902812387,
          -27271.2270256261,
          152749.9127726799,
          -27268.135948620842,
          -27271.063044071063,
          153620.85644130825,
          -27271.359074320833,
          80140.58294726138,
          -63272.45587008331,
          -27271.71195830253,
          -27268.63500833457,
          -63252.964906486224,
          -27268.695717275863,
          -27270.88843736187,
          152728.04365243402,
          -27269.010164749747,
          -27268.429686036656,
          -27269.956989271606,
          152733.05110793162,
          -27269.40132822585,
          -27267.018161497923,
          152742.87116872144,
          -27270.03256225393,
          152735.1276375599,
          -27270.364846876702,
          -63271.55365532739,
          -27268.688417784717
         ],
         "yaxis": "y"
        }
       ],
       "layout": {
        "coloraxis": {
         "colorbar": {
          "title": {
           "text": "color"
          }
         },
         "colorscale": [
          [
           0,
           "#0d0887"
          ],
          [
           0.1111111111111111,
           "#46039f"
          ],
          [
           0.2222222222222222,
           "#7201a8"
          ],
          [
           0.3333333333333333,
           "#9c179e"
          ],
          [
           0.4444444444444444,
           "#bd3786"
          ],
          [
           0.5555555555555556,
           "#d8576b"
          ],
          [
           0.6666666666666666,
           "#ed7953"
          ],
          [
           0.7777777777777778,
           "#fb9f3a"
          ],
          [
           0.8888888888888888,
           "#fdca26"
          ],
          [
           1,
           "#f0f921"
          ]
         ]
        },
        "height": 400,
        "legend": {
         "tracegroupgap": 0
        },
        "margin": {
         "t": 60
        },
        "template": {
         "data": {
          "bar": [
           {
            "error_x": {
             "color": "#2a3f5f"
            },
            "error_y": {
             "color": "#2a3f5f"
            },
            "marker": {
             "line": {
              "color": "#E5ECF6",
              "width": 0.5
             },
             "pattern": {
              "fillmode": "overlay",
              "size": 10,
              "solidity": 0.2
             }
            },
            "type": "bar"
           }
          ],
          "barpolar": [
           {
            "marker": {
             "line": {
              "color": "#E5ECF6",
              "width": 0.5
             },
             "pattern": {
              "fillmode": "overlay",
              "size": 10,
              "solidity": 0.2
             }
            },
            "type": "barpolar"
           }
          ],
          "carpet": [
           {
            "aaxis": {
             "endlinecolor": "#2a3f5f",
             "gridcolor": "white",
             "linecolor": "white",
             "minorgridcolor": "white",
             "startlinecolor": "#2a3f5f"
            },
            "baxis": {
             "endlinecolor": "#2a3f5f",
             "gridcolor": "white",
             "linecolor": "white",
             "minorgridcolor": "white",
             "startlinecolor": "#2a3f5f"
            },
            "type": "carpet"
           }
          ],
          "choropleth": [
           {
            "colorbar": {
             "outlinewidth": 0,
             "ticks": ""
            },
            "type": "choropleth"
           }
          ],
          "contour": [
           {
            "colorbar": {
             "outlinewidth": 0,
             "ticks": ""
            },
            "colorscale": [
             [
              0,
              "#0d0887"
             ],
             [
              0.1111111111111111,
              "#46039f"
             ],
             [
              0.2222222222222222,
              "#7201a8"
             ],
             [
              0.3333333333333333,
              "#9c179e"
             ],
             [
              0.4444444444444444,
              "#bd3786"
             ],
             [
              0.5555555555555556,
              "#d8576b"
             ],
             [
              0.6666666666666666,
              "#ed7953"
             ],
             [
              0.7777777777777778,
              "#fb9f3a"
             ],
             [
              0.8888888888888888,
              "#fdca26"
             ],
             [
              1,
              "#f0f921"
             ]
            ],
            "type": "contour"
           }
          ],
          "contourcarpet": [
           {
            "colorbar": {
             "outlinewidth": 0,
             "ticks": ""
            },
            "type": "contourcarpet"
           }
          ],
          "heatmap": [
           {
            "colorbar": {
             "outlinewidth": 0,
             "ticks": ""
            },
            "colorscale": [
             [
              0,
              "#0d0887"
             ],
             [
              0.1111111111111111,
              "#46039f"
             ],
             [
              0.2222222222222222,
              "#7201a8"
             ],
             [
              0.3333333333333333,
              "#9c179e"
             ],
             [
              0.4444444444444444,
              "#bd3786"
             ],
             [
              0.5555555555555556,
              "#d8576b"
             ],
             [
              0.6666666666666666,
              "#ed7953"
             ],
             [
              0.7777777777777778,
              "#fb9f3a"
             ],
             [
              0.8888888888888888,
              "#fdca26"
             ],
             [
              1,
              "#f0f921"
             ]
            ],
            "type": "heatmap"
           }
          ],
          "heatmapgl": [
           {
            "colorbar": {
             "outlinewidth": 0,
             "ticks": ""
            },
            "colorscale": [
             [
              0,
              "#0d0887"
             ],
             [
              0.1111111111111111,
              "#46039f"
             ],
             [
              0.2222222222222222,
              "#7201a8"
             ],
             [
              0.3333333333333333,
              "#9c179e"
             ],
             [
              0.4444444444444444,
              "#bd3786"
             ],
             [
              0.5555555555555556,
              "#d8576b"
             ],
             [
              0.6666666666666666,
              "#ed7953"
             ],
             [
              0.7777777777777778,
              "#fb9f3a"
             ],
             [
              0.8888888888888888,
              "#fdca26"
             ],
             [
              1,
              "#f0f921"
             ]
            ],
            "type": "heatmapgl"
           }
          ],
          "histogram": [
           {
            "marker": {
             "pattern": {
              "fillmode": "overlay",
              "size": 10,
              "solidity": 0.2
             }
            },
            "type": "histogram"
           }
          ],
          "histogram2d": [
           {
            "colorbar": {
             "outlinewidth": 0,
             "ticks": ""
            },
            "colorscale": [
             [
              0,
              "#0d0887"
             ],
             [
              0.1111111111111111,
              "#46039f"
             ],
             [
              0.2222222222222222,
              "#7201a8"
             ],
             [
              0.3333333333333333,
              "#9c179e"
             ],
             [
              0.4444444444444444,
              "#bd3786"
             ],
             [
              0.5555555555555556,
              "#d8576b"
             ],
             [
              0.6666666666666666,
              "#ed7953"
             ],
             [
              0.7777777777777778,
              "#fb9f3a"
             ],
             [
              0.8888888888888888,
              "#fdca26"
             ],
             [
              1,
              "#f0f921"
             ]
            ],
            "type": "histogram2d"
           }
          ],
          "histogram2dcontour": [
           {
            "colorbar": {
             "outlinewidth": 0,
             "ticks": ""
            },
            "colorscale": [
             [
              0,
              "#0d0887"
             ],
             [
              0.1111111111111111,
              "#46039f"
             ],
             [
              0.2222222222222222,
              "#7201a8"
             ],
             [
              0.3333333333333333,
              "#9c179e"
             ],
             [
              0.4444444444444444,
              "#bd3786"
             ],
             [
              0.5555555555555556,
              "#d8576b"
             ],
             [
              0.6666666666666666,
              "#ed7953"
             ],
             [
              0.7777777777777778,
              "#fb9f3a"
             ],
             [
              0.8888888888888888,
              "#fdca26"
             ],
             [
              1,
              "#f0f921"
             ]
            ],
            "type": "histogram2dcontour"
           }
          ],
          "mesh3d": [
           {
            "colorbar": {
             "outlinewidth": 0,
             "ticks": ""
            },
            "type": "mesh3d"
           }
          ],
          "parcoords": [
           {
            "line": {
             "colorbar": {
              "outlinewidth": 0,
              "ticks": ""
             }
            },
            "type": "parcoords"
           }
          ],
          "pie": [
           {
            "automargin": true,
            "type": "pie"
           }
          ],
          "scatter": [
           {
            "marker": {
             "colorbar": {
              "outlinewidth": 0,
              "ticks": ""
             }
            },
            "type": "scatter"
           }
          ],
          "scatter3d": [
           {
            "line": {
             "colorbar": {
              "outlinewidth": 0,
              "ticks": ""
             }
            },
            "marker": {
             "colorbar": {
              "outlinewidth": 0,
              "ticks": ""
             }
            },
            "type": "scatter3d"
           }
          ],
          "scattercarpet": [
           {
            "marker": {
             "colorbar": {
              "outlinewidth": 0,
              "ticks": ""
             }
            },
            "type": "scattercarpet"
           }
          ],
          "scattergeo": [
           {
            "marker": {
             "colorbar": {
              "outlinewidth": 0,
              "ticks": ""
             }
            },
            "type": "scattergeo"
           }
          ],
          "scattergl": [
           {
            "marker": {
             "colorbar": {
              "outlinewidth": 0,
              "ticks": ""
             }
            },
            "type": "scattergl"
           }
          ],
          "scattermapbox": [
           {
            "marker": {
             "colorbar": {
              "outlinewidth": 0,
              "ticks": ""
             }
            },
            "type": "scattermapbox"
           }
          ],
          "scatterpolar": [
           {
            "marker": {
             "colorbar": {
              "outlinewidth": 0,
              "ticks": ""
             }
            },
            "type": "scatterpolar"
           }
          ],
          "scatterpolargl": [
           {
            "marker": {
             "colorbar": {
              "outlinewidth": 0,
              "ticks": ""
             }
            },
            "type": "scatterpolargl"
           }
          ],
          "scatterternary": [
           {
            "marker": {
             "colorbar": {
              "outlinewidth": 0,
              "ticks": ""
             }
            },
            "type": "scatterternary"
           }
          ],
          "surface": [
           {
            "colorbar": {
             "outlinewidth": 0,
             "ticks": ""
            },
            "colorscale": [
             [
              0,
              "#0d0887"
             ],
             [
              0.1111111111111111,
              "#46039f"
             ],
             [
              0.2222222222222222,
              "#7201a8"
             ],
             [
              0.3333333333333333,
              "#9c179e"
             ],
             [
              0.4444444444444444,
              "#bd3786"
             ],
             [
              0.5555555555555556,
              "#d8576b"
             ],
             [
              0.6666666666666666,
              "#ed7953"
             ],
             [
              0.7777777777777778,
              "#fb9f3a"
             ],
             [
              0.8888888888888888,
              "#fdca26"
             ],
             [
              1,
              "#f0f921"
             ]
            ],
            "type": "surface"
           }
          ],
          "table": [
           {
            "cells": {
             "fill": {
              "color": "#EBF0F8"
             },
             "line": {
              "color": "white"
             }
            },
            "header": {
             "fill": {
              "color": "#C8D4E3"
             },
             "line": {
              "color": "white"
             }
            },
            "type": "table"
           }
          ]
         },
         "layout": {
          "annotationdefaults": {
           "arrowcolor": "#2a3f5f",
           "arrowhead": 0,
           "arrowwidth": 1
          },
          "autotypenumbers": "strict",
          "coloraxis": {
           "colorbar": {
            "outlinewidth": 0,
            "ticks": ""
           }
          },
          "colorscale": {
           "diverging": [
            [
             0,
             "#8e0152"
            ],
            [
             0.1,
             "#c51b7d"
            ],
            [
             0.2,
             "#de77ae"
            ],
            [
             0.3,
             "#f1b6da"
            ],
            [
             0.4,
             "#fde0ef"
            ],
            [
             0.5,
             "#f7f7f7"
            ],
            [
             0.6,
             "#e6f5d0"
            ],
            [
             0.7,
             "#b8e186"
            ],
            [
             0.8,
             "#7fbc41"
            ],
            [
             0.9,
             "#4d9221"
            ],
            [
             1,
             "#276419"
            ]
           ],
           "sequential": [
            [
             0,
             "#0d0887"
            ],
            [
             0.1111111111111111,
             "#46039f"
            ],
            [
             0.2222222222222222,
             "#7201a8"
            ],
            [
             0.3333333333333333,
             "#9c179e"
            ],
            [
             0.4444444444444444,
             "#bd3786"
            ],
            [
             0.5555555555555556,
             "#d8576b"
            ],
            [
             0.6666666666666666,
             "#ed7953"
            ],
            [
             0.7777777777777778,
             "#fb9f3a"
            ],
            [
             0.8888888888888888,
             "#fdca26"
            ],
            [
             1,
             "#f0f921"
            ]
           ],
           "sequentialminus": [
            [
             0,
             "#0d0887"
            ],
            [
             0.1111111111111111,
             "#46039f"
            ],
            [
             0.2222222222222222,
             "#7201a8"
            ],
            [
             0.3333333333333333,
             "#9c179e"
            ],
            [
             0.4444444444444444,
             "#bd3786"
            ],
            [
             0.5555555555555556,
             "#d8576b"
            ],
            [
             0.6666666666666666,
             "#ed7953"
            ],
            [
             0.7777777777777778,
             "#fb9f3a"
            ],
            [
             0.8888888888888888,
             "#fdca26"
            ],
            [
             1,
             "#f0f921"
            ]
           ]
          },
          "colorway": [
           "#636efa",
           "#EF553B",
           "#00cc96",
           "#ab63fa",
           "#FFA15A",
           "#19d3f3",
           "#FF6692",
           "#B6E880",
           "#FF97FF",
           "#FECB52"
          ],
          "font": {
           "color": "#2a3f5f"
          },
          "geo": {
           "bgcolor": "white",
           "lakecolor": "white",
           "landcolor": "#E5ECF6",
           "showlakes": true,
           "showland": true,
           "subunitcolor": "white"
          },
          "hoverlabel": {
           "align": "left"
          },
          "hovermode": "closest",
          "mapbox": {
           "style": "light"
          },
          "paper_bgcolor": "white",
          "plot_bgcolor": "#E5ECF6",
          "polar": {
           "angularaxis": {
            "gridcolor": "white",
            "linecolor": "white",
            "ticks": ""
           },
           "bgcolor": "#E5ECF6",
           "radialaxis": {
            "gridcolor": "white",
            "linecolor": "white",
            "ticks": ""
           }
          },
          "scene": {
           "xaxis": {
            "backgroundcolor": "#E5ECF6",
            "gridcolor": "white",
            "gridwidth": 2,
            "linecolor": "white",
            "showbackground": true,
            "ticks": "",
            "zerolinecolor": "white"
           },
           "yaxis": {
            "backgroundcolor": "#E5ECF6",
            "gridcolor": "white",
            "gridwidth": 2,
            "linecolor": "white",
            "showbackground": true,
            "ticks": "",
            "zerolinecolor": "white"
           },
           "zaxis": {
            "backgroundcolor": "#E5ECF6",
            "gridcolor": "white",
            "gridwidth": 2,
            "linecolor": "white",
            "showbackground": true,
            "ticks": "",
            "zerolinecolor": "white"
           }
          },
          "shapedefaults": {
           "line": {
            "color": "#2a3f5f"
           }
          },
          "ternary": {
           "aaxis": {
            "gridcolor": "white",
            "linecolor": "white",
            "ticks": ""
           },
           "baxis": {
            "gridcolor": "white",
            "linecolor": "white",
            "ticks": ""
           },
           "bgcolor": "#E5ECF6",
           "caxis": {
            "gridcolor": "white",
            "linecolor": "white",
            "ticks": ""
           }
          },
          "title": {
           "x": 0.05
          },
          "xaxis": {
           "automargin": true,
           "gridcolor": "white",
           "linecolor": "white",
           "ticks": "",
           "title": {
            "standoff": 15
           },
           "zerolinecolor": "white",
           "zerolinewidth": 2
          },
          "yaxis": {
           "automargin": true,
           "gridcolor": "white",
           "linecolor": "white",
           "ticks": "",
           "title": {
            "standoff": 15
           },
           "zerolinecolor": "white",
           "zerolinewidth": 2
          }
         }
        },
        "width": 500,
        "xaxis": {
         "anchor": "y",
         "domain": [
          0,
          1
         ],
         "title": {
          "text": "0"
         }
        },
        "yaxis": {
         "anchor": "x",
         "domain": [
          0,
          1
         ],
         "title": {
          "text": "1"
         }
        }
       }
      },
      "text/html": [
       "<div>                            <div id=\"1e98774b-2b5c-41f0-b72e-1a72c71b3d85\" class=\"plotly-graph-div\" style=\"height:400px; width:500px;\"></div>            <script type=\"text/javascript\">                require([\"plotly\"], function(Plotly) {                    window.PLOTLYENV=window.PLOTLYENV || {};                                    if (document.getElementById(\"1e98774b-2b5c-41f0-b72e-1a72c71b3d85\")) {                    Plotly.newPlot(                        \"1e98774b-2b5c-41f0-b72e-1a72c71b3d85\",                        [{\"hovertemplate\":\"0=%{x}<br>1=%{y}<br>color=%{marker.color}<extra></extra>\",\"legendgroup\":\"\",\"marker\":{\"color\":[2,2,3,5,2,0,4,0,3,5,1,4,4,1,3,6,3,1,0,6,5,6,4,5,4,5,6,4,4,2,0,3,1,3,1,2,6,4,5,0,2,1,2,1,0,2,6,2,6,3,3,3,3,1,4,5,0,2,0,0,3,3,1,5,3,3,4,1,6,2,6,3,3,0,4,1,0,1,4,1,1,0,2,2,3,1,3,4,6,1,3,1,6,6,1,1,2,2,5,3,2,0,3,6,6,5,6,5,4,6,1,4,4,1,2,1,0,4,2,4,0,5,4,1,3,4,3,5,5,0,4,1,2,0,5,6,4,0,1,5],\"coloraxis\":\"coloraxis\",\"symbol\":\"circle\"},\"mode\":\"markers\",\"name\":\"\",\"orientation\":\"v\",\"showlegend\":false,\"type\":\"scatter\",\"x\":[-2565519.861628236,-2599636.0164385606,-2599321.211922287,-2602589.819862554,-2602607.3628742355,-2598326.7354551326,-2602754.2941025337,-2593880.0996225835,-2602294.1247159285,-2602457.145530432,-2601830.576059547,-2598477.427037909,-2602752.995159344,-2599193.6038584155,-2598639.0030187205,-2602586.9738619467,-2586867.7355832304,-2601587.8212413033,-2561482.7650700686,-2588525.2305787653,-2567500.5145462262,-2593938.0545731205,-2594996.7123269723,-2602103.4041677667,-2524110.144716271,-2590951.4489010884,-2602721.053914732,1546161.7232317268,-2588623.255437397,-2600735.4753135983,-2593159.4576278375,-2602731.3832664615,-2584419.6094744857,-2597873.177604542,-1420422.5862572764,-2593686.4032576317,-2602622.45886212,-2597502.5104751857,-2587662.0373710883,-2593844.773107653,-2594941.726841159,-2592678.105170617,-2600725.9144575745,-2593751.285230135,-2601552.3979305937,-2552449.877721248,-2602401.190120072,-2590124.3610186344,-392293.5057748364,-2602751.128438156,-2583744.8032348966,-2586581.488408162,-2380410.5112779518,-2588581.6223463584,25410775.10212146,-2602439.4459658335,-2602746.2477050484,-2600386.869772509,-2599275.5953244185,-2563214.6821394367,-2602708.2960673273,-2474191.751714114,-2594097.4123038896,64412716.21817155,-2569214.83232346,-2589788.3167733764,-2588873.204795834,-2527442.9657383882,-2596255.8109449693,45275483.748859935,-2597775.3677849183,-2592903.030489528,-2602534.022466938,-2589691.0480181915,-2602744.6292270673,-2602231.8960045325,-2592492.5162499174,724706.737502164,-2602723.357461517,-2602695.924326139,-2579515.0033268924,-2591951.722410496,-2546904.839337859,-2594501.861564138,-2602289.5153064798,-2602718.0199846076,-2598367.8166823033,-2598238.777753198,-2602751.022937353,-2599688.351043139,-2589764.819454158,-2055765.3934363425,-2579135.0210730317,-2601368.9034979166,-2561319.5041983593,-1384707.3161894926,66181543.19988714,-2602741.971127081,-2602716.0426522787,-2593748.239585884,-2563710.1922895224,-2597276.555208717,76880320.1732199,-2598083.6870254613,-883882.5848692023,53757249.734781206,-2572548.980359083,-2602367.1821965305,-2590683.557047262,-2590991.8245352632,-2590815.4583923444,-2595817.4705006354,-2574740.265719804,-2602750.539182172,-2583638.3067356874,-2437548.762065285,-2602743.557360624,-2592224.9578136737,-2602625.3713391316,-2591889.9935918967,-2571011.959245113,-2591905.78871269,-2600831.0630795145,-2559287.6712383856,-2416477.483709935,-2602649.1768471417,-2595656.0454354086,-2583064.316338194,-2602059.8554552677,-2512727.7932405826,-2597862.097023876,-2522207.685844164,-2580557.3490684223,-2530804.6179677136,-2441574.9040708616,-2589617.1504487875,-2538857.711693179,-2594174.6383788125,-2582286.8926532697,-2602458.6431394033],\"xaxis\":\"x\",\"y\":[-63323.03594081621,152723.15956071543,152727.60546048143,-27268.4562177917,-27268.404862105468,-27271.36724718311,-27268.064672701243,-63270.532229978075,153112.1087710226,153624.41188458476,152729.4159146819,-27270.421965016616,-27268.13921504841,-27270.472703112944,-27270.765846197733,-27274.96064445002,-27270.31384355706,-27269.036501135313,152727.94637586147,-27270.96768141472,-27268.571134857844,-27270.49954646486,-27270.72054663009,-27272.856493160813,-27263.51680868593,-27270.71367975761,-27268.60844881153,153482.15221779083,-63269.54375409803,-27268.853782038517,-27270.442043050763,-27268.218434721763,-27270.22296100323,-27270.601575459754,-27095.346562038794,-27269.717310922308,-27268.45661260452,-27271.662947452583,-27270.556003431695,152728.1666053148,-27270.55314554915,-27271.371352213315,-27277.55230469402,-27271.464013291567,153619.69783778532,-27266.128111474052,-27269.342727942716,-101950.67589957263,-26890.21095961364,-27268.059436571853,-27271.188497620333,-27270.044899928827,-63273.450836334836,-63272.7310717164,-57716.96400725762,-27268.518060960858,-27268.134667678576,-63270.948482020154,-27270.12824828603,152730.3099427425,152729.97247024253,-27260.0675037361,-27271.781966702274,-13714.169849448335,152730.0351011247,-63284.63918448745,-27271.431843782804,-63265.5547564713,-63270.480669572884,-53638.09397552571,-27270.975913326718,-27271.805727683255,-27268.43827765508,-27271.03222468843,-27268.35443614814,-27269.092324557172,-27269.78387197027,-26676.027958053808,125076.35459663377,-27268.30911943859,-27269.86540915226,-27270.390534505037,-63265.652376959646,-27271.57050955402,152729.2625867123,-27268.153568101046,-27269.988615706035,-27270.55271544058,-27268.060873859235,-27280.500936947814,-27269.899437344568,-63191.3356996297,-27268.793091273354,-27273.366566743585,153627.37748980563,-27071.83129197366,166649.05309573747,152730.11519981077,152729.97062813636,-63269.53447120236,-63269.4569448918,-27270.056512470557,-47155.021312951125,-27271.105186158995,-62985.45461329963,-51898.30459776331,-27271.418558550093,-27269.077897613017,-27269.642617994115,-27270.666166103496,-27270.699850789562,-27271.16812104532,152728.17338324917,-35081.01902812387,-27271.2270256261,152749.9127726799,-27268.135948620842,-27271.063044071063,153620.85644130825,-27271.359074320833,80140.58294726138,-63272.45587008331,-27271.71195830253,-27268.63500833457,-63252.964906486224,-27268.695717275863,-27270.88843736187,152728.04365243402,-27269.010164749747,-27268.429686036656,-27269.956989271606,152733.05110793162,-27269.40132822585,-27267.018161497923,152742.87116872144,-27270.03256225393,152735.1276375599,-27270.364846876702,-63271.55365532739,-27268.688417784717],\"yaxis\":\"y\"}],                        {\"coloraxis\":{\"colorbar\":{\"title\":{\"text\":\"color\"}},\"colorscale\":[[0.0,\"#0d0887\"],[0.1111111111111111,\"#46039f\"],[0.2222222222222222,\"#7201a8\"],[0.3333333333333333,\"#9c179e\"],[0.4444444444444444,\"#bd3786\"],[0.5555555555555556,\"#d8576b\"],[0.6666666666666666,\"#ed7953\"],[0.7777777777777778,\"#fb9f3a\"],[0.8888888888888888,\"#fdca26\"],[1.0,\"#f0f921\"]]},\"height\":400,\"legend\":{\"tracegroupgap\":0},\"margin\":{\"t\":60},\"template\":{\"data\":{\"bar\":[{\"error_x\":{\"color\":\"#2a3f5f\"},\"error_y\":{\"color\":\"#2a3f5f\"},\"marker\":{\"line\":{\"color\":\"#E5ECF6\",\"width\":0.5},\"pattern\":{\"fillmode\":\"overlay\",\"size\":10,\"solidity\":0.2}},\"type\":\"bar\"}],\"barpolar\":[{\"marker\":{\"line\":{\"color\":\"#E5ECF6\",\"width\":0.5},\"pattern\":{\"fillmode\":\"overlay\",\"size\":10,\"solidity\":0.2}},\"type\":\"barpolar\"}],\"carpet\":[{\"aaxis\":{\"endlinecolor\":\"#2a3f5f\",\"gridcolor\":\"white\",\"linecolor\":\"white\",\"minorgridcolor\":\"white\",\"startlinecolor\":\"#2a3f5f\"},\"baxis\":{\"endlinecolor\":\"#2a3f5f\",\"gridcolor\":\"white\",\"linecolor\":\"white\",\"minorgridcolor\":\"white\",\"startlinecolor\":\"#2a3f5f\"},\"type\":\"carpet\"}],\"choropleth\":[{\"colorbar\":{\"outlinewidth\":0,\"ticks\":\"\"},\"type\":\"choropleth\"}],\"contour\":[{\"colorbar\":{\"outlinewidth\":0,\"ticks\":\"\"},\"colorscale\":[[0.0,\"#0d0887\"],[0.1111111111111111,\"#46039f\"],[0.2222222222222222,\"#7201a8\"],[0.3333333333333333,\"#9c179e\"],[0.4444444444444444,\"#bd3786\"],[0.5555555555555556,\"#d8576b\"],[0.6666666666666666,\"#ed7953\"],[0.7777777777777778,\"#fb9f3a\"],[0.8888888888888888,\"#fdca26\"],[1.0,\"#f0f921\"]],\"type\":\"contour\"}],\"contourcarpet\":[{\"colorbar\":{\"outlinewidth\":0,\"ticks\":\"\"},\"type\":\"contourcarpet\"}],\"heatmap\":[{\"colorbar\":{\"outlinewidth\":0,\"ticks\":\"\"},\"colorscale\":[[0.0,\"#0d0887\"],[0.1111111111111111,\"#46039f\"],[0.2222222222222222,\"#7201a8\"],[0.3333333333333333,\"#9c179e\"],[0.4444444444444444,\"#bd3786\"],[0.5555555555555556,\"#d8576b\"],[0.6666666666666666,\"#ed7953\"],[0.7777777777777778,\"#fb9f3a\"],[0.8888888888888888,\"#fdca26\"],[1.0,\"#f0f921\"]],\"type\":\"heatmap\"}],\"heatmapgl\":[{\"colorbar\":{\"outlinewidth\":0,\"ticks\":\"\"},\"colorscale\":[[0.0,\"#0d0887\"],[0.1111111111111111,\"#46039f\"],[0.2222222222222222,\"#7201a8\"],[0.3333333333333333,\"#9c179e\"],[0.4444444444444444,\"#bd3786\"],[0.5555555555555556,\"#d8576b\"],[0.6666666666666666,\"#ed7953\"],[0.7777777777777778,\"#fb9f3a\"],[0.8888888888888888,\"#fdca26\"],[1.0,\"#f0f921\"]],\"type\":\"heatmapgl\"}],\"histogram\":[{\"marker\":{\"pattern\":{\"fillmode\":\"overlay\",\"size\":10,\"solidity\":0.2}},\"type\":\"histogram\"}],\"histogram2d\":[{\"colorbar\":{\"outlinewidth\":0,\"ticks\":\"\"},\"colorscale\":[[0.0,\"#0d0887\"],[0.1111111111111111,\"#46039f\"],[0.2222222222222222,\"#7201a8\"],[0.3333333333333333,\"#9c179e\"],[0.4444444444444444,\"#bd3786\"],[0.5555555555555556,\"#d8576b\"],[0.6666666666666666,\"#ed7953\"],[0.7777777777777778,\"#fb9f3a\"],[0.8888888888888888,\"#fdca26\"],[1.0,\"#f0f921\"]],\"type\":\"histogram2d\"}],\"histogram2dcontour\":[{\"colorbar\":{\"outlinewidth\":0,\"ticks\":\"\"},\"colorscale\":[[0.0,\"#0d0887\"],[0.1111111111111111,\"#46039f\"],[0.2222222222222222,\"#7201a8\"],[0.3333333333333333,\"#9c179e\"],[0.4444444444444444,\"#bd3786\"],[0.5555555555555556,\"#d8576b\"],[0.6666666666666666,\"#ed7953\"],[0.7777777777777778,\"#fb9f3a\"],[0.8888888888888888,\"#fdca26\"],[1.0,\"#f0f921\"]],\"type\":\"histogram2dcontour\"}],\"mesh3d\":[{\"colorbar\":{\"outlinewidth\":0,\"ticks\":\"\"},\"type\":\"mesh3d\"}],\"parcoords\":[{\"line\":{\"colorbar\":{\"outlinewidth\":0,\"ticks\":\"\"}},\"type\":\"parcoords\"}],\"pie\":[{\"automargin\":true,\"type\":\"pie\"}],\"scatter\":[{\"marker\":{\"colorbar\":{\"outlinewidth\":0,\"ticks\":\"\"}},\"type\":\"scatter\"}],\"scatter3d\":[{\"line\":{\"colorbar\":{\"outlinewidth\":0,\"ticks\":\"\"}},\"marker\":{\"colorbar\":{\"outlinewidth\":0,\"ticks\":\"\"}},\"type\":\"scatter3d\"}],\"scattercarpet\":[{\"marker\":{\"colorbar\":{\"outlinewidth\":0,\"ticks\":\"\"}},\"type\":\"scattercarpet\"}],\"scattergeo\":[{\"marker\":{\"colorbar\":{\"outlinewidth\":0,\"ticks\":\"\"}},\"type\":\"scattergeo\"}],\"scattergl\":[{\"marker\":{\"colorbar\":{\"outlinewidth\":0,\"ticks\":\"\"}},\"type\":\"scattergl\"}],\"scattermapbox\":[{\"marker\":{\"colorbar\":{\"outlinewidth\":0,\"ticks\":\"\"}},\"type\":\"scattermapbox\"}],\"scatterpolar\":[{\"marker\":{\"colorbar\":{\"outlinewidth\":0,\"ticks\":\"\"}},\"type\":\"scatterpolar\"}],\"scatterpolargl\":[{\"marker\":{\"colorbar\":{\"outlinewidth\":0,\"ticks\":\"\"}},\"type\":\"scatterpolargl\"}],\"scatterternary\":[{\"marker\":{\"colorbar\":{\"outlinewidth\":0,\"ticks\":\"\"}},\"type\":\"scatterternary\"}],\"surface\":[{\"colorbar\":{\"outlinewidth\":0,\"ticks\":\"\"},\"colorscale\":[[0.0,\"#0d0887\"],[0.1111111111111111,\"#46039f\"],[0.2222222222222222,\"#7201a8\"],[0.3333333333333333,\"#9c179e\"],[0.4444444444444444,\"#bd3786\"],[0.5555555555555556,\"#d8576b\"],[0.6666666666666666,\"#ed7953\"],[0.7777777777777778,\"#fb9f3a\"],[0.8888888888888888,\"#fdca26\"],[1.0,\"#f0f921\"]],\"type\":\"surface\"}],\"table\":[{\"cells\":{\"fill\":{\"color\":\"#EBF0F8\"},\"line\":{\"color\":\"white\"}},\"header\":{\"fill\":{\"color\":\"#C8D4E3\"},\"line\":{\"color\":\"white\"}},\"type\":\"table\"}]},\"layout\":{\"annotationdefaults\":{\"arrowcolor\":\"#2a3f5f\",\"arrowhead\":0,\"arrowwidth\":1},\"autotypenumbers\":\"strict\",\"coloraxis\":{\"colorbar\":{\"outlinewidth\":0,\"ticks\":\"\"}},\"colorscale\":{\"diverging\":[[0,\"#8e0152\"],[0.1,\"#c51b7d\"],[0.2,\"#de77ae\"],[0.3,\"#f1b6da\"],[0.4,\"#fde0ef\"],[0.5,\"#f7f7f7\"],[0.6,\"#e6f5d0\"],[0.7,\"#b8e186\"],[0.8,\"#7fbc41\"],[0.9,\"#4d9221\"],[1,\"#276419\"]],\"sequential\":[[0.0,\"#0d0887\"],[0.1111111111111111,\"#46039f\"],[0.2222222222222222,\"#7201a8\"],[0.3333333333333333,\"#9c179e\"],[0.4444444444444444,\"#bd3786\"],[0.5555555555555556,\"#d8576b\"],[0.6666666666666666,\"#ed7953\"],[0.7777777777777778,\"#fb9f3a\"],[0.8888888888888888,\"#fdca26\"],[1.0,\"#f0f921\"]],\"sequentialminus\":[[0.0,\"#0d0887\"],[0.1111111111111111,\"#46039f\"],[0.2222222222222222,\"#7201a8\"],[0.3333333333333333,\"#9c179e\"],[0.4444444444444444,\"#bd3786\"],[0.5555555555555556,\"#d8576b\"],[0.6666666666666666,\"#ed7953\"],[0.7777777777777778,\"#fb9f3a\"],[0.8888888888888888,\"#fdca26\"],[1.0,\"#f0f921\"]]},\"colorway\":[\"#636efa\",\"#EF553B\",\"#00cc96\",\"#ab63fa\",\"#FFA15A\",\"#19d3f3\",\"#FF6692\",\"#B6E880\",\"#FF97FF\",\"#FECB52\"],\"font\":{\"color\":\"#2a3f5f\"},\"geo\":{\"bgcolor\":\"white\",\"lakecolor\":\"white\",\"landcolor\":\"#E5ECF6\",\"showlakes\":true,\"showland\":true,\"subunitcolor\":\"white\"},\"hoverlabel\":{\"align\":\"left\"},\"hovermode\":\"closest\",\"mapbox\":{\"style\":\"light\"},\"paper_bgcolor\":\"white\",\"plot_bgcolor\":\"#E5ECF6\",\"polar\":{\"angularaxis\":{\"gridcolor\":\"white\",\"linecolor\":\"white\",\"ticks\":\"\"},\"bgcolor\":\"#E5ECF6\",\"radialaxis\":{\"gridcolor\":\"white\",\"linecolor\":\"white\",\"ticks\":\"\"}},\"scene\":{\"xaxis\":{\"backgroundcolor\":\"#E5ECF6\",\"gridcolor\":\"white\",\"gridwidth\":2,\"linecolor\":\"white\",\"showbackground\":true,\"ticks\":\"\",\"zerolinecolor\":\"white\"},\"yaxis\":{\"backgroundcolor\":\"#E5ECF6\",\"gridcolor\":\"white\",\"gridwidth\":2,\"linecolor\":\"white\",\"showbackground\":true,\"ticks\":\"\",\"zerolinecolor\":\"white\"},\"zaxis\":{\"backgroundcolor\":\"#E5ECF6\",\"gridcolor\":\"white\",\"gridwidth\":2,\"linecolor\":\"white\",\"showbackground\":true,\"ticks\":\"\",\"zerolinecolor\":\"white\"}},\"shapedefaults\":{\"line\":{\"color\":\"#2a3f5f\"}},\"ternary\":{\"aaxis\":{\"gridcolor\":\"white\",\"linecolor\":\"white\",\"ticks\":\"\"},\"baxis\":{\"gridcolor\":\"white\",\"linecolor\":\"white\",\"ticks\":\"\"},\"bgcolor\":\"#E5ECF6\",\"caxis\":{\"gridcolor\":\"white\",\"linecolor\":\"white\",\"ticks\":\"\"}},\"title\":{\"x\":0.05},\"xaxis\":{\"automargin\":true,\"gridcolor\":\"white\",\"linecolor\":\"white\",\"ticks\":\"\",\"title\":{\"standoff\":15},\"zerolinecolor\":\"white\",\"zerolinewidth\":2},\"yaxis\":{\"automargin\":true,\"gridcolor\":\"white\",\"linecolor\":\"white\",\"ticks\":\"\",\"title\":{\"standoff\":15},\"zerolinecolor\":\"white\",\"zerolinewidth\":2}}},\"width\":500,\"xaxis\":{\"anchor\":\"y\",\"domain\":[0.0,1.0],\"title\":{\"text\":\"0\"}},\"yaxis\":{\"anchor\":\"x\",\"domain\":[0.0,1.0],\"title\":{\"text\":\"1\"}}},                        {\"responsive\": true}                    ).then(function(){\n",
       "                            \n",
       "var gd = document.getElementById('1e98774b-2b5c-41f0-b72e-1a72c71b3d85');\n",
       "var x = new MutationObserver(function (mutations, observer) {{\n",
       "        var display = window.getComputedStyle(gd).display;\n",
       "        if (!display || display === 'none') {{\n",
       "            console.log([gd, 'removed!']);\n",
       "            Plotly.purge(gd);\n",
       "            observer.disconnect();\n",
       "        }}\n",
       "}});\n",
       "\n",
       "// Listen for the removal of the full notebook cells\n",
       "var notebookContainer = gd.closest('#notebook-container');\n",
       "if (notebookContainer) {{\n",
       "    x.observe(notebookContainer, {childList: true});\n",
       "}}\n",
       "\n",
       "// Listen for the clearing of the current output cell\n",
       "var outputEl = gd.closest('.output');\n",
       "if (outputEl) {{\n",
       "    x.observe(outputEl, {childList: true});\n",
       "}}\n",
       "\n",
       "                        })                };                });            </script>        </div>"
      ]
     },
     "metadata": {},
     "output_type": "display_data"
    }
   ],
   "source": [
    "components_test = pca(y_test, X_test)\n",
    "visu_pca(components, y_test)"
   ]
  },
  {
   "cell_type": "code",
   "execution_count": 241,
   "id": "e453e79b",
   "metadata": {},
   "outputs": [
    {
     "data": {
      "application/vnd.plotly.v1+json": {
       "config": {
        "plotlyServerURL": "https://plot.ly"
       },
       "data": [
        {
         "hovertemplate": "0=%{x}<br>1=%{y}<br>color=%{marker.color}<extra></extra>",
         "legendgroup": "",
         "marker": {
          "color": [
           5,
           5,
           5,
           5,
           5,
           5,
           5,
           0,
           5,
           5,
           5,
           5,
           5,
           5,
           5,
           5,
           5,
           5,
           5,
           5,
           5,
           5,
           5,
           5,
           5,
           5,
           5,
           5,
           5,
           5,
           5,
           5,
           5,
           5,
           5,
           5,
           5,
           5,
           5,
           0,
           5,
           5,
           5,
           5,
           5,
           5,
           5,
           5,
           5,
           5,
           5,
           5,
           5,
           5,
           5,
           5,
           0,
           5,
           0,
           5,
           5,
           5,
           5,
           5,
           5,
           5,
           5,
           5,
           5,
           5,
           5,
           5,
           5,
           5,
           5,
           5,
           0,
           5,
           5,
           5,
           5,
           0,
           5,
           5,
           5,
           5,
           5,
           5,
           0,
           5,
           5,
           5,
           5,
           5,
           5,
           5,
           5,
           5,
           5,
           5,
           5,
           0,
           5,
           5,
           5,
           5,
           5,
           5,
           5,
           5,
           5,
           5,
           5,
           5,
           5,
           5,
           0,
           5,
           5,
           5,
           5,
           5,
           5,
           5,
           5,
           5,
           5,
           5,
           5,
           5,
           5,
           5,
           5,
           0,
           5,
           5,
           5,
           0,
           5,
           5
          ],
          "coloraxis": "coloraxis",
          "symbol": "circle"
         },
         "mode": "markers",
         "name": "",
         "orientation": "v",
         "showlegend": false,
         "type": "scatter",
         "x": [
          -4437896.6745278435,
          -4420919.6694992455,
          -4435012.730063812,
          -4432636.372588013,
          -4441595.188825703,
          -3595834.1218661964,
          -4442052.253932261,
          30694118.490275968,
          -4434606.799373204,
          -4350853.68837442,
          -4436674.179760753,
          -4442038.792588234,
          -4442226.837482063,
          -4441079.430522889,
          -4429990.744089849,
          -4436581.863912433,
          -4435185.631365801,
          -4436156.775680553,
          -4058312.8258615383,
          -4423396.846726879,
          -4434252.107679764,
          -4442315.086533826,
          -4442239.569941133,
          -4441042.36896702,
          -4441804.145099996,
          -4414871.765768078,
          -4321210.340463486,
          -4442143.242128241,
          -4442314.220843048,
          -4402639.348866133,
          -4368305.5395105705,
          -4437909.078799616,
          -4422709.086930064,
          -4436232.093231917,
          -4428611.922202095,
          -4441820.378850178,
          -4439177.377938568,
          -4441817.7180388095,
          -4432327.405829366,
          33997556.08145018,
          -4332643.215887743,
          -4442227.913193926,
          -4439113.977470245,
          -4442275.68101221,
          -4442241.075684318,
          -4427606.026566844,
          -4442139.091751344,
          -4403534.01960495,
          -4385476.648747646,
          -4433968.306286089,
          -4442205.864688956,
          -4413925.575977339,
          -4438620.727641039,
          -4434177.987628865,
          -4441884.631465958,
          -4442302.127233323,
          31957256.74294375,
          -4432718.219532311,
          96641112.93783239,
          -2743474.8490155586,
          -4436187.103476305,
          -4421167.147986581,
          -4439160.717175112,
          -4438758.809504691,
          -4432702.879633474,
          -4429235.708676106,
          -4441723.067177648,
          -4430942.0552390935,
          -4432838.914570301,
          -4382017.618389751,
          -4394937.806172252,
          -4435984.65746551,
          -4435216.586126601,
          -3077804.7104336713,
          -4442307.958474584,
          -4430552.438617234,
          17746412.50780621,
          -4434186.1714013405,
          -4441625.048088302,
          -4441298.0857767165,
          -4442291.923291987,
          64341990.25984812,
          -4436686.308379532,
          -4264610.714385807,
          -4430672.199086854,
          -4406559.899407697,
          -4435048.158268433,
          -4441426.087898948,
          7505779.737767736,
          -4436136.909890062,
          -4442240.611787097,
          -4428394.71549834,
          -4383018.636786712,
          -4433630.909434248,
          -4435179.904035183,
          -4435739.0503936345,
          -4422334.268532131,
          -4419939.324414843,
          -4426453.71583894,
          -4436852.223706534,
          -4408129.252406262,
          51253690.46018547,
          -4432931.275282501,
          -4199915.353982956,
          -4433246.789624514,
          -4442308.7284501055,
          -4442148.2151693925,
          -4423407.1868004,
          -4442316.0207656715,
          -4438439.936322461,
          -4433998.376164579,
          -4442305.503881131,
          -4438845.203994588,
          -4442298.013392569,
          -4434922.160979271,
          -4442306.055526608,
          133382585.33956665,
          -4438624.727542585,
          -4442314.693549064,
          -4440483.785131539,
          -4096630.993081332,
          -4437632.038011213,
          -4442148.738945817,
          -4438534.818534891,
          -4442316.933835533,
          -4437928.150496528,
          -4437648.630129152,
          -4419078.68548318,
          -4420158.326984766,
          -3535677.56476971,
          -4442116.747740012,
          -4430092.81154234,
          -4442328.8862053305,
          62216031.90838335,
          -4277401.635083509,
          -4434130.977005615,
          -4442055.200565662,
          35732505.97429483,
          -4441666.009723511,
          -4429358.803775834
         ],
         "xaxis": "x",
         "y": [
          -906.7215649732868,
          -900.1458584490674,
          -937.348378131374,
          -913.2228681975795,
          -941.8068882110798,
          -748.8286347465875,
          -906.7592733810133,
          36465.98035994127,
          -925.3694518946455,
          -799.3384952310535,
          -919.800905144205,
          -965.5089728344926,
          -908.3759004963,
          -1075.1613835151088,
          -913.9142359592137,
          -930.6620124525859,
          -930.4937027347258,
          -902.4226407215114,
          -383.94048971798884,
          -924.8135498759115,
          -1137.5252419091928,
          -953.2936301405842,
          -907.1032471768069,
          -2844.341971440903,
          -908.3961125284716,
          -1092.2291591847281,
          -914.8215133133226,
          -983.5084451657737,
          -966.3233029455795,
          -1028.9987349867406,
          -880.5041504170916,
          -927.8613671415,
          -890.5120686571087,
          -926.6658157786877,
          -911.7566510815712,
          -956.5223038108866,
          -920.807898636731,
          -906.8148425195113,
          -896.4021140701476,
          17289.663924677916,
          -1461.7340490137235,
          -997.7901760231961,
          -953.8169744054388,
          -990.2675112085279,
          -963.1285218990081,
          -1016.1384625921354,
          -957.8812339955465,
          -996.8435654199801,
          -940.4269535322779,
          -917.4048567283481,
          -962.2048936325875,
          -899.602978895146,
          -942.1667912878942,
          -924.9057295485624,
          -906.9388631919055,
          -1255.9968061279467,
          31544.46642004597,
          -900.6575213328438,
          -42132.46516194277,
          -3033.7935249132556,
          -935.9585057727231,
          -905.2557517137833,
          -945.7574303558875,
          -1072.6214704695692,
          -939.4515383418077,
          -922.1072635084404,
          -907.8840872227265,
          -918.84067488216,
          -941.7687323573709,
          -858.7482757643776,
          -950.5246319382037,
          -921.354255904268,
          -931.2524362690928,
          -1717.6676797730086,
          -1021.515586302454,
          -932.678537985348,
          18394.104554341593,
          -914.6062233042152,
          -905.7567404526847,
          -1086.7480702729179,
          -989.9073068896538,
          67630.18245295201,
          -920.05861629645,
          -1329.0344793756856,
          -901.7225053948919,
          -951.9476262006884,
          -929.6406443463643,
          -904.3728851581301,
          -8607.067234529379,
          -923.5280972583145,
          -964.8920990195645,
          -909.6775211231449,
          -1015.7646574039375,
          -927.7359695061635,
          -931.3108323301292,
          -918.3661236777492,
          -996.0047079836047,
          -947.8334980556887,
          -900.6440750025757,
          -937.6866999971608,
          -986.8120262530298,
          7208.390352217782,
          -921.7287100117924,
          -807.9069303209653,
          -933.1969506476876,
          -1133.9623728943038,
          -968.0148653958524,
          -1055.438031881548,
          -964.5321463379232,
          -935.6379464903657,
          -896.899579809645,
          -946.4699418939806,
          -903.4737671924955,
          -968.5412504082249,
          -924.273430782075,
          -966.934426111557,
          -43803.89661692112,
          -905.4719707403192,
          -970.5118646549117,
          -904.7546850213138,
          -1068.1455034025005,
          -2212.696203301398,
          -906.5619476465512,
          -925.0849164626853,
          -1001.6805816129526,
          -907.9566404657724,
          -922.6701003211732,
          -889.7365577243837,
          -897.78851071207,
          -840.3403676355672,
          -907.9672849564388,
          -908.9511613327902,
          -968.5201482426584,
          1666.4825972969725,
          -682.6310034072776,
          -922.4391178476063,
          -956.9472607788542,
          43402.56119148637,
          -958.3851991077261,
          -2243.990008828172
         ],
         "yaxis": "y"
        }
       ],
       "layout": {
        "coloraxis": {
         "colorbar": {
          "title": {
           "text": "color"
          }
         },
         "colorscale": [
          [
           0,
           "#0d0887"
          ],
          [
           0.1111111111111111,
           "#46039f"
          ],
          [
           0.2222222222222222,
           "#7201a8"
          ],
          [
           0.3333333333333333,
           "#9c179e"
          ],
          [
           0.4444444444444444,
           "#bd3786"
          ],
          [
           0.5555555555555556,
           "#d8576b"
          ],
          [
           0.6666666666666666,
           "#ed7953"
          ],
          [
           0.7777777777777778,
           "#fb9f3a"
          ],
          [
           0.8888888888888888,
           "#fdca26"
          ],
          [
           1,
           "#f0f921"
          ]
         ]
        },
        "height": 400,
        "legend": {
         "tracegroupgap": 0
        },
        "margin": {
         "t": 60
        },
        "template": {
         "data": {
          "bar": [
           {
            "error_x": {
             "color": "#2a3f5f"
            },
            "error_y": {
             "color": "#2a3f5f"
            },
            "marker": {
             "line": {
              "color": "#E5ECF6",
              "width": 0.5
             },
             "pattern": {
              "fillmode": "overlay",
              "size": 10,
              "solidity": 0.2
             }
            },
            "type": "bar"
           }
          ],
          "barpolar": [
           {
            "marker": {
             "line": {
              "color": "#E5ECF6",
              "width": 0.5
             },
             "pattern": {
              "fillmode": "overlay",
              "size": 10,
              "solidity": 0.2
             }
            },
            "type": "barpolar"
           }
          ],
          "carpet": [
           {
            "aaxis": {
             "endlinecolor": "#2a3f5f",
             "gridcolor": "white",
             "linecolor": "white",
             "minorgridcolor": "white",
             "startlinecolor": "#2a3f5f"
            },
            "baxis": {
             "endlinecolor": "#2a3f5f",
             "gridcolor": "white",
             "linecolor": "white",
             "minorgridcolor": "white",
             "startlinecolor": "#2a3f5f"
            },
            "type": "carpet"
           }
          ],
          "choropleth": [
           {
            "colorbar": {
             "outlinewidth": 0,
             "ticks": ""
            },
            "type": "choropleth"
           }
          ],
          "contour": [
           {
            "colorbar": {
             "outlinewidth": 0,
             "ticks": ""
            },
            "colorscale": [
             [
              0,
              "#0d0887"
             ],
             [
              0.1111111111111111,
              "#46039f"
             ],
             [
              0.2222222222222222,
              "#7201a8"
             ],
             [
              0.3333333333333333,
              "#9c179e"
             ],
             [
              0.4444444444444444,
              "#bd3786"
             ],
             [
              0.5555555555555556,
              "#d8576b"
             ],
             [
              0.6666666666666666,
              "#ed7953"
             ],
             [
              0.7777777777777778,
              "#fb9f3a"
             ],
             [
              0.8888888888888888,
              "#fdca26"
             ],
             [
              1,
              "#f0f921"
             ]
            ],
            "type": "contour"
           }
          ],
          "contourcarpet": [
           {
            "colorbar": {
             "outlinewidth": 0,
             "ticks": ""
            },
            "type": "contourcarpet"
           }
          ],
          "heatmap": [
           {
            "colorbar": {
             "outlinewidth": 0,
             "ticks": ""
            },
            "colorscale": [
             [
              0,
              "#0d0887"
             ],
             [
              0.1111111111111111,
              "#46039f"
             ],
             [
              0.2222222222222222,
              "#7201a8"
             ],
             [
              0.3333333333333333,
              "#9c179e"
             ],
             [
              0.4444444444444444,
              "#bd3786"
             ],
             [
              0.5555555555555556,
              "#d8576b"
             ],
             [
              0.6666666666666666,
              "#ed7953"
             ],
             [
              0.7777777777777778,
              "#fb9f3a"
             ],
             [
              0.8888888888888888,
              "#fdca26"
             ],
             [
              1,
              "#f0f921"
             ]
            ],
            "type": "heatmap"
           }
          ],
          "heatmapgl": [
           {
            "colorbar": {
             "outlinewidth": 0,
             "ticks": ""
            },
            "colorscale": [
             [
              0,
              "#0d0887"
             ],
             [
              0.1111111111111111,
              "#46039f"
             ],
             [
              0.2222222222222222,
              "#7201a8"
             ],
             [
              0.3333333333333333,
              "#9c179e"
             ],
             [
              0.4444444444444444,
              "#bd3786"
             ],
             [
              0.5555555555555556,
              "#d8576b"
             ],
             [
              0.6666666666666666,
              "#ed7953"
             ],
             [
              0.7777777777777778,
              "#fb9f3a"
             ],
             [
              0.8888888888888888,
              "#fdca26"
             ],
             [
              1,
              "#f0f921"
             ]
            ],
            "type": "heatmapgl"
           }
          ],
          "histogram": [
           {
            "marker": {
             "pattern": {
              "fillmode": "overlay",
              "size": 10,
              "solidity": 0.2
             }
            },
            "type": "histogram"
           }
          ],
          "histogram2d": [
           {
            "colorbar": {
             "outlinewidth": 0,
             "ticks": ""
            },
            "colorscale": [
             [
              0,
              "#0d0887"
             ],
             [
              0.1111111111111111,
              "#46039f"
             ],
             [
              0.2222222222222222,
              "#7201a8"
             ],
             [
              0.3333333333333333,
              "#9c179e"
             ],
             [
              0.4444444444444444,
              "#bd3786"
             ],
             [
              0.5555555555555556,
              "#d8576b"
             ],
             [
              0.6666666666666666,
              "#ed7953"
             ],
             [
              0.7777777777777778,
              "#fb9f3a"
             ],
             [
              0.8888888888888888,
              "#fdca26"
             ],
             [
              1,
              "#f0f921"
             ]
            ],
            "type": "histogram2d"
           }
          ],
          "histogram2dcontour": [
           {
            "colorbar": {
             "outlinewidth": 0,
             "ticks": ""
            },
            "colorscale": [
             [
              0,
              "#0d0887"
             ],
             [
              0.1111111111111111,
              "#46039f"
             ],
             [
              0.2222222222222222,
              "#7201a8"
             ],
             [
              0.3333333333333333,
              "#9c179e"
             ],
             [
              0.4444444444444444,
              "#bd3786"
             ],
             [
              0.5555555555555556,
              "#d8576b"
             ],
             [
              0.6666666666666666,
              "#ed7953"
             ],
             [
              0.7777777777777778,
              "#fb9f3a"
             ],
             [
              0.8888888888888888,
              "#fdca26"
             ],
             [
              1,
              "#f0f921"
             ]
            ],
            "type": "histogram2dcontour"
           }
          ],
          "mesh3d": [
           {
            "colorbar": {
             "outlinewidth": 0,
             "ticks": ""
            },
            "type": "mesh3d"
           }
          ],
          "parcoords": [
           {
            "line": {
             "colorbar": {
              "outlinewidth": 0,
              "ticks": ""
             }
            },
            "type": "parcoords"
           }
          ],
          "pie": [
           {
            "automargin": true,
            "type": "pie"
           }
          ],
          "scatter": [
           {
            "marker": {
             "colorbar": {
              "outlinewidth": 0,
              "ticks": ""
             }
            },
            "type": "scatter"
           }
          ],
          "scatter3d": [
           {
            "line": {
             "colorbar": {
              "outlinewidth": 0,
              "ticks": ""
             }
            },
            "marker": {
             "colorbar": {
              "outlinewidth": 0,
              "ticks": ""
             }
            },
            "type": "scatter3d"
           }
          ],
          "scattercarpet": [
           {
            "marker": {
             "colorbar": {
              "outlinewidth": 0,
              "ticks": ""
             }
            },
            "type": "scattercarpet"
           }
          ],
          "scattergeo": [
           {
            "marker": {
             "colorbar": {
              "outlinewidth": 0,
              "ticks": ""
             }
            },
            "type": "scattergeo"
           }
          ],
          "scattergl": [
           {
            "marker": {
             "colorbar": {
              "outlinewidth": 0,
              "ticks": ""
             }
            },
            "type": "scattergl"
           }
          ],
          "scattermapbox": [
           {
            "marker": {
             "colorbar": {
              "outlinewidth": 0,
              "ticks": ""
             }
            },
            "type": "scattermapbox"
           }
          ],
          "scatterpolar": [
           {
            "marker": {
             "colorbar": {
              "outlinewidth": 0,
              "ticks": ""
             }
            },
            "type": "scatterpolar"
           }
          ],
          "scatterpolargl": [
           {
            "marker": {
             "colorbar": {
              "outlinewidth": 0,
              "ticks": ""
             }
            },
            "type": "scatterpolargl"
           }
          ],
          "scatterternary": [
           {
            "marker": {
             "colorbar": {
              "outlinewidth": 0,
              "ticks": ""
             }
            },
            "type": "scatterternary"
           }
          ],
          "surface": [
           {
            "colorbar": {
             "outlinewidth": 0,
             "ticks": ""
            },
            "colorscale": [
             [
              0,
              "#0d0887"
             ],
             [
              0.1111111111111111,
              "#46039f"
             ],
             [
              0.2222222222222222,
              "#7201a8"
             ],
             [
              0.3333333333333333,
              "#9c179e"
             ],
             [
              0.4444444444444444,
              "#bd3786"
             ],
             [
              0.5555555555555556,
              "#d8576b"
             ],
             [
              0.6666666666666666,
              "#ed7953"
             ],
             [
              0.7777777777777778,
              "#fb9f3a"
             ],
             [
              0.8888888888888888,
              "#fdca26"
             ],
             [
              1,
              "#f0f921"
             ]
            ],
            "type": "surface"
           }
          ],
          "table": [
           {
            "cells": {
             "fill": {
              "color": "#EBF0F8"
             },
             "line": {
              "color": "white"
             }
            },
            "header": {
             "fill": {
              "color": "#C8D4E3"
             },
             "line": {
              "color": "white"
             }
            },
            "type": "table"
           }
          ]
         },
         "layout": {
          "annotationdefaults": {
           "arrowcolor": "#2a3f5f",
           "arrowhead": 0,
           "arrowwidth": 1
          },
          "autotypenumbers": "strict",
          "coloraxis": {
           "colorbar": {
            "outlinewidth": 0,
            "ticks": ""
           }
          },
          "colorscale": {
           "diverging": [
            [
             0,
             "#8e0152"
            ],
            [
             0.1,
             "#c51b7d"
            ],
            [
             0.2,
             "#de77ae"
            ],
            [
             0.3,
             "#f1b6da"
            ],
            [
             0.4,
             "#fde0ef"
            ],
            [
             0.5,
             "#f7f7f7"
            ],
            [
             0.6,
             "#e6f5d0"
            ],
            [
             0.7,
             "#b8e186"
            ],
            [
             0.8,
             "#7fbc41"
            ],
            [
             0.9,
             "#4d9221"
            ],
            [
             1,
             "#276419"
            ]
           ],
           "sequential": [
            [
             0,
             "#0d0887"
            ],
            [
             0.1111111111111111,
             "#46039f"
            ],
            [
             0.2222222222222222,
             "#7201a8"
            ],
            [
             0.3333333333333333,
             "#9c179e"
            ],
            [
             0.4444444444444444,
             "#bd3786"
            ],
            [
             0.5555555555555556,
             "#d8576b"
            ],
            [
             0.6666666666666666,
             "#ed7953"
            ],
            [
             0.7777777777777778,
             "#fb9f3a"
            ],
            [
             0.8888888888888888,
             "#fdca26"
            ],
            [
             1,
             "#f0f921"
            ]
           ],
           "sequentialminus": [
            [
             0,
             "#0d0887"
            ],
            [
             0.1111111111111111,
             "#46039f"
            ],
            [
             0.2222222222222222,
             "#7201a8"
            ],
            [
             0.3333333333333333,
             "#9c179e"
            ],
            [
             0.4444444444444444,
             "#bd3786"
            ],
            [
             0.5555555555555556,
             "#d8576b"
            ],
            [
             0.6666666666666666,
             "#ed7953"
            ],
            [
             0.7777777777777778,
             "#fb9f3a"
            ],
            [
             0.8888888888888888,
             "#fdca26"
            ],
            [
             1,
             "#f0f921"
            ]
           ]
          },
          "colorway": [
           "#636efa",
           "#EF553B",
           "#00cc96",
           "#ab63fa",
           "#FFA15A",
           "#19d3f3",
           "#FF6692",
           "#B6E880",
           "#FF97FF",
           "#FECB52"
          ],
          "font": {
           "color": "#2a3f5f"
          },
          "geo": {
           "bgcolor": "white",
           "lakecolor": "white",
           "landcolor": "#E5ECF6",
           "showlakes": true,
           "showland": true,
           "subunitcolor": "white"
          },
          "hoverlabel": {
           "align": "left"
          },
          "hovermode": "closest",
          "mapbox": {
           "style": "light"
          },
          "paper_bgcolor": "white",
          "plot_bgcolor": "#E5ECF6",
          "polar": {
           "angularaxis": {
            "gridcolor": "white",
            "linecolor": "white",
            "ticks": ""
           },
           "bgcolor": "#E5ECF6",
           "radialaxis": {
            "gridcolor": "white",
            "linecolor": "white",
            "ticks": ""
           }
          },
          "scene": {
           "xaxis": {
            "backgroundcolor": "#E5ECF6",
            "gridcolor": "white",
            "gridwidth": 2,
            "linecolor": "white",
            "showbackground": true,
            "ticks": "",
            "zerolinecolor": "white"
           },
           "yaxis": {
            "backgroundcolor": "#E5ECF6",
            "gridcolor": "white",
            "gridwidth": 2,
            "linecolor": "white",
            "showbackground": true,
            "ticks": "",
            "zerolinecolor": "white"
           },
           "zaxis": {
            "backgroundcolor": "#E5ECF6",
            "gridcolor": "white",
            "gridwidth": 2,
            "linecolor": "white",
            "showbackground": true,
            "ticks": "",
            "zerolinecolor": "white"
           }
          },
          "shapedefaults": {
           "line": {
            "color": "#2a3f5f"
           }
          },
          "ternary": {
           "aaxis": {
            "gridcolor": "white",
            "linecolor": "white",
            "ticks": ""
           },
           "baxis": {
            "gridcolor": "white",
            "linecolor": "white",
            "ticks": ""
           },
           "bgcolor": "#E5ECF6",
           "caxis": {
            "gridcolor": "white",
            "linecolor": "white",
            "ticks": ""
           }
          },
          "title": {
           "x": 0.05
          },
          "xaxis": {
           "automargin": true,
           "gridcolor": "white",
           "linecolor": "white",
           "ticks": "",
           "title": {
            "standoff": 15
           },
           "zerolinecolor": "white",
           "zerolinewidth": 2
          },
          "yaxis": {
           "automargin": true,
           "gridcolor": "white",
           "linecolor": "white",
           "ticks": "",
           "title": {
            "standoff": 15
           },
           "zerolinecolor": "white",
           "zerolinewidth": 2
          }
         }
        },
        "width": 500,
        "xaxis": {
         "anchor": "y",
         "domain": [
          0,
          1
         ],
         "title": {
          "text": "0"
         }
        },
        "yaxis": {
         "anchor": "x",
         "domain": [
          0,
          1
         ],
         "title": {
          "text": "1"
         }
        }
       }
      },
      "text/html": [
       "<div>                            <div id=\"92556afb-1a84-4084-8f0c-98e0c482ae77\" class=\"plotly-graph-div\" style=\"height:400px; width:500px;\"></div>            <script type=\"text/javascript\">                require([\"plotly\"], function(Plotly) {                    window.PLOTLYENV=window.PLOTLYENV || {};                                    if (document.getElementById(\"92556afb-1a84-4084-8f0c-98e0c482ae77\")) {                    Plotly.newPlot(                        \"92556afb-1a84-4084-8f0c-98e0c482ae77\",                        [{\"hovertemplate\":\"0=%{x}<br>1=%{y}<br>color=%{marker.color}<extra></extra>\",\"legendgroup\":\"\",\"marker\":{\"color\":[5,5,5,5,5,5,5,0,5,5,5,5,5,5,5,5,5,5,5,5,5,5,5,5,5,5,5,5,5,5,5,5,5,5,5,5,5,5,5,0,5,5,5,5,5,5,5,5,5,5,5,5,5,5,5,5,0,5,0,5,5,5,5,5,5,5,5,5,5,5,5,5,5,5,5,5,0,5,5,5,5,0,5,5,5,5,5,5,0,5,5,5,5,5,5,5,5,5,5,5,5,0,5,5,5,5,5,5,5,5,5,5,5,5,5,5,0,5,5,5,5,5,5,5,5,5,5,5,5,5,5,5,5,0,5,5,5,0,5,5],\"coloraxis\":\"coloraxis\",\"symbol\":\"circle\"},\"mode\":\"markers\",\"name\":\"\",\"orientation\":\"v\",\"showlegend\":false,\"type\":\"scatter\",\"x\":[-4437896.6745278435,-4420919.6694992455,-4435012.730063812,-4432636.372588013,-4441595.188825703,-3595834.1218661964,-4442052.253932261,30694118.490275968,-4434606.799373204,-4350853.68837442,-4436674.179760753,-4442038.792588234,-4442226.837482063,-4441079.430522889,-4429990.744089849,-4436581.863912433,-4435185.631365801,-4436156.775680553,-4058312.8258615383,-4423396.846726879,-4434252.107679764,-4442315.086533826,-4442239.569941133,-4441042.36896702,-4441804.145099996,-4414871.765768078,-4321210.340463486,-4442143.242128241,-4442314.220843048,-4402639.348866133,-4368305.5395105705,-4437909.078799616,-4422709.086930064,-4436232.093231917,-4428611.922202095,-4441820.378850178,-4439177.377938568,-4441817.7180388095,-4432327.405829366,33997556.08145018,-4332643.215887743,-4442227.913193926,-4439113.977470245,-4442275.68101221,-4442241.075684318,-4427606.026566844,-4442139.091751344,-4403534.01960495,-4385476.648747646,-4433968.306286089,-4442205.864688956,-4413925.575977339,-4438620.727641039,-4434177.987628865,-4441884.631465958,-4442302.127233323,31957256.74294375,-4432718.219532311,96641112.93783239,-2743474.8490155586,-4436187.103476305,-4421167.147986581,-4439160.717175112,-4438758.809504691,-4432702.879633474,-4429235.708676106,-4441723.067177648,-4430942.0552390935,-4432838.914570301,-4382017.618389751,-4394937.806172252,-4435984.65746551,-4435216.586126601,-3077804.7104336713,-4442307.958474584,-4430552.438617234,17746412.50780621,-4434186.1714013405,-4441625.048088302,-4441298.0857767165,-4442291.923291987,64341990.25984812,-4436686.308379532,-4264610.714385807,-4430672.199086854,-4406559.899407697,-4435048.158268433,-4441426.087898948,7505779.737767736,-4436136.909890062,-4442240.611787097,-4428394.71549834,-4383018.636786712,-4433630.909434248,-4435179.904035183,-4435739.0503936345,-4422334.268532131,-4419939.324414843,-4426453.71583894,-4436852.223706534,-4408129.252406262,51253690.46018547,-4432931.275282501,-4199915.353982956,-4433246.789624514,-4442308.7284501055,-4442148.2151693925,-4423407.1868004,-4442316.0207656715,-4438439.936322461,-4433998.376164579,-4442305.503881131,-4438845.203994588,-4442298.013392569,-4434922.160979271,-4442306.055526608,133382585.33956665,-4438624.727542585,-4442314.693549064,-4440483.785131539,-4096630.993081332,-4437632.038011213,-4442148.738945817,-4438534.818534891,-4442316.933835533,-4437928.150496528,-4437648.630129152,-4419078.68548318,-4420158.326984766,-3535677.56476971,-4442116.747740012,-4430092.81154234,-4442328.8862053305,62216031.90838335,-4277401.635083509,-4434130.977005615,-4442055.200565662,35732505.97429483,-4441666.009723511,-4429358.803775834],\"xaxis\":\"x\",\"y\":[-906.7215649732868,-900.1458584490674,-937.348378131374,-913.2228681975795,-941.8068882110798,-748.8286347465875,-906.7592733810133,36465.98035994127,-925.3694518946455,-799.3384952310535,-919.800905144205,-965.5089728344926,-908.3759004963,-1075.1613835151088,-913.9142359592137,-930.6620124525859,-930.4937027347258,-902.4226407215114,-383.94048971798884,-924.8135498759115,-1137.5252419091928,-953.2936301405842,-907.1032471768069,-2844.341971440903,-908.3961125284716,-1092.2291591847281,-914.8215133133226,-983.5084451657737,-966.3233029455795,-1028.9987349867406,-880.5041504170916,-927.8613671415,-890.5120686571087,-926.6658157786877,-911.7566510815712,-956.5223038108866,-920.807898636731,-906.8148425195113,-896.4021140701476,17289.663924677916,-1461.7340490137235,-997.7901760231961,-953.8169744054388,-990.2675112085279,-963.1285218990081,-1016.1384625921354,-957.8812339955465,-996.8435654199801,-940.4269535322779,-917.4048567283481,-962.2048936325875,-899.602978895146,-942.1667912878942,-924.9057295485624,-906.9388631919055,-1255.9968061279467,31544.46642004597,-900.6575213328438,-42132.46516194277,-3033.7935249132556,-935.9585057727231,-905.2557517137833,-945.7574303558875,-1072.6214704695692,-939.4515383418077,-922.1072635084404,-907.8840872227265,-918.84067488216,-941.7687323573709,-858.7482757643776,-950.5246319382037,-921.354255904268,-931.2524362690928,-1717.6676797730086,-1021.515586302454,-932.678537985348,18394.104554341593,-914.6062233042152,-905.7567404526847,-1086.7480702729179,-989.9073068896538,67630.18245295201,-920.05861629645,-1329.0344793756856,-901.7225053948919,-951.9476262006884,-929.6406443463643,-904.3728851581301,-8607.067234529379,-923.5280972583145,-964.8920990195645,-909.6775211231449,-1015.7646574039375,-927.7359695061635,-931.3108323301292,-918.3661236777492,-996.0047079836047,-947.8334980556887,-900.6440750025757,-937.6866999971608,-986.8120262530298,7208.390352217782,-921.7287100117924,-807.9069303209653,-933.1969506476876,-1133.9623728943038,-968.0148653958524,-1055.438031881548,-964.5321463379232,-935.6379464903657,-896.899579809645,-946.4699418939806,-903.4737671924955,-968.5412504082249,-924.273430782075,-966.934426111557,-43803.89661692112,-905.4719707403192,-970.5118646549117,-904.7546850213138,-1068.1455034025005,-2212.696203301398,-906.5619476465512,-925.0849164626853,-1001.6805816129526,-907.9566404657724,-922.6701003211732,-889.7365577243837,-897.78851071207,-840.3403676355672,-907.9672849564388,-908.9511613327902,-968.5201482426584,1666.4825972969725,-682.6310034072776,-922.4391178476063,-956.9472607788542,43402.56119148637,-958.3851991077261,-2243.990008828172],\"yaxis\":\"y\"}],                        {\"coloraxis\":{\"colorbar\":{\"title\":{\"text\":\"color\"}},\"colorscale\":[[0.0,\"#0d0887\"],[0.1111111111111111,\"#46039f\"],[0.2222222222222222,\"#7201a8\"],[0.3333333333333333,\"#9c179e\"],[0.4444444444444444,\"#bd3786\"],[0.5555555555555556,\"#d8576b\"],[0.6666666666666666,\"#ed7953\"],[0.7777777777777778,\"#fb9f3a\"],[0.8888888888888888,\"#fdca26\"],[1.0,\"#f0f921\"]]},\"height\":400,\"legend\":{\"tracegroupgap\":0},\"margin\":{\"t\":60},\"template\":{\"data\":{\"bar\":[{\"error_x\":{\"color\":\"#2a3f5f\"},\"error_y\":{\"color\":\"#2a3f5f\"},\"marker\":{\"line\":{\"color\":\"#E5ECF6\",\"width\":0.5},\"pattern\":{\"fillmode\":\"overlay\",\"size\":10,\"solidity\":0.2}},\"type\":\"bar\"}],\"barpolar\":[{\"marker\":{\"line\":{\"color\":\"#E5ECF6\",\"width\":0.5},\"pattern\":{\"fillmode\":\"overlay\",\"size\":10,\"solidity\":0.2}},\"type\":\"barpolar\"}],\"carpet\":[{\"aaxis\":{\"endlinecolor\":\"#2a3f5f\",\"gridcolor\":\"white\",\"linecolor\":\"white\",\"minorgridcolor\":\"white\",\"startlinecolor\":\"#2a3f5f\"},\"baxis\":{\"endlinecolor\":\"#2a3f5f\",\"gridcolor\":\"white\",\"linecolor\":\"white\",\"minorgridcolor\":\"white\",\"startlinecolor\":\"#2a3f5f\"},\"type\":\"carpet\"}],\"choropleth\":[{\"colorbar\":{\"outlinewidth\":0,\"ticks\":\"\"},\"type\":\"choropleth\"}],\"contour\":[{\"colorbar\":{\"outlinewidth\":0,\"ticks\":\"\"},\"colorscale\":[[0.0,\"#0d0887\"],[0.1111111111111111,\"#46039f\"],[0.2222222222222222,\"#7201a8\"],[0.3333333333333333,\"#9c179e\"],[0.4444444444444444,\"#bd3786\"],[0.5555555555555556,\"#d8576b\"],[0.6666666666666666,\"#ed7953\"],[0.7777777777777778,\"#fb9f3a\"],[0.8888888888888888,\"#fdca26\"],[1.0,\"#f0f921\"]],\"type\":\"contour\"}],\"contourcarpet\":[{\"colorbar\":{\"outlinewidth\":0,\"ticks\":\"\"},\"type\":\"contourcarpet\"}],\"heatmap\":[{\"colorbar\":{\"outlinewidth\":0,\"ticks\":\"\"},\"colorscale\":[[0.0,\"#0d0887\"],[0.1111111111111111,\"#46039f\"],[0.2222222222222222,\"#7201a8\"],[0.3333333333333333,\"#9c179e\"],[0.4444444444444444,\"#bd3786\"],[0.5555555555555556,\"#d8576b\"],[0.6666666666666666,\"#ed7953\"],[0.7777777777777778,\"#fb9f3a\"],[0.8888888888888888,\"#fdca26\"],[1.0,\"#f0f921\"]],\"type\":\"heatmap\"}],\"heatmapgl\":[{\"colorbar\":{\"outlinewidth\":0,\"ticks\":\"\"},\"colorscale\":[[0.0,\"#0d0887\"],[0.1111111111111111,\"#46039f\"],[0.2222222222222222,\"#7201a8\"],[0.3333333333333333,\"#9c179e\"],[0.4444444444444444,\"#bd3786\"],[0.5555555555555556,\"#d8576b\"],[0.6666666666666666,\"#ed7953\"],[0.7777777777777778,\"#fb9f3a\"],[0.8888888888888888,\"#fdca26\"],[1.0,\"#f0f921\"]],\"type\":\"heatmapgl\"}],\"histogram\":[{\"marker\":{\"pattern\":{\"fillmode\":\"overlay\",\"size\":10,\"solidity\":0.2}},\"type\":\"histogram\"}],\"histogram2d\":[{\"colorbar\":{\"outlinewidth\":0,\"ticks\":\"\"},\"colorscale\":[[0.0,\"#0d0887\"],[0.1111111111111111,\"#46039f\"],[0.2222222222222222,\"#7201a8\"],[0.3333333333333333,\"#9c179e\"],[0.4444444444444444,\"#bd3786\"],[0.5555555555555556,\"#d8576b\"],[0.6666666666666666,\"#ed7953\"],[0.7777777777777778,\"#fb9f3a\"],[0.8888888888888888,\"#fdca26\"],[1.0,\"#f0f921\"]],\"type\":\"histogram2d\"}],\"histogram2dcontour\":[{\"colorbar\":{\"outlinewidth\":0,\"ticks\":\"\"},\"colorscale\":[[0.0,\"#0d0887\"],[0.1111111111111111,\"#46039f\"],[0.2222222222222222,\"#7201a8\"],[0.3333333333333333,\"#9c179e\"],[0.4444444444444444,\"#bd3786\"],[0.5555555555555556,\"#d8576b\"],[0.6666666666666666,\"#ed7953\"],[0.7777777777777778,\"#fb9f3a\"],[0.8888888888888888,\"#fdca26\"],[1.0,\"#f0f921\"]],\"type\":\"histogram2dcontour\"}],\"mesh3d\":[{\"colorbar\":{\"outlinewidth\":0,\"ticks\":\"\"},\"type\":\"mesh3d\"}],\"parcoords\":[{\"line\":{\"colorbar\":{\"outlinewidth\":0,\"ticks\":\"\"}},\"type\":\"parcoords\"}],\"pie\":[{\"automargin\":true,\"type\":\"pie\"}],\"scatter\":[{\"marker\":{\"colorbar\":{\"outlinewidth\":0,\"ticks\":\"\"}},\"type\":\"scatter\"}],\"scatter3d\":[{\"line\":{\"colorbar\":{\"outlinewidth\":0,\"ticks\":\"\"}},\"marker\":{\"colorbar\":{\"outlinewidth\":0,\"ticks\":\"\"}},\"type\":\"scatter3d\"}],\"scattercarpet\":[{\"marker\":{\"colorbar\":{\"outlinewidth\":0,\"ticks\":\"\"}},\"type\":\"scattercarpet\"}],\"scattergeo\":[{\"marker\":{\"colorbar\":{\"outlinewidth\":0,\"ticks\":\"\"}},\"type\":\"scattergeo\"}],\"scattergl\":[{\"marker\":{\"colorbar\":{\"outlinewidth\":0,\"ticks\":\"\"}},\"type\":\"scattergl\"}],\"scattermapbox\":[{\"marker\":{\"colorbar\":{\"outlinewidth\":0,\"ticks\":\"\"}},\"type\":\"scattermapbox\"}],\"scatterpolar\":[{\"marker\":{\"colorbar\":{\"outlinewidth\":0,\"ticks\":\"\"}},\"type\":\"scatterpolar\"}],\"scatterpolargl\":[{\"marker\":{\"colorbar\":{\"outlinewidth\":0,\"ticks\":\"\"}},\"type\":\"scatterpolargl\"}],\"scatterternary\":[{\"marker\":{\"colorbar\":{\"outlinewidth\":0,\"ticks\":\"\"}},\"type\":\"scatterternary\"}],\"surface\":[{\"colorbar\":{\"outlinewidth\":0,\"ticks\":\"\"},\"colorscale\":[[0.0,\"#0d0887\"],[0.1111111111111111,\"#46039f\"],[0.2222222222222222,\"#7201a8\"],[0.3333333333333333,\"#9c179e\"],[0.4444444444444444,\"#bd3786\"],[0.5555555555555556,\"#d8576b\"],[0.6666666666666666,\"#ed7953\"],[0.7777777777777778,\"#fb9f3a\"],[0.8888888888888888,\"#fdca26\"],[1.0,\"#f0f921\"]],\"type\":\"surface\"}],\"table\":[{\"cells\":{\"fill\":{\"color\":\"#EBF0F8\"},\"line\":{\"color\":\"white\"}},\"header\":{\"fill\":{\"color\":\"#C8D4E3\"},\"line\":{\"color\":\"white\"}},\"type\":\"table\"}]},\"layout\":{\"annotationdefaults\":{\"arrowcolor\":\"#2a3f5f\",\"arrowhead\":0,\"arrowwidth\":1},\"autotypenumbers\":\"strict\",\"coloraxis\":{\"colorbar\":{\"outlinewidth\":0,\"ticks\":\"\"}},\"colorscale\":{\"diverging\":[[0,\"#8e0152\"],[0.1,\"#c51b7d\"],[0.2,\"#de77ae\"],[0.3,\"#f1b6da\"],[0.4,\"#fde0ef\"],[0.5,\"#f7f7f7\"],[0.6,\"#e6f5d0\"],[0.7,\"#b8e186\"],[0.8,\"#7fbc41\"],[0.9,\"#4d9221\"],[1,\"#276419\"]],\"sequential\":[[0.0,\"#0d0887\"],[0.1111111111111111,\"#46039f\"],[0.2222222222222222,\"#7201a8\"],[0.3333333333333333,\"#9c179e\"],[0.4444444444444444,\"#bd3786\"],[0.5555555555555556,\"#d8576b\"],[0.6666666666666666,\"#ed7953\"],[0.7777777777777778,\"#fb9f3a\"],[0.8888888888888888,\"#fdca26\"],[1.0,\"#f0f921\"]],\"sequentialminus\":[[0.0,\"#0d0887\"],[0.1111111111111111,\"#46039f\"],[0.2222222222222222,\"#7201a8\"],[0.3333333333333333,\"#9c179e\"],[0.4444444444444444,\"#bd3786\"],[0.5555555555555556,\"#d8576b\"],[0.6666666666666666,\"#ed7953\"],[0.7777777777777778,\"#fb9f3a\"],[0.8888888888888888,\"#fdca26\"],[1.0,\"#f0f921\"]]},\"colorway\":[\"#636efa\",\"#EF553B\",\"#00cc96\",\"#ab63fa\",\"#FFA15A\",\"#19d3f3\",\"#FF6692\",\"#B6E880\",\"#FF97FF\",\"#FECB52\"],\"font\":{\"color\":\"#2a3f5f\"},\"geo\":{\"bgcolor\":\"white\",\"lakecolor\":\"white\",\"landcolor\":\"#E5ECF6\",\"showlakes\":true,\"showland\":true,\"subunitcolor\":\"white\"},\"hoverlabel\":{\"align\":\"left\"},\"hovermode\":\"closest\",\"mapbox\":{\"style\":\"light\"},\"paper_bgcolor\":\"white\",\"plot_bgcolor\":\"#E5ECF6\",\"polar\":{\"angularaxis\":{\"gridcolor\":\"white\",\"linecolor\":\"white\",\"ticks\":\"\"},\"bgcolor\":\"#E5ECF6\",\"radialaxis\":{\"gridcolor\":\"white\",\"linecolor\":\"white\",\"ticks\":\"\"}},\"scene\":{\"xaxis\":{\"backgroundcolor\":\"#E5ECF6\",\"gridcolor\":\"white\",\"gridwidth\":2,\"linecolor\":\"white\",\"showbackground\":true,\"ticks\":\"\",\"zerolinecolor\":\"white\"},\"yaxis\":{\"backgroundcolor\":\"#E5ECF6\",\"gridcolor\":\"white\",\"gridwidth\":2,\"linecolor\":\"white\",\"showbackground\":true,\"ticks\":\"\",\"zerolinecolor\":\"white\"},\"zaxis\":{\"backgroundcolor\":\"#E5ECF6\",\"gridcolor\":\"white\",\"gridwidth\":2,\"linecolor\":\"white\",\"showbackground\":true,\"ticks\":\"\",\"zerolinecolor\":\"white\"}},\"shapedefaults\":{\"line\":{\"color\":\"#2a3f5f\"}},\"ternary\":{\"aaxis\":{\"gridcolor\":\"white\",\"linecolor\":\"white\",\"ticks\":\"\"},\"baxis\":{\"gridcolor\":\"white\",\"linecolor\":\"white\",\"ticks\":\"\"},\"bgcolor\":\"#E5ECF6\",\"caxis\":{\"gridcolor\":\"white\",\"linecolor\":\"white\",\"ticks\":\"\"}},\"title\":{\"x\":0.05},\"xaxis\":{\"automargin\":true,\"gridcolor\":\"white\",\"linecolor\":\"white\",\"ticks\":\"\",\"title\":{\"standoff\":15},\"zerolinecolor\":\"white\",\"zerolinewidth\":2},\"yaxis\":{\"automargin\":true,\"gridcolor\":\"white\",\"linecolor\":\"white\",\"ticks\":\"\",\"title\":{\"standoff\":15},\"zerolinecolor\":\"white\",\"zerolinewidth\":2}}},\"width\":500,\"xaxis\":{\"anchor\":\"y\",\"domain\":[0.0,1.0],\"title\":{\"text\":\"0\"}},\"yaxis\":{\"anchor\":\"x\",\"domain\":[0.0,1.0],\"title\":{\"text\":\"1\"}}},                        {\"responsive\": true}                    ).then(function(){\n",
       "                            \n",
       "var gd = document.getElementById('92556afb-1a84-4084-8f0c-98e0c482ae77');\n",
       "var x = new MutationObserver(function (mutations, observer) {{\n",
       "        var display = window.getComputedStyle(gd).display;\n",
       "        if (!display || display === 'none') {{\n",
       "            console.log([gd, 'removed!']);\n",
       "            Plotly.purge(gd);\n",
       "            observer.disconnect();\n",
       "        }}\n",
       "}});\n",
       "\n",
       "// Listen for the removal of the full notebook cells\n",
       "var notebookContainer = gd.closest('#notebook-container');\n",
       "if (notebookContainer) {{\n",
       "    x.observe(notebookContainer, {childList: true});\n",
       "}}\n",
       "\n",
       "// Listen for the clearing of the current output cell\n",
       "var outputEl = gd.closest('.output');\n",
       "if (outputEl) {{\n",
       "    x.observe(outputEl, {childList: true});\n",
       "}}\n",
       "\n",
       "                        })                };                });            </script>        </div>"
      ]
     },
     "metadata": {},
     "output_type": "display_data"
    }
   ],
   "source": [
    "components_svc = pca(svc_pred, X_test)\n",
    "visu_pca(components_svc, svc_pred)"
   ]
  },
  {
   "cell_type": "code",
   "execution_count": 242,
   "id": "6acfed31",
   "metadata": {},
   "outputs": [
    {
     "data": {
      "application/vnd.plotly.v1+json": {
       "config": {
        "plotlyServerURL": "https://plot.ly"
       },
       "data": [
        {
         "hovertemplate": "0=%{x}<br>1=%{y}<br>color=%{marker.color}<extra></extra>",
         "legendgroup": "",
         "marker": {
          "color": [
           2,
           2,
           3,
           1,
           6,
           0,
           4,
           0,
           1,
           5,
           3,
           4,
           4,
           2,
           1,
           6,
           3,
           2,
           0,
           6,
           5,
           6,
           4,
           5,
           4,
           5,
           0,
           4,
           4,
           2,
           6,
           3,
           2,
           3,
           3,
           4,
           2,
           4,
           5,
           0,
           2,
           1,
           6,
           3,
           0,
           5,
           6,
           2,
           6,
           1,
           1,
           1,
           1,
           1,
           4,
           4,
           0,
           2,
           0,
           0,
           3,
           2,
           3,
           5,
           6,
           3,
           4,
           3,
           6,
           2,
           6,
           6,
           3,
           0,
           1,
           6,
           0,
           1,
           4,
           5,
           1,
           0,
           3,
           2,
           3,
           6,
           3,
           4,
           0,
           3,
           3,
           1,
           6,
           6,
           3,
           1,
           2,
           2,
           5,
           5,
           2,
           0,
           3,
           6,
           6,
           5,
           6,
           5,
           1,
           6,
           3,
           4,
           4,
           3,
           1,
           6,
           0,
           4,
           3,
           4,
           0,
           5,
           4,
           3,
           3,
           2,
           3,
           5,
           1,
           0,
           4,
           1,
           4,
           0,
           5,
           1,
           4,
           0,
           3,
           5
          ],
          "coloraxis": "coloraxis",
          "symbol": "circle"
         },
         "mode": "markers",
         "name": "",
         "orientation": "v",
         "showlegend": false,
         "type": "scatter",
         "x": [
          -4437896.67452778,
          -4420919.669499182,
          -4435012.73006379,
          -4432636.37258791,
          -4441595.188825807,
          -3595834.12186605,
          -4442052.253932283,
          30694118.490275845,
          -4434606.7993731005,
          -4350853.688374481,
          -4436674.179760732,
          -4442038.792588254,
          -4442226.837482085,
          -4441079.430522829,
          -4429990.744089745,
          -4436581.863912538,
          -4435185.631365782,
          -4436156.775680491,
          -4058312.82586139,
          -4423396.846726984,
          -4434252.107679827,
          -4442315.086533931,
          -4442239.569941153,
          -4441042.3689670805,
          -4441804.145100017,
          -4414871.7657681415,
          -4321210.340463338,
          -4442143.242128261,
          -4442314.22084307,
          -4402639.34886607,
          -4368305.539510675,
          -4437909.078799593,
          -4422709.086930001,
          -4436232.093231899,
          -4428611.922202075,
          -4441820.3788502,
          -4439177.377938505,
          -4441817.718038832,
          -4432327.40582943,
          33997556.08145006,
          -4332643.215887682,
          -4442227.913193822,
          -4439113.97747035,
          -4442275.68101219,
          -4442241.075684172,
          -4427606.026566907,
          -4442139.091751448,
          -4403534.019604889,
          -4385476.648747751,
          -4433968.306285985,
          -4442205.864688852,
          -4413925.575977233,
          -4438620.727640932,
          -4434177.987628761,
          -4441884.631465981,
          -4442302.127233345,
          31957256.74294363,
          -4432718.219532248,
          96641112.93783234,
          -2743474.8490154115,
          -4436187.103476283,
          -4421167.147986518,
          -4439160.717175093,
          -4438758.809504753,
          -4432702.879633578,
          -4429235.708676086,
          -4441723.067177668,
          -4430942.055239074,
          -4432838.914570404,
          -4382017.618389687,
          -4394937.806172358,
          -4435984.657465617,
          -4435216.586126579,
          -3077804.7104335255,
          -4442307.95847448,
          -4430552.438617339,
          17746412.507806074,
          -4434186.171401236,
          -4441625.048088321,
          -4441298.085776779,
          -4442291.923291882,
          64341990.25984804,
          -4436686.308379509,
          -4264610.714385745,
          -4430672.199086835,
          -4406559.899407801,
          -4435048.158268413,
          -4441426.08789897,
          7505779.737767582,
          -4436136.909890042,
          -4442240.611787074,
          -4428394.715498235,
          -4383018.636786818,
          -4433630.909434352,
          -4435179.904035164,
          -4435739.050393532,
          -4422334.2685320685,
          -4419939.324414782,
          -4426453.715839003,
          -4436852.223706598,
          -4408129.252406199,
          51253690.46018537,
          -4432931.275282482,
          -4199915.353983061,
          -4433246.789624618,
          -4442308.728450167,
          -4442148.215169499,
          -4423407.186800463,
          -4442316.020765568,
          -4438439.936322564,
          -4433998.376164558,
          -4442305.503881152,
          -4438845.203994609,
          -4442298.013392547,
          -4434922.1609791685,
          -4442306.055526712,
          133382585.33956663,
          -4438624.727542605,
          -4442314.6935490435,
          -4440483.785131562,
          -4096630.9930811864,
          -4437632.038011273,
          -4442148.738945837,
          -4438534.818534871,
          -4442316.933835513,
          -4437928.150496466,
          -4437648.6301291315,
          -4419078.685483243,
          -4420158.3269846635,
          -3535677.5647695633,
          -4442116.747740032,
          -4430092.811542236,
          -4442328.886205352,
          62216031.90838326,
          -4277401.635083572,
          -4434130.977005511,
          -4442055.200565685,
          35732505.9742947,
          -4441666.00972349,
          -4429358.803775894
         ],
         "xaxis": "x",
         "y": [
          -906.7215191091335,
          -900.145812319848,
          -937.3483647272002,
          -913.2227908465094,
          -941.8069700810534,
          -748.8285235452831,
          -906.7592909297609,
          36465.98031019237,
          -925.3693745078132,
          -799.3385453954538,
          -919.8008912140531,
          -965.5089922511905,
          -908.3759180950539,
          -1075.1613420126448,
          -913.9141583628477,
          -930.6620938016368,
          -930.4936887630091,
          -902.4225946698557,
          -383.9403790687302,
          -924.8136310724364,
          -1137.525300021794,
          -953.2937119809845,
          -907.1032647288786,
          -2844.342093065717,
          -908.3961301455975,
          -1092.229216844517,
          -914.8214034206123,
          -983.5084652730562,
          -966.3233223336158,
          -1028.998689564063,
          -880.5042313196459,
          -927.8613535620815,
          -890.5120225532684,
          -926.6658022649333,
          -911.7566368715162,
          -956.5223226387005,
          -920.8078528325868,
          -906.8148600752348,
          -896.4021634706651,
          17289.663868671083,
          -1461.7340031182227,
          -997.7901014092737,
          -953.8170570777786,
          -990.2674997967138,
          -963.1284141389982,
          -1016.1385162316391,
          -957.8813161677895,
          -996.843520517781,
          -940.4270344867991,
          -917.4047790352088,
          -962.2048176271269,
          -899.6029010248345,
          -942.1667147626382,
          -924.905652044583,
          -906.9388807442226,
          -1255.9968366079243,
          31544.466369384147,
          -900.6574752462435,
          -42132.4651499098,
          -3033.793413691097,
          -935.9584921664899,
          -905.2557056273049,
          -945.7574176754111,
          -1072.621525636499,
          -939.4516194510194,
          -922.1072497849709,
          -907.884104792898,
          -918.8406609771594,
          -941.7688135364785,
          -858.7482297425128,
          -950.5247129257749,
          -921.3543372127858,
          -931.2524226281492,
          -1717.6675682942557,
          -1021.5155125823425,
          -932.6786191275663,
          18394.10447184041,
          -914.606145597348,
          -905.7567579680943,
          -1086.748126016823,
          -989.9072319568803,
          67630.1824785407,
          -920.0586024274295,
          -1329.0344332189488,
          -901.722491268941,
          -951.9477072175206,
          -929.6406309071251,
          -904.3729026046109,
          -8607.067350687574,
          -923.5280835719983,
          -964.8920865727786,
          -909.6774433549621,
          -1015.7647383896913,
          -927.7360507659444,
          -931.3108187876716,
          -918.3660460985645,
          -996.0046624875728,
          -947.8334525971039,
          -900.6441244792481,
          -937.686750555616,
          -986.8119801497115,
          7208.390318820661,
          -921.7286963532644,
          -807.9070108721475,
          -933.1970317992287,
          -1133.9624305983434,
          -968.014947952525,
          -1055.438086258311,
          -964.5320703672851,
          -935.6380280378105,
          -896.8995654784549,
          -946.4699606373047,
          -903.4737847510728,
          -968.5412381221244,
          -924.2733532831013,
          -966.9345089498951,
          -43803.896544582414,
          -905.4719883276996,
          -970.5118523865779,
          -904.754702474421,
          -1068.1453932265995,
          -2212.6963016237983,
          -906.5619651795867,
          -925.0849027900053,
          -1001.6805706069171,
          -907.9565943748371,
          -922.6700864420604,
          -889.7366070177766,
          -897.7884328886286,
          -840.3402563817589,
          -907.9673025427629,
          -908.9510835897008,
          -968.5201680800006,
          1666.4825787971688,
          -682.6310524741372,
          -922.4390402371367,
          -956.947279473497,
          43402.56115437811,
          -958.3851864666077,
          -2243.9901087736926
         ],
         "yaxis": "y"
        }
       ],
       "layout": {
        "coloraxis": {
         "colorbar": {
          "title": {
           "text": "color"
          }
         },
         "colorscale": [
          [
           0,
           "#0d0887"
          ],
          [
           0.1111111111111111,
           "#46039f"
          ],
          [
           0.2222222222222222,
           "#7201a8"
          ],
          [
           0.3333333333333333,
           "#9c179e"
          ],
          [
           0.4444444444444444,
           "#bd3786"
          ],
          [
           0.5555555555555556,
           "#d8576b"
          ],
          [
           0.6666666666666666,
           "#ed7953"
          ],
          [
           0.7777777777777778,
           "#fb9f3a"
          ],
          [
           0.8888888888888888,
           "#fdca26"
          ],
          [
           1,
           "#f0f921"
          ]
         ]
        },
        "height": 400,
        "legend": {
         "tracegroupgap": 0
        },
        "margin": {
         "t": 60
        },
        "template": {
         "data": {
          "bar": [
           {
            "error_x": {
             "color": "#2a3f5f"
            },
            "error_y": {
             "color": "#2a3f5f"
            },
            "marker": {
             "line": {
              "color": "#E5ECF6",
              "width": 0.5
             },
             "pattern": {
              "fillmode": "overlay",
              "size": 10,
              "solidity": 0.2
             }
            },
            "type": "bar"
           }
          ],
          "barpolar": [
           {
            "marker": {
             "line": {
              "color": "#E5ECF6",
              "width": 0.5
             },
             "pattern": {
              "fillmode": "overlay",
              "size": 10,
              "solidity": 0.2
             }
            },
            "type": "barpolar"
           }
          ],
          "carpet": [
           {
            "aaxis": {
             "endlinecolor": "#2a3f5f",
             "gridcolor": "white",
             "linecolor": "white",
             "minorgridcolor": "white",
             "startlinecolor": "#2a3f5f"
            },
            "baxis": {
             "endlinecolor": "#2a3f5f",
             "gridcolor": "white",
             "linecolor": "white",
             "minorgridcolor": "white",
             "startlinecolor": "#2a3f5f"
            },
            "type": "carpet"
           }
          ],
          "choropleth": [
           {
            "colorbar": {
             "outlinewidth": 0,
             "ticks": ""
            },
            "type": "choropleth"
           }
          ],
          "contour": [
           {
            "colorbar": {
             "outlinewidth": 0,
             "ticks": ""
            },
            "colorscale": [
             [
              0,
              "#0d0887"
             ],
             [
              0.1111111111111111,
              "#46039f"
             ],
             [
              0.2222222222222222,
              "#7201a8"
             ],
             [
              0.3333333333333333,
              "#9c179e"
             ],
             [
              0.4444444444444444,
              "#bd3786"
             ],
             [
              0.5555555555555556,
              "#d8576b"
             ],
             [
              0.6666666666666666,
              "#ed7953"
             ],
             [
              0.7777777777777778,
              "#fb9f3a"
             ],
             [
              0.8888888888888888,
              "#fdca26"
             ],
             [
              1,
              "#f0f921"
             ]
            ],
            "type": "contour"
           }
          ],
          "contourcarpet": [
           {
            "colorbar": {
             "outlinewidth": 0,
             "ticks": ""
            },
            "type": "contourcarpet"
           }
          ],
          "heatmap": [
           {
            "colorbar": {
             "outlinewidth": 0,
             "ticks": ""
            },
            "colorscale": [
             [
              0,
              "#0d0887"
             ],
             [
              0.1111111111111111,
              "#46039f"
             ],
             [
              0.2222222222222222,
              "#7201a8"
             ],
             [
              0.3333333333333333,
              "#9c179e"
             ],
             [
              0.4444444444444444,
              "#bd3786"
             ],
             [
              0.5555555555555556,
              "#d8576b"
             ],
             [
              0.6666666666666666,
              "#ed7953"
             ],
             [
              0.7777777777777778,
              "#fb9f3a"
             ],
             [
              0.8888888888888888,
              "#fdca26"
             ],
             [
              1,
              "#f0f921"
             ]
            ],
            "type": "heatmap"
           }
          ],
          "heatmapgl": [
           {
            "colorbar": {
             "outlinewidth": 0,
             "ticks": ""
            },
            "colorscale": [
             [
              0,
              "#0d0887"
             ],
             [
              0.1111111111111111,
              "#46039f"
             ],
             [
              0.2222222222222222,
              "#7201a8"
             ],
             [
              0.3333333333333333,
              "#9c179e"
             ],
             [
              0.4444444444444444,
              "#bd3786"
             ],
             [
              0.5555555555555556,
              "#d8576b"
             ],
             [
              0.6666666666666666,
              "#ed7953"
             ],
             [
              0.7777777777777778,
              "#fb9f3a"
             ],
             [
              0.8888888888888888,
              "#fdca26"
             ],
             [
              1,
              "#f0f921"
             ]
            ],
            "type": "heatmapgl"
           }
          ],
          "histogram": [
           {
            "marker": {
             "pattern": {
              "fillmode": "overlay",
              "size": 10,
              "solidity": 0.2
             }
            },
            "type": "histogram"
           }
          ],
          "histogram2d": [
           {
            "colorbar": {
             "outlinewidth": 0,
             "ticks": ""
            },
            "colorscale": [
             [
              0,
              "#0d0887"
             ],
             [
              0.1111111111111111,
              "#46039f"
             ],
             [
              0.2222222222222222,
              "#7201a8"
             ],
             [
              0.3333333333333333,
              "#9c179e"
             ],
             [
              0.4444444444444444,
              "#bd3786"
             ],
             [
              0.5555555555555556,
              "#d8576b"
             ],
             [
              0.6666666666666666,
              "#ed7953"
             ],
             [
              0.7777777777777778,
              "#fb9f3a"
             ],
             [
              0.8888888888888888,
              "#fdca26"
             ],
             [
              1,
              "#f0f921"
             ]
            ],
            "type": "histogram2d"
           }
          ],
          "histogram2dcontour": [
           {
            "colorbar": {
             "outlinewidth": 0,
             "ticks": ""
            },
            "colorscale": [
             [
              0,
              "#0d0887"
             ],
             [
              0.1111111111111111,
              "#46039f"
             ],
             [
              0.2222222222222222,
              "#7201a8"
             ],
             [
              0.3333333333333333,
              "#9c179e"
             ],
             [
              0.4444444444444444,
              "#bd3786"
             ],
             [
              0.5555555555555556,
              "#d8576b"
             ],
             [
              0.6666666666666666,
              "#ed7953"
             ],
             [
              0.7777777777777778,
              "#fb9f3a"
             ],
             [
              0.8888888888888888,
              "#fdca26"
             ],
             [
              1,
              "#f0f921"
             ]
            ],
            "type": "histogram2dcontour"
           }
          ],
          "mesh3d": [
           {
            "colorbar": {
             "outlinewidth": 0,
             "ticks": ""
            },
            "type": "mesh3d"
           }
          ],
          "parcoords": [
           {
            "line": {
             "colorbar": {
              "outlinewidth": 0,
              "ticks": ""
             }
            },
            "type": "parcoords"
           }
          ],
          "pie": [
           {
            "automargin": true,
            "type": "pie"
           }
          ],
          "scatter": [
           {
            "marker": {
             "colorbar": {
              "outlinewidth": 0,
              "ticks": ""
             }
            },
            "type": "scatter"
           }
          ],
          "scatter3d": [
           {
            "line": {
             "colorbar": {
              "outlinewidth": 0,
              "ticks": ""
             }
            },
            "marker": {
             "colorbar": {
              "outlinewidth": 0,
              "ticks": ""
             }
            },
            "type": "scatter3d"
           }
          ],
          "scattercarpet": [
           {
            "marker": {
             "colorbar": {
              "outlinewidth": 0,
              "ticks": ""
             }
            },
            "type": "scattercarpet"
           }
          ],
          "scattergeo": [
           {
            "marker": {
             "colorbar": {
              "outlinewidth": 0,
              "ticks": ""
             }
            },
            "type": "scattergeo"
           }
          ],
          "scattergl": [
           {
            "marker": {
             "colorbar": {
              "outlinewidth": 0,
              "ticks": ""
             }
            },
            "type": "scattergl"
           }
          ],
          "scattermapbox": [
           {
            "marker": {
             "colorbar": {
              "outlinewidth": 0,
              "ticks": ""
             }
            },
            "type": "scattermapbox"
           }
          ],
          "scatterpolar": [
           {
            "marker": {
             "colorbar": {
              "outlinewidth": 0,
              "ticks": ""
             }
            },
            "type": "scatterpolar"
           }
          ],
          "scatterpolargl": [
           {
            "marker": {
             "colorbar": {
              "outlinewidth": 0,
              "ticks": ""
             }
            },
            "type": "scatterpolargl"
           }
          ],
          "scatterternary": [
           {
            "marker": {
             "colorbar": {
              "outlinewidth": 0,
              "ticks": ""
             }
            },
            "type": "scatterternary"
           }
          ],
          "surface": [
           {
            "colorbar": {
             "outlinewidth": 0,
             "ticks": ""
            },
            "colorscale": [
             [
              0,
              "#0d0887"
             ],
             [
              0.1111111111111111,
              "#46039f"
             ],
             [
              0.2222222222222222,
              "#7201a8"
             ],
             [
              0.3333333333333333,
              "#9c179e"
             ],
             [
              0.4444444444444444,
              "#bd3786"
             ],
             [
              0.5555555555555556,
              "#d8576b"
             ],
             [
              0.6666666666666666,
              "#ed7953"
             ],
             [
              0.7777777777777778,
              "#fb9f3a"
             ],
             [
              0.8888888888888888,
              "#fdca26"
             ],
             [
              1,
              "#f0f921"
             ]
            ],
            "type": "surface"
           }
          ],
          "table": [
           {
            "cells": {
             "fill": {
              "color": "#EBF0F8"
             },
             "line": {
              "color": "white"
             }
            },
            "header": {
             "fill": {
              "color": "#C8D4E3"
             },
             "line": {
              "color": "white"
             }
            },
            "type": "table"
           }
          ]
         },
         "layout": {
          "annotationdefaults": {
           "arrowcolor": "#2a3f5f",
           "arrowhead": 0,
           "arrowwidth": 1
          },
          "autotypenumbers": "strict",
          "coloraxis": {
           "colorbar": {
            "outlinewidth": 0,
            "ticks": ""
           }
          },
          "colorscale": {
           "diverging": [
            [
             0,
             "#8e0152"
            ],
            [
             0.1,
             "#c51b7d"
            ],
            [
             0.2,
             "#de77ae"
            ],
            [
             0.3,
             "#f1b6da"
            ],
            [
             0.4,
             "#fde0ef"
            ],
            [
             0.5,
             "#f7f7f7"
            ],
            [
             0.6,
             "#e6f5d0"
            ],
            [
             0.7,
             "#b8e186"
            ],
            [
             0.8,
             "#7fbc41"
            ],
            [
             0.9,
             "#4d9221"
            ],
            [
             1,
             "#276419"
            ]
           ],
           "sequential": [
            [
             0,
             "#0d0887"
            ],
            [
             0.1111111111111111,
             "#46039f"
            ],
            [
             0.2222222222222222,
             "#7201a8"
            ],
            [
             0.3333333333333333,
             "#9c179e"
            ],
            [
             0.4444444444444444,
             "#bd3786"
            ],
            [
             0.5555555555555556,
             "#d8576b"
            ],
            [
             0.6666666666666666,
             "#ed7953"
            ],
            [
             0.7777777777777778,
             "#fb9f3a"
            ],
            [
             0.8888888888888888,
             "#fdca26"
            ],
            [
             1,
             "#f0f921"
            ]
           ],
           "sequentialminus": [
            [
             0,
             "#0d0887"
            ],
            [
             0.1111111111111111,
             "#46039f"
            ],
            [
             0.2222222222222222,
             "#7201a8"
            ],
            [
             0.3333333333333333,
             "#9c179e"
            ],
            [
             0.4444444444444444,
             "#bd3786"
            ],
            [
             0.5555555555555556,
             "#d8576b"
            ],
            [
             0.6666666666666666,
             "#ed7953"
            ],
            [
             0.7777777777777778,
             "#fb9f3a"
            ],
            [
             0.8888888888888888,
             "#fdca26"
            ],
            [
             1,
             "#f0f921"
            ]
           ]
          },
          "colorway": [
           "#636efa",
           "#EF553B",
           "#00cc96",
           "#ab63fa",
           "#FFA15A",
           "#19d3f3",
           "#FF6692",
           "#B6E880",
           "#FF97FF",
           "#FECB52"
          ],
          "font": {
           "color": "#2a3f5f"
          },
          "geo": {
           "bgcolor": "white",
           "lakecolor": "white",
           "landcolor": "#E5ECF6",
           "showlakes": true,
           "showland": true,
           "subunitcolor": "white"
          },
          "hoverlabel": {
           "align": "left"
          },
          "hovermode": "closest",
          "mapbox": {
           "style": "light"
          },
          "paper_bgcolor": "white",
          "plot_bgcolor": "#E5ECF6",
          "polar": {
           "angularaxis": {
            "gridcolor": "white",
            "linecolor": "white",
            "ticks": ""
           },
           "bgcolor": "#E5ECF6",
           "radialaxis": {
            "gridcolor": "white",
            "linecolor": "white",
            "ticks": ""
           }
          },
          "scene": {
           "xaxis": {
            "backgroundcolor": "#E5ECF6",
            "gridcolor": "white",
            "gridwidth": 2,
            "linecolor": "white",
            "showbackground": true,
            "ticks": "",
            "zerolinecolor": "white"
           },
           "yaxis": {
            "backgroundcolor": "#E5ECF6",
            "gridcolor": "white",
            "gridwidth": 2,
            "linecolor": "white",
            "showbackground": true,
            "ticks": "",
            "zerolinecolor": "white"
           },
           "zaxis": {
            "backgroundcolor": "#E5ECF6",
            "gridcolor": "white",
            "gridwidth": 2,
            "linecolor": "white",
            "showbackground": true,
            "ticks": "",
            "zerolinecolor": "white"
           }
          },
          "shapedefaults": {
           "line": {
            "color": "#2a3f5f"
           }
          },
          "ternary": {
           "aaxis": {
            "gridcolor": "white",
            "linecolor": "white",
            "ticks": ""
           },
           "baxis": {
            "gridcolor": "white",
            "linecolor": "white",
            "ticks": ""
           },
           "bgcolor": "#E5ECF6",
           "caxis": {
            "gridcolor": "white",
            "linecolor": "white",
            "ticks": ""
           }
          },
          "title": {
           "x": 0.05
          },
          "xaxis": {
           "automargin": true,
           "gridcolor": "white",
           "linecolor": "white",
           "ticks": "",
           "title": {
            "standoff": 15
           },
           "zerolinecolor": "white",
           "zerolinewidth": 2
          },
          "yaxis": {
           "automargin": true,
           "gridcolor": "white",
           "linecolor": "white",
           "ticks": "",
           "title": {
            "standoff": 15
           },
           "zerolinecolor": "white",
           "zerolinewidth": 2
          }
         }
        },
        "width": 500,
        "xaxis": {
         "anchor": "y",
         "domain": [
          0,
          1
         ],
         "title": {
          "text": "0"
         }
        },
        "yaxis": {
         "anchor": "x",
         "domain": [
          0,
          1
         ],
         "title": {
          "text": "1"
         }
        }
       }
      },
      "text/html": [
       "<div>                            <div id=\"2ffa02a7-4d33-4790-a7f4-f866a5045119\" class=\"plotly-graph-div\" style=\"height:400px; width:500px;\"></div>            <script type=\"text/javascript\">                require([\"plotly\"], function(Plotly) {                    window.PLOTLYENV=window.PLOTLYENV || {};                                    if (document.getElementById(\"2ffa02a7-4d33-4790-a7f4-f866a5045119\")) {                    Plotly.newPlot(                        \"2ffa02a7-4d33-4790-a7f4-f866a5045119\",                        [{\"hovertemplate\":\"0=%{x}<br>1=%{y}<br>color=%{marker.color}<extra></extra>\",\"legendgroup\":\"\",\"marker\":{\"color\":[2,2,3,1,6,0,4,0,1,5,3,4,4,2,1,6,3,2,0,6,5,6,4,5,4,5,0,4,4,2,6,3,2,3,3,4,2,4,5,0,2,1,6,3,0,5,6,2,6,1,1,1,1,1,4,4,0,2,0,0,3,2,3,5,6,3,4,3,6,2,6,6,3,0,1,6,0,1,4,5,1,0,3,2,3,6,3,4,0,3,3,1,6,6,3,1,2,2,5,5,2,0,3,6,6,5,6,5,1,6,3,4,4,3,1,6,0,4,3,4,0,5,4,3,3,2,3,5,1,0,4,1,4,0,5,1,4,0,3,5],\"coloraxis\":\"coloraxis\",\"symbol\":\"circle\"},\"mode\":\"markers\",\"name\":\"\",\"orientation\":\"v\",\"showlegend\":false,\"type\":\"scatter\",\"x\":[-4437896.67452778,-4420919.669499182,-4435012.73006379,-4432636.37258791,-4441595.188825807,-3595834.12186605,-4442052.253932283,30694118.490275845,-4434606.7993731005,-4350853.688374481,-4436674.179760732,-4442038.792588254,-4442226.837482085,-4441079.430522829,-4429990.744089745,-4436581.863912538,-4435185.631365782,-4436156.775680491,-4058312.82586139,-4423396.846726984,-4434252.107679827,-4442315.086533931,-4442239.569941153,-4441042.3689670805,-4441804.145100017,-4414871.7657681415,-4321210.340463338,-4442143.242128261,-4442314.22084307,-4402639.34886607,-4368305.539510675,-4437909.078799593,-4422709.086930001,-4436232.093231899,-4428611.922202075,-4441820.3788502,-4439177.377938505,-4441817.718038832,-4432327.40582943,33997556.08145006,-4332643.215887682,-4442227.913193822,-4439113.97747035,-4442275.68101219,-4442241.075684172,-4427606.026566907,-4442139.091751448,-4403534.019604889,-4385476.648747751,-4433968.306285985,-4442205.864688852,-4413925.575977233,-4438620.727640932,-4434177.987628761,-4441884.631465981,-4442302.127233345,31957256.74294363,-4432718.219532248,96641112.93783234,-2743474.8490154115,-4436187.103476283,-4421167.147986518,-4439160.717175093,-4438758.809504753,-4432702.879633578,-4429235.708676086,-4441723.067177668,-4430942.055239074,-4432838.914570404,-4382017.618389687,-4394937.806172358,-4435984.657465617,-4435216.586126579,-3077804.7104335255,-4442307.95847448,-4430552.438617339,17746412.507806074,-4434186.171401236,-4441625.048088321,-4441298.085776779,-4442291.923291882,64341990.25984804,-4436686.308379509,-4264610.714385745,-4430672.199086835,-4406559.899407801,-4435048.158268413,-4441426.08789897,7505779.737767582,-4436136.909890042,-4442240.611787074,-4428394.715498235,-4383018.636786818,-4433630.909434352,-4435179.904035164,-4435739.050393532,-4422334.2685320685,-4419939.324414782,-4426453.715839003,-4436852.223706598,-4408129.252406199,51253690.46018537,-4432931.275282482,-4199915.353983061,-4433246.789624618,-4442308.728450167,-4442148.215169499,-4423407.186800463,-4442316.020765568,-4438439.936322564,-4433998.376164558,-4442305.503881152,-4438845.203994609,-4442298.013392547,-4434922.1609791685,-4442306.055526712,133382585.33956663,-4438624.727542605,-4442314.6935490435,-4440483.785131562,-4096630.9930811864,-4437632.038011273,-4442148.738945837,-4438534.818534871,-4442316.933835513,-4437928.150496466,-4437648.6301291315,-4419078.685483243,-4420158.3269846635,-3535677.5647695633,-4442116.747740032,-4430092.811542236,-4442328.886205352,62216031.90838326,-4277401.635083572,-4434130.977005511,-4442055.200565685,35732505.9742947,-4441666.00972349,-4429358.803775894],\"xaxis\":\"x\",\"y\":[-906.7215191091335,-900.145812319848,-937.3483647272002,-913.2227908465094,-941.8069700810534,-748.8285235452831,-906.7592909297609,36465.98031019237,-925.3693745078132,-799.3385453954538,-919.8008912140531,-965.5089922511905,-908.3759180950539,-1075.1613420126448,-913.9141583628477,-930.6620938016368,-930.4936887630091,-902.4225946698557,-383.9403790687302,-924.8136310724364,-1137.525300021794,-953.2937119809845,-907.1032647288786,-2844.342093065717,-908.3961301455975,-1092.229216844517,-914.8214034206123,-983.5084652730562,-966.3233223336158,-1028.998689564063,-880.5042313196459,-927.8613535620815,-890.5120225532684,-926.6658022649333,-911.7566368715162,-956.5223226387005,-920.8078528325868,-906.8148600752348,-896.4021634706651,17289.663868671083,-1461.7340031182227,-997.7901014092737,-953.8170570777786,-990.2674997967138,-963.1284141389982,-1016.1385162316391,-957.8813161677895,-996.843520517781,-940.4270344867991,-917.4047790352088,-962.2048176271269,-899.6029010248345,-942.1667147626382,-924.905652044583,-906.9388807442226,-1255.9968366079243,31544.466369384147,-900.6574752462435,-42132.4651499098,-3033.793413691097,-935.9584921664899,-905.2557056273049,-945.7574176754111,-1072.621525636499,-939.4516194510194,-922.1072497849709,-907.884104792898,-918.8406609771594,-941.7688135364785,-858.7482297425128,-950.5247129257749,-921.3543372127858,-931.2524226281492,-1717.6675682942557,-1021.5155125823425,-932.6786191275663,18394.10447184041,-914.606145597348,-905.7567579680943,-1086.748126016823,-989.9072319568803,67630.1824785407,-920.0586024274295,-1329.0344332189488,-901.722491268941,-951.9477072175206,-929.6406309071251,-904.3729026046109,-8607.067350687574,-923.5280835719983,-964.8920865727786,-909.6774433549621,-1015.7647383896913,-927.7360507659444,-931.3108187876716,-918.3660460985645,-996.0046624875728,-947.8334525971039,-900.6441244792481,-937.686750555616,-986.8119801497115,7208.390318820661,-921.7286963532644,-807.9070108721475,-933.1970317992287,-1133.9624305983434,-968.014947952525,-1055.438086258311,-964.5320703672851,-935.6380280378105,-896.8995654784549,-946.4699606373047,-903.4737847510728,-968.5412381221244,-924.2733532831013,-966.9345089498951,-43803.896544582414,-905.4719883276996,-970.5118523865779,-904.754702474421,-1068.1453932265995,-2212.6963016237983,-906.5619651795867,-925.0849027900053,-1001.6805706069171,-907.9565943748371,-922.6700864420604,-889.7366070177766,-897.7884328886286,-840.3402563817589,-907.9673025427629,-908.9510835897008,-968.5201680800006,1666.4825787971688,-682.6310524741372,-922.4390402371367,-956.947279473497,43402.56115437811,-958.3851864666077,-2243.9901087736926],\"yaxis\":\"y\"}],                        {\"coloraxis\":{\"colorbar\":{\"title\":{\"text\":\"color\"}},\"colorscale\":[[0.0,\"#0d0887\"],[0.1111111111111111,\"#46039f\"],[0.2222222222222222,\"#7201a8\"],[0.3333333333333333,\"#9c179e\"],[0.4444444444444444,\"#bd3786\"],[0.5555555555555556,\"#d8576b\"],[0.6666666666666666,\"#ed7953\"],[0.7777777777777778,\"#fb9f3a\"],[0.8888888888888888,\"#fdca26\"],[1.0,\"#f0f921\"]]},\"height\":400,\"legend\":{\"tracegroupgap\":0},\"margin\":{\"t\":60},\"template\":{\"data\":{\"bar\":[{\"error_x\":{\"color\":\"#2a3f5f\"},\"error_y\":{\"color\":\"#2a3f5f\"},\"marker\":{\"line\":{\"color\":\"#E5ECF6\",\"width\":0.5},\"pattern\":{\"fillmode\":\"overlay\",\"size\":10,\"solidity\":0.2}},\"type\":\"bar\"}],\"barpolar\":[{\"marker\":{\"line\":{\"color\":\"#E5ECF6\",\"width\":0.5},\"pattern\":{\"fillmode\":\"overlay\",\"size\":10,\"solidity\":0.2}},\"type\":\"barpolar\"}],\"carpet\":[{\"aaxis\":{\"endlinecolor\":\"#2a3f5f\",\"gridcolor\":\"white\",\"linecolor\":\"white\",\"minorgridcolor\":\"white\",\"startlinecolor\":\"#2a3f5f\"},\"baxis\":{\"endlinecolor\":\"#2a3f5f\",\"gridcolor\":\"white\",\"linecolor\":\"white\",\"minorgridcolor\":\"white\",\"startlinecolor\":\"#2a3f5f\"},\"type\":\"carpet\"}],\"choropleth\":[{\"colorbar\":{\"outlinewidth\":0,\"ticks\":\"\"},\"type\":\"choropleth\"}],\"contour\":[{\"colorbar\":{\"outlinewidth\":0,\"ticks\":\"\"},\"colorscale\":[[0.0,\"#0d0887\"],[0.1111111111111111,\"#46039f\"],[0.2222222222222222,\"#7201a8\"],[0.3333333333333333,\"#9c179e\"],[0.4444444444444444,\"#bd3786\"],[0.5555555555555556,\"#d8576b\"],[0.6666666666666666,\"#ed7953\"],[0.7777777777777778,\"#fb9f3a\"],[0.8888888888888888,\"#fdca26\"],[1.0,\"#f0f921\"]],\"type\":\"contour\"}],\"contourcarpet\":[{\"colorbar\":{\"outlinewidth\":0,\"ticks\":\"\"},\"type\":\"contourcarpet\"}],\"heatmap\":[{\"colorbar\":{\"outlinewidth\":0,\"ticks\":\"\"},\"colorscale\":[[0.0,\"#0d0887\"],[0.1111111111111111,\"#46039f\"],[0.2222222222222222,\"#7201a8\"],[0.3333333333333333,\"#9c179e\"],[0.4444444444444444,\"#bd3786\"],[0.5555555555555556,\"#d8576b\"],[0.6666666666666666,\"#ed7953\"],[0.7777777777777778,\"#fb9f3a\"],[0.8888888888888888,\"#fdca26\"],[1.0,\"#f0f921\"]],\"type\":\"heatmap\"}],\"heatmapgl\":[{\"colorbar\":{\"outlinewidth\":0,\"ticks\":\"\"},\"colorscale\":[[0.0,\"#0d0887\"],[0.1111111111111111,\"#46039f\"],[0.2222222222222222,\"#7201a8\"],[0.3333333333333333,\"#9c179e\"],[0.4444444444444444,\"#bd3786\"],[0.5555555555555556,\"#d8576b\"],[0.6666666666666666,\"#ed7953\"],[0.7777777777777778,\"#fb9f3a\"],[0.8888888888888888,\"#fdca26\"],[1.0,\"#f0f921\"]],\"type\":\"heatmapgl\"}],\"histogram\":[{\"marker\":{\"pattern\":{\"fillmode\":\"overlay\",\"size\":10,\"solidity\":0.2}},\"type\":\"histogram\"}],\"histogram2d\":[{\"colorbar\":{\"outlinewidth\":0,\"ticks\":\"\"},\"colorscale\":[[0.0,\"#0d0887\"],[0.1111111111111111,\"#46039f\"],[0.2222222222222222,\"#7201a8\"],[0.3333333333333333,\"#9c179e\"],[0.4444444444444444,\"#bd3786\"],[0.5555555555555556,\"#d8576b\"],[0.6666666666666666,\"#ed7953\"],[0.7777777777777778,\"#fb9f3a\"],[0.8888888888888888,\"#fdca26\"],[1.0,\"#f0f921\"]],\"type\":\"histogram2d\"}],\"histogram2dcontour\":[{\"colorbar\":{\"outlinewidth\":0,\"ticks\":\"\"},\"colorscale\":[[0.0,\"#0d0887\"],[0.1111111111111111,\"#46039f\"],[0.2222222222222222,\"#7201a8\"],[0.3333333333333333,\"#9c179e\"],[0.4444444444444444,\"#bd3786\"],[0.5555555555555556,\"#d8576b\"],[0.6666666666666666,\"#ed7953\"],[0.7777777777777778,\"#fb9f3a\"],[0.8888888888888888,\"#fdca26\"],[1.0,\"#f0f921\"]],\"type\":\"histogram2dcontour\"}],\"mesh3d\":[{\"colorbar\":{\"outlinewidth\":0,\"ticks\":\"\"},\"type\":\"mesh3d\"}],\"parcoords\":[{\"line\":{\"colorbar\":{\"outlinewidth\":0,\"ticks\":\"\"}},\"type\":\"parcoords\"}],\"pie\":[{\"automargin\":true,\"type\":\"pie\"}],\"scatter\":[{\"marker\":{\"colorbar\":{\"outlinewidth\":0,\"ticks\":\"\"}},\"type\":\"scatter\"}],\"scatter3d\":[{\"line\":{\"colorbar\":{\"outlinewidth\":0,\"ticks\":\"\"}},\"marker\":{\"colorbar\":{\"outlinewidth\":0,\"ticks\":\"\"}},\"type\":\"scatter3d\"}],\"scattercarpet\":[{\"marker\":{\"colorbar\":{\"outlinewidth\":0,\"ticks\":\"\"}},\"type\":\"scattercarpet\"}],\"scattergeo\":[{\"marker\":{\"colorbar\":{\"outlinewidth\":0,\"ticks\":\"\"}},\"type\":\"scattergeo\"}],\"scattergl\":[{\"marker\":{\"colorbar\":{\"outlinewidth\":0,\"ticks\":\"\"}},\"type\":\"scattergl\"}],\"scattermapbox\":[{\"marker\":{\"colorbar\":{\"outlinewidth\":0,\"ticks\":\"\"}},\"type\":\"scattermapbox\"}],\"scatterpolar\":[{\"marker\":{\"colorbar\":{\"outlinewidth\":0,\"ticks\":\"\"}},\"type\":\"scatterpolar\"}],\"scatterpolargl\":[{\"marker\":{\"colorbar\":{\"outlinewidth\":0,\"ticks\":\"\"}},\"type\":\"scatterpolargl\"}],\"scatterternary\":[{\"marker\":{\"colorbar\":{\"outlinewidth\":0,\"ticks\":\"\"}},\"type\":\"scatterternary\"}],\"surface\":[{\"colorbar\":{\"outlinewidth\":0,\"ticks\":\"\"},\"colorscale\":[[0.0,\"#0d0887\"],[0.1111111111111111,\"#46039f\"],[0.2222222222222222,\"#7201a8\"],[0.3333333333333333,\"#9c179e\"],[0.4444444444444444,\"#bd3786\"],[0.5555555555555556,\"#d8576b\"],[0.6666666666666666,\"#ed7953\"],[0.7777777777777778,\"#fb9f3a\"],[0.8888888888888888,\"#fdca26\"],[1.0,\"#f0f921\"]],\"type\":\"surface\"}],\"table\":[{\"cells\":{\"fill\":{\"color\":\"#EBF0F8\"},\"line\":{\"color\":\"white\"}},\"header\":{\"fill\":{\"color\":\"#C8D4E3\"},\"line\":{\"color\":\"white\"}},\"type\":\"table\"}]},\"layout\":{\"annotationdefaults\":{\"arrowcolor\":\"#2a3f5f\",\"arrowhead\":0,\"arrowwidth\":1},\"autotypenumbers\":\"strict\",\"coloraxis\":{\"colorbar\":{\"outlinewidth\":0,\"ticks\":\"\"}},\"colorscale\":{\"diverging\":[[0,\"#8e0152\"],[0.1,\"#c51b7d\"],[0.2,\"#de77ae\"],[0.3,\"#f1b6da\"],[0.4,\"#fde0ef\"],[0.5,\"#f7f7f7\"],[0.6,\"#e6f5d0\"],[0.7,\"#b8e186\"],[0.8,\"#7fbc41\"],[0.9,\"#4d9221\"],[1,\"#276419\"]],\"sequential\":[[0.0,\"#0d0887\"],[0.1111111111111111,\"#46039f\"],[0.2222222222222222,\"#7201a8\"],[0.3333333333333333,\"#9c179e\"],[0.4444444444444444,\"#bd3786\"],[0.5555555555555556,\"#d8576b\"],[0.6666666666666666,\"#ed7953\"],[0.7777777777777778,\"#fb9f3a\"],[0.8888888888888888,\"#fdca26\"],[1.0,\"#f0f921\"]],\"sequentialminus\":[[0.0,\"#0d0887\"],[0.1111111111111111,\"#46039f\"],[0.2222222222222222,\"#7201a8\"],[0.3333333333333333,\"#9c179e\"],[0.4444444444444444,\"#bd3786\"],[0.5555555555555556,\"#d8576b\"],[0.6666666666666666,\"#ed7953\"],[0.7777777777777778,\"#fb9f3a\"],[0.8888888888888888,\"#fdca26\"],[1.0,\"#f0f921\"]]},\"colorway\":[\"#636efa\",\"#EF553B\",\"#00cc96\",\"#ab63fa\",\"#FFA15A\",\"#19d3f3\",\"#FF6692\",\"#B6E880\",\"#FF97FF\",\"#FECB52\"],\"font\":{\"color\":\"#2a3f5f\"},\"geo\":{\"bgcolor\":\"white\",\"lakecolor\":\"white\",\"landcolor\":\"#E5ECF6\",\"showlakes\":true,\"showland\":true,\"subunitcolor\":\"white\"},\"hoverlabel\":{\"align\":\"left\"},\"hovermode\":\"closest\",\"mapbox\":{\"style\":\"light\"},\"paper_bgcolor\":\"white\",\"plot_bgcolor\":\"#E5ECF6\",\"polar\":{\"angularaxis\":{\"gridcolor\":\"white\",\"linecolor\":\"white\",\"ticks\":\"\"},\"bgcolor\":\"#E5ECF6\",\"radialaxis\":{\"gridcolor\":\"white\",\"linecolor\":\"white\",\"ticks\":\"\"}},\"scene\":{\"xaxis\":{\"backgroundcolor\":\"#E5ECF6\",\"gridcolor\":\"white\",\"gridwidth\":2,\"linecolor\":\"white\",\"showbackground\":true,\"ticks\":\"\",\"zerolinecolor\":\"white\"},\"yaxis\":{\"backgroundcolor\":\"#E5ECF6\",\"gridcolor\":\"white\",\"gridwidth\":2,\"linecolor\":\"white\",\"showbackground\":true,\"ticks\":\"\",\"zerolinecolor\":\"white\"},\"zaxis\":{\"backgroundcolor\":\"#E5ECF6\",\"gridcolor\":\"white\",\"gridwidth\":2,\"linecolor\":\"white\",\"showbackground\":true,\"ticks\":\"\",\"zerolinecolor\":\"white\"}},\"shapedefaults\":{\"line\":{\"color\":\"#2a3f5f\"}},\"ternary\":{\"aaxis\":{\"gridcolor\":\"white\",\"linecolor\":\"white\",\"ticks\":\"\"},\"baxis\":{\"gridcolor\":\"white\",\"linecolor\":\"white\",\"ticks\":\"\"},\"bgcolor\":\"#E5ECF6\",\"caxis\":{\"gridcolor\":\"white\",\"linecolor\":\"white\",\"ticks\":\"\"}},\"title\":{\"x\":0.05},\"xaxis\":{\"automargin\":true,\"gridcolor\":\"white\",\"linecolor\":\"white\",\"ticks\":\"\",\"title\":{\"standoff\":15},\"zerolinecolor\":\"white\",\"zerolinewidth\":2},\"yaxis\":{\"automargin\":true,\"gridcolor\":\"white\",\"linecolor\":\"white\",\"ticks\":\"\",\"title\":{\"standoff\":15},\"zerolinecolor\":\"white\",\"zerolinewidth\":2}}},\"width\":500,\"xaxis\":{\"anchor\":\"y\",\"domain\":[0.0,1.0],\"title\":{\"text\":\"0\"}},\"yaxis\":{\"anchor\":\"x\",\"domain\":[0.0,1.0],\"title\":{\"text\":\"1\"}}},                        {\"responsive\": true}                    ).then(function(){\n",
       "                            \n",
       "var gd = document.getElementById('2ffa02a7-4d33-4790-a7f4-f866a5045119');\n",
       "var x = new MutationObserver(function (mutations, observer) {{\n",
       "        var display = window.getComputedStyle(gd).display;\n",
       "        if (!display || display === 'none') {{\n",
       "            console.log([gd, 'removed!']);\n",
       "            Plotly.purge(gd);\n",
       "            observer.disconnect();\n",
       "        }}\n",
       "}});\n",
       "\n",
       "// Listen for the removal of the full notebook cells\n",
       "var notebookContainer = gd.closest('#notebook-container');\n",
       "if (notebookContainer) {{\n",
       "    x.observe(notebookContainer, {childList: true});\n",
       "}}\n",
       "\n",
       "// Listen for the clearing of the current output cell\n",
       "var outputEl = gd.closest('.output');\n",
       "if (outputEl) {{\n",
       "    x.observe(outputEl, {childList: true});\n",
       "}}\n",
       "\n",
       "                        })                };                });            </script>        </div>"
      ]
     },
     "metadata": {},
     "output_type": "display_data"
    }
   ],
   "source": [
    "components_rf = pca(rf_pred, X_test)\n",
    "visu_pca(components_rf, rf_pred)"
   ]
  },
  {
   "cell_type": "code",
   "execution_count": 243,
   "id": "c38d1cf3",
   "metadata": {},
   "outputs": [
    {
     "data": {
      "application/vnd.plotly.v1+json": {
       "config": {
        "plotlyServerURL": "https://plot.ly"
       },
       "data": [
        {
         "hovertemplate": "0=%{x}<br>1=%{y}<br>color=%{marker.color}<extra></extra>",
         "legendgroup": "",
         "marker": {
          "color": [
           3,
           2,
           2,
           1,
           6,
           0,
           4,
           0,
           1,
           0,
           3,
           4,
           4,
           5,
           1,
           3,
           3,
           3,
           0,
           2,
           5,
           6,
           4,
           5,
           4,
           2,
           2,
           4,
           3,
           2,
           2,
           3,
           6,
           1,
           6,
           4,
           3,
           4,
           6,
           0,
           2,
           1,
           2,
           3,
           3,
           5,
           6,
           2,
           5,
           6,
           3,
           1,
           1,
           6,
           4,
           5,
           0,
           3,
           0,
           0,
           2,
           2,
           2,
           5,
           3,
           3,
           4,
           1,
           1,
           2,
           6,
           3,
           3,
           0,
           1,
           6,
           0,
           6,
           4,
           5,
           3,
           0,
           3,
           0,
           1,
           6,
           2,
           4,
           0,
           3,
           3,
           3,
           2,
           1,
           3,
           1,
           1,
           2,
           1,
           1,
           5,
           0,
           1,
           1,
           1,
           5,
           6,
           5,
           3,
           3,
           0,
           2,
           3,
           3,
           2,
           6,
           0,
           3,
           3,
           4,
           0,
           5,
           4,
           3,
           1,
           4,
           1,
           6,
           6,
           0,
           4,
           1,
           1,
           0,
           0,
           6,
           4,
           0,
           4,
           5
          ],
          "coloraxis": "coloraxis",
          "symbol": "circle"
         },
         "mode": "markers",
         "name": "",
         "orientation": "v",
         "showlegend": false,
         "type": "scatter",
         "x": [
          -4437896.674527831,
          -4420919.669499196,
          -4435012.7300637625,
          -4432636.372587926,
          -4441595.188825807,
          -3595834.1218660707,
          -4442052.253932289,
          30694118.49027581,
          -4434606.799373119,
          -4350853.688374293,
          -4436674.179760743,
          -4442038.792588261,
          -4442226.837482091,
          -4441079.430522955,
          -4429990.744089761,
          -4436581.863912423,
          -4435185.63136579,
          -4436156.775680544,
          -4058312.8258614116,
          -4423396.846726829,
          -4434252.10767983,
          -4442315.086533929,
          -4442239.569941159,
          -4441042.3689670805,
          -4441804.145100024,
          -4414871.76576803,
          -4321210.340463434,
          -4442143.242128268,
          -4442314.2208430385,
          -4402639.348866085,
          -4368305.539510521,
          -4437909.078799604,
          -4422709.086930167,
          -4436232.09323183,
          -4428611.922202199,
          -4441820.378850207,
          -4439177.377938558,
          -4441817.718038838,
          -4432327.40582947,
          33997556.081450045,
          -4332643.2158876965,
          -4442227.913193839,
          -4439113.977470198,
          -4442275.681012199,
          -4442241.075684307,
          -4427606.026566909,
          -4442139.091751447,
          -4403534.019604902,
          -4385476.648747711,
          -4433968.3062861925,
          -4442205.864688945,
          -4413925.575977252,
          -4438620.72764095,
          -4434177.987628968,
          -4441884.631465987,
          -4442302.127233388,
          31957256.742943604,
          -4432718.2195323,
          96641112.93783233,
          -2743474.849015432,
          -4436187.103476255,
          -4421167.147986532,
          -4439160.717175063,
          -4438758.809504757,
          -4432702.879633462,
          -4429235.708676095,
          -4441723.067177675,
          -4430942.055239007,
          -4432838.914570213,
          -4382017.6183897015,
          -4394937.806172356,
          -4435984.657465501,
          -4435216.58612659,
          -3077804.7104335465,
          -4442307.958474495,
          -4430552.438617337,
          17746412.50780605,
          -4434186.171401445,
          -4441625.048088328,
          -4441298.085776783,
          -4442291.923291976,
          64341990.25984801,
          -4436686.308379521,
          -4264610.714385683,
          -4430672.199086769,
          -4406559.899407801,
          -4435048.158268386,
          -4441426.087898974,
          7505779.73776756,
          -4436136.909890051,
          -4442240.611787085,
          -4428394.71549833,
          -4383018.636786663,
          -4433630.90943416,
          -4435179.904035172,
          -4435739.05039355,
          -4422334.268532045,
          -4419939.324414794,
          -4426453.715838854,
          -4436852.223706448,
          -4408129.252406327,
          51253690.46018536,
          -4432931.275282416,
          -4199915.353982869,
          -4433246.789624426,
          -4442308.72845017,
          -4442148.215169498,
          -4423407.186800465,
          -4442316.020765661,
          -4438439.936322449,
          -4433998.376164455,
          -4442305.503881082,
          -4438845.20399458,
          -4442298.013392557,
          -4434922.1609792225,
          -4442306.055526712,
          133382585.3395666,
          -4438624.7275425745,
          -4442314.693549054,
          -4440483.785131568,
          -4096630.9930812074,
          -4437632.038011271,
          -4442148.738945844,
          -4438534.818534882,
          -4442316.933835447,
          -4437928.1504965555,
          -4437648.630129064,
          -4419078.685483283,
          -4420158.32698487,
          -3535677.564769584,
          -4442116.747740038,
          -4430092.811542254,
          -4442328.886205246,
          62216031.90838321,
          -4277401.635083383,
          -4434130.977005719,
          -4442055.20056569,
          35732505.97429468,
          -4441666.009723537,
          -4429358.803775894
         ],
         "xaxis": "x",
         "y": [
          -906.72155973347,
          -900.1458236758913,
          -937.3483443907575,
          -913.2228048031827,
          -941.8069713449722,
          -748.8285398029807,
          -906.7592972082999,
          36465.980303900025,
          -925.3693884614933,
          -799.338402993177,
          -919.8009000675067,
          -965.5089987133674,
          -908.3759243788721,
          -1075.1614415489,
          -913.9141722956186,
          -930.6620072900374,
          -930.493697612652,
          -902.4226352760164,
          -383.9403953965785,
          -924.8135153038589,
          -1137.525304615004,
          -953.2937132423011,
          -907.1032710080307,
          -2844.342103860343,
          -908.3961364309836,
          -1092.2291336619621,
          -914.8214783258863,
          -983.5084718027712,
          -966.3232995516312,
          -1028.9987009913268,
          -880.5041155190232,
          -927.8613624499,
          -890.5121508776106,
          -926.6657526761239,
          -911.7567334215879,
          -956.5223290434374,
          -920.807893463591,
          -906.8148663547082,
          -896.4021964511142,
          17289.663861667566,
          -1461.734014501847,
          -997.790115634591,
          -953.816941454251,
          -990.2675088970104,
          -963.1285185001738,
          -1016.13852038574,
          -957.8813174615025,
          -996.8435319936458,
          -940.4270064172591,
          -917.4049391660692,
          -962.2048901992843,
          -899.6029149299143,
          -942.1667288005051,
          -924.9058121940236,
          -906.9388870235131,
          -1255.9968733929825,
          31544.466362997002,
          -900.6575158489768,
          -42132.465148075695,
          -3033.7934299369667,
          -935.9584718104256,
          -905.255716988129,
          -945.7573974094184,
          -1072.6215299402318,
          -939.451532915992,
          -922.1072586582616,
          -907.8841110739157,
          -918.8406113499142,
          -941.7686685254599,
          -858.7482411072658,
          -950.5247141015789,
          -921.3542506969902,
          -931.2524315099733,
          -1717.6675845132577,
          -1021.5155268950637,
          -932.6786203198305,
          18394.104461488037,
          -914.6063057267714,
          -905.7567642437288,
          -1086.7481303781792,
          -989.9073046339205,
          67630.18248163414,
          -920.0586112867944,
          -1329.0343860884186,
          -901.7224416197274,
          -951.9477083966914,
          -929.6406105670342,
          -904.3729088735504,
          -8607.067365181338,
          -923.5280924492031,
          -964.8920955719136,
          -909.6775157537419,
          -1015.7646225998724,
          -927.7359057626202,
          -931.3108276790589,
          -918.3660600334025,
          -996.0046446651143,
          -947.8334640202241,
          -900.6440112608458,
          -937.6866374436082,
          -986.8120792333888,
          7208.390314713777,
          -921.7286467500849,
          -807.906865786721,
          -933.1968867853686,
          -1133.962435151535,
          -968.0149492838585,
          -1055.4380904844058,
          -964.532142942903,
          -935.6379415457502,
          -896.8994865679443,
          -946.4699085507492,
          -903.4737617889958,
          -968.5412471369644,
          -924.273396467327,
          -966.9345103086011,
          -43803.896535125714,
          -905.4719653687212,
          -970.5118614031996,
          -904.7547087439683,
          -1068.1454096128073,
          -2212.696310125157,
          -906.5619714569754,
          -925.0849116686633,
          -1001.6805212640496,
          -907.956664218872,
          -922.6700368177446,
          -889.7366399881624,
          -897.7885930056382,
          -840.3402726327275,
          -907.9673088253395,
          -908.9510975080783,
          -968.5200868586397,
          1666.482576594159,
          -682.6309099614407,
          -922.4392003761521,
          -956.947285865309,
          43402.5611496551,
          -958.3852246880729,
          -2243.990117439617
         ],
         "yaxis": "y"
        }
       ],
       "layout": {
        "coloraxis": {
         "colorbar": {
          "title": {
           "text": "color"
          }
         },
         "colorscale": [
          [
           0,
           "#0d0887"
          ],
          [
           0.1111111111111111,
           "#46039f"
          ],
          [
           0.2222222222222222,
           "#7201a8"
          ],
          [
           0.3333333333333333,
           "#9c179e"
          ],
          [
           0.4444444444444444,
           "#bd3786"
          ],
          [
           0.5555555555555556,
           "#d8576b"
          ],
          [
           0.6666666666666666,
           "#ed7953"
          ],
          [
           0.7777777777777778,
           "#fb9f3a"
          ],
          [
           0.8888888888888888,
           "#fdca26"
          ],
          [
           1,
           "#f0f921"
          ]
         ]
        },
        "height": 400,
        "legend": {
         "tracegroupgap": 0
        },
        "margin": {
         "t": 60
        },
        "template": {
         "data": {
          "bar": [
           {
            "error_x": {
             "color": "#2a3f5f"
            },
            "error_y": {
             "color": "#2a3f5f"
            },
            "marker": {
             "line": {
              "color": "#E5ECF6",
              "width": 0.5
             },
             "pattern": {
              "fillmode": "overlay",
              "size": 10,
              "solidity": 0.2
             }
            },
            "type": "bar"
           }
          ],
          "barpolar": [
           {
            "marker": {
             "line": {
              "color": "#E5ECF6",
              "width": 0.5
             },
             "pattern": {
              "fillmode": "overlay",
              "size": 10,
              "solidity": 0.2
             }
            },
            "type": "barpolar"
           }
          ],
          "carpet": [
           {
            "aaxis": {
             "endlinecolor": "#2a3f5f",
             "gridcolor": "white",
             "linecolor": "white",
             "minorgridcolor": "white",
             "startlinecolor": "#2a3f5f"
            },
            "baxis": {
             "endlinecolor": "#2a3f5f",
             "gridcolor": "white",
             "linecolor": "white",
             "minorgridcolor": "white",
             "startlinecolor": "#2a3f5f"
            },
            "type": "carpet"
           }
          ],
          "choropleth": [
           {
            "colorbar": {
             "outlinewidth": 0,
             "ticks": ""
            },
            "type": "choropleth"
           }
          ],
          "contour": [
           {
            "colorbar": {
             "outlinewidth": 0,
             "ticks": ""
            },
            "colorscale": [
             [
              0,
              "#0d0887"
             ],
             [
              0.1111111111111111,
              "#46039f"
             ],
             [
              0.2222222222222222,
              "#7201a8"
             ],
             [
              0.3333333333333333,
              "#9c179e"
             ],
             [
              0.4444444444444444,
              "#bd3786"
             ],
             [
              0.5555555555555556,
              "#d8576b"
             ],
             [
              0.6666666666666666,
              "#ed7953"
             ],
             [
              0.7777777777777778,
              "#fb9f3a"
             ],
             [
              0.8888888888888888,
              "#fdca26"
             ],
             [
              1,
              "#f0f921"
             ]
            ],
            "type": "contour"
           }
          ],
          "contourcarpet": [
           {
            "colorbar": {
             "outlinewidth": 0,
             "ticks": ""
            },
            "type": "contourcarpet"
           }
          ],
          "heatmap": [
           {
            "colorbar": {
             "outlinewidth": 0,
             "ticks": ""
            },
            "colorscale": [
             [
              0,
              "#0d0887"
             ],
             [
              0.1111111111111111,
              "#46039f"
             ],
             [
              0.2222222222222222,
              "#7201a8"
             ],
             [
              0.3333333333333333,
              "#9c179e"
             ],
             [
              0.4444444444444444,
              "#bd3786"
             ],
             [
              0.5555555555555556,
              "#d8576b"
             ],
             [
              0.6666666666666666,
              "#ed7953"
             ],
             [
              0.7777777777777778,
              "#fb9f3a"
             ],
             [
              0.8888888888888888,
              "#fdca26"
             ],
             [
              1,
              "#f0f921"
             ]
            ],
            "type": "heatmap"
           }
          ],
          "heatmapgl": [
           {
            "colorbar": {
             "outlinewidth": 0,
             "ticks": ""
            },
            "colorscale": [
             [
              0,
              "#0d0887"
             ],
             [
              0.1111111111111111,
              "#46039f"
             ],
             [
              0.2222222222222222,
              "#7201a8"
             ],
             [
              0.3333333333333333,
              "#9c179e"
             ],
             [
              0.4444444444444444,
              "#bd3786"
             ],
             [
              0.5555555555555556,
              "#d8576b"
             ],
             [
              0.6666666666666666,
              "#ed7953"
             ],
             [
              0.7777777777777778,
              "#fb9f3a"
             ],
             [
              0.8888888888888888,
              "#fdca26"
             ],
             [
              1,
              "#f0f921"
             ]
            ],
            "type": "heatmapgl"
           }
          ],
          "histogram": [
           {
            "marker": {
             "pattern": {
              "fillmode": "overlay",
              "size": 10,
              "solidity": 0.2
             }
            },
            "type": "histogram"
           }
          ],
          "histogram2d": [
           {
            "colorbar": {
             "outlinewidth": 0,
             "ticks": ""
            },
            "colorscale": [
             [
              0,
              "#0d0887"
             ],
             [
              0.1111111111111111,
              "#46039f"
             ],
             [
              0.2222222222222222,
              "#7201a8"
             ],
             [
              0.3333333333333333,
              "#9c179e"
             ],
             [
              0.4444444444444444,
              "#bd3786"
             ],
             [
              0.5555555555555556,
              "#d8576b"
             ],
             [
              0.6666666666666666,
              "#ed7953"
             ],
             [
              0.7777777777777778,
              "#fb9f3a"
             ],
             [
              0.8888888888888888,
              "#fdca26"
             ],
             [
              1,
              "#f0f921"
             ]
            ],
            "type": "histogram2d"
           }
          ],
          "histogram2dcontour": [
           {
            "colorbar": {
             "outlinewidth": 0,
             "ticks": ""
            },
            "colorscale": [
             [
              0,
              "#0d0887"
             ],
             [
              0.1111111111111111,
              "#46039f"
             ],
             [
              0.2222222222222222,
              "#7201a8"
             ],
             [
              0.3333333333333333,
              "#9c179e"
             ],
             [
              0.4444444444444444,
              "#bd3786"
             ],
             [
              0.5555555555555556,
              "#d8576b"
             ],
             [
              0.6666666666666666,
              "#ed7953"
             ],
             [
              0.7777777777777778,
              "#fb9f3a"
             ],
             [
              0.8888888888888888,
              "#fdca26"
             ],
             [
              1,
              "#f0f921"
             ]
            ],
            "type": "histogram2dcontour"
           }
          ],
          "mesh3d": [
           {
            "colorbar": {
             "outlinewidth": 0,
             "ticks": ""
            },
            "type": "mesh3d"
           }
          ],
          "parcoords": [
           {
            "line": {
             "colorbar": {
              "outlinewidth": 0,
              "ticks": ""
             }
            },
            "type": "parcoords"
           }
          ],
          "pie": [
           {
            "automargin": true,
            "type": "pie"
           }
          ],
          "scatter": [
           {
            "marker": {
             "colorbar": {
              "outlinewidth": 0,
              "ticks": ""
             }
            },
            "type": "scatter"
           }
          ],
          "scatter3d": [
           {
            "line": {
             "colorbar": {
              "outlinewidth": 0,
              "ticks": ""
             }
            },
            "marker": {
             "colorbar": {
              "outlinewidth": 0,
              "ticks": ""
             }
            },
            "type": "scatter3d"
           }
          ],
          "scattercarpet": [
           {
            "marker": {
             "colorbar": {
              "outlinewidth": 0,
              "ticks": ""
             }
            },
            "type": "scattercarpet"
           }
          ],
          "scattergeo": [
           {
            "marker": {
             "colorbar": {
              "outlinewidth": 0,
              "ticks": ""
             }
            },
            "type": "scattergeo"
           }
          ],
          "scattergl": [
           {
            "marker": {
             "colorbar": {
              "outlinewidth": 0,
              "ticks": ""
             }
            },
            "type": "scattergl"
           }
          ],
          "scattermapbox": [
           {
            "marker": {
             "colorbar": {
              "outlinewidth": 0,
              "ticks": ""
             }
            },
            "type": "scattermapbox"
           }
          ],
          "scatterpolar": [
           {
            "marker": {
             "colorbar": {
              "outlinewidth": 0,
              "ticks": ""
             }
            },
            "type": "scatterpolar"
           }
          ],
          "scatterpolargl": [
           {
            "marker": {
             "colorbar": {
              "outlinewidth": 0,
              "ticks": ""
             }
            },
            "type": "scatterpolargl"
           }
          ],
          "scatterternary": [
           {
            "marker": {
             "colorbar": {
              "outlinewidth": 0,
              "ticks": ""
             }
            },
            "type": "scatterternary"
           }
          ],
          "surface": [
           {
            "colorbar": {
             "outlinewidth": 0,
             "ticks": ""
            },
            "colorscale": [
             [
              0,
              "#0d0887"
             ],
             [
              0.1111111111111111,
              "#46039f"
             ],
             [
              0.2222222222222222,
              "#7201a8"
             ],
             [
              0.3333333333333333,
              "#9c179e"
             ],
             [
              0.4444444444444444,
              "#bd3786"
             ],
             [
              0.5555555555555556,
              "#d8576b"
             ],
             [
              0.6666666666666666,
              "#ed7953"
             ],
             [
              0.7777777777777778,
              "#fb9f3a"
             ],
             [
              0.8888888888888888,
              "#fdca26"
             ],
             [
              1,
              "#f0f921"
             ]
            ],
            "type": "surface"
           }
          ],
          "table": [
           {
            "cells": {
             "fill": {
              "color": "#EBF0F8"
             },
             "line": {
              "color": "white"
             }
            },
            "header": {
             "fill": {
              "color": "#C8D4E3"
             },
             "line": {
              "color": "white"
             }
            },
            "type": "table"
           }
          ]
         },
         "layout": {
          "annotationdefaults": {
           "arrowcolor": "#2a3f5f",
           "arrowhead": 0,
           "arrowwidth": 1
          },
          "autotypenumbers": "strict",
          "coloraxis": {
           "colorbar": {
            "outlinewidth": 0,
            "ticks": ""
           }
          },
          "colorscale": {
           "diverging": [
            [
             0,
             "#8e0152"
            ],
            [
             0.1,
             "#c51b7d"
            ],
            [
             0.2,
             "#de77ae"
            ],
            [
             0.3,
             "#f1b6da"
            ],
            [
             0.4,
             "#fde0ef"
            ],
            [
             0.5,
             "#f7f7f7"
            ],
            [
             0.6,
             "#e6f5d0"
            ],
            [
             0.7,
             "#b8e186"
            ],
            [
             0.8,
             "#7fbc41"
            ],
            [
             0.9,
             "#4d9221"
            ],
            [
             1,
             "#276419"
            ]
           ],
           "sequential": [
            [
             0,
             "#0d0887"
            ],
            [
             0.1111111111111111,
             "#46039f"
            ],
            [
             0.2222222222222222,
             "#7201a8"
            ],
            [
             0.3333333333333333,
             "#9c179e"
            ],
            [
             0.4444444444444444,
             "#bd3786"
            ],
            [
             0.5555555555555556,
             "#d8576b"
            ],
            [
             0.6666666666666666,
             "#ed7953"
            ],
            [
             0.7777777777777778,
             "#fb9f3a"
            ],
            [
             0.8888888888888888,
             "#fdca26"
            ],
            [
             1,
             "#f0f921"
            ]
           ],
           "sequentialminus": [
            [
             0,
             "#0d0887"
            ],
            [
             0.1111111111111111,
             "#46039f"
            ],
            [
             0.2222222222222222,
             "#7201a8"
            ],
            [
             0.3333333333333333,
             "#9c179e"
            ],
            [
             0.4444444444444444,
             "#bd3786"
            ],
            [
             0.5555555555555556,
             "#d8576b"
            ],
            [
             0.6666666666666666,
             "#ed7953"
            ],
            [
             0.7777777777777778,
             "#fb9f3a"
            ],
            [
             0.8888888888888888,
             "#fdca26"
            ],
            [
             1,
             "#f0f921"
            ]
           ]
          },
          "colorway": [
           "#636efa",
           "#EF553B",
           "#00cc96",
           "#ab63fa",
           "#FFA15A",
           "#19d3f3",
           "#FF6692",
           "#B6E880",
           "#FF97FF",
           "#FECB52"
          ],
          "font": {
           "color": "#2a3f5f"
          },
          "geo": {
           "bgcolor": "white",
           "lakecolor": "white",
           "landcolor": "#E5ECF6",
           "showlakes": true,
           "showland": true,
           "subunitcolor": "white"
          },
          "hoverlabel": {
           "align": "left"
          },
          "hovermode": "closest",
          "mapbox": {
           "style": "light"
          },
          "paper_bgcolor": "white",
          "plot_bgcolor": "#E5ECF6",
          "polar": {
           "angularaxis": {
            "gridcolor": "white",
            "linecolor": "white",
            "ticks": ""
           },
           "bgcolor": "#E5ECF6",
           "radialaxis": {
            "gridcolor": "white",
            "linecolor": "white",
            "ticks": ""
           }
          },
          "scene": {
           "xaxis": {
            "backgroundcolor": "#E5ECF6",
            "gridcolor": "white",
            "gridwidth": 2,
            "linecolor": "white",
            "showbackground": true,
            "ticks": "",
            "zerolinecolor": "white"
           },
           "yaxis": {
            "backgroundcolor": "#E5ECF6",
            "gridcolor": "white",
            "gridwidth": 2,
            "linecolor": "white",
            "showbackground": true,
            "ticks": "",
            "zerolinecolor": "white"
           },
           "zaxis": {
            "backgroundcolor": "#E5ECF6",
            "gridcolor": "white",
            "gridwidth": 2,
            "linecolor": "white",
            "showbackground": true,
            "ticks": "",
            "zerolinecolor": "white"
           }
          },
          "shapedefaults": {
           "line": {
            "color": "#2a3f5f"
           }
          },
          "ternary": {
           "aaxis": {
            "gridcolor": "white",
            "linecolor": "white",
            "ticks": ""
           },
           "baxis": {
            "gridcolor": "white",
            "linecolor": "white",
            "ticks": ""
           },
           "bgcolor": "#E5ECF6",
           "caxis": {
            "gridcolor": "white",
            "linecolor": "white",
            "ticks": ""
           }
          },
          "title": {
           "x": 0.05
          },
          "xaxis": {
           "automargin": true,
           "gridcolor": "white",
           "linecolor": "white",
           "ticks": "",
           "title": {
            "standoff": 15
           },
           "zerolinecolor": "white",
           "zerolinewidth": 2
          },
          "yaxis": {
           "automargin": true,
           "gridcolor": "white",
           "linecolor": "white",
           "ticks": "",
           "title": {
            "standoff": 15
           },
           "zerolinecolor": "white",
           "zerolinewidth": 2
          }
         }
        },
        "width": 500,
        "xaxis": {
         "anchor": "y",
         "domain": [
          0,
          1
         ],
         "title": {
          "text": "0"
         }
        },
        "yaxis": {
         "anchor": "x",
         "domain": [
          0,
          1
         ],
         "title": {
          "text": "1"
         }
        }
       }
      },
      "text/html": [
       "<div>                            <div id=\"ba8207c4-078c-4b2b-bd00-258c602cc85a\" class=\"plotly-graph-div\" style=\"height:400px; width:500px;\"></div>            <script type=\"text/javascript\">                require([\"plotly\"], function(Plotly) {                    window.PLOTLYENV=window.PLOTLYENV || {};                                    if (document.getElementById(\"ba8207c4-078c-4b2b-bd00-258c602cc85a\")) {                    Plotly.newPlot(                        \"ba8207c4-078c-4b2b-bd00-258c602cc85a\",                        [{\"hovertemplate\":\"0=%{x}<br>1=%{y}<br>color=%{marker.color}<extra></extra>\",\"legendgroup\":\"\",\"marker\":{\"color\":[3,2,2,1,6,0,4,0,1,0,3,4,4,5,1,3,3,3,0,2,5,6,4,5,4,2,2,4,3,2,2,3,6,1,6,4,3,4,6,0,2,1,2,3,3,5,6,2,5,6,3,1,1,6,4,5,0,3,0,0,2,2,2,5,3,3,4,1,1,2,6,3,3,0,1,6,0,6,4,5,3,0,3,0,1,6,2,4,0,3,3,3,2,1,3,1,1,2,1,1,5,0,1,1,1,5,6,5,3,3,0,2,3,3,2,6,0,3,3,4,0,5,4,3,1,4,1,6,6,0,4,1,1,0,0,6,4,0,4,5],\"coloraxis\":\"coloraxis\",\"symbol\":\"circle\"},\"mode\":\"markers\",\"name\":\"\",\"orientation\":\"v\",\"showlegend\":false,\"type\":\"scatter\",\"x\":[-4437896.674527831,-4420919.669499196,-4435012.7300637625,-4432636.372587926,-4441595.188825807,-3595834.1218660707,-4442052.253932289,30694118.49027581,-4434606.799373119,-4350853.688374293,-4436674.179760743,-4442038.792588261,-4442226.837482091,-4441079.430522955,-4429990.744089761,-4436581.863912423,-4435185.63136579,-4436156.775680544,-4058312.8258614116,-4423396.846726829,-4434252.10767983,-4442315.086533929,-4442239.569941159,-4441042.3689670805,-4441804.145100024,-4414871.76576803,-4321210.340463434,-4442143.242128268,-4442314.2208430385,-4402639.348866085,-4368305.539510521,-4437909.078799604,-4422709.086930167,-4436232.09323183,-4428611.922202199,-4441820.378850207,-4439177.377938558,-4441817.718038838,-4432327.40582947,33997556.081450045,-4332643.2158876965,-4442227.913193839,-4439113.977470198,-4442275.681012199,-4442241.075684307,-4427606.026566909,-4442139.091751447,-4403534.019604902,-4385476.648747711,-4433968.3062861925,-4442205.864688945,-4413925.575977252,-4438620.72764095,-4434177.987628968,-4441884.631465987,-4442302.127233388,31957256.742943604,-4432718.2195323,96641112.93783233,-2743474.849015432,-4436187.103476255,-4421167.147986532,-4439160.717175063,-4438758.809504757,-4432702.879633462,-4429235.708676095,-4441723.067177675,-4430942.055239007,-4432838.914570213,-4382017.6183897015,-4394937.806172356,-4435984.657465501,-4435216.58612659,-3077804.7104335465,-4442307.958474495,-4430552.438617337,17746412.50780605,-4434186.171401445,-4441625.048088328,-4441298.085776783,-4442291.923291976,64341990.25984801,-4436686.308379521,-4264610.714385683,-4430672.199086769,-4406559.899407801,-4435048.158268386,-4441426.087898974,7505779.73776756,-4436136.909890051,-4442240.611787085,-4428394.71549833,-4383018.636786663,-4433630.90943416,-4435179.904035172,-4435739.05039355,-4422334.268532045,-4419939.324414794,-4426453.715838854,-4436852.223706448,-4408129.252406327,51253690.46018536,-4432931.275282416,-4199915.353982869,-4433246.789624426,-4442308.72845017,-4442148.215169498,-4423407.186800465,-4442316.020765661,-4438439.936322449,-4433998.376164455,-4442305.503881082,-4438845.20399458,-4442298.013392557,-4434922.1609792225,-4442306.055526712,133382585.3395666,-4438624.7275425745,-4442314.693549054,-4440483.785131568,-4096630.9930812074,-4437632.038011271,-4442148.738945844,-4438534.818534882,-4442316.933835447,-4437928.1504965555,-4437648.630129064,-4419078.685483283,-4420158.32698487,-3535677.564769584,-4442116.747740038,-4430092.811542254,-4442328.886205246,62216031.90838321,-4277401.635083383,-4434130.977005719,-4442055.20056569,35732505.97429468,-4441666.009723537,-4429358.803775894],\"xaxis\":\"x\",\"y\":[-906.72155973347,-900.1458236758913,-937.3483443907575,-913.2228048031827,-941.8069713449722,-748.8285398029807,-906.7592972082999,36465.980303900025,-925.3693884614933,-799.338402993177,-919.8009000675067,-965.5089987133674,-908.3759243788721,-1075.1614415489,-913.9141722956186,-930.6620072900374,-930.493697612652,-902.4226352760164,-383.9403953965785,-924.8135153038589,-1137.525304615004,-953.2937132423011,-907.1032710080307,-2844.342103860343,-908.3961364309836,-1092.2291336619621,-914.8214783258863,-983.5084718027712,-966.3232995516312,-1028.9987009913268,-880.5041155190232,-927.8613624499,-890.5121508776106,-926.6657526761239,-911.7567334215879,-956.5223290434374,-920.807893463591,-906.8148663547082,-896.4021964511142,17289.663861667566,-1461.734014501847,-997.790115634591,-953.816941454251,-990.2675088970104,-963.1285185001738,-1016.13852038574,-957.8813174615025,-996.8435319936458,-940.4270064172591,-917.4049391660692,-962.2048901992843,-899.6029149299143,-942.1667288005051,-924.9058121940236,-906.9388870235131,-1255.9968733929825,31544.466362997002,-900.6575158489768,-42132.465148075695,-3033.7934299369667,-935.9584718104256,-905.255716988129,-945.7573974094184,-1072.6215299402318,-939.451532915992,-922.1072586582616,-907.8841110739157,-918.8406113499142,-941.7686685254599,-858.7482411072658,-950.5247141015789,-921.3542506969902,-931.2524315099733,-1717.6675845132577,-1021.5155268950637,-932.6786203198305,18394.104461488037,-914.6063057267714,-905.7567642437288,-1086.7481303781792,-989.9073046339205,67630.18248163414,-920.0586112867944,-1329.0343860884186,-901.7224416197274,-951.9477083966914,-929.6406105670342,-904.3729088735504,-8607.067365181338,-923.5280924492031,-964.8920955719136,-909.6775157537419,-1015.7646225998724,-927.7359057626202,-931.3108276790589,-918.3660600334025,-996.0046446651143,-947.8334640202241,-900.6440112608458,-937.6866374436082,-986.8120792333888,7208.390314713777,-921.7286467500849,-807.906865786721,-933.1968867853686,-1133.962435151535,-968.0149492838585,-1055.4380904844058,-964.532142942903,-935.6379415457502,-896.8994865679443,-946.4699085507492,-903.4737617889958,-968.5412471369644,-924.273396467327,-966.9345103086011,-43803.896535125714,-905.4719653687212,-970.5118614031996,-904.7547087439683,-1068.1454096128073,-2212.696310125157,-906.5619714569754,-925.0849116686633,-1001.6805212640496,-907.956664218872,-922.6700368177446,-889.7366399881624,-897.7885930056382,-840.3402726327275,-907.9673088253395,-908.9510975080783,-968.5200868586397,1666.482576594159,-682.6309099614407,-922.4392003761521,-956.947285865309,43402.5611496551,-958.3852246880729,-2243.990117439617],\"yaxis\":\"y\"}],                        {\"coloraxis\":{\"colorbar\":{\"title\":{\"text\":\"color\"}},\"colorscale\":[[0.0,\"#0d0887\"],[0.1111111111111111,\"#46039f\"],[0.2222222222222222,\"#7201a8\"],[0.3333333333333333,\"#9c179e\"],[0.4444444444444444,\"#bd3786\"],[0.5555555555555556,\"#d8576b\"],[0.6666666666666666,\"#ed7953\"],[0.7777777777777778,\"#fb9f3a\"],[0.8888888888888888,\"#fdca26\"],[1.0,\"#f0f921\"]]},\"height\":400,\"legend\":{\"tracegroupgap\":0},\"margin\":{\"t\":60},\"template\":{\"data\":{\"bar\":[{\"error_x\":{\"color\":\"#2a3f5f\"},\"error_y\":{\"color\":\"#2a3f5f\"},\"marker\":{\"line\":{\"color\":\"#E5ECF6\",\"width\":0.5},\"pattern\":{\"fillmode\":\"overlay\",\"size\":10,\"solidity\":0.2}},\"type\":\"bar\"}],\"barpolar\":[{\"marker\":{\"line\":{\"color\":\"#E5ECF6\",\"width\":0.5},\"pattern\":{\"fillmode\":\"overlay\",\"size\":10,\"solidity\":0.2}},\"type\":\"barpolar\"}],\"carpet\":[{\"aaxis\":{\"endlinecolor\":\"#2a3f5f\",\"gridcolor\":\"white\",\"linecolor\":\"white\",\"minorgridcolor\":\"white\",\"startlinecolor\":\"#2a3f5f\"},\"baxis\":{\"endlinecolor\":\"#2a3f5f\",\"gridcolor\":\"white\",\"linecolor\":\"white\",\"minorgridcolor\":\"white\",\"startlinecolor\":\"#2a3f5f\"},\"type\":\"carpet\"}],\"choropleth\":[{\"colorbar\":{\"outlinewidth\":0,\"ticks\":\"\"},\"type\":\"choropleth\"}],\"contour\":[{\"colorbar\":{\"outlinewidth\":0,\"ticks\":\"\"},\"colorscale\":[[0.0,\"#0d0887\"],[0.1111111111111111,\"#46039f\"],[0.2222222222222222,\"#7201a8\"],[0.3333333333333333,\"#9c179e\"],[0.4444444444444444,\"#bd3786\"],[0.5555555555555556,\"#d8576b\"],[0.6666666666666666,\"#ed7953\"],[0.7777777777777778,\"#fb9f3a\"],[0.8888888888888888,\"#fdca26\"],[1.0,\"#f0f921\"]],\"type\":\"contour\"}],\"contourcarpet\":[{\"colorbar\":{\"outlinewidth\":0,\"ticks\":\"\"},\"type\":\"contourcarpet\"}],\"heatmap\":[{\"colorbar\":{\"outlinewidth\":0,\"ticks\":\"\"},\"colorscale\":[[0.0,\"#0d0887\"],[0.1111111111111111,\"#46039f\"],[0.2222222222222222,\"#7201a8\"],[0.3333333333333333,\"#9c179e\"],[0.4444444444444444,\"#bd3786\"],[0.5555555555555556,\"#d8576b\"],[0.6666666666666666,\"#ed7953\"],[0.7777777777777778,\"#fb9f3a\"],[0.8888888888888888,\"#fdca26\"],[1.0,\"#f0f921\"]],\"type\":\"heatmap\"}],\"heatmapgl\":[{\"colorbar\":{\"outlinewidth\":0,\"ticks\":\"\"},\"colorscale\":[[0.0,\"#0d0887\"],[0.1111111111111111,\"#46039f\"],[0.2222222222222222,\"#7201a8\"],[0.3333333333333333,\"#9c179e\"],[0.4444444444444444,\"#bd3786\"],[0.5555555555555556,\"#d8576b\"],[0.6666666666666666,\"#ed7953\"],[0.7777777777777778,\"#fb9f3a\"],[0.8888888888888888,\"#fdca26\"],[1.0,\"#f0f921\"]],\"type\":\"heatmapgl\"}],\"histogram\":[{\"marker\":{\"pattern\":{\"fillmode\":\"overlay\",\"size\":10,\"solidity\":0.2}},\"type\":\"histogram\"}],\"histogram2d\":[{\"colorbar\":{\"outlinewidth\":0,\"ticks\":\"\"},\"colorscale\":[[0.0,\"#0d0887\"],[0.1111111111111111,\"#46039f\"],[0.2222222222222222,\"#7201a8\"],[0.3333333333333333,\"#9c179e\"],[0.4444444444444444,\"#bd3786\"],[0.5555555555555556,\"#d8576b\"],[0.6666666666666666,\"#ed7953\"],[0.7777777777777778,\"#fb9f3a\"],[0.8888888888888888,\"#fdca26\"],[1.0,\"#f0f921\"]],\"type\":\"histogram2d\"}],\"histogram2dcontour\":[{\"colorbar\":{\"outlinewidth\":0,\"ticks\":\"\"},\"colorscale\":[[0.0,\"#0d0887\"],[0.1111111111111111,\"#46039f\"],[0.2222222222222222,\"#7201a8\"],[0.3333333333333333,\"#9c179e\"],[0.4444444444444444,\"#bd3786\"],[0.5555555555555556,\"#d8576b\"],[0.6666666666666666,\"#ed7953\"],[0.7777777777777778,\"#fb9f3a\"],[0.8888888888888888,\"#fdca26\"],[1.0,\"#f0f921\"]],\"type\":\"histogram2dcontour\"}],\"mesh3d\":[{\"colorbar\":{\"outlinewidth\":0,\"ticks\":\"\"},\"type\":\"mesh3d\"}],\"parcoords\":[{\"line\":{\"colorbar\":{\"outlinewidth\":0,\"ticks\":\"\"}},\"type\":\"parcoords\"}],\"pie\":[{\"automargin\":true,\"type\":\"pie\"}],\"scatter\":[{\"marker\":{\"colorbar\":{\"outlinewidth\":0,\"ticks\":\"\"}},\"type\":\"scatter\"}],\"scatter3d\":[{\"line\":{\"colorbar\":{\"outlinewidth\":0,\"ticks\":\"\"}},\"marker\":{\"colorbar\":{\"outlinewidth\":0,\"ticks\":\"\"}},\"type\":\"scatter3d\"}],\"scattercarpet\":[{\"marker\":{\"colorbar\":{\"outlinewidth\":0,\"ticks\":\"\"}},\"type\":\"scattercarpet\"}],\"scattergeo\":[{\"marker\":{\"colorbar\":{\"outlinewidth\":0,\"ticks\":\"\"}},\"type\":\"scattergeo\"}],\"scattergl\":[{\"marker\":{\"colorbar\":{\"outlinewidth\":0,\"ticks\":\"\"}},\"type\":\"scattergl\"}],\"scattermapbox\":[{\"marker\":{\"colorbar\":{\"outlinewidth\":0,\"ticks\":\"\"}},\"type\":\"scattermapbox\"}],\"scatterpolar\":[{\"marker\":{\"colorbar\":{\"outlinewidth\":0,\"ticks\":\"\"}},\"type\":\"scatterpolar\"}],\"scatterpolargl\":[{\"marker\":{\"colorbar\":{\"outlinewidth\":0,\"ticks\":\"\"}},\"type\":\"scatterpolargl\"}],\"scatterternary\":[{\"marker\":{\"colorbar\":{\"outlinewidth\":0,\"ticks\":\"\"}},\"type\":\"scatterternary\"}],\"surface\":[{\"colorbar\":{\"outlinewidth\":0,\"ticks\":\"\"},\"colorscale\":[[0.0,\"#0d0887\"],[0.1111111111111111,\"#46039f\"],[0.2222222222222222,\"#7201a8\"],[0.3333333333333333,\"#9c179e\"],[0.4444444444444444,\"#bd3786\"],[0.5555555555555556,\"#d8576b\"],[0.6666666666666666,\"#ed7953\"],[0.7777777777777778,\"#fb9f3a\"],[0.8888888888888888,\"#fdca26\"],[1.0,\"#f0f921\"]],\"type\":\"surface\"}],\"table\":[{\"cells\":{\"fill\":{\"color\":\"#EBF0F8\"},\"line\":{\"color\":\"white\"}},\"header\":{\"fill\":{\"color\":\"#C8D4E3\"},\"line\":{\"color\":\"white\"}},\"type\":\"table\"}]},\"layout\":{\"annotationdefaults\":{\"arrowcolor\":\"#2a3f5f\",\"arrowhead\":0,\"arrowwidth\":1},\"autotypenumbers\":\"strict\",\"coloraxis\":{\"colorbar\":{\"outlinewidth\":0,\"ticks\":\"\"}},\"colorscale\":{\"diverging\":[[0,\"#8e0152\"],[0.1,\"#c51b7d\"],[0.2,\"#de77ae\"],[0.3,\"#f1b6da\"],[0.4,\"#fde0ef\"],[0.5,\"#f7f7f7\"],[0.6,\"#e6f5d0\"],[0.7,\"#b8e186\"],[0.8,\"#7fbc41\"],[0.9,\"#4d9221\"],[1,\"#276419\"]],\"sequential\":[[0.0,\"#0d0887\"],[0.1111111111111111,\"#46039f\"],[0.2222222222222222,\"#7201a8\"],[0.3333333333333333,\"#9c179e\"],[0.4444444444444444,\"#bd3786\"],[0.5555555555555556,\"#d8576b\"],[0.6666666666666666,\"#ed7953\"],[0.7777777777777778,\"#fb9f3a\"],[0.8888888888888888,\"#fdca26\"],[1.0,\"#f0f921\"]],\"sequentialminus\":[[0.0,\"#0d0887\"],[0.1111111111111111,\"#46039f\"],[0.2222222222222222,\"#7201a8\"],[0.3333333333333333,\"#9c179e\"],[0.4444444444444444,\"#bd3786\"],[0.5555555555555556,\"#d8576b\"],[0.6666666666666666,\"#ed7953\"],[0.7777777777777778,\"#fb9f3a\"],[0.8888888888888888,\"#fdca26\"],[1.0,\"#f0f921\"]]},\"colorway\":[\"#636efa\",\"#EF553B\",\"#00cc96\",\"#ab63fa\",\"#FFA15A\",\"#19d3f3\",\"#FF6692\",\"#B6E880\",\"#FF97FF\",\"#FECB52\"],\"font\":{\"color\":\"#2a3f5f\"},\"geo\":{\"bgcolor\":\"white\",\"lakecolor\":\"white\",\"landcolor\":\"#E5ECF6\",\"showlakes\":true,\"showland\":true,\"subunitcolor\":\"white\"},\"hoverlabel\":{\"align\":\"left\"},\"hovermode\":\"closest\",\"mapbox\":{\"style\":\"light\"},\"paper_bgcolor\":\"white\",\"plot_bgcolor\":\"#E5ECF6\",\"polar\":{\"angularaxis\":{\"gridcolor\":\"white\",\"linecolor\":\"white\",\"ticks\":\"\"},\"bgcolor\":\"#E5ECF6\",\"radialaxis\":{\"gridcolor\":\"white\",\"linecolor\":\"white\",\"ticks\":\"\"}},\"scene\":{\"xaxis\":{\"backgroundcolor\":\"#E5ECF6\",\"gridcolor\":\"white\",\"gridwidth\":2,\"linecolor\":\"white\",\"showbackground\":true,\"ticks\":\"\",\"zerolinecolor\":\"white\"},\"yaxis\":{\"backgroundcolor\":\"#E5ECF6\",\"gridcolor\":\"white\",\"gridwidth\":2,\"linecolor\":\"white\",\"showbackground\":true,\"ticks\":\"\",\"zerolinecolor\":\"white\"},\"zaxis\":{\"backgroundcolor\":\"#E5ECF6\",\"gridcolor\":\"white\",\"gridwidth\":2,\"linecolor\":\"white\",\"showbackground\":true,\"ticks\":\"\",\"zerolinecolor\":\"white\"}},\"shapedefaults\":{\"line\":{\"color\":\"#2a3f5f\"}},\"ternary\":{\"aaxis\":{\"gridcolor\":\"white\",\"linecolor\":\"white\",\"ticks\":\"\"},\"baxis\":{\"gridcolor\":\"white\",\"linecolor\":\"white\",\"ticks\":\"\"},\"bgcolor\":\"#E5ECF6\",\"caxis\":{\"gridcolor\":\"white\",\"linecolor\":\"white\",\"ticks\":\"\"}},\"title\":{\"x\":0.05},\"xaxis\":{\"automargin\":true,\"gridcolor\":\"white\",\"linecolor\":\"white\",\"ticks\":\"\",\"title\":{\"standoff\":15},\"zerolinecolor\":\"white\",\"zerolinewidth\":2},\"yaxis\":{\"automargin\":true,\"gridcolor\":\"white\",\"linecolor\":\"white\",\"ticks\":\"\",\"title\":{\"standoff\":15},\"zerolinecolor\":\"white\",\"zerolinewidth\":2}}},\"width\":500,\"xaxis\":{\"anchor\":\"y\",\"domain\":[0.0,1.0],\"title\":{\"text\":\"0\"}},\"yaxis\":{\"anchor\":\"x\",\"domain\":[0.0,1.0],\"title\":{\"text\":\"1\"}}},                        {\"responsive\": true}                    ).then(function(){\n",
       "                            \n",
       "var gd = document.getElementById('ba8207c4-078c-4b2b-bd00-258c602cc85a');\n",
       "var x = new MutationObserver(function (mutations, observer) {{\n",
       "        var display = window.getComputedStyle(gd).display;\n",
       "        if (!display || display === 'none') {{\n",
       "            console.log([gd, 'removed!']);\n",
       "            Plotly.purge(gd);\n",
       "            observer.disconnect();\n",
       "        }}\n",
       "}});\n",
       "\n",
       "// Listen for the removal of the full notebook cells\n",
       "var notebookContainer = gd.closest('#notebook-container');\n",
       "if (notebookContainer) {{\n",
       "    x.observe(notebookContainer, {childList: true});\n",
       "}}\n",
       "\n",
       "// Listen for the clearing of the current output cell\n",
       "var outputEl = gd.closest('.output');\n",
       "if (outputEl) {{\n",
       "    x.observe(outputEl, {childList: true});\n",
       "}}\n",
       "\n",
       "                        })                };                });            </script>        </div>"
      ]
     },
     "metadata": {},
     "output_type": "display_data"
    }
   ],
   "source": [
    "components_knn = pca(knn_pred, X_test)\n",
    "visu_pca(components_knn, knn_pred)"
   ]
  },
  {
   "cell_type": "code",
   "execution_count": null,
   "id": "6d630bdc",
   "metadata": {},
   "outputs": [],
   "source": [
    "components_xgb = pca(xgb_pred, X_test)\n",
    "visu_pca(components_xgb, xgb_pred)"
   ]
  }
 ],
 "metadata": {
  "kernelspec": {
   "display_name": "Python 3",
   "language": "python",
   "name": "python3"
  },
  "language_info": {
   "codemirror_mode": {
    "name": "ipython",
    "version": 3
   },
   "file_extension": ".py",
   "mimetype": "text/x-python",
   "name": "python",
   "nbconvert_exporter": "python",
   "pygments_lexer": "ipython3",
   "version": "3.8.10"
  }
 },
 "nbformat": 4,
 "nbformat_minor": 5
}
