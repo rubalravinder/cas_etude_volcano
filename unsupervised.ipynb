{
 "cells": [
  {
   "cell_type": "markdown",
   "metadata": {},
   "source": [
    "## Load Data"
   ]
  },
  {
   "cell_type": "code",
   "execution_count": 26,
   "metadata": {},
   "outputs": [
    {
     "name": "stdout",
     "output_type": "stream",
     "text": [
      "The autoreload extension is already loaded. To reload it, use:\n",
      "  %reload_ext autoreload\n"
     ]
    }
   ],
   "source": [
    "%load_ext autoreload\n",
    "%autoreload 2\n",
    "\n",
    "import pandas as pd\n",
    "import os\n",
    "import numpy as np\n",
    "from sklearn.metrics import rand_score, adjusted_rand_score"
   ]
  },
  {
   "cell_type": "code",
   "execution_count": 2,
   "metadata": {},
   "outputs": [],
   "source": [
    "try:\n",
    "    table = pd.read_pickle(\"data/table.pkl\")\n",
    "except:\n",
    "    table = pd.read_excel(\"data/association_table_corrected_index.xlsx\")\n",
    "    table.to_pickle(\"data/table.pkl\")"
   ]
  },
  {
   "cell_type": "code",
   "execution_count": 3,
   "metadata": {},
   "outputs": [],
   "source": [
    "from transformer import Event\n",
    "from subsampler import balanced_subsampler\n",
    "\n",
    "NUMBER_OF_SAMPLES_PER_EVENT = 100"
   ]
  },
  {
   "cell_type": "code",
   "execution_count": 4,
   "metadata": {},
   "outputs": [],
   "source": [
    "\n",
    "tablerich = Event().fit_transform(table)"
   ]
  },
  {
   "cell_type": "code",
   "execution_count": 5,
   "metadata": {},
   "outputs": [
    {
     "data": {
      "text/plain": [
       "EXP    100\n",
       "TR     100\n",
       "LP     100\n",
       "VT     100\n",
       "TOR    100\n",
       "HIB    100\n",
       "PIS    100\n",
       "Name: event, dtype: int64"
      ]
     },
     "execution_count": 5,
     "metadata": {},
     "output_type": "execute_result"
    }
   ],
   "source": [
    "balanced_table = balanced_subsampler(tablerich, NUMBER_OF_SAMPLES_PER_EVENT)\n",
    "balanced_table.event.value_counts()"
   ]
  },
  {
   "cell_type": "code",
   "execution_count": 6,
   "metadata": {},
   "outputs": [],
   "source": [
    "from transformer import Transformer\n",
    "\n",
    "df = Transformer(\"data/Extracted/\").fit_transform(balanced_table)"
   ]
  },
  {
   "cell_type": "code",
   "execution_count": 7,
   "metadata": {},
   "outputs": [
    {
     "data": {
      "text/html": [
       "<div>\n",
       "<style scoped>\n",
       "    .dataframe tbody tr th:only-of-type {\n",
       "        vertical-align: middle;\n",
       "    }\n",
       "\n",
       "    .dataframe tbody tr th {\n",
       "        vertical-align: top;\n",
       "    }\n",
       "\n",
       "    .dataframe thead th {\n",
       "        text-align: right;\n",
       "    }\n",
       "</style>\n",
       "<table border=\"1\" class=\"dataframe\">\n",
       "  <thead>\n",
       "    <tr style=\"text-align: right;\">\n",
       "      <th></th>\n",
       "      <th>Index</th>\n",
       "      <th>Event</th>\n",
       "      <th>Duration</th>\n",
       "      <th>Event start</th>\n",
       "      <th>Event stop</th>\n",
       "      <th>Sampling rate</th>\n",
       "      <th>Overlap</th>\n",
       "      <th>npts</th>\n",
       "      <th>energy</th>\n",
       "      <th>path</th>\n",
       "      <th>...</th>\n",
       "      <th>amplitude</th>\n",
       "      <th>kurtosis</th>\n",
       "      <th>skew</th>\n",
       "      <th>variance_TF</th>\n",
       "      <th>mean_TF</th>\n",
       "      <th>median_TF</th>\n",
       "      <th>maximum_TF</th>\n",
       "      <th>amplitude_TF</th>\n",
       "      <th>kurtosis_TF</th>\n",
       "      <th>skew_TF</th>\n",
       "    </tr>\n",
       "  </thead>\n",
       "  <tbody>\n",
       "    <tr>\n",
       "      <th>5101</th>\n",
       "      <td>5101</td>\n",
       "      <td>EXP</td>\n",
       "      <td>40</td>\n",
       "      <td>2006-06-13 06:46:02.010000+00:00</td>\n",
       "      <td>2006-06-13 06:46:42.010000+00:00</td>\n",
       "      <td>100.0</td>\n",
       "      <td>False</td>\n",
       "      <td>360001.0</td>\n",
       "      <td>316.71740</td>\n",
       "      <td>data/Extracted/EXP/EXP_5101.npy</td>\n",
       "      <td>...</td>\n",
       "      <td>38413.0</td>\n",
       "      <td>0.518151</td>\n",
       "      <td>0.261402</td>\n",
       "      <td>69129.441032</td>\n",
       "      <td>86.283524</td>\n",
       "      <td>3.608489</td>\n",
       "      <td>4887.105973</td>\n",
       "      <td>4887.079673</td>\n",
       "      <td>87.423590</td>\n",
       "      <td>7.177932</td>\n",
       "    </tr>\n",
       "    <tr>\n",
       "      <th>73362</th>\n",
       "      <td>73362</td>\n",
       "      <td>TR2</td>\n",
       "      <td>58</td>\n",
       "      <td>2007-05-18 15:57:09.260000+00:00</td>\n",
       "      <td>2007-05-18 15:58:07.260000+00:00</td>\n",
       "      <td>100.0</td>\n",
       "      <td>False</td>\n",
       "      <td>360001.0</td>\n",
       "      <td>0.17495</td>\n",
       "      <td>data/Extracted/TR/TR_73362.npy</td>\n",
       "      <td>...</td>\n",
       "      <td>2257.0</td>\n",
       "      <td>6.936197</td>\n",
       "      <td>-0.184058</td>\n",
       "      <td>52.012651</td>\n",
       "      <td>2.372029</td>\n",
       "      <td>1.268538</td>\n",
       "      <td>466.833793</td>\n",
       "      <td>466.779446</td>\n",
       "      <td>2965.022240</td>\n",
       "      <td>46.733409</td>\n",
       "    </tr>\n",
       "    <tr>\n",
       "      <th>112466</th>\n",
       "      <td>112466</td>\n",
       "      <td>TR2</td>\n",
       "      <td>161</td>\n",
       "      <td>2008-09-16 11:52:09.960000+00:00</td>\n",
       "      <td>2008-09-16 11:54:50.960000+00:00</td>\n",
       "      <td>50.0</td>\n",
       "      <td>False</td>\n",
       "      <td>180001.0</td>\n",
       "      <td>0.62860</td>\n",
       "      <td>data/Extracted/TR/TR_112466.npy</td>\n",
       "      <td>...</td>\n",
       "      <td>725.0</td>\n",
       "      <td>1.984253</td>\n",
       "      <td>0.018066</td>\n",
       "      <td>3.094484</td>\n",
       "      <td>0.806686</td>\n",
       "      <td>0.309733</td>\n",
       "      <td>121.453913</td>\n",
       "      <td>121.453687</td>\n",
       "      <td>2747.279464</td>\n",
       "      <td>40.714358</td>\n",
       "    </tr>\n",
       "    <tr>\n",
       "      <th>13293</th>\n",
       "      <td>13293</td>\n",
       "      <td>LP1</td>\n",
       "      <td>26</td>\n",
       "      <td>2006-06-28 13:36:36.350000+00:00</td>\n",
       "      <td>2006-06-28 13:37:02.350000+00:00</td>\n",
       "      <td>40.0</td>\n",
       "      <td>False</td>\n",
       "      <td>143999.0</td>\n",
       "      <td>0.01065</td>\n",
       "      <td>data/Extracted/LP/LP_13293.npy</td>\n",
       "      <td>...</td>\n",
       "      <td>725.0</td>\n",
       "      <td>0.677129</td>\n",
       "      <td>0.320214</td>\n",
       "      <td>24.968810</td>\n",
       "      <td>4.120757</td>\n",
       "      <td>2.616995</td>\n",
       "      <td>63.940385</td>\n",
       "      <td>63.806739</td>\n",
       "      <td>28.982344</td>\n",
       "      <td>4.208374</td>\n",
       "    </tr>\n",
       "    <tr>\n",
       "      <th>115192</th>\n",
       "      <td>115192</td>\n",
       "      <td>EXP</td>\n",
       "      <td>38</td>\n",
       "      <td>2009-06-01 04:22:20.070000+00:00</td>\n",
       "      <td>2009-06-01 04:22:58.070000+00:00</td>\n",
       "      <td>50.0</td>\n",
       "      <td>False</td>\n",
       "      <td>180001.0</td>\n",
       "      <td>37.25233</td>\n",
       "      <td>data/Extracted/EXP/EXP_115192.npy</td>\n",
       "      <td>...</td>\n",
       "      <td>66.0</td>\n",
       "      <td>1.601057</td>\n",
       "      <td>0.070073</td>\n",
       "      <td>8.444194</td>\n",
       "      <td>0.259406</td>\n",
       "      <td>0.112882</td>\n",
       "      <td>126.453684</td>\n",
       "      <td>126.452513</td>\n",
       "      <td>1868.926737</td>\n",
       "      <td>43.106304</td>\n",
       "    </tr>\n",
       "    <tr>\n",
       "      <th>...</th>\n",
       "      <td>...</td>\n",
       "      <td>...</td>\n",
       "      <td>...</td>\n",
       "      <td>...</td>\n",
       "      <td>...</td>\n",
       "      <td>...</td>\n",
       "      <td>...</td>\n",
       "      <td>...</td>\n",
       "      <td>...</td>\n",
       "      <td>...</td>\n",
       "      <td>...</td>\n",
       "      <td>...</td>\n",
       "      <td>...</td>\n",
       "      <td>...</td>\n",
       "      <td>...</td>\n",
       "      <td>...</td>\n",
       "      <td>...</td>\n",
       "      <td>...</td>\n",
       "      <td>...</td>\n",
       "      <td>...</td>\n",
       "      <td>...</td>\n",
       "    </tr>\n",
       "    <tr>\n",
       "      <th>92877</th>\n",
       "      <td>92877</td>\n",
       "      <td>HIB</td>\n",
       "      <td>48</td>\n",
       "      <td>2007-01-11 09:48:13.250000+00:00</td>\n",
       "      <td>2007-01-11 09:49:01.250000+00:00</td>\n",
       "      <td>40.0</td>\n",
       "      <td>False</td>\n",
       "      <td>143999.0</td>\n",
       "      <td>0.45789</td>\n",
       "      <td>data/Extracted/HIB/HIB_92877.npy</td>\n",
       "      <td>...</td>\n",
       "      <td>1109.0</td>\n",
       "      <td>0.029272</td>\n",
       "      <td>-0.130524</td>\n",
       "      <td>17.916590</td>\n",
       "      <td>4.966364</td>\n",
       "      <td>4.347765</td>\n",
       "      <td>57.246875</td>\n",
       "      <td>57.033474</td>\n",
       "      <td>53.098012</td>\n",
       "      <td>5.836510</td>\n",
       "    </tr>\n",
       "    <tr>\n",
       "      <th>59512</th>\n",
       "      <td>59512</td>\n",
       "      <td>LP1</td>\n",
       "      <td>71</td>\n",
       "      <td>2007-03-20 15:00:07.360000+00:00</td>\n",
       "      <td>2007-03-20 15:01:18.360000+00:00</td>\n",
       "      <td>40.0</td>\n",
       "      <td>False</td>\n",
       "      <td>143999.0</td>\n",
       "      <td>0.03721</td>\n",
       "      <td>data/Extracted/LP/LP_59512.npy</td>\n",
       "      <td>...</td>\n",
       "      <td>1057.0</td>\n",
       "      <td>2.293443</td>\n",
       "      <td>-0.007669</td>\n",
       "      <td>33.102479</td>\n",
       "      <td>2.742634</td>\n",
       "      <td>1.610340</td>\n",
       "      <td>264.607746</td>\n",
       "      <td>264.550264</td>\n",
       "      <td>1509.038890</td>\n",
       "      <td>33.601314</td>\n",
       "    </tr>\n",
       "    <tr>\n",
       "      <th>91534</th>\n",
       "      <td>91534</td>\n",
       "      <td>PIS</td>\n",
       "      <td>15</td>\n",
       "      <td>2007-10-15 04:26:57.890000+00:00</td>\n",
       "      <td>2007-10-15 04:27:12.890000+00:00</td>\n",
       "      <td>50.0</td>\n",
       "      <td>False</td>\n",
       "      <td>180001.0</td>\n",
       "      <td>0.15513</td>\n",
       "      <td>data/Extracted/PIS/PIS_91534.npy</td>\n",
       "      <td>...</td>\n",
       "      <td>1012.0</td>\n",
       "      <td>3.614060</td>\n",
       "      <td>-0.377447</td>\n",
       "      <td>54.655739</td>\n",
       "      <td>3.978773</td>\n",
       "      <td>1.138115</td>\n",
       "      <td>109.157333</td>\n",
       "      <td>109.141785</td>\n",
       "      <td>59.449253</td>\n",
       "      <td>5.676863</td>\n",
       "    </tr>\n",
       "    <tr>\n",
       "      <th>42861</th>\n",
       "      <td>42861</td>\n",
       "      <td>LP1</td>\n",
       "      <td>28</td>\n",
       "      <td>2006-12-19 22:43:54.570000+00:00</td>\n",
       "      <td>2006-12-19 22:44:22.570000+00:00</td>\n",
       "      <td>40.0</td>\n",
       "      <td>False</td>\n",
       "      <td>143999.0</td>\n",
       "      <td>0.05548</td>\n",
       "      <td>data/Extracted/LP/LP_42861.npy</td>\n",
       "      <td>...</td>\n",
       "      <td>1477.0</td>\n",
       "      <td>0.773958</td>\n",
       "      <td>-0.150468</td>\n",
       "      <td>241.416027</td>\n",
       "      <td>7.106196</td>\n",
       "      <td>1.686882</td>\n",
       "      <td>369.925000</td>\n",
       "      <td>369.805476</td>\n",
       "      <td>267.967166</td>\n",
       "      <td>12.638343</td>\n",
       "    </tr>\n",
       "    <tr>\n",
       "      <th>104590</th>\n",
       "      <td>104590</td>\n",
       "      <td>PIS</td>\n",
       "      <td>50</td>\n",
       "      <td>2008-03-31 10:49:52.950000+00:00</td>\n",
       "      <td>2008-03-31 10:50:42.950000+00:00</td>\n",
       "      <td>50.0</td>\n",
       "      <td>False</td>\n",
       "      <td>180001.0</td>\n",
       "      <td>0.46215</td>\n",
       "      <td>data/Extracted/PIS/PIS_104590.npy</td>\n",
       "      <td>...</td>\n",
       "      <td>1321.0</td>\n",
       "      <td>11.873626</td>\n",
       "      <td>-0.187134</td>\n",
       "      <td>14.726823</td>\n",
       "      <td>2.081831</td>\n",
       "      <td>0.836613</td>\n",
       "      <td>106.173600</td>\n",
       "      <td>106.171978</td>\n",
       "      <td>221.248288</td>\n",
       "      <td>9.864637</td>\n",
       "    </tr>\n",
       "  </tbody>\n",
       "</table>\n",
       "<p>700 rows × 25 columns</p>\n",
       "</div>"
      ],
      "text/plain": [
       "         Index Event  Duration                       Event start  \\\n",
       "5101      5101   EXP        40  2006-06-13 06:46:02.010000+00:00   \n",
       "73362    73362   TR2        58  2007-05-18 15:57:09.260000+00:00   \n",
       "112466  112466   TR2       161  2008-09-16 11:52:09.960000+00:00   \n",
       "13293    13293   LP1        26  2006-06-28 13:36:36.350000+00:00   \n",
       "115192  115192   EXP        38  2009-06-01 04:22:20.070000+00:00   \n",
       "...        ...   ...       ...                               ...   \n",
       "92877    92877   HIB        48  2007-01-11 09:48:13.250000+00:00   \n",
       "59512    59512   LP1        71  2007-03-20 15:00:07.360000+00:00   \n",
       "91534    91534   PIS        15  2007-10-15 04:26:57.890000+00:00   \n",
       "42861    42861   LP1        28  2006-12-19 22:43:54.570000+00:00   \n",
       "104590  104590   PIS        50  2008-03-31 10:49:52.950000+00:00   \n",
       "\n",
       "                              Event stop  Sampling rate  Overlap      npts  \\\n",
       "5101    2006-06-13 06:46:42.010000+00:00          100.0    False  360001.0   \n",
       "73362   2007-05-18 15:58:07.260000+00:00          100.0    False  360001.0   \n",
       "112466  2008-09-16 11:54:50.960000+00:00           50.0    False  180001.0   \n",
       "13293   2006-06-28 13:37:02.350000+00:00           40.0    False  143999.0   \n",
       "115192  2009-06-01 04:22:58.070000+00:00           50.0    False  180001.0   \n",
       "...                                  ...            ...      ...       ...   \n",
       "92877   2007-01-11 09:49:01.250000+00:00           40.0    False  143999.0   \n",
       "59512   2007-03-20 15:01:18.360000+00:00           40.0    False  143999.0   \n",
       "91534   2007-10-15 04:27:12.890000+00:00           50.0    False  180001.0   \n",
       "42861   2006-12-19 22:44:22.570000+00:00           40.0    False  143999.0   \n",
       "104590  2008-03-31 10:50:42.950000+00:00           50.0    False  180001.0   \n",
       "\n",
       "           energy                               path  ... amplitude  \\\n",
       "5101    316.71740    data/Extracted/EXP/EXP_5101.npy  ...   38413.0   \n",
       "73362     0.17495     data/Extracted/TR/TR_73362.npy  ...    2257.0   \n",
       "112466    0.62860    data/Extracted/TR/TR_112466.npy  ...     725.0   \n",
       "13293     0.01065     data/Extracted/LP/LP_13293.npy  ...     725.0   \n",
       "115192   37.25233  data/Extracted/EXP/EXP_115192.npy  ...      66.0   \n",
       "...           ...                                ...  ...       ...   \n",
       "92877     0.45789   data/Extracted/HIB/HIB_92877.npy  ...    1109.0   \n",
       "59512     0.03721     data/Extracted/LP/LP_59512.npy  ...    1057.0   \n",
       "91534     0.15513   data/Extracted/PIS/PIS_91534.npy  ...    1012.0   \n",
       "42861     0.05548     data/Extracted/LP/LP_42861.npy  ...    1477.0   \n",
       "104590    0.46215  data/Extracted/PIS/PIS_104590.npy  ...    1321.0   \n",
       "\n",
       "         kurtosis      skew   variance_TF    mean_TF  median_TF   maximum_TF  \\\n",
       "5101     0.518151  0.261402  69129.441032  86.283524   3.608489  4887.105973   \n",
       "73362    6.936197 -0.184058     52.012651   2.372029   1.268538   466.833793   \n",
       "112466   1.984253  0.018066      3.094484   0.806686   0.309733   121.453913   \n",
       "13293    0.677129  0.320214     24.968810   4.120757   2.616995    63.940385   \n",
       "115192   1.601057  0.070073      8.444194   0.259406   0.112882   126.453684   \n",
       "...           ...       ...           ...        ...        ...          ...   \n",
       "92877    0.029272 -0.130524     17.916590   4.966364   4.347765    57.246875   \n",
       "59512    2.293443 -0.007669     33.102479   2.742634   1.610340   264.607746   \n",
       "91534    3.614060 -0.377447     54.655739   3.978773   1.138115   109.157333   \n",
       "42861    0.773958 -0.150468    241.416027   7.106196   1.686882   369.925000   \n",
       "104590  11.873626 -0.187134     14.726823   2.081831   0.836613   106.173600   \n",
       "\n",
       "        amplitude_TF  kurtosis_TF    skew_TF  \n",
       "5101     4887.079673    87.423590   7.177932  \n",
       "73362     466.779446  2965.022240  46.733409  \n",
       "112466    121.453687  2747.279464  40.714358  \n",
       "13293      63.806739    28.982344   4.208374  \n",
       "115192    126.452513  1868.926737  43.106304  \n",
       "...              ...          ...        ...  \n",
       "92877      57.033474    53.098012   5.836510  \n",
       "59512     264.550264  1509.038890  33.601314  \n",
       "91534     109.141785    59.449253   5.676863  \n",
       "42861     369.805476   267.967166  12.638343  \n",
       "104590    106.171978   221.248288   9.864637  \n",
       "\n",
       "[700 rows x 25 columns]"
      ]
     },
     "execution_count": 7,
     "metadata": {},
     "output_type": "execute_result"
    }
   ],
   "source": [
    "df"
   ]
  },
  {
   "cell_type": "code",
   "execution_count": 8,
   "metadata": {},
   "outputs": [],
   "source": [
    "features = [\"variance\", \"mean\", \"median\", \"maximum\", \"amplitude\", \"Duration\", \"energy\", \"skew\", \"kurtosis\", \"variance_TF\", \"mean_TF\", \"median_TF\", \"maximum_TF\", \"amplitude_TF\", \"kurtosis_TF\", \"skew_TF\"]"
   ]
  },
  {
   "cell_type": "code",
   "execution_count": 9,
   "metadata": {},
   "outputs": [
    {
     "data": {
      "text/html": [
       "<div>\n",
       "<style scoped>\n",
       "    .dataframe tbody tr th:only-of-type {\n",
       "        vertical-align: middle;\n",
       "    }\n",
       "\n",
       "    .dataframe tbody tr th {\n",
       "        vertical-align: top;\n",
       "    }\n",
       "\n",
       "    .dataframe thead th {\n",
       "        text-align: right;\n",
       "    }\n",
       "</style>\n",
       "<table border=\"1\" class=\"dataframe\">\n",
       "  <thead>\n",
       "    <tr style=\"text-align: right;\">\n",
       "      <th></th>\n",
       "      <th>variance</th>\n",
       "      <th>mean</th>\n",
       "      <th>median</th>\n",
       "      <th>maximum</th>\n",
       "      <th>amplitude</th>\n",
       "      <th>Duration</th>\n",
       "      <th>energy</th>\n",
       "      <th>skew</th>\n",
       "      <th>kurtosis</th>\n",
       "      <th>variance_TF</th>\n",
       "      <th>mean_TF</th>\n",
       "      <th>median_TF</th>\n",
       "      <th>maximum_TF</th>\n",
       "      <th>amplitude_TF</th>\n",
       "      <th>kurtosis_TF</th>\n",
       "      <th>skew_TF</th>\n",
       "    </tr>\n",
       "  </thead>\n",
       "  <tbody>\n",
       "    <tr>\n",
       "      <th>5101</th>\n",
       "      <td>7.645973e+07</td>\n",
       "      <td>338.469238</td>\n",
       "      <td>325.0</td>\n",
       "      <td>21057.0</td>\n",
       "      <td>38413.0</td>\n",
       "      <td>40</td>\n",
       "      <td>316.71740</td>\n",
       "      <td>0.261402</td>\n",
       "      <td>0.518151</td>\n",
       "      <td>69129.441032</td>\n",
       "      <td>86.283524</td>\n",
       "      <td>3.608489</td>\n",
       "      <td>4887.105973</td>\n",
       "      <td>4887.079673</td>\n",
       "      <td>87.423590</td>\n",
       "      <td>7.177932</td>\n",
       "    </tr>\n",
       "    <tr>\n",
       "      <th>73362</th>\n",
       "      <td>2.909335e+04</td>\n",
       "      <td>-233.416901</td>\n",
       "      <td>-231.0</td>\n",
       "      <td>797.0</td>\n",
       "      <td>2257.0</td>\n",
       "      <td>58</td>\n",
       "      <td>0.17495</td>\n",
       "      <td>-0.184058</td>\n",
       "      <td>6.936197</td>\n",
       "      <td>52.012651</td>\n",
       "      <td>2.372029</td>\n",
       "      <td>1.268538</td>\n",
       "      <td>466.833793</td>\n",
       "      <td>466.779446</td>\n",
       "      <td>2965.022240</td>\n",
       "      <td>46.733409</td>\n",
       "    </tr>\n",
       "    <tr>\n",
       "      <th>112466</th>\n",
       "      <td>3.849504e+03</td>\n",
       "      <td>60.726955</td>\n",
       "      <td>61.0</td>\n",
       "      <td>439.0</td>\n",
       "      <td>725.0</td>\n",
       "      <td>161</td>\n",
       "      <td>0.62860</td>\n",
       "      <td>0.018066</td>\n",
       "      <td>1.984253</td>\n",
       "      <td>3.094484</td>\n",
       "      <td>0.806686</td>\n",
       "      <td>0.309733</td>\n",
       "      <td>121.453913</td>\n",
       "      <td>121.453687</td>\n",
       "      <td>2747.279464</td>\n",
       "      <td>40.714358</td>\n",
       "    </tr>\n",
       "    <tr>\n",
       "      <th>13293</th>\n",
       "      <td>9.884764e+03</td>\n",
       "      <td>-31.970192</td>\n",
       "      <td>-37.5</td>\n",
       "      <td>357.0</td>\n",
       "      <td>725.0</td>\n",
       "      <td>26</td>\n",
       "      <td>0.01065</td>\n",
       "      <td>0.320214</td>\n",
       "      <td>0.677129</td>\n",
       "      <td>24.968810</td>\n",
       "      <td>4.120757</td>\n",
       "      <td>2.616995</td>\n",
       "      <td>63.940385</td>\n",
       "      <td>63.806739</td>\n",
       "      <td>28.982344</td>\n",
       "      <td>4.208374</td>\n",
       "    </tr>\n",
       "    <tr>\n",
       "      <th>115192</th>\n",
       "      <td>4.532170e+01</td>\n",
       "      <td>63.226841</td>\n",
       "      <td>63.0</td>\n",
       "      <td>99.0</td>\n",
       "      <td>66.0</td>\n",
       "      <td>38</td>\n",
       "      <td>37.25233</td>\n",
       "      <td>0.070073</td>\n",
       "      <td>1.601057</td>\n",
       "      <td>8.444194</td>\n",
       "      <td>0.259406</td>\n",
       "      <td>0.112882</td>\n",
       "      <td>126.453684</td>\n",
       "      <td>126.452513</td>\n",
       "      <td>1868.926737</td>\n",
       "      <td>43.106304</td>\n",
       "    </tr>\n",
       "    <tr>\n",
       "      <th>...</th>\n",
       "      <td>...</td>\n",
       "      <td>...</td>\n",
       "      <td>...</td>\n",
       "      <td>...</td>\n",
       "      <td>...</td>\n",
       "      <td>...</td>\n",
       "      <td>...</td>\n",
       "      <td>...</td>\n",
       "      <td>...</td>\n",
       "      <td>...</td>\n",
       "      <td>...</td>\n",
       "      <td>...</td>\n",
       "      <td>...</td>\n",
       "      <td>...</td>\n",
       "      <td>...</td>\n",
       "      <td>...</td>\n",
       "    </tr>\n",
       "    <tr>\n",
       "      <th>92877</th>\n",
       "      <td>1.961975e+04</td>\n",
       "      <td>-28.623438</td>\n",
       "      <td>-22.0</td>\n",
       "      <td>554.0</td>\n",
       "      <td>1109.0</td>\n",
       "      <td>48</td>\n",
       "      <td>0.45789</td>\n",
       "      <td>-0.130524</td>\n",
       "      <td>0.029272</td>\n",
       "      <td>17.916590</td>\n",
       "      <td>4.966364</td>\n",
       "      <td>4.347765</td>\n",
       "      <td>57.246875</td>\n",
       "      <td>57.033474</td>\n",
       "      <td>53.098012</td>\n",
       "      <td>5.836510</td>\n",
       "    </tr>\n",
       "    <tr>\n",
       "      <th>59512</th>\n",
       "      <td>1.133909e+04</td>\n",
       "      <td>-132.303879</td>\n",
       "      <td>-130.0</td>\n",
       "      <td>342.0</td>\n",
       "      <td>1057.0</td>\n",
       "      <td>71</td>\n",
       "      <td>0.03721</td>\n",
       "      <td>-0.007669</td>\n",
       "      <td>2.293443</td>\n",
       "      <td>33.102479</td>\n",
       "      <td>2.742634</td>\n",
       "      <td>1.610340</td>\n",
       "      <td>264.607746</td>\n",
       "      <td>264.550264</td>\n",
       "      <td>1509.038890</td>\n",
       "      <td>33.601314</td>\n",
       "    </tr>\n",
       "    <tr>\n",
       "      <th>91534</th>\n",
       "      <td>1.023736e+04</td>\n",
       "      <td>54.578667</td>\n",
       "      <td>54.0</td>\n",
       "      <td>526.0</td>\n",
       "      <td>1012.0</td>\n",
       "      <td>15</td>\n",
       "      <td>0.15513</td>\n",
       "      <td>-0.377447</td>\n",
       "      <td>3.614060</td>\n",
       "      <td>54.655739</td>\n",
       "      <td>3.978773</td>\n",
       "      <td>1.138115</td>\n",
       "      <td>109.157333</td>\n",
       "      <td>109.141785</td>\n",
       "      <td>59.449253</td>\n",
       "      <td>5.676863</td>\n",
       "    </tr>\n",
       "    <tr>\n",
       "      <th>42861</th>\n",
       "      <td>4.752481e+04</td>\n",
       "      <td>-184.962494</td>\n",
       "      <td>-179.0</td>\n",
       "      <td>530.0</td>\n",
       "      <td>1477.0</td>\n",
       "      <td>28</td>\n",
       "      <td>0.05548</td>\n",
       "      <td>-0.150468</td>\n",
       "      <td>0.773958</td>\n",
       "      <td>241.416027</td>\n",
       "      <td>7.106196</td>\n",
       "      <td>1.686882</td>\n",
       "      <td>369.925000</td>\n",
       "      <td>369.805476</td>\n",
       "      <td>267.967166</td>\n",
       "      <td>12.638343</td>\n",
       "    </tr>\n",
       "    <tr>\n",
       "      <th>104590</th>\n",
       "      <td>9.094820e+03</td>\n",
       "      <td>53.086800</td>\n",
       "      <td>54.0</td>\n",
       "      <td>741.0</td>\n",
       "      <td>1321.0</td>\n",
       "      <td>50</td>\n",
       "      <td>0.46215</td>\n",
       "      <td>-0.187134</td>\n",
       "      <td>11.873626</td>\n",
       "      <td>14.726823</td>\n",
       "      <td>2.081831</td>\n",
       "      <td>0.836613</td>\n",
       "      <td>106.173600</td>\n",
       "      <td>106.171978</td>\n",
       "      <td>221.248288</td>\n",
       "      <td>9.864637</td>\n",
       "    </tr>\n",
       "  </tbody>\n",
       "</table>\n",
       "<p>700 rows × 16 columns</p>\n",
       "</div>"
      ],
      "text/plain": [
       "            variance        mean  median  maximum  amplitude  Duration  \\\n",
       "5101    7.645973e+07  338.469238   325.0  21057.0    38413.0        40   \n",
       "73362   2.909335e+04 -233.416901  -231.0    797.0     2257.0        58   \n",
       "112466  3.849504e+03   60.726955    61.0    439.0      725.0       161   \n",
       "13293   9.884764e+03  -31.970192   -37.5    357.0      725.0        26   \n",
       "115192  4.532170e+01   63.226841    63.0     99.0       66.0        38   \n",
       "...              ...         ...     ...      ...        ...       ...   \n",
       "92877   1.961975e+04  -28.623438   -22.0    554.0     1109.0        48   \n",
       "59512   1.133909e+04 -132.303879  -130.0    342.0     1057.0        71   \n",
       "91534   1.023736e+04   54.578667    54.0    526.0     1012.0        15   \n",
       "42861   4.752481e+04 -184.962494  -179.0    530.0     1477.0        28   \n",
       "104590  9.094820e+03   53.086800    54.0    741.0     1321.0        50   \n",
       "\n",
       "           energy      skew   kurtosis   variance_TF    mean_TF  median_TF  \\\n",
       "5101    316.71740  0.261402   0.518151  69129.441032  86.283524   3.608489   \n",
       "73362     0.17495 -0.184058   6.936197     52.012651   2.372029   1.268538   \n",
       "112466    0.62860  0.018066   1.984253      3.094484   0.806686   0.309733   \n",
       "13293     0.01065  0.320214   0.677129     24.968810   4.120757   2.616995   \n",
       "115192   37.25233  0.070073   1.601057      8.444194   0.259406   0.112882   \n",
       "...           ...       ...        ...           ...        ...        ...   \n",
       "92877     0.45789 -0.130524   0.029272     17.916590   4.966364   4.347765   \n",
       "59512     0.03721 -0.007669   2.293443     33.102479   2.742634   1.610340   \n",
       "91534     0.15513 -0.377447   3.614060     54.655739   3.978773   1.138115   \n",
       "42861     0.05548 -0.150468   0.773958    241.416027   7.106196   1.686882   \n",
       "104590    0.46215 -0.187134  11.873626     14.726823   2.081831   0.836613   \n",
       "\n",
       "         maximum_TF  amplitude_TF  kurtosis_TF    skew_TF  \n",
       "5101    4887.105973   4887.079673    87.423590   7.177932  \n",
       "73362    466.833793    466.779446  2965.022240  46.733409  \n",
       "112466   121.453913    121.453687  2747.279464  40.714358  \n",
       "13293     63.940385     63.806739    28.982344   4.208374  \n",
       "115192   126.453684    126.452513  1868.926737  43.106304  \n",
       "...             ...           ...          ...        ...  \n",
       "92877     57.246875     57.033474    53.098012   5.836510  \n",
       "59512    264.607746    264.550264  1509.038890  33.601314  \n",
       "91534    109.157333    109.141785    59.449253   5.676863  \n",
       "42861    369.925000    369.805476   267.967166  12.638343  \n",
       "104590   106.173600    106.171978   221.248288   9.864637  \n",
       "\n",
       "[700 rows x 16 columns]"
      ]
     },
     "execution_count": 9,
     "metadata": {},
     "output_type": "execute_result"
    }
   ],
   "source": [
    "df[features]"
   ]
  },
  {
   "cell_type": "markdown",
   "metadata": {},
   "source": [
    "## K-Means Clustering"
   ]
  },
  {
   "cell_type": "code",
   "execution_count": 10,
   "metadata": {},
   "outputs": [
    {
     "data": {
      "text/plain": [
       "KMeans(n_clusters=7)"
      ]
     },
     "execution_count": 10,
     "metadata": {},
     "output_type": "execute_result"
    }
   ],
   "source": [
    "from sklearn.cluster import KMeans\n",
    "\n",
    "kmeans = KMeans(7)\n",
    "\n",
    "kmeans.fit(df[features])"
   ]
  },
  {
   "cell_type": "markdown",
   "metadata": {},
   "source": [
    "### Imbalance measure"
   ]
  },
  {
   "cell_type": "code",
   "execution_count": 11,
   "metadata": {},
   "outputs": [],
   "source": [
    "from gini import gini"
   ]
  },
  {
   "cell_type": "code",
   "execution_count": 12,
   "metadata": {},
   "outputs": [
    {
     "data": {
      "text/plain": [
       "0.9557142857142856"
      ]
     },
     "execution_count": 12,
     "metadata": {},
     "output_type": "execute_result"
    }
   ],
   "source": [
    "gini(kmeans.labels_)"
   ]
  },
  {
   "cell_type": "code",
   "execution_count": 13,
   "metadata": {},
   "outputs": [],
   "source": [
    "from sklearn.preprocessing import LabelEncoder\n",
    "\n",
    "real_labels = LabelEncoder().fit_transform(balanced_table.event.values)"
   ]
  },
  {
   "cell_type": "code",
   "execution_count": 14,
   "metadata": {},
   "outputs": [
    {
     "data": {
      "text/plain": [
       "0.38095238095238093"
      ]
     },
     "execution_count": 14,
     "metadata": {},
     "output_type": "execute_result"
    }
   ],
   "source": [
    "gini(real_labels)"
   ]
  },
  {
   "cell_type": "markdown",
   "metadata": {},
   "source": [
    "### Rand Index"
   ]
  },
  {
   "cell_type": "code",
   "execution_count": 15,
   "metadata": {},
   "outputs": [
    {
     "data": {
      "text/plain": [
       "0.2358593909666871"
      ]
     },
     "execution_count": 15,
     "metadata": {},
     "output_type": "execute_result"
    }
   ],
   "source": [
    "rand_score(kmeans.labels_, real_labels)"
   ]
  },
  {
   "cell_type": "code",
   "execution_count": 16,
   "metadata": {},
   "outputs": [
    {
     "data": {
      "text/plain": [
       "0.009571888287617953"
      ]
     },
     "execution_count": 16,
     "metadata": {},
     "output_type": "execute_result"
    }
   ],
   "source": [
    "adjusted_rand_score(kmeans.labels_, real_labels)"
   ]
  },
  {
   "cell_type": "markdown",
   "metadata": {},
   "source": [
    "## OPTICS"
   ]
  },
  {
   "cell_type": "code",
   "execution_count": 17,
   "metadata": {},
   "outputs": [
    {
     "data": {
      "text/plain": [
       "0.012834893857868268"
      ]
     },
     "execution_count": 17,
     "metadata": {},
     "output_type": "execute_result"
    }
   ],
   "source": [
    "from sklearn.cluster import OPTICS\n",
    "\n",
    "optics = OPTICS()\n",
    "\n",
    "optics.fit(df[features])\n",
    "\n",
    "adjusted_rand_score(optics.labels_, real_labels)"
   ]
  },
  {
   "cell_type": "code",
   "execution_count": 34,
   "metadata": {},
   "outputs": [
    {
     "data": {
      "text/plain": [
       "700"
      ]
     },
     "execution_count": 34,
     "metadata": {},
     "output_type": "execute_result"
    }
   ],
   "source": [
    "len(optics.labels_)"
   ]
  },
  {
   "cell_type": "code",
   "execution_count": 18,
   "metadata": {},
   "outputs": [
    {
     "data": {
      "text/plain": [
       "0.7465547247365428"
      ]
     },
     "execution_count": 18,
     "metadata": {},
     "output_type": "execute_result"
    }
   ],
   "source": [
    "gini(optics.labels_)"
   ]
  },
  {
   "cell_type": "markdown",
   "metadata": {},
   "source": [
    "## Affinity propagation"
   ]
  },
  {
   "cell_type": "code",
   "execution_count": 20,
   "metadata": {},
   "outputs": [
    {
     "name": "stdout",
     "output_type": "stream",
     "text": [
      "0.0\n"
     ]
    },
    {
     "name": "stderr",
     "output_type": "stream",
     "text": [
      "/home/d5learner-01/anaconda3/envs/volca3/lib/python3.9/site-packages/sklearn/cluster/_affinity_propagation.py:250: ConvergenceWarning: Affinity propagation did not converge, this model will not have any cluster centers.\n",
      "  warnings.warn(\n"
     ]
    }
   ],
   "source": [
    "from sklearn.cluster import AffinityPropagation\n",
    "\n",
    "aff = AffinityPropagation()\n",
    "\n",
    "aff.fit(df[features])\n",
    "\n",
    "print(adjusted_rand_score(aff.labels_, real_labels))"
   ]
  },
  {
   "cell_type": "markdown",
   "metadata": {},
   "source": [
    "## BIRCH"
   ]
  },
  {
   "cell_type": "code",
   "execution_count": 28,
   "metadata": {},
   "outputs": [
    {
     "name": "stdout",
     "output_type": "stream",
     "text": [
      "0.009553770599044527\n",
      "0.03560339913985181\n"
     ]
    },
    {
     "name": "stderr",
     "output_type": "stream",
     "text": [
      "/home/d5learner-01/anaconda3/envs/volca3/lib/python3.9/site-packages/sklearn/base.py:445: UserWarning: X does not have valid feature names, but Birch was fitted with feature names\n",
      "  warnings.warn(\n"
     ]
    }
   ],
   "source": [
    "from sklearn.cluster import Birch\n",
    "\n",
    "birch = Birch(n_clusters=7)\n",
    "\n",
    "birch.fit(df[features])\n",
    "\n",
    "print(adjusted_rand_score(birch.labels_, real_labels))\n",
    "\n",
    "print(gini(birch.labels_))"
   ]
  },
  {
   "cell_type": "code",
   "execution_count": 33,
   "metadata": {},
   "outputs": [
    {
     "data": {
      "text/plain": [
       "Counter({5: 7, 4: 656, 0: 6, 6: 11, 3: 2, 2: 8, 1: 10})"
      ]
     },
     "execution_count": 33,
     "metadata": {},
     "output_type": "execute_result"
    }
   ],
   "source": [
    "from collections import Counter\n",
    "Counter(birch.labels_)"
   ]
  }
 ],
 "metadata": {
  "interpreter": {
   "hash": "52b7a19755d7590c8f33dced4cf51b8fc2d67197dedd754d3fdc4df20b4f1b94"
  },
  "kernelspec": {
   "display_name": "Python 3.9.7 64-bit ('volca3': conda)",
   "language": "python",
   "name": "python3"
  },
  "language_info": {
   "codemirror_mode": {
    "name": "ipython",
    "version": 3
   },
   "file_extension": ".py",
   "mimetype": "text/x-python",
   "name": "python",
   "nbconvert_exporter": "python",
   "pygments_lexer": "ipython3",
   "version": "3.9.7"
  },
  "orig_nbformat": 4
 },
 "nbformat": 4,
 "nbformat_minor": 2
}
