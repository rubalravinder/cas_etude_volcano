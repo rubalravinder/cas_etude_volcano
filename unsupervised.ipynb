{
 "cells": [
  {
   "cell_type": "markdown",
   "metadata": {},
   "source": [
    "## Load Data"
   ]
  },
  {
   "cell_type": "code",
   "execution_count": 3,
   "metadata": {},
   "outputs": [],
   "source": [
    "%load_ext autoreload\n",
    "%autoreload 2\n",
    "\n",
    "import pandas as pd\n",
    "import os\n",
    "import numpy as np\n",
    "from sklearn.metrics import rand_score, adjusted_rand_score"
   ]
  },
  {
   "cell_type": "code",
   "execution_count": 4,
   "metadata": {},
   "outputs": [],
   "source": [
    "try:\n",
    "    table = pd.read_pickle(\"data/table.pkl\")\n",
    "except:\n",
    "    table = pd.read_excel(\"data/association_table_corrected_index.xlsx\")\n",
    "    table.to_pickle(\"data/table.pkl\")"
   ]
  },
  {
   "cell_type": "code",
   "execution_count": 5,
   "metadata": {},
   "outputs": [],
   "source": [
    "from transformer import Event\n",
    "from subsampler import balanced_subsampler\n",
    "\n",
    "NUMBER_OF_SAMPLES_PER_EVENT = 100"
   ]
  },
  {
   "cell_type": "code",
   "execution_count": 6,
   "metadata": {},
   "outputs": [],
   "source": [
    "\n",
    "tablerich = Event().fit_transform(table)"
   ]
  },
  {
   "cell_type": "code",
   "execution_count": 7,
   "metadata": {},
   "outputs": [
    {
     "data": {
      "text/plain": [
       "TOR    100\n",
       "HIB    100\n",
       "PIS    100\n",
       "EXP    100\n",
       "VT     100\n",
       "LP     100\n",
       "TR     100\n",
       "Name: event, dtype: int64"
      ]
     },
     "execution_count": 7,
     "metadata": {},
     "output_type": "execute_result"
    }
   ],
   "source": [
    "balanced_table = balanced_subsampler(tablerich, NUMBER_OF_SAMPLES_PER_EVENT)\n",
    "balanced_table.event.value_counts()"
   ]
  },
  {
   "cell_type": "code",
   "execution_count": 8,
   "metadata": {},
   "outputs": [],
   "source": [
    "from transformer import Transformer\n",
    "\n",
    "df = Transformer(\"data/Extracted/\").fit_transform(balanced_table)"
   ]
  },
  {
   "cell_type": "code",
   "execution_count": null,
   "metadata": {},
   "outputs": [],
   "source": [
    "df = pd.read_pickle(\"data/df.pkl\")"
   ]
  },
  {
   "cell_type": "code",
   "execution_count": 9,
   "metadata": {},
   "outputs": [
    {
     "data": {
      "text/html": [
       "<div>\n",
       "<style scoped>\n",
       "    .dataframe tbody tr th:only-of-type {\n",
       "        vertical-align: middle;\n",
       "    }\n",
       "\n",
       "    .dataframe tbody tr th {\n",
       "        vertical-align: top;\n",
       "    }\n",
       "\n",
       "    .dataframe thead th {\n",
       "        text-align: right;\n",
       "    }\n",
       "</style>\n",
       "<table border=\"1\" class=\"dataframe\">\n",
       "  <thead>\n",
       "    <tr style=\"text-align: right;\">\n",
       "      <th></th>\n",
       "      <th>Index</th>\n",
       "      <th>Event</th>\n",
       "      <th>Duration</th>\n",
       "      <th>Event start</th>\n",
       "      <th>Event stop</th>\n",
       "      <th>Sampling rate</th>\n",
       "      <th>Overlap</th>\n",
       "      <th>npts</th>\n",
       "      <th>energy</th>\n",
       "      <th>path</th>\n",
       "      <th>...</th>\n",
       "      <th>amplitude</th>\n",
       "      <th>kurtosis</th>\n",
       "      <th>skew</th>\n",
       "      <th>variance_TF</th>\n",
       "      <th>mean_TF</th>\n",
       "      <th>median_TF</th>\n",
       "      <th>maximum_TF</th>\n",
       "      <th>amplitude_TF</th>\n",
       "      <th>kurtosis_TF</th>\n",
       "      <th>skew_TF</th>\n",
       "    </tr>\n",
       "  </thead>\n",
       "  <tbody>\n",
       "    <tr>\n",
       "      <th>120756</th>\n",
       "      <td>120756</td>\n",
       "      <td>TOR</td>\n",
       "      <td>40</td>\n",
       "      <td>2010-07-20 10:09:39.090000+00:00</td>\n",
       "      <td>2010-07-20 10:10:19.090000+00:00</td>\n",
       "      <td>50.0</td>\n",
       "      <td>False</td>\n",
       "      <td>180001.0</td>\n",
       "      <td>0.02178</td>\n",
       "      <td>data/Extracted/TOR/TOR_120756.npy</td>\n",
       "      <td>...</td>\n",
       "      <td>132.0</td>\n",
       "      <td>4.534969</td>\n",
       "      <td>-0.087970</td>\n",
       "      <td>3.719319</td>\n",
       "      <td>0.362202</td>\n",
       "      <td>0.219674</td>\n",
       "      <td>83.823000</td>\n",
       "      <td>83.821955</td>\n",
       "      <td>1751.137895</td>\n",
       "      <td>40.644742</td>\n",
       "    </tr>\n",
       "    <tr>\n",
       "      <th>45510</th>\n",
       "      <td>45510</td>\n",
       "      <td>HIB</td>\n",
       "      <td>34</td>\n",
       "      <td>2007-10-01 20:13:48.720000+00:00</td>\n",
       "      <td>2007-10-01 20:14:22.720000+00:00</td>\n",
       "      <td>50.0</td>\n",
       "      <td>False</td>\n",
       "      <td>180001.0</td>\n",
       "      <td>0.07122</td>\n",
       "      <td>data/Extracted/HIB/HIB_45510.npy</td>\n",
       "      <td>...</td>\n",
       "      <td>198.0</td>\n",
       "      <td>2.879214</td>\n",
       "      <td>0.102819</td>\n",
       "      <td>9.608899</td>\n",
       "      <td>0.659194</td>\n",
       "      <td>0.303121</td>\n",
       "      <td>125.169412</td>\n",
       "      <td>125.168936</td>\n",
       "      <td>1528.187728</td>\n",
       "      <td>38.138024</td>\n",
       "    </tr>\n",
       "    <tr>\n",
       "      <th>97638</th>\n",
       "      <td>97638</td>\n",
       "      <td>PIS</td>\n",
       "      <td>20</td>\n",
       "      <td>2007-12-26 13:00:41.930000+00:00</td>\n",
       "      <td>2007-12-26 13:01:01.930000+00:00</td>\n",
       "      <td>50.0</td>\n",
       "      <td>False</td>\n",
       "      <td>180001.0</td>\n",
       "      <td>0.23279</td>\n",
       "      <td>data/Extracted/PIS/PIS_97638.npy</td>\n",
       "      <td>...</td>\n",
       "      <td>1198.0</td>\n",
       "      <td>5.351756</td>\n",
       "      <td>0.220302</td>\n",
       "      <td>44.853150</td>\n",
       "      <td>3.757604</td>\n",
       "      <td>1.044429</td>\n",
       "      <td>114.334000</td>\n",
       "      <td>114.307902</td>\n",
       "      <td>76.907955</td>\n",
       "      <td>6.046874</td>\n",
       "    </tr>\n",
       "    <tr>\n",
       "      <th>5101</th>\n",
       "      <td>5101</td>\n",
       "      <td>EXP</td>\n",
       "      <td>40</td>\n",
       "      <td>2006-06-13 06:46:02.010000+00:00</td>\n",
       "      <td>2006-06-13 06:46:42.010000+00:00</td>\n",
       "      <td>100.0</td>\n",
       "      <td>False</td>\n",
       "      <td>360001.0</td>\n",
       "      <td>316.71740</td>\n",
       "      <td>data/Extracted/EXP/EXP_5101.npy</td>\n",
       "      <td>...</td>\n",
       "      <td>38413.0</td>\n",
       "      <td>0.518151</td>\n",
       "      <td>0.261402</td>\n",
       "      <td>69129.441032</td>\n",
       "      <td>86.283524</td>\n",
       "      <td>3.608489</td>\n",
       "      <td>4887.105973</td>\n",
       "      <td>4887.079673</td>\n",
       "      <td>87.423590</td>\n",
       "      <td>7.177932</td>\n",
       "    </tr>\n",
       "    <tr>\n",
       "      <th>95871</th>\n",
       "      <td>95871</td>\n",
       "      <td>HIB</td>\n",
       "      <td>32</td>\n",
       "      <td>2007-11-30 03:32:32.180000+00:00</td>\n",
       "      <td>2007-11-30 03:33:04.180000+00:00</td>\n",
       "      <td>50.0</td>\n",
       "      <td>False</td>\n",
       "      <td>180001.0</td>\n",
       "      <td>0.33914</td>\n",
       "      <td>data/Extracted/HIB/HIB_95871.npy</td>\n",
       "      <td>...</td>\n",
       "      <td>1036.0</td>\n",
       "      <td>2.533481</td>\n",
       "      <td>-0.119049</td>\n",
       "      <td>29.723709</td>\n",
       "      <td>2.954830</td>\n",
       "      <td>1.016797</td>\n",
       "      <td>140.466250</td>\n",
       "      <td>140.465836</td>\n",
       "      <td>254.217738</td>\n",
       "      <td>11.206638</td>\n",
       "    </tr>\n",
       "    <tr>\n",
       "      <th>...</th>\n",
       "      <td>...</td>\n",
       "      <td>...</td>\n",
       "      <td>...</td>\n",
       "      <td>...</td>\n",
       "      <td>...</td>\n",
       "      <td>...</td>\n",
       "      <td>...</td>\n",
       "      <td>...</td>\n",
       "      <td>...</td>\n",
       "      <td>...</td>\n",
       "      <td>...</td>\n",
       "      <td>...</td>\n",
       "      <td>...</td>\n",
       "      <td>...</td>\n",
       "      <td>...</td>\n",
       "      <td>...</td>\n",
       "      <td>...</td>\n",
       "      <td>...</td>\n",
       "      <td>...</td>\n",
       "      <td>...</td>\n",
       "      <td>...</td>\n",
       "    </tr>\n",
       "    <tr>\n",
       "      <th>98489</th>\n",
       "      <td>98489</td>\n",
       "      <td>PIS</td>\n",
       "      <td>53</td>\n",
       "      <td>2008-08-01 21:24:16.940000+00:00</td>\n",
       "      <td>2008-08-01 21:25:09.940000+00:00</td>\n",
       "      <td>50.0</td>\n",
       "      <td>False</td>\n",
       "      <td>180001.0</td>\n",
       "      <td>3.92816</td>\n",
       "      <td>data/Extracted/PIS/PIS_98489.npy</td>\n",
       "      <td>...</td>\n",
       "      <td>55.0</td>\n",
       "      <td>0.515551</td>\n",
       "      <td>-0.144285</td>\n",
       "      <td>6.873813</td>\n",
       "      <td>0.199446</td>\n",
       "      <td>0.092768</td>\n",
       "      <td>134.579623</td>\n",
       "      <td>134.579384</td>\n",
       "      <td>2601.355179</td>\n",
       "      <td>50.816088</td>\n",
       "    </tr>\n",
       "    <tr>\n",
       "      <th>98911</th>\n",
       "      <td>98911</td>\n",
       "      <td>HIB</td>\n",
       "      <td>29</td>\n",
       "      <td>2008-01-29 20:53:07.090000+00:00</td>\n",
       "      <td>2008-01-29 20:53:36.090000+00:00</td>\n",
       "      <td>50.0</td>\n",
       "      <td>False</td>\n",
       "      <td>180001.0</td>\n",
       "      <td>0.21679</td>\n",
       "      <td>data/Extracted/HIB/HIB_98911.npy</td>\n",
       "      <td>...</td>\n",
       "      <td>843.0</td>\n",
       "      <td>3.207598</td>\n",
       "      <td>-0.388291</td>\n",
       "      <td>24.663111</td>\n",
       "      <td>2.570040</td>\n",
       "      <td>0.779107</td>\n",
       "      <td>125.932414</td>\n",
       "      <td>125.931034</td>\n",
       "      <td>262.401846</td>\n",
       "      <td>11.554985</td>\n",
       "    </tr>\n",
       "    <tr>\n",
       "      <th>98604</th>\n",
       "      <td>98604</td>\n",
       "      <td>PIS</td>\n",
       "      <td>50</td>\n",
       "      <td>2008-09-01 23:50:00.450000+00:00</td>\n",
       "      <td>2008-09-01 23:50:50.450000+00:00</td>\n",
       "      <td>50.0</td>\n",
       "      <td>False</td>\n",
       "      <td>180001.0</td>\n",
       "      <td>0.66128</td>\n",
       "      <td>data/Extracted/PIS/PIS_98604.npy</td>\n",
       "      <td>...</td>\n",
       "      <td>26.0</td>\n",
       "      <td>0.236100</td>\n",
       "      <td>-0.039151</td>\n",
       "      <td>5.618219</td>\n",
       "      <td>0.141325</td>\n",
       "      <td>0.068098</td>\n",
       "      <td>118.487200</td>\n",
       "      <td>118.486400</td>\n",
       "      <td>2482.851592</td>\n",
       "      <td>49.788224</td>\n",
       "    </tr>\n",
       "    <tr>\n",
       "      <th>31134</th>\n",
       "      <td>31134</td>\n",
       "      <td>LP1</td>\n",
       "      <td>36</td>\n",
       "      <td>2006-09-09 05:32:44+00:00</td>\n",
       "      <td>2006-09-09 05:33:20+00:00</td>\n",
       "      <td>40.0</td>\n",
       "      <td>False</td>\n",
       "      <td>143999.0</td>\n",
       "      <td>0.03155</td>\n",
       "      <td>data/Extracted/LP/LP_31134.npy</td>\n",
       "      <td>...</td>\n",
       "      <td>1118.0</td>\n",
       "      <td>1.051852</td>\n",
       "      <td>-0.210275</td>\n",
       "      <td>195.351638</td>\n",
       "      <td>4.619791</td>\n",
       "      <td>2.093823</td>\n",
       "      <td>477.154167</td>\n",
       "      <td>477.122403</td>\n",
       "      <td>905.152862</td>\n",
       "      <td>27.173091</td>\n",
       "    </tr>\n",
       "    <tr>\n",
       "      <th>99929</th>\n",
       "      <td>99929</td>\n",
       "      <td>LP1</td>\n",
       "      <td>28</td>\n",
       "      <td>2008-02-15 10:09:48.790000+00:00</td>\n",
       "      <td>2008-02-15 10:10:16.790000+00:00</td>\n",
       "      <td>50.0</td>\n",
       "      <td>False</td>\n",
       "      <td>180001.0</td>\n",
       "      <td>0.18692</td>\n",
       "      <td>data/Extracted/LP/LP_99929.npy</td>\n",
       "      <td>...</td>\n",
       "      <td>959.0</td>\n",
       "      <td>8.553262</td>\n",
       "      <td>-0.696181</td>\n",
       "      <td>21.737477</td>\n",
       "      <td>2.291546</td>\n",
       "      <td>0.623549</td>\n",
       "      <td>106.945714</td>\n",
       "      <td>106.943969</td>\n",
       "      <td>182.939334</td>\n",
       "      <td>9.454848</td>\n",
       "    </tr>\n",
       "  </tbody>\n",
       "</table>\n",
       "<p>700 rows × 25 columns</p>\n",
       "</div>"
      ],
      "text/plain": [
       "         Index Event  Duration                       Event start  \\\n",
       "120756  120756   TOR        40  2010-07-20 10:09:39.090000+00:00   \n",
       "45510    45510   HIB        34  2007-10-01 20:13:48.720000+00:00   \n",
       "97638    97638   PIS        20  2007-12-26 13:00:41.930000+00:00   \n",
       "5101      5101   EXP        40  2006-06-13 06:46:02.010000+00:00   \n",
       "95871    95871   HIB        32  2007-11-30 03:32:32.180000+00:00   \n",
       "...        ...   ...       ...                               ...   \n",
       "98489    98489   PIS        53  2008-08-01 21:24:16.940000+00:00   \n",
       "98911    98911   HIB        29  2008-01-29 20:53:07.090000+00:00   \n",
       "98604    98604   PIS        50  2008-09-01 23:50:00.450000+00:00   \n",
       "31134    31134   LP1        36         2006-09-09 05:32:44+00:00   \n",
       "99929    99929   LP1        28  2008-02-15 10:09:48.790000+00:00   \n",
       "\n",
       "                              Event stop  Sampling rate  Overlap      npts  \\\n",
       "120756  2010-07-20 10:10:19.090000+00:00           50.0    False  180001.0   \n",
       "45510   2007-10-01 20:14:22.720000+00:00           50.0    False  180001.0   \n",
       "97638   2007-12-26 13:01:01.930000+00:00           50.0    False  180001.0   \n",
       "5101    2006-06-13 06:46:42.010000+00:00          100.0    False  360001.0   \n",
       "95871   2007-11-30 03:33:04.180000+00:00           50.0    False  180001.0   \n",
       "...                                  ...            ...      ...       ...   \n",
       "98489   2008-08-01 21:25:09.940000+00:00           50.0    False  180001.0   \n",
       "98911   2008-01-29 20:53:36.090000+00:00           50.0    False  180001.0   \n",
       "98604   2008-09-01 23:50:50.450000+00:00           50.0    False  180001.0   \n",
       "31134          2006-09-09 05:33:20+00:00           40.0    False  143999.0   \n",
       "99929   2008-02-15 10:10:16.790000+00:00           50.0    False  180001.0   \n",
       "\n",
       "           energy                               path  ... amplitude  kurtosis  \\\n",
       "120756    0.02178  data/Extracted/TOR/TOR_120756.npy  ...     132.0  4.534969   \n",
       "45510     0.07122   data/Extracted/HIB/HIB_45510.npy  ...     198.0  2.879214   \n",
       "97638     0.23279   data/Extracted/PIS/PIS_97638.npy  ...    1198.0  5.351756   \n",
       "5101    316.71740    data/Extracted/EXP/EXP_5101.npy  ...   38413.0  0.518151   \n",
       "95871     0.33914   data/Extracted/HIB/HIB_95871.npy  ...    1036.0  2.533481   \n",
       "...           ...                                ...  ...       ...       ...   \n",
       "98489     3.92816   data/Extracted/PIS/PIS_98489.npy  ...      55.0  0.515551   \n",
       "98911     0.21679   data/Extracted/HIB/HIB_98911.npy  ...     843.0  3.207598   \n",
       "98604     0.66128   data/Extracted/PIS/PIS_98604.npy  ...      26.0  0.236100   \n",
       "31134     0.03155     data/Extracted/LP/LP_31134.npy  ...    1118.0  1.051852   \n",
       "99929     0.18692     data/Extracted/LP/LP_99929.npy  ...     959.0  8.553262   \n",
       "\n",
       "            skew   variance_TF    mean_TF  median_TF   maximum_TF  \\\n",
       "120756 -0.087970      3.719319   0.362202   0.219674    83.823000   \n",
       "45510   0.102819      9.608899   0.659194   0.303121   125.169412   \n",
       "97638   0.220302     44.853150   3.757604   1.044429   114.334000   \n",
       "5101    0.261402  69129.441032  86.283524   3.608489  4887.105973   \n",
       "95871  -0.119049     29.723709   2.954830   1.016797   140.466250   \n",
       "...          ...           ...        ...        ...          ...   \n",
       "98489  -0.144285      6.873813   0.199446   0.092768   134.579623   \n",
       "98911  -0.388291     24.663111   2.570040   0.779107   125.932414   \n",
       "98604  -0.039151      5.618219   0.141325   0.068098   118.487200   \n",
       "31134  -0.210275    195.351638   4.619791   2.093823   477.154167   \n",
       "99929  -0.696181     21.737477   2.291546   0.623549   106.945714   \n",
       "\n",
       "        amplitude_TF  kurtosis_TF    skew_TF  \n",
       "120756     83.821955  1751.137895  40.644742  \n",
       "45510     125.168936  1528.187728  38.138024  \n",
       "97638     114.307902    76.907955   6.046874  \n",
       "5101     4887.079673    87.423590   7.177932  \n",
       "95871     140.465836   254.217738  11.206638  \n",
       "...              ...          ...        ...  \n",
       "98489     134.579384  2601.355179  50.816088  \n",
       "98911     125.931034   262.401846  11.554985  \n",
       "98604     118.486400  2482.851592  49.788224  \n",
       "31134     477.122403   905.152862  27.173091  \n",
       "99929     106.943969   182.939334   9.454848  \n",
       "\n",
       "[700 rows x 25 columns]"
      ]
     },
     "execution_count": 9,
     "metadata": {},
     "output_type": "execute_result"
    }
   ],
   "source": [
    "df"
   ]
  },
  {
   "cell_type": "code",
   "execution_count": 13,
   "metadata": {},
   "outputs": [],
   "source": [
    "df.to_pickle('data/df.pkl')"
   ]
  },
  {
   "cell_type": "code",
   "execution_count": 14,
   "metadata": {},
   "outputs": [],
   "source": [
    "all_features = [\"variance\", \"mean\", \"median\", \"maximum\", \"amplitude\", \"Duration\", \"energy\", \"skew\", \"kurtosis\", \"variance_TF\", \"mean_TF\", \"median_TF\", \"maximum_TF\", \"amplitude_TF\", \"kurtosis_TF\", \"skew_TF\"]\n",
    "liste_features_selected=['energy', 'Duration', 'mean_TF', 'variance_TF', 'median_TF','variance', 'mean','kurtosis_TF']\n",
    "features = liste_features_selected"
   ]
  },
  {
   "cell_type": "code",
   "execution_count": 15,
   "metadata": {},
   "outputs": [
    {
     "data": {
      "text/html": [
       "<div>\n",
       "<style scoped>\n",
       "    .dataframe tbody tr th:only-of-type {\n",
       "        vertical-align: middle;\n",
       "    }\n",
       "\n",
       "    .dataframe tbody tr th {\n",
       "        vertical-align: top;\n",
       "    }\n",
       "\n",
       "    .dataframe thead th {\n",
       "        text-align: right;\n",
       "    }\n",
       "</style>\n",
       "<table border=\"1\" class=\"dataframe\">\n",
       "  <thead>\n",
       "    <tr style=\"text-align: right;\">\n",
       "      <th></th>\n",
       "      <th>energy</th>\n",
       "      <th>Duration</th>\n",
       "      <th>mean_TF</th>\n",
       "      <th>variance_TF</th>\n",
       "      <th>median_TF</th>\n",
       "      <th>variance</th>\n",
       "      <th>mean</th>\n",
       "      <th>kurtosis_TF</th>\n",
       "    </tr>\n",
       "  </thead>\n",
       "  <tbody>\n",
       "    <tr>\n",
       "      <th>120756</th>\n",
       "      <td>0.02178</td>\n",
       "      <td>40</td>\n",
       "      <td>0.362202</td>\n",
       "      <td>3.719319</td>\n",
       "      <td>0.219674</td>\n",
       "      <td>1.686807e+02</td>\n",
       "      <td>41.911499</td>\n",
       "      <td>1751.137895</td>\n",
       "    </tr>\n",
       "    <tr>\n",
       "      <th>45510</th>\n",
       "      <td>0.07122</td>\n",
       "      <td>34</td>\n",
       "      <td>0.659194</td>\n",
       "      <td>9.608899</td>\n",
       "      <td>0.303121</td>\n",
       "      <td>3.516146e+02</td>\n",
       "      <td>62.584705</td>\n",
       "      <td>1528.187728</td>\n",
       "    </tr>\n",
       "    <tr>\n",
       "      <th>97638</th>\n",
       "      <td>0.23279</td>\n",
       "      <td>20</td>\n",
       "      <td>3.757604</td>\n",
       "      <td>44.853150</td>\n",
       "      <td>1.044429</td>\n",
       "      <td>1.147512e+04</td>\n",
       "      <td>57.167000</td>\n",
       "      <td>76.907955</td>\n",
       "    </tr>\n",
       "    <tr>\n",
       "      <th>5101</th>\n",
       "      <td>316.71740</td>\n",
       "      <td>40</td>\n",
       "      <td>86.283524</td>\n",
       "      <td>69129.441032</td>\n",
       "      <td>3.608489</td>\n",
       "      <td>7.645973e+07</td>\n",
       "      <td>338.469238</td>\n",
       "      <td>87.423590</td>\n",
       "    </tr>\n",
       "    <tr>\n",
       "      <th>95871</th>\n",
       "      <td>0.33914</td>\n",
       "      <td>32</td>\n",
       "      <td>2.954830</td>\n",
       "      <td>29.723709</td>\n",
       "      <td>1.016797</td>\n",
       "      <td>1.044920e+04</td>\n",
       "      <td>70.233124</td>\n",
       "      <td>254.217738</td>\n",
       "    </tr>\n",
       "    <tr>\n",
       "      <th>...</th>\n",
       "      <td>...</td>\n",
       "      <td>...</td>\n",
       "      <td>...</td>\n",
       "      <td>...</td>\n",
       "      <td>...</td>\n",
       "      <td>...</td>\n",
       "      <td>...</td>\n",
       "      <td>...</td>\n",
       "    </tr>\n",
       "    <tr>\n",
       "      <th>98489</th>\n",
       "      <td>3.92816</td>\n",
       "      <td>53</td>\n",
       "      <td>0.199446</td>\n",
       "      <td>6.873813</td>\n",
       "      <td>0.092768</td>\n",
       "      <td>5.233563e+01</td>\n",
       "      <td>67.289810</td>\n",
       "      <td>2601.355179</td>\n",
       "    </tr>\n",
       "    <tr>\n",
       "      <th>98911</th>\n",
       "      <td>0.21679</td>\n",
       "      <td>29</td>\n",
       "      <td>2.570040</td>\n",
       "      <td>24.663111</td>\n",
       "      <td>0.779107</td>\n",
       "      <td>7.369986e+03</td>\n",
       "      <td>62.966206</td>\n",
       "      <td>262.401846</td>\n",
       "    </tr>\n",
       "    <tr>\n",
       "      <th>98604</th>\n",
       "      <td>0.66128</td>\n",
       "      <td>50</td>\n",
       "      <td>0.141325</td>\n",
       "      <td>5.618219</td>\n",
       "      <td>0.068098</td>\n",
       "      <td>1.406586e+01</td>\n",
       "      <td>59.243599</td>\n",
       "      <td>2482.851592</td>\n",
       "    </tr>\n",
       "    <tr>\n",
       "      <th>31134</th>\n",
       "      <td>0.03155</td>\n",
       "      <td>36</td>\n",
       "      <td>4.619791</td>\n",
       "      <td>195.351638</td>\n",
       "      <td>2.093823</td>\n",
       "      <td>2.109085e+04</td>\n",
       "      <td>-238.577087</td>\n",
       "      <td>905.152862</td>\n",
       "    </tr>\n",
       "    <tr>\n",
       "      <th>99929</th>\n",
       "      <td>0.18692</td>\n",
       "      <td>28</td>\n",
       "      <td>2.291546</td>\n",
       "      <td>21.737477</td>\n",
       "      <td>0.623549</td>\n",
       "      <td>6.586685e+03</td>\n",
       "      <td>53.472858</td>\n",
       "      <td>182.939334</td>\n",
       "    </tr>\n",
       "  </tbody>\n",
       "</table>\n",
       "<p>700 rows × 8 columns</p>\n",
       "</div>"
      ],
      "text/plain": [
       "           energy  Duration    mean_TF   variance_TF  median_TF      variance  \\\n",
       "120756    0.02178        40   0.362202      3.719319   0.219674  1.686807e+02   \n",
       "45510     0.07122        34   0.659194      9.608899   0.303121  3.516146e+02   \n",
       "97638     0.23279        20   3.757604     44.853150   1.044429  1.147512e+04   \n",
       "5101    316.71740        40  86.283524  69129.441032   3.608489  7.645973e+07   \n",
       "95871     0.33914        32   2.954830     29.723709   1.016797  1.044920e+04   \n",
       "...           ...       ...        ...           ...        ...           ...   \n",
       "98489     3.92816        53   0.199446      6.873813   0.092768  5.233563e+01   \n",
       "98911     0.21679        29   2.570040     24.663111   0.779107  7.369986e+03   \n",
       "98604     0.66128        50   0.141325      5.618219   0.068098  1.406586e+01   \n",
       "31134     0.03155        36   4.619791    195.351638   2.093823  2.109085e+04   \n",
       "99929     0.18692        28   2.291546     21.737477   0.623549  6.586685e+03   \n",
       "\n",
       "              mean  kurtosis_TF  \n",
       "120756   41.911499  1751.137895  \n",
       "45510    62.584705  1528.187728  \n",
       "97638    57.167000    76.907955  \n",
       "5101    338.469238    87.423590  \n",
       "95871    70.233124   254.217738  \n",
       "...            ...          ...  \n",
       "98489    67.289810  2601.355179  \n",
       "98911    62.966206   262.401846  \n",
       "98604    59.243599  2482.851592  \n",
       "31134  -238.577087   905.152862  \n",
       "99929    53.472858   182.939334  \n",
       "\n",
       "[700 rows x 8 columns]"
      ]
     },
     "execution_count": 15,
     "metadata": {},
     "output_type": "execute_result"
    }
   ],
   "source": [
    "df[features]"
   ]
  },
  {
   "cell_type": "markdown",
   "metadata": {},
   "source": [
    "## K-Means Clustering"
   ]
  },
  {
   "cell_type": "code",
   "execution_count": 16,
   "metadata": {},
   "outputs": [
    {
     "data": {
      "text/plain": [
       "KMeans(n_clusters=7)"
      ]
     },
     "execution_count": 16,
     "metadata": {},
     "output_type": "execute_result"
    }
   ],
   "source": [
    "from sklearn.cluster import KMeans\n",
    "\n",
    "kmeans = KMeans(7)\n",
    "\n",
    "kmeans.fit(df[features])"
   ]
  },
  {
   "cell_type": "markdown",
   "metadata": {},
   "source": [
    "### Imbalance measure"
   ]
  },
  {
   "cell_type": "code",
   "execution_count": 17,
   "metadata": {},
   "outputs": [],
   "source": [
    "from gini import gini"
   ]
  },
  {
   "cell_type": "code",
   "execution_count": 18,
   "metadata": {},
   "outputs": [
    {
     "data": {
      "text/plain": [
       "0.9491428571428571"
      ]
     },
     "execution_count": 18,
     "metadata": {},
     "output_type": "execute_result"
    }
   ],
   "source": [
    "gini(kmeans.labels_)"
   ]
  },
  {
   "cell_type": "code",
   "execution_count": 19,
   "metadata": {},
   "outputs": [],
   "source": [
    "from sklearn.preprocessing import LabelEncoder\n",
    "\n",
    "real_labels = LabelEncoder().fit_transform(balanced_table.event.values)"
   ]
  },
  {
   "cell_type": "code",
   "execution_count": 20,
   "metadata": {},
   "outputs": [
    {
     "data": {
      "text/plain": [
       "0.38095238095238093"
      ]
     },
     "execution_count": 20,
     "metadata": {},
     "output_type": "execute_result"
    }
   ],
   "source": [
    "gini(real_labels)"
   ]
  },
  {
   "cell_type": "markdown",
   "metadata": {},
   "source": [
    "### Rand Index"
   ]
  },
  {
   "cell_type": "code",
   "execution_count": 21,
   "metadata": {},
   "outputs": [
    {
     "data": {
      "text/plain": [
       "0.2458042100960556"
      ]
     },
     "execution_count": 21,
     "metadata": {},
     "output_type": "execute_result"
    }
   ],
   "source": [
    "rand_score(kmeans.labels_, real_labels)"
   ]
  },
  {
   "cell_type": "code",
   "execution_count": 22,
   "metadata": {},
   "outputs": [
    {
     "data": {
      "text/plain": [
       "0.010426031537366636"
      ]
     },
     "execution_count": 22,
     "metadata": {},
     "output_type": "execute_result"
    }
   ],
   "source": [
    "adjusted_rand_score(kmeans.labels_, real_labels)"
   ]
  },
  {
   "cell_type": "markdown",
   "metadata": {},
   "source": [
    "## OPTICS"
   ]
  },
  {
   "cell_type": "code",
   "execution_count": 23,
   "metadata": {},
   "outputs": [
    {
     "data": {
      "text/plain": [
       "0.02381850609468015"
      ]
     },
     "execution_count": 23,
     "metadata": {},
     "output_type": "execute_result"
    }
   ],
   "source": [
    "from sklearn.cluster import OPTICS\n",
    "\n",
    "optics = OPTICS()\n",
    "\n",
    "optics.fit(df[features])\n",
    "\n",
    "adjusted_rand_score(optics.labels_, real_labels)"
   ]
  },
  {
   "cell_type": "code",
   "execution_count": 24,
   "metadata": {},
   "outputs": [
    {
     "data": {
      "text/plain": [
       "700"
      ]
     },
     "execution_count": 24,
     "metadata": {},
     "output_type": "execute_result"
    }
   ],
   "source": [
    "len(optics.labels_)"
   ]
  },
  {
   "cell_type": "code",
   "execution_count": 25,
   "metadata": {},
   "outputs": [
    {
     "data": {
      "text/plain": [
       "0.6941634805537245"
      ]
     },
     "execution_count": 25,
     "metadata": {},
     "output_type": "execute_result"
    }
   ],
   "source": [
    "gini(optics.labels_)"
   ]
  },
  {
   "cell_type": "markdown",
   "metadata": {},
   "source": [
    "## Affinity propagation"
   ]
  },
  {
   "cell_type": "code",
   "execution_count": 26,
   "metadata": {},
   "outputs": [
    {
     "name": "stdout",
     "output_type": "stream",
     "text": [
      "0.0\n"
     ]
    },
    {
     "name": "stderr",
     "output_type": "stream",
     "text": [
      "/home/d5learner-01/anaconda3/envs/volca3/lib/python3.9/site-packages/sklearn/cluster/_affinity_propagation.py:250: ConvergenceWarning: Affinity propagation did not converge, this model will not have any cluster centers.\n",
      "  warnings.warn(\n"
     ]
    }
   ],
   "source": [
    "from sklearn.cluster import AffinityPropagation\n",
    "\n",
    "aff = AffinityPropagation()\n",
    "\n",
    "aff.fit(df[features])\n",
    "\n",
    "print(adjusted_rand_score(aff.labels_, real_labels))"
   ]
  },
  {
   "cell_type": "markdown",
   "metadata": {},
   "source": [
    "## BIRCH"
   ]
  },
  {
   "cell_type": "code",
   "execution_count": 27,
   "metadata": {},
   "outputs": [
    {
     "name": "stdout",
     "output_type": "stream",
     "text": [
      "0.010438883559059952\n",
      "0.04638334599185252\n"
     ]
    },
    {
     "name": "stderr",
     "output_type": "stream",
     "text": [
      "/home/d5learner-01/anaconda3/envs/volca3/lib/python3.9/site-packages/sklearn/base.py:445: UserWarning: X does not have valid feature names, but Birch was fitted with feature names\n",
      "  warnings.warn(\n"
     ]
    }
   ],
   "source": [
    "from sklearn.cluster import Birch\n",
    "\n",
    "birch = Birch(n_clusters=7)\n",
    "\n",
    "birch.fit(df[features])\n",
    "\n",
    "print(adjusted_rand_score(birch.labels_, real_labels))\n",
    "\n",
    "print(gini(birch.labels_))"
   ]
  },
  {
   "cell_type": "code",
   "execution_count": 28,
   "metadata": {},
   "outputs": [
    {
     "data": {
      "text/plain": [
       "Counter({3: 651, 0: 10, 1: 12, 6: 5, 5: 8, 2: 11, 4: 3})"
      ]
     },
     "execution_count": 28,
     "metadata": {},
     "output_type": "execute_result"
    }
   ],
   "source": [
    "from collections import Counter\n",
    "Counter(birch.labels_)"
   ]
  }
 ],
 "metadata": {
  "interpreter": {
   "hash": "52b7a19755d7590c8f33dced4cf51b8fc2d67197dedd754d3fdc4df20b4f1b94"
  },
  "kernelspec": {
   "display_name": "Python 3.9.7 64-bit ('volca3': conda)",
   "language": "python",
   "name": "python3"
  },
  "language_info": {
   "codemirror_mode": {
    "name": "ipython",
    "version": 3
   },
   "file_extension": ".py",
   "mimetype": "text/x-python",
   "name": "python",
   "nbconvert_exporter": "python",
   "pygments_lexer": "ipython3",
   "version": "3.9.7"
  },
  "orig_nbformat": 4
 },
 "nbformat": 4,
 "nbformat_minor": 2
}
