{
 "cells": [
  {
   "cell_type": "markdown",
   "metadata": {},
   "source": [
    "## Load Data"
   ]
  },
  {
   "cell_type": "code",
   "execution_count": 45,
   "metadata": {},
   "outputs": [
    {
     "name": "stdout",
     "output_type": "stream",
     "text": [
      "The autoreload extension is already loaded. To reload it, use:\n",
      "  %reload_ext autoreload\n"
     ]
    }
   ],
   "source": [
    "%load_ext autoreload\n",
    "%autoreload 2\n",
    "\n",
    "import pandas as pd\n",
    "import os\n",
    "from sklearn.metrics import rand_score, adjusted_rand_score"
   ]
  },
  {
   "cell_type": "code",
   "execution_count": 3,
   "metadata": {},
   "outputs": [],
   "source": [
    "try:\n",
    "    table = pd.read_pickle(\"data/table.pkl\")\n",
    "except:\n",
    "    table = pd.read_excel(\"data/association_table_corrected_index.xlsx\")\n",
    "    table.to_pickle(\"data/table.pkl\")"
   ]
  },
  {
   "cell_type": "code",
   "execution_count": 30,
   "metadata": {},
   "outputs": [],
   "source": [
    "from transformer import Event\n",
    "from subsampler import balanced_subsampler\n",
    "\n",
    "NUMBER_OF_SAMPLES_PER_EVENT = 100"
   ]
  },
  {
   "cell_type": "code",
   "execution_count": null,
   "metadata": {},
   "outputs": [],
   "source": [
    "\n",
    "tablerich = Event().fit_transform(table)"
   ]
  },
  {
   "cell_type": "code",
   "execution_count": 31,
   "metadata": {},
   "outputs": [
    {
     "data": {
      "text/plain": [
       "LP     100\n",
       "TOR    100\n",
       "TR     100\n",
       "VT     100\n",
       "PIS    100\n",
       "HIB    100\n",
       "EXP    100\n",
       "Name: event, dtype: int64"
      ]
     },
     "execution_count": 31,
     "metadata": {},
     "output_type": "execute_result"
    }
   ],
   "source": [
    "balanced_table = balanced_subsampler(tablerich, NUMBER_OF_SAMPLES_PER_EVENT)\n",
    "balanced_table.event.value_counts()"
   ]
  },
  {
   "cell_type": "code",
   "execution_count": 32,
   "metadata": {},
   "outputs": [],
   "source": [
    "from transformer import Transformer\n",
    "\n",
    "df = Transformer(\"data/Extracted/\").fit_transform(balanced_table)"
   ]
  },
  {
   "cell_type": "code",
   "execution_count": 33,
   "metadata": {},
   "outputs": [
    {
     "data": {
      "text/html": [
       "<div>\n",
       "<style scoped>\n",
       "    .dataframe tbody tr th:only-of-type {\n",
       "        vertical-align: middle;\n",
       "    }\n",
       "\n",
       "    .dataframe tbody tr th {\n",
       "        vertical-align: top;\n",
       "    }\n",
       "\n",
       "    .dataframe thead th {\n",
       "        text-align: right;\n",
       "    }\n",
       "</style>\n",
       "<table border=\"1\" class=\"dataframe\">\n",
       "  <thead>\n",
       "    <tr style=\"text-align: right;\">\n",
       "      <th></th>\n",
       "      <th>Index</th>\n",
       "      <th>Event</th>\n",
       "      <th>Duration</th>\n",
       "      <th>Event start</th>\n",
       "      <th>Event stop</th>\n",
       "      <th>Sampling rate</th>\n",
       "      <th>Overlap</th>\n",
       "      <th>npts</th>\n",
       "      <th>energy</th>\n",
       "      <th>path</th>\n",
       "      <th>event</th>\n",
       "      <th>variance</th>\n",
       "      <th>mean</th>\n",
       "      <th>median</th>\n",
       "      <th>maximum</th>\n",
       "      <th>amplitude</th>\n",
       "    </tr>\n",
       "  </thead>\n",
       "  <tbody>\n",
       "    <tr>\n",
       "      <th>60021</th>\n",
       "      <td>60021</td>\n",
       "      <td>LP1</td>\n",
       "      <td>41</td>\n",
       "      <td>2007-03-22 09:09:09.560000+00:00</td>\n",
       "      <td>2007-03-22 09:09:50.560000+00:00</td>\n",
       "      <td>40.0</td>\n",
       "      <td>False</td>\n",
       "      <td>143999.0</td>\n",
       "      <td>0.00858</td>\n",
       "      <td>data/Extracted/LP/LP_60021.npy</td>\n",
       "      <td>LP</td>\n",
       "      <td>5025.824219</td>\n",
       "      <td>-42.770733</td>\n",
       "      <td>-43.000000</td>\n",
       "      <td>317.000000</td>\n",
       "      <td>690.000000</td>\n",
       "    </tr>\n",
       "    <tr>\n",
       "      <th>121684</th>\n",
       "      <td>121684</td>\n",
       "      <td>TOR</td>\n",
       "      <td>46</td>\n",
       "      <td>2011-06-01 13:45:10.510000+00:00</td>\n",
       "      <td>2011-06-01 13:45:56.510000+00:00</td>\n",
       "      <td>100.0</td>\n",
       "      <td>False</td>\n",
       "      <td>360001.0</td>\n",
       "      <td>1.65191</td>\n",
       "      <td>data/Extracted/TOR/TOR_121684.npy</td>\n",
       "      <td>TOR</td>\n",
       "      <td>89.271751</td>\n",
       "      <td>0.058913</td>\n",
       "      <td>0.022933</td>\n",
       "      <td>34.215183</td>\n",
       "      <td>66.605408</td>\n",
       "    </tr>\n",
       "    <tr>\n",
       "      <th>3430</th>\n",
       "      <td>3430</td>\n",
       "      <td>TR2</td>\n",
       "      <td>585</td>\n",
       "      <td>2006-05-30 10:08:55.830000+00:00</td>\n",
       "      <td>2006-05-30 10:18:40.830000+00:00</td>\n",
       "      <td>50.0</td>\n",
       "      <td>False</td>\n",
       "      <td>180000.0</td>\n",
       "      <td>0.55054</td>\n",
       "      <td>data/Extracted/TR/TR_3430.npy</td>\n",
       "      <td>TR</td>\n",
       "      <td>8848.485352</td>\n",
       "      <td>283.737854</td>\n",
       "      <td>283.224243</td>\n",
       "      <td>739.492432</td>\n",
       "      <td>958.898010</td>\n",
       "    </tr>\n",
       "    <tr>\n",
       "      <th>116704</th>\n",
       "      <td>116704</td>\n",
       "      <td>VT1</td>\n",
       "      <td>15</td>\n",
       "      <td>2009-03-25 03:20:13.900000+00:00</td>\n",
       "      <td>2009-03-25 03:20:28.900000+00:00</td>\n",
       "      <td>50.0</td>\n",
       "      <td>False</td>\n",
       "      <td>180001.0</td>\n",
       "      <td>3.37127</td>\n",
       "      <td>data/Extracted/VT/VT_116704.npy</td>\n",
       "      <td>VT</td>\n",
       "      <td>221090.375000</td>\n",
       "      <td>74.813332</td>\n",
       "      <td>70.000000</td>\n",
       "      <td>2680.000000</td>\n",
       "      <td>4350.000000</td>\n",
       "    </tr>\n",
       "    <tr>\n",
       "      <th>113183</th>\n",
       "      <td>113183</td>\n",
       "      <td>VT1</td>\n",
       "      <td>20</td>\n",
       "      <td>2008-09-25 10:28:58.940000+00:00</td>\n",
       "      <td>2008-09-25 10:29:18.940000+00:00</td>\n",
       "      <td>50.0</td>\n",
       "      <td>False</td>\n",
       "      <td>180001.0</td>\n",
       "      <td>0.14110</td>\n",
       "      <td>data/Extracted/VT/VT_113183.npy</td>\n",
       "      <td>VT</td>\n",
       "      <td>6950.770996</td>\n",
       "      <td>61.595001</td>\n",
       "      <td>61.000000</td>\n",
       "      <td>507.000000</td>\n",
       "      <td>954.000000</td>\n",
       "    </tr>\n",
       "    <tr>\n",
       "      <th>...</th>\n",
       "      <td>...</td>\n",
       "      <td>...</td>\n",
       "      <td>...</td>\n",
       "      <td>...</td>\n",
       "      <td>...</td>\n",
       "      <td>...</td>\n",
       "      <td>...</td>\n",
       "      <td>...</td>\n",
       "      <td>...</td>\n",
       "      <td>...</td>\n",
       "      <td>...</td>\n",
       "      <td>...</td>\n",
       "      <td>...</td>\n",
       "      <td>...</td>\n",
       "      <td>...</td>\n",
       "      <td>...</td>\n",
       "    </tr>\n",
       "    <tr>\n",
       "      <th>23588</th>\n",
       "      <td>23588</td>\n",
       "      <td>TR2</td>\n",
       "      <td>89</td>\n",
       "      <td>2006-07-30 22:52:50.450000+00:00</td>\n",
       "      <td>2006-07-30 22:54:19.450000+00:00</td>\n",
       "      <td>40.0</td>\n",
       "      <td>False</td>\n",
       "      <td>143999.0</td>\n",
       "      <td>0.18380</td>\n",
       "      <td>data/Extracted/TR/TR_23588.npy</td>\n",
       "      <td>TR</td>\n",
       "      <td>49823.167969</td>\n",
       "      <td>-114.280899</td>\n",
       "      <td>-116.000000</td>\n",
       "      <td>859.000000</td>\n",
       "      <td>1951.000000</td>\n",
       "    </tr>\n",
       "    <tr>\n",
       "      <th>113771</th>\n",
       "      <td>113771</td>\n",
       "      <td>EXP</td>\n",
       "      <td>25</td>\n",
       "      <td>2008-10-14 14:38:29.020000+00:00</td>\n",
       "      <td>2008-10-14 14:38:54.020000+00:00</td>\n",
       "      <td>50.0</td>\n",
       "      <td>False</td>\n",
       "      <td>180001.0</td>\n",
       "      <td>1.98882</td>\n",
       "      <td>data/Extracted/EXP/EXP_113771.npy</td>\n",
       "      <td>EXP</td>\n",
       "      <td>78114.031250</td>\n",
       "      <td>64.496002</td>\n",
       "      <td>63.000000</td>\n",
       "      <td>1078.000000</td>\n",
       "      <td>2114.000000</td>\n",
       "    </tr>\n",
       "    <tr>\n",
       "      <th>99399</th>\n",
       "      <td>99399</td>\n",
       "      <td>PIS</td>\n",
       "      <td>31</td>\n",
       "      <td>2008-07-02 18:18:58.390000+00:00</td>\n",
       "      <td>2008-07-02 18:19:29.390000+00:00</td>\n",
       "      <td>50.0</td>\n",
       "      <td>False</td>\n",
       "      <td>180001.0</td>\n",
       "      <td>0.21969</td>\n",
       "      <td>data/Extracted/PIS/PIS_99399.npy</td>\n",
       "      <td>PIS</td>\n",
       "      <td>22.048834</td>\n",
       "      <td>67.111610</td>\n",
       "      <td>67.000000</td>\n",
       "      <td>89.000000</td>\n",
       "      <td>39.000000</td>\n",
       "    </tr>\n",
       "    <tr>\n",
       "      <th>109903</th>\n",
       "      <td>109903</td>\n",
       "      <td>VT1</td>\n",
       "      <td>28</td>\n",
       "      <td>2008-07-18 14:28:33.260000+00:00</td>\n",
       "      <td>2008-07-18 14:29:01.260000+00:00</td>\n",
       "      <td>50.0</td>\n",
       "      <td>False</td>\n",
       "      <td>180001.0</td>\n",
       "      <td>0.30168</td>\n",
       "      <td>data/Extracted/VT/VT_109903.npy</td>\n",
       "      <td>VT</td>\n",
       "      <td>10621.668945</td>\n",
       "      <td>56.142143</td>\n",
       "      <td>58.000000</td>\n",
       "      <td>636.000000</td>\n",
       "      <td>1084.000000</td>\n",
       "    </tr>\n",
       "    <tr>\n",
       "      <th>122553</th>\n",
       "      <td>122553</td>\n",
       "      <td>TOR</td>\n",
       "      <td>61</td>\n",
       "      <td>2011-04-03 09:02:02.370000+00:00</td>\n",
       "      <td>2011-04-03 09:03:03.370000+00:00</td>\n",
       "      <td>100.0</td>\n",
       "      <td>False</td>\n",
       "      <td>360892.0</td>\n",
       "      <td>0.01371</td>\n",
       "      <td>data/Extracted/TOR/TOR_122553.npy</td>\n",
       "      <td>TOR</td>\n",
       "      <td>646176.375000</td>\n",
       "      <td>0.066505</td>\n",
       "      <td>1.204658</td>\n",
       "      <td>5091.105957</td>\n",
       "      <td>9950.754883</td>\n",
       "    </tr>\n",
       "  </tbody>\n",
       "</table>\n",
       "<p>700 rows × 16 columns</p>\n",
       "</div>"
      ],
      "text/plain": [
       "         Index Event  Duration                       Event start  \\\n",
       "60021    60021   LP1        41  2007-03-22 09:09:09.560000+00:00   \n",
       "121684  121684   TOR        46  2011-06-01 13:45:10.510000+00:00   \n",
       "3430      3430   TR2       585  2006-05-30 10:08:55.830000+00:00   \n",
       "116704  116704   VT1        15  2009-03-25 03:20:13.900000+00:00   \n",
       "113183  113183   VT1        20  2008-09-25 10:28:58.940000+00:00   \n",
       "...        ...   ...       ...                               ...   \n",
       "23588    23588   TR2        89  2006-07-30 22:52:50.450000+00:00   \n",
       "113771  113771   EXP        25  2008-10-14 14:38:29.020000+00:00   \n",
       "99399    99399   PIS        31  2008-07-02 18:18:58.390000+00:00   \n",
       "109903  109903   VT1        28  2008-07-18 14:28:33.260000+00:00   \n",
       "122553  122553   TOR        61  2011-04-03 09:02:02.370000+00:00   \n",
       "\n",
       "                              Event stop  Sampling rate  Overlap      npts  \\\n",
       "60021   2007-03-22 09:09:50.560000+00:00           40.0    False  143999.0   \n",
       "121684  2011-06-01 13:45:56.510000+00:00          100.0    False  360001.0   \n",
       "3430    2006-05-30 10:18:40.830000+00:00           50.0    False  180000.0   \n",
       "116704  2009-03-25 03:20:28.900000+00:00           50.0    False  180001.0   \n",
       "113183  2008-09-25 10:29:18.940000+00:00           50.0    False  180001.0   \n",
       "...                                  ...            ...      ...       ...   \n",
       "23588   2006-07-30 22:54:19.450000+00:00           40.0    False  143999.0   \n",
       "113771  2008-10-14 14:38:54.020000+00:00           50.0    False  180001.0   \n",
       "99399   2008-07-02 18:19:29.390000+00:00           50.0    False  180001.0   \n",
       "109903  2008-07-18 14:29:01.260000+00:00           50.0    False  180001.0   \n",
       "122553  2011-04-03 09:03:03.370000+00:00          100.0    False  360892.0   \n",
       "\n",
       "         energy                               path event       variance  \\\n",
       "60021   0.00858     data/Extracted/LP/LP_60021.npy    LP    5025.824219   \n",
       "121684  1.65191  data/Extracted/TOR/TOR_121684.npy   TOR      89.271751   \n",
       "3430    0.55054      data/Extracted/TR/TR_3430.npy    TR    8848.485352   \n",
       "116704  3.37127    data/Extracted/VT/VT_116704.npy    VT  221090.375000   \n",
       "113183  0.14110    data/Extracted/VT/VT_113183.npy    VT    6950.770996   \n",
       "...         ...                                ...   ...            ...   \n",
       "23588   0.18380     data/Extracted/TR/TR_23588.npy    TR   49823.167969   \n",
       "113771  1.98882  data/Extracted/EXP/EXP_113771.npy   EXP   78114.031250   \n",
       "99399   0.21969   data/Extracted/PIS/PIS_99399.npy   PIS      22.048834   \n",
       "109903  0.30168    data/Extracted/VT/VT_109903.npy    VT   10621.668945   \n",
       "122553  0.01371  data/Extracted/TOR/TOR_122553.npy   TOR  646176.375000   \n",
       "\n",
       "              mean      median      maximum    amplitude  \n",
       "60021   -42.770733  -43.000000   317.000000   690.000000  \n",
       "121684    0.058913    0.022933    34.215183    66.605408  \n",
       "3430    283.737854  283.224243   739.492432   958.898010  \n",
       "116704   74.813332   70.000000  2680.000000  4350.000000  \n",
       "113183   61.595001   61.000000   507.000000   954.000000  \n",
       "...            ...         ...          ...          ...  \n",
       "23588  -114.280899 -116.000000   859.000000  1951.000000  \n",
       "113771   64.496002   63.000000  1078.000000  2114.000000  \n",
       "99399    67.111610   67.000000    89.000000    39.000000  \n",
       "109903   56.142143   58.000000   636.000000  1084.000000  \n",
       "122553    0.066505    1.204658  5091.105957  9950.754883  \n",
       "\n",
       "[700 rows x 16 columns]"
      ]
     },
     "execution_count": 33,
     "metadata": {},
     "output_type": "execute_result"
    }
   ],
   "source": [
    "df"
   ]
  },
  {
   "cell_type": "code",
   "execution_count": 8,
   "metadata": {},
   "outputs": [],
   "source": [
    "features = [\"variance\", \"mean\", \"median\", \"maximum\", \"amplitude\", \"Duration\", \"energy\"]"
   ]
  },
  {
   "cell_type": "code",
   "execution_count": 9,
   "metadata": {},
   "outputs": [
    {
     "data": {
      "text/html": [
       "<div>\n",
       "<style scoped>\n",
       "    .dataframe tbody tr th:only-of-type {\n",
       "        vertical-align: middle;\n",
       "    }\n",
       "\n",
       "    .dataframe tbody tr th {\n",
       "        vertical-align: top;\n",
       "    }\n",
       "\n",
       "    .dataframe thead th {\n",
       "        text-align: right;\n",
       "    }\n",
       "</style>\n",
       "<table border=\"1\" class=\"dataframe\">\n",
       "  <thead>\n",
       "    <tr style=\"text-align: right;\">\n",
       "      <th></th>\n",
       "      <th>variance</th>\n",
       "      <th>mean</th>\n",
       "      <th>median</th>\n",
       "      <th>maximum</th>\n",
       "      <th>amplitude</th>\n",
       "      <th>Duration</th>\n",
       "      <th>energy</th>\n",
       "    </tr>\n",
       "  </thead>\n",
       "  <tbody>\n",
       "    <tr>\n",
       "      <th>120791</th>\n",
       "      <td>3.737696e+02</td>\n",
       "      <td>68.153000</td>\n",
       "      <td>69.000000</td>\n",
       "      <td>153.000000</td>\n",
       "      <td>223.000000</td>\n",
       "      <td>20</td>\n",
       "      <td>0.01106</td>\n",
       "    </tr>\n",
       "    <tr>\n",
       "      <th>112247</th>\n",
       "      <td>1.719263e+04</td>\n",
       "      <td>61.473061</td>\n",
       "      <td>63.000000</td>\n",
       "      <td>560.000000</td>\n",
       "      <td>1111.000000</td>\n",
       "      <td>49</td>\n",
       "      <td>0.85581</td>\n",
       "    </tr>\n",
       "    <tr>\n",
       "      <th>68819</th>\n",
       "      <td>1.085370e+04</td>\n",
       "      <td>-181.736984</td>\n",
       "      <td>-181.000000</td>\n",
       "      <td>503.000000</td>\n",
       "      <td>1258.000000</td>\n",
       "      <td>96</td>\n",
       "      <td>0.04361</td>\n",
       "    </tr>\n",
       "    <tr>\n",
       "      <th>81379</th>\n",
       "      <td>1.145074e+04</td>\n",
       "      <td>-176.205765</td>\n",
       "      <td>-176.000000</td>\n",
       "      <td>287.000000</td>\n",
       "      <td>938.000000</td>\n",
       "      <td>33</td>\n",
       "      <td>0.03921</td>\n",
       "    </tr>\n",
       "    <tr>\n",
       "      <th>105861</th>\n",
       "      <td>3.632470e+04</td>\n",
       "      <td>65.935486</td>\n",
       "      <td>64.500000</td>\n",
       "      <td>841.000000</td>\n",
       "      <td>1638.000000</td>\n",
       "      <td>31</td>\n",
       "      <td>2.10690</td>\n",
       "    </tr>\n",
       "    <tr>\n",
       "      <th>...</th>\n",
       "      <td>...</td>\n",
       "      <td>...</td>\n",
       "      <td>...</td>\n",
       "      <td>...</td>\n",
       "      <td>...</td>\n",
       "      <td>...</td>\n",
       "      <td>...</td>\n",
       "    </tr>\n",
       "    <tr>\n",
       "      <th>68295</th>\n",
       "      <td>2.546701e+04</td>\n",
       "      <td>-168.690109</td>\n",
       "      <td>-170.000000</td>\n",
       "      <td>408.000000</td>\n",
       "      <td>1349.000000</td>\n",
       "      <td>48</td>\n",
       "      <td>0.05448</td>\n",
       "    </tr>\n",
       "    <tr>\n",
       "      <th>120714</th>\n",
       "      <td>2.135279e+02</td>\n",
       "      <td>0.162082</td>\n",
       "      <td>0.484489</td>\n",
       "      <td>31.466145</td>\n",
       "      <td>65.403915</td>\n",
       "      <td>17</td>\n",
       "      <td>0.00358</td>\n",
       "    </tr>\n",
       "    <tr>\n",
       "      <th>74417</th>\n",
       "      <td>1.430122e+07</td>\n",
       "      <td>-242.838440</td>\n",
       "      <td>-198.500000</td>\n",
       "      <td>21338.000000</td>\n",
       "      <td>38853.000000</td>\n",
       "      <td>64</td>\n",
       "      <td>94.78396</td>\n",
       "    </tr>\n",
       "    <tr>\n",
       "      <th>99339</th>\n",
       "      <td>1.213186e+01</td>\n",
       "      <td>70.803871</td>\n",
       "      <td>71.000000</td>\n",
       "      <td>82.000000</td>\n",
       "      <td>23.000000</td>\n",
       "      <td>31</td>\n",
       "      <td>0.21075</td>\n",
       "    </tr>\n",
       "    <tr>\n",
       "      <th>113058</th>\n",
       "      <td>1.984800e+04</td>\n",
       "      <td>61.215973</td>\n",
       "      <td>60.000000</td>\n",
       "      <td>799.000000</td>\n",
       "      <td>1446.000000</td>\n",
       "      <td>149</td>\n",
       "      <td>2.99966</td>\n",
       "    </tr>\n",
       "  </tbody>\n",
       "</table>\n",
       "<p>140 rows × 7 columns</p>\n",
       "</div>"
      ],
      "text/plain": [
       "            variance        mean      median       maximum     amplitude  \\\n",
       "120791  3.737696e+02   68.153000   69.000000    153.000000    223.000000   \n",
       "112247  1.719263e+04   61.473061   63.000000    560.000000   1111.000000   \n",
       "68819   1.085370e+04 -181.736984 -181.000000    503.000000   1258.000000   \n",
       "81379   1.145074e+04 -176.205765 -176.000000    287.000000    938.000000   \n",
       "105861  3.632470e+04   65.935486   64.500000    841.000000   1638.000000   \n",
       "...              ...         ...         ...           ...           ...   \n",
       "68295   2.546701e+04 -168.690109 -170.000000    408.000000   1349.000000   \n",
       "120714  2.135279e+02    0.162082    0.484489     31.466145     65.403915   \n",
       "74417   1.430122e+07 -242.838440 -198.500000  21338.000000  38853.000000   \n",
       "99339   1.213186e+01   70.803871   71.000000     82.000000     23.000000   \n",
       "113058  1.984800e+04   61.215973   60.000000    799.000000   1446.000000   \n",
       "\n",
       "        Duration    energy  \n",
       "120791        20   0.01106  \n",
       "112247        49   0.85581  \n",
       "68819         96   0.04361  \n",
       "81379         33   0.03921  \n",
       "105861        31   2.10690  \n",
       "...          ...       ...  \n",
       "68295         48   0.05448  \n",
       "120714        17   0.00358  \n",
       "74417         64  94.78396  \n",
       "99339         31   0.21075  \n",
       "113058       149   2.99966  \n",
       "\n",
       "[140 rows x 7 columns]"
      ]
     },
     "execution_count": 9,
     "metadata": {},
     "output_type": "execute_result"
    }
   ],
   "source": [
    "df[features]"
   ]
  },
  {
   "cell_type": "markdown",
   "metadata": {},
   "source": [
    "## K-Means Clustering"
   ]
  },
  {
   "cell_type": "code",
   "execution_count": 34,
   "metadata": {},
   "outputs": [
    {
     "data": {
      "text/plain": [
       "KMeans(n_clusters=7)"
      ]
     },
     "execution_count": 34,
     "metadata": {},
     "output_type": "execute_result"
    }
   ],
   "source": [
    "from sklearn.cluster import KMeans\n",
    "\n",
    "kmeans = KMeans(7)\n",
    "\n",
    "kmeans.fit(df[features])"
   ]
  },
  {
   "cell_type": "markdown",
   "metadata": {},
   "source": [
    "### Imbalance measure"
   ]
  },
  {
   "cell_type": "code",
   "execution_count": 36,
   "metadata": {},
   "outputs": [],
   "source": [
    "from gini import gini"
   ]
  },
  {
   "cell_type": "code",
   "execution_count": 37,
   "metadata": {},
   "outputs": [
    {
     "data": {
      "text/plain": [
       "0.9545574057843996"
      ]
     },
     "execution_count": 37,
     "metadata": {},
     "output_type": "execute_result"
    }
   ],
   "source": [
    "gini(kmeans.labels_)"
   ]
  },
  {
   "cell_type": "code",
   "execution_count": 38,
   "metadata": {},
   "outputs": [],
   "source": [
    "from sklearn.preprocessing import LabelEncoder\n",
    "\n",
    "real_labels = LabelEncoder().fit_transform(balanced_table.event.values)"
   ]
  },
  {
   "cell_type": "code",
   "execution_count": 40,
   "metadata": {},
   "outputs": [
    {
     "data": {
      "text/plain": [
       "0.38095238095238093"
      ]
     },
     "execution_count": 40,
     "metadata": {},
     "output_type": "execute_result"
    }
   ],
   "source": [
    "gini(real_labels)"
   ]
  },
  {
   "cell_type": "markdown",
   "metadata": {},
   "source": [
    "### Rand Index"
   ]
  },
  {
   "cell_type": "code",
   "execution_count": 41,
   "metadata": {},
   "outputs": [
    {
     "data": {
      "text/plain": [
       "0.239922338033926"
      ]
     },
     "execution_count": 41,
     "metadata": {},
     "output_type": "execute_result"
    }
   ],
   "source": [
    "rand_score(kmeans.labels_, real_labels)"
   ]
  },
  {
   "cell_type": "code",
   "execution_count": 46,
   "metadata": {},
   "outputs": [
    {
     "data": {
      "text/plain": [
       "0.009958308705330524"
      ]
     },
     "execution_count": 46,
     "metadata": {},
     "output_type": "execute_result"
    }
   ],
   "source": [
    "adjusted_rand_score(kmeans.labels_, real_labels)"
   ]
  },
  {
   "cell_type": "markdown",
   "metadata": {},
   "source": [
    "## OPTICS"
   ]
  },
  {
   "cell_type": "code",
   "execution_count": 43,
   "metadata": {},
   "outputs": [
    {
     "data": {
      "text/plain": [
       "OPTICS()"
      ]
     },
     "execution_count": 43,
     "metadata": {},
     "output_type": "execute_result"
    }
   ],
   "source": [
    "from sklearn.cluster import OPTICS\n",
    "\n",
    "optics = OPTICS()\n",
    "\n",
    "optics.fit(df[features])"
   ]
  },
  {
   "cell_type": "code",
   "execution_count": 44,
   "metadata": {},
   "outputs": [
    {
     "data": {
      "text/plain": [
       "0.7235561005518087"
      ]
     },
     "execution_count": 44,
     "metadata": {},
     "output_type": "execute_result"
    }
   ],
   "source": [
    "rand_score(optics.labels_, real_labels)"
   ]
  },
  {
   "cell_type": "code",
   "execution_count": 47,
   "metadata": {},
   "outputs": [
    {
     "data": {
      "text/plain": [
       "0.02350357359167249"
      ]
     },
     "execution_count": 47,
     "metadata": {},
     "output_type": "execute_result"
    }
   ],
   "source": [
    "adjusted_rand_score(optics.labels_, real_labels)"
   ]
  },
  {
   "cell_type": "markdown",
   "metadata": {},
   "source": [
    "## Affinity propagation"
   ]
  },
  {
   "cell_type": "code",
   "execution_count": 48,
   "metadata": {},
   "outputs": [
    {
     "name": "stdout",
     "output_type": "stream",
     "text": [
      "0.0\n"
     ]
    },
    {
     "name": "stderr",
     "output_type": "stream",
     "text": [
      "/home/d5learner-01/anaconda3/envs/volca3/lib/python3.9/site-packages/sklearn/cluster/_affinity_propagation.py:250: ConvergenceWarning: Affinity propagation did not converge, this model will not have any cluster centers.\n",
      "  warnings.warn(\n"
     ]
    }
   ],
   "source": [
    "from sklearn.cluster import AffinityPropagation\n",
    "\n",
    "aff = AffinityPropagation()\n",
    "\n",
    "aff.fit(df[features])\n",
    "\n",
    "print(adjusted_rand_score(aff.labels_, real_labels))"
   ]
  },
  {
   "cell_type": "code",
   "execution_count": null,
   "metadata": {},
   "outputs": [],
   "source": []
  }
 ],
 "metadata": {
  "interpreter": {
   "hash": "52b7a19755d7590c8f33dced4cf51b8fc2d67197dedd754d3fdc4df20b4f1b94"
  },
  "kernelspec": {
   "display_name": "Python 3.9.7 64-bit ('volca3': conda)",
   "language": "python",
   "name": "python3"
  },
  "language_info": {
   "codemirror_mode": {
    "name": "ipython",
    "version": 3
   },
   "file_extension": ".py",
   "mimetype": "text/x-python",
   "name": "python",
   "nbconvert_exporter": "python",
   "pygments_lexer": "ipython3",
   "version": "3.9.7"
  },
  "orig_nbformat": 4
 },
 "nbformat": 4,
 "nbformat_minor": 2
}
