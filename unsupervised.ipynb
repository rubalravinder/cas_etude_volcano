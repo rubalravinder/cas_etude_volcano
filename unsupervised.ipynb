{
 "cells": [
  {
   "cell_type": "markdown",
   "metadata": {},
   "source": [
    "## Load Data"
   ]
  },
  {
   "cell_type": "code",
   "execution_count": 2,
   "metadata": {},
   "outputs": [],
   "source": [
    "%load_ext autoreload\n",
    "%autoreload 2\n",
    "\n",
    "import pandas as pd\n",
    "import os"
   ]
  },
  {
   "cell_type": "code",
   "execution_count": 3,
   "metadata": {},
   "outputs": [],
   "source": [
    "try:\n",
    "    table = pd.read_pickle(\"data/table.pkl\")\n",
    "except:\n",
    "    table = pd.read_excel(\"data/association_table_corrected_index.xlsx\")\n",
    "    table.to_pickle(\"data/table.pkl\")"
   ]
  },
  {
   "cell_type": "code",
   "execution_count": 4,
   "metadata": {},
   "outputs": [],
   "source": [
    "from transformer import Event\n",
    "from subsampler import balanced_subsampler\n",
    "\n",
    "NUMBER_OF_SAMPLES_PER_EVENT = 20\n",
    "\n",
    "tablerich = Event().fit_transform(table)\n"
   ]
  },
  {
   "cell_type": "code",
   "execution_count": 5,
   "metadata": {},
   "outputs": [
    {
     "data": {
      "text/plain": [
       "TOR    20\n",
       "PIS    20\n",
       "TR     20\n",
       "LP     20\n",
       "HIB    20\n",
       "EXP    20\n",
       "VT     20\n",
       "Name: event, dtype: int64"
      ]
     },
     "execution_count": 5,
     "metadata": {},
     "output_type": "execute_result"
    }
   ],
   "source": [
    "balanced_table = balanced_subsampler(tablerich, NUMBER_OF_SAMPLES_PER_EVENT)\n",
    "balanced_table.event.value_counts()"
   ]
  },
  {
   "cell_type": "code",
   "execution_count": 6,
   "metadata": {},
   "outputs": [],
   "source": [
    "from transformer import Transformer\n",
    "\n",
    "df = Transformer(\"data/Extracted/\").fit_transform(balanced_table)"
   ]
  },
  {
   "cell_type": "markdown",
   "metadata": {},
   "source": [
    "## K-Means clustering"
   ]
  },
  {
   "cell_type": "code",
   "execution_count": 7,
   "metadata": {},
   "outputs": [
    {
     "data": {
      "text/html": [
       "<div>\n",
       "<style scoped>\n",
       "    .dataframe tbody tr th:only-of-type {\n",
       "        vertical-align: middle;\n",
       "    }\n",
       "\n",
       "    .dataframe tbody tr th {\n",
       "        vertical-align: top;\n",
       "    }\n",
       "\n",
       "    .dataframe thead th {\n",
       "        text-align: right;\n",
       "    }\n",
       "</style>\n",
       "<table border=\"1\" class=\"dataframe\">\n",
       "  <thead>\n",
       "    <tr style=\"text-align: right;\">\n",
       "      <th></th>\n",
       "      <th>Index</th>\n",
       "      <th>Event</th>\n",
       "      <th>Duration</th>\n",
       "      <th>Event start</th>\n",
       "      <th>Event stop</th>\n",
       "      <th>Sampling rate</th>\n",
       "      <th>Overlap</th>\n",
       "      <th>npts</th>\n",
       "      <th>energy</th>\n",
       "      <th>path</th>\n",
       "      <th>event</th>\n",
       "      <th>variance</th>\n",
       "      <th>mean</th>\n",
       "      <th>median</th>\n",
       "      <th>maximum</th>\n",
       "      <th>amplitude</th>\n",
       "    </tr>\n",
       "  </thead>\n",
       "  <tbody>\n",
       "    <tr>\n",
       "      <th>120791</th>\n",
       "      <td>120791</td>\n",
       "      <td>TOR</td>\n",
       "      <td>20</td>\n",
       "      <td>2010-07-26 16:14:04.560000+00:00</td>\n",
       "      <td>2010-07-26 16:14:24.560000+00:00</td>\n",
       "      <td>50.0</td>\n",
       "      <td>False</td>\n",
       "      <td>180001.0</td>\n",
       "      <td>0.01106</td>\n",
       "      <td>data/Extracted/TOR/TOR_120791.npy</td>\n",
       "      <td>TOR</td>\n",
       "      <td>3.737696e+02</td>\n",
       "      <td>68.153000</td>\n",
       "      <td>69.000000</td>\n",
       "      <td>153.000000</td>\n",
       "      <td>223.000000</td>\n",
       "    </tr>\n",
       "    <tr>\n",
       "      <th>112247</th>\n",
       "      <td>112247</td>\n",
       "      <td>PIS</td>\n",
       "      <td>49</td>\n",
       "      <td>2008-09-14 08:06:04.950000+00:00</td>\n",
       "      <td>2008-09-14 08:06:53.950000+00:00</td>\n",
       "      <td>50.0</td>\n",
       "      <td>False</td>\n",
       "      <td>180001.0</td>\n",
       "      <td>0.85581</td>\n",
       "      <td>data/Extracted/PIS/PIS_112247.npy</td>\n",
       "      <td>PIS</td>\n",
       "      <td>1.719263e+04</td>\n",
       "      <td>61.473061</td>\n",
       "      <td>63.000000</td>\n",
       "      <td>560.000000</td>\n",
       "      <td>1111.000000</td>\n",
       "    </tr>\n",
       "    <tr>\n",
       "      <th>68819</th>\n",
       "      <td>68819</td>\n",
       "      <td>TR2</td>\n",
       "      <td>96</td>\n",
       "      <td>2007-04-25 09:16:33.840000+00:00</td>\n",
       "      <td>2007-04-25 09:18:09.840000+00:00</td>\n",
       "      <td>40.0</td>\n",
       "      <td>False</td>\n",
       "      <td>319890.0</td>\n",
       "      <td>0.04361</td>\n",
       "      <td>data/Extracted/TR/TR_68819.npy</td>\n",
       "      <td>TR</td>\n",
       "      <td>1.085370e+04</td>\n",
       "      <td>-181.736984</td>\n",
       "      <td>-181.000000</td>\n",
       "      <td>503.000000</td>\n",
       "      <td>1258.000000</td>\n",
       "    </tr>\n",
       "    <tr>\n",
       "      <th>81379</th>\n",
       "      <td>81379</td>\n",
       "      <td>LP1</td>\n",
       "      <td>33</td>\n",
       "      <td>2007-06-20 13:28:11.680000+00:00</td>\n",
       "      <td>2007-06-20 13:28:44.680000+00:00</td>\n",
       "      <td>100.0</td>\n",
       "      <td>False</td>\n",
       "      <td>360001.0</td>\n",
       "      <td>0.03921</td>\n",
       "      <td>data/Extracted/LP/LP_81379.npy</td>\n",
       "      <td>LP</td>\n",
       "      <td>1.145074e+04</td>\n",
       "      <td>-176.205765</td>\n",
       "      <td>-176.000000</td>\n",
       "      <td>287.000000</td>\n",
       "      <td>938.000000</td>\n",
       "    </tr>\n",
       "    <tr>\n",
       "      <th>105861</th>\n",
       "      <td>105861</td>\n",
       "      <td>PIS</td>\n",
       "      <td>31</td>\n",
       "      <td>2008-04-17 19:26:08.180000+00:00</td>\n",
       "      <td>2008-04-17 19:26:39.180000+00:00</td>\n",
       "      <td>50.0</td>\n",
       "      <td>False</td>\n",
       "      <td>180001.0</td>\n",
       "      <td>2.10690</td>\n",
       "      <td>data/Extracted/PIS/PIS_105861.npy</td>\n",
       "      <td>PIS</td>\n",
       "      <td>3.632470e+04</td>\n",
       "      <td>65.935486</td>\n",
       "      <td>64.500000</td>\n",
       "      <td>841.000000</td>\n",
       "      <td>1638.000000</td>\n",
       "    </tr>\n",
       "    <tr>\n",
       "      <th>...</th>\n",
       "      <td>...</td>\n",
       "      <td>...</td>\n",
       "      <td>...</td>\n",
       "      <td>...</td>\n",
       "      <td>...</td>\n",
       "      <td>...</td>\n",
       "      <td>...</td>\n",
       "      <td>...</td>\n",
       "      <td>...</td>\n",
       "      <td>...</td>\n",
       "      <td>...</td>\n",
       "      <td>...</td>\n",
       "      <td>...</td>\n",
       "      <td>...</td>\n",
       "      <td>...</td>\n",
       "      <td>...</td>\n",
       "    </tr>\n",
       "    <tr>\n",
       "      <th>68295</th>\n",
       "      <td>68295</td>\n",
       "      <td>LP1</td>\n",
       "      <td>48</td>\n",
       "      <td>2007-04-23 21:08:28.190000+00:00</td>\n",
       "      <td>2007-04-23 21:09:16.190000+00:00</td>\n",
       "      <td>40.0</td>\n",
       "      <td>False</td>\n",
       "      <td>143999.0</td>\n",
       "      <td>0.05448</td>\n",
       "      <td>data/Extracted/LP/LP_68295.npy</td>\n",
       "      <td>LP</td>\n",
       "      <td>2.546701e+04</td>\n",
       "      <td>-168.690109</td>\n",
       "      <td>-170.000000</td>\n",
       "      <td>408.000000</td>\n",
       "      <td>1349.000000</td>\n",
       "    </tr>\n",
       "    <tr>\n",
       "      <th>120714</th>\n",
       "      <td>120714</td>\n",
       "      <td>TOR</td>\n",
       "      <td>17</td>\n",
       "      <td>2010-10-07 03:16:38.970000+00:00</td>\n",
       "      <td>2010-10-07 03:16:55.970000+00:00</td>\n",
       "      <td>50.0</td>\n",
       "      <td>False</td>\n",
       "      <td>180001.0</td>\n",
       "      <td>0.00358</td>\n",
       "      <td>data/Extracted/TOR/TOR_120714.npy</td>\n",
       "      <td>TOR</td>\n",
       "      <td>2.135279e+02</td>\n",
       "      <td>0.162082</td>\n",
       "      <td>0.484489</td>\n",
       "      <td>31.466145</td>\n",
       "      <td>65.403915</td>\n",
       "    </tr>\n",
       "    <tr>\n",
       "      <th>74417</th>\n",
       "      <td>74417</td>\n",
       "      <td>EXP</td>\n",
       "      <td>64</td>\n",
       "      <td>2007-05-24 06:32:32.350000+00:00</td>\n",
       "      <td>2007-05-24 06:33:36.350000+00:00</td>\n",
       "      <td>100.0</td>\n",
       "      <td>False</td>\n",
       "      <td>360001.0</td>\n",
       "      <td>94.78396</td>\n",
       "      <td>data/Extracted/EXP/EXP_74417.npy</td>\n",
       "      <td>EXP</td>\n",
       "      <td>1.430122e+07</td>\n",
       "      <td>-242.838440</td>\n",
       "      <td>-198.500000</td>\n",
       "      <td>21338.000000</td>\n",
       "      <td>38853.000000</td>\n",
       "    </tr>\n",
       "    <tr>\n",
       "      <th>99339</th>\n",
       "      <td>99339</td>\n",
       "      <td>PIS</td>\n",
       "      <td>31</td>\n",
       "      <td>2008-06-02 20:40:11.180000+00:00</td>\n",
       "      <td>2008-06-02 20:40:42.180000+00:00</td>\n",
       "      <td>50.0</td>\n",
       "      <td>False</td>\n",
       "      <td>180001.0</td>\n",
       "      <td>0.21075</td>\n",
       "      <td>data/Extracted/PIS/PIS_99339.npy</td>\n",
       "      <td>PIS</td>\n",
       "      <td>1.213186e+01</td>\n",
       "      <td>70.803871</td>\n",
       "      <td>71.000000</td>\n",
       "      <td>82.000000</td>\n",
       "      <td>23.000000</td>\n",
       "    </tr>\n",
       "    <tr>\n",
       "      <th>113058</th>\n",
       "      <td>113058</td>\n",
       "      <td>PIS</td>\n",
       "      <td>149</td>\n",
       "      <td>2008-09-23 08:39:08.350000+00:00</td>\n",
       "      <td>2008-09-23 08:41:37.350000+00:00</td>\n",
       "      <td>50.0</td>\n",
       "      <td>False</td>\n",
       "      <td>180001.0</td>\n",
       "      <td>2.99966</td>\n",
       "      <td>data/Extracted/PIS/PIS_113058.npy</td>\n",
       "      <td>PIS</td>\n",
       "      <td>1.984800e+04</td>\n",
       "      <td>61.215973</td>\n",
       "      <td>60.000000</td>\n",
       "      <td>799.000000</td>\n",
       "      <td>1446.000000</td>\n",
       "    </tr>\n",
       "  </tbody>\n",
       "</table>\n",
       "<p>140 rows × 16 columns</p>\n",
       "</div>"
      ],
      "text/plain": [
       "         Index Event  Duration                       Event start  \\\n",
       "120791  120791   TOR        20  2010-07-26 16:14:04.560000+00:00   \n",
       "112247  112247   PIS        49  2008-09-14 08:06:04.950000+00:00   \n",
       "68819    68819   TR2        96  2007-04-25 09:16:33.840000+00:00   \n",
       "81379    81379   LP1        33  2007-06-20 13:28:11.680000+00:00   \n",
       "105861  105861   PIS        31  2008-04-17 19:26:08.180000+00:00   \n",
       "...        ...   ...       ...                               ...   \n",
       "68295    68295   LP1        48  2007-04-23 21:08:28.190000+00:00   \n",
       "120714  120714   TOR        17  2010-10-07 03:16:38.970000+00:00   \n",
       "74417    74417   EXP        64  2007-05-24 06:32:32.350000+00:00   \n",
       "99339    99339   PIS        31  2008-06-02 20:40:11.180000+00:00   \n",
       "113058  113058   PIS       149  2008-09-23 08:39:08.350000+00:00   \n",
       "\n",
       "                              Event stop  Sampling rate  Overlap      npts  \\\n",
       "120791  2010-07-26 16:14:24.560000+00:00           50.0    False  180001.0   \n",
       "112247  2008-09-14 08:06:53.950000+00:00           50.0    False  180001.0   \n",
       "68819   2007-04-25 09:18:09.840000+00:00           40.0    False  319890.0   \n",
       "81379   2007-06-20 13:28:44.680000+00:00          100.0    False  360001.0   \n",
       "105861  2008-04-17 19:26:39.180000+00:00           50.0    False  180001.0   \n",
       "...                                  ...            ...      ...       ...   \n",
       "68295   2007-04-23 21:09:16.190000+00:00           40.0    False  143999.0   \n",
       "120714  2010-10-07 03:16:55.970000+00:00           50.0    False  180001.0   \n",
       "74417   2007-05-24 06:33:36.350000+00:00          100.0    False  360001.0   \n",
       "99339   2008-06-02 20:40:42.180000+00:00           50.0    False  180001.0   \n",
       "113058  2008-09-23 08:41:37.350000+00:00           50.0    False  180001.0   \n",
       "\n",
       "          energy                               path event      variance  \\\n",
       "120791   0.01106  data/Extracted/TOR/TOR_120791.npy   TOR  3.737696e+02   \n",
       "112247   0.85581  data/Extracted/PIS/PIS_112247.npy   PIS  1.719263e+04   \n",
       "68819    0.04361     data/Extracted/TR/TR_68819.npy    TR  1.085370e+04   \n",
       "81379    0.03921     data/Extracted/LP/LP_81379.npy    LP  1.145074e+04   \n",
       "105861   2.10690  data/Extracted/PIS/PIS_105861.npy   PIS  3.632470e+04   \n",
       "...          ...                                ...   ...           ...   \n",
       "68295    0.05448     data/Extracted/LP/LP_68295.npy    LP  2.546701e+04   \n",
       "120714   0.00358  data/Extracted/TOR/TOR_120714.npy   TOR  2.135279e+02   \n",
       "74417   94.78396   data/Extracted/EXP/EXP_74417.npy   EXP  1.430122e+07   \n",
       "99339    0.21075   data/Extracted/PIS/PIS_99339.npy   PIS  1.213186e+01   \n",
       "113058   2.99966  data/Extracted/PIS/PIS_113058.npy   PIS  1.984800e+04   \n",
       "\n",
       "              mean      median       maximum     amplitude  \n",
       "120791   68.153000   69.000000    153.000000    223.000000  \n",
       "112247   61.473061   63.000000    560.000000   1111.000000  \n",
       "68819  -181.736984 -181.000000    503.000000   1258.000000  \n",
       "81379  -176.205765 -176.000000    287.000000    938.000000  \n",
       "105861   65.935486   64.500000    841.000000   1638.000000  \n",
       "...            ...         ...           ...           ...  \n",
       "68295  -168.690109 -170.000000    408.000000   1349.000000  \n",
       "120714    0.162082    0.484489     31.466145     65.403915  \n",
       "74417  -242.838440 -198.500000  21338.000000  38853.000000  \n",
       "99339    70.803871   71.000000     82.000000     23.000000  \n",
       "113058   61.215973   60.000000    799.000000   1446.000000  \n",
       "\n",
       "[140 rows x 16 columns]"
      ]
     },
     "execution_count": 7,
     "metadata": {},
     "output_type": "execute_result"
    }
   ],
   "source": [
    "df"
   ]
  },
  {
   "cell_type": "code",
   "execution_count": 8,
   "metadata": {},
   "outputs": [],
   "source": [
    "features = [\"variance\", \"mean\", \"median\", \"maximum\", \"amplitude\", \"Duration\", \"energy\"]"
   ]
  },
  {
   "cell_type": "code",
   "execution_count": 9,
   "metadata": {},
   "outputs": [
    {
     "data": {
      "text/html": [
       "<div>\n",
       "<style scoped>\n",
       "    .dataframe tbody tr th:only-of-type {\n",
       "        vertical-align: middle;\n",
       "    }\n",
       "\n",
       "    .dataframe tbody tr th {\n",
       "        vertical-align: top;\n",
       "    }\n",
       "\n",
       "    .dataframe thead th {\n",
       "        text-align: right;\n",
       "    }\n",
       "</style>\n",
       "<table border=\"1\" class=\"dataframe\">\n",
       "  <thead>\n",
       "    <tr style=\"text-align: right;\">\n",
       "      <th></th>\n",
       "      <th>variance</th>\n",
       "      <th>mean</th>\n",
       "      <th>median</th>\n",
       "      <th>maximum</th>\n",
       "      <th>amplitude</th>\n",
       "      <th>Duration</th>\n",
       "      <th>energy</th>\n",
       "    </tr>\n",
       "  </thead>\n",
       "  <tbody>\n",
       "    <tr>\n",
       "      <th>120791</th>\n",
       "      <td>3.737696e+02</td>\n",
       "      <td>68.153000</td>\n",
       "      <td>69.000000</td>\n",
       "      <td>153.000000</td>\n",
       "      <td>223.000000</td>\n",
       "      <td>20</td>\n",
       "      <td>0.01106</td>\n",
       "    </tr>\n",
       "    <tr>\n",
       "      <th>112247</th>\n",
       "      <td>1.719263e+04</td>\n",
       "      <td>61.473061</td>\n",
       "      <td>63.000000</td>\n",
       "      <td>560.000000</td>\n",
       "      <td>1111.000000</td>\n",
       "      <td>49</td>\n",
       "      <td>0.85581</td>\n",
       "    </tr>\n",
       "    <tr>\n",
       "      <th>68819</th>\n",
       "      <td>1.085370e+04</td>\n",
       "      <td>-181.736984</td>\n",
       "      <td>-181.000000</td>\n",
       "      <td>503.000000</td>\n",
       "      <td>1258.000000</td>\n",
       "      <td>96</td>\n",
       "      <td>0.04361</td>\n",
       "    </tr>\n",
       "    <tr>\n",
       "      <th>81379</th>\n",
       "      <td>1.145074e+04</td>\n",
       "      <td>-176.205765</td>\n",
       "      <td>-176.000000</td>\n",
       "      <td>287.000000</td>\n",
       "      <td>938.000000</td>\n",
       "      <td>33</td>\n",
       "      <td>0.03921</td>\n",
       "    </tr>\n",
       "    <tr>\n",
       "      <th>105861</th>\n",
       "      <td>3.632470e+04</td>\n",
       "      <td>65.935486</td>\n",
       "      <td>64.500000</td>\n",
       "      <td>841.000000</td>\n",
       "      <td>1638.000000</td>\n",
       "      <td>31</td>\n",
       "      <td>2.10690</td>\n",
       "    </tr>\n",
       "    <tr>\n",
       "      <th>...</th>\n",
       "      <td>...</td>\n",
       "      <td>...</td>\n",
       "      <td>...</td>\n",
       "      <td>...</td>\n",
       "      <td>...</td>\n",
       "      <td>...</td>\n",
       "      <td>...</td>\n",
       "    </tr>\n",
       "    <tr>\n",
       "      <th>68295</th>\n",
       "      <td>2.546701e+04</td>\n",
       "      <td>-168.690109</td>\n",
       "      <td>-170.000000</td>\n",
       "      <td>408.000000</td>\n",
       "      <td>1349.000000</td>\n",
       "      <td>48</td>\n",
       "      <td>0.05448</td>\n",
       "    </tr>\n",
       "    <tr>\n",
       "      <th>120714</th>\n",
       "      <td>2.135279e+02</td>\n",
       "      <td>0.162082</td>\n",
       "      <td>0.484489</td>\n",
       "      <td>31.466145</td>\n",
       "      <td>65.403915</td>\n",
       "      <td>17</td>\n",
       "      <td>0.00358</td>\n",
       "    </tr>\n",
       "    <tr>\n",
       "      <th>74417</th>\n",
       "      <td>1.430122e+07</td>\n",
       "      <td>-242.838440</td>\n",
       "      <td>-198.500000</td>\n",
       "      <td>21338.000000</td>\n",
       "      <td>38853.000000</td>\n",
       "      <td>64</td>\n",
       "      <td>94.78396</td>\n",
       "    </tr>\n",
       "    <tr>\n",
       "      <th>99339</th>\n",
       "      <td>1.213186e+01</td>\n",
       "      <td>70.803871</td>\n",
       "      <td>71.000000</td>\n",
       "      <td>82.000000</td>\n",
       "      <td>23.000000</td>\n",
       "      <td>31</td>\n",
       "      <td>0.21075</td>\n",
       "    </tr>\n",
       "    <tr>\n",
       "      <th>113058</th>\n",
       "      <td>1.984800e+04</td>\n",
       "      <td>61.215973</td>\n",
       "      <td>60.000000</td>\n",
       "      <td>799.000000</td>\n",
       "      <td>1446.000000</td>\n",
       "      <td>149</td>\n",
       "      <td>2.99966</td>\n",
       "    </tr>\n",
       "  </tbody>\n",
       "</table>\n",
       "<p>140 rows × 7 columns</p>\n",
       "</div>"
      ],
      "text/plain": [
       "            variance        mean      median       maximum     amplitude  \\\n",
       "120791  3.737696e+02   68.153000   69.000000    153.000000    223.000000   \n",
       "112247  1.719263e+04   61.473061   63.000000    560.000000   1111.000000   \n",
       "68819   1.085370e+04 -181.736984 -181.000000    503.000000   1258.000000   \n",
       "81379   1.145074e+04 -176.205765 -176.000000    287.000000    938.000000   \n",
       "105861  3.632470e+04   65.935486   64.500000    841.000000   1638.000000   \n",
       "...              ...         ...         ...           ...           ...   \n",
       "68295   2.546701e+04 -168.690109 -170.000000    408.000000   1349.000000   \n",
       "120714  2.135279e+02    0.162082    0.484489     31.466145     65.403915   \n",
       "74417   1.430122e+07 -242.838440 -198.500000  21338.000000  38853.000000   \n",
       "99339   1.213186e+01   70.803871   71.000000     82.000000     23.000000   \n",
       "113058  1.984800e+04   61.215973   60.000000    799.000000   1446.000000   \n",
       "\n",
       "        Duration    energy  \n",
       "120791        20   0.01106  \n",
       "112247        49   0.85581  \n",
       "68819         96   0.04361  \n",
       "81379         33   0.03921  \n",
       "105861        31   2.10690  \n",
       "...          ...       ...  \n",
       "68295         48   0.05448  \n",
       "120714        17   0.00358  \n",
       "74417         64  94.78396  \n",
       "99339         31   0.21075  \n",
       "113058       149   2.99966  \n",
       "\n",
       "[140 rows x 7 columns]"
      ]
     },
     "execution_count": 9,
     "metadata": {},
     "output_type": "execute_result"
    }
   ],
   "source": [
    "df[features]"
   ]
  },
  {
   "cell_type": "code",
   "execution_count": 10,
   "metadata": {},
   "outputs": [
    {
     "data": {
      "text/plain": [
       "KMeans(n_clusters=7)"
      ]
     },
     "execution_count": 10,
     "metadata": {},
     "output_type": "execute_result"
    }
   ],
   "source": [
    "from sklearn.cluster import KMeans\n",
    "\n",
    "kmeans = KMeans(7)\n",
    "\n",
    "kmeans.fit(df[features])"
   ]
  },
  {
   "cell_type": "code",
   "execution_count": 11,
   "metadata": {},
   "outputs": [
    {
     "data": {
      "text/plain": [
       "array([0, 0, 0, 0, 0, 0, 0, 2, 0, 0, 0, 0, 0, 0, 0, 0, 0, 0, 6, 0, 0, 0,\n",
       "       0, 0, 0, 0, 0, 0, 0, 0, 0, 0, 0, 0, 0, 0, 0, 4, 0, 0, 0, 6, 0, 0,\n",
       "       0, 0, 0, 0, 0, 0, 0, 0, 0, 0, 0, 1, 0, 0, 0, 0, 0, 0, 0, 0, 0, 0,\n",
       "       0, 0, 0, 0, 0, 0, 0, 0, 0, 0, 0, 0, 0, 0, 0, 0, 5, 0, 0, 0, 0, 0,\n",
       "       0, 0, 0, 0, 0, 0, 0, 0, 0, 0, 0, 0, 0, 0, 0, 0, 0, 0, 0, 4, 0, 2,\n",
       "       0, 0, 0, 0, 0, 0, 0, 0, 0, 0, 0, 0, 0, 0, 0, 3, 0, 0, 0, 0, 0, 0,\n",
       "       5, 0, 0, 0, 0, 6, 0, 0], dtype=int32)"
      ]
     },
     "execution_count": 11,
     "metadata": {},
     "output_type": "execute_result"
    }
   ],
   "source": [
    "kmeans.labels_"
   ]
  },
  {
   "cell_type": "markdown",
   "metadata": {},
   "source": [
    "### Imbalance measure"
   ]
  },
  {
   "cell_type": "code",
   "execution_count": 12,
   "metadata": {},
   "outputs": [
    {
     "data": {
      "text/plain": [
       "120791    TOR\n",
       "112247    PIS\n",
       "68819      TR\n",
       "81379      LP\n",
       "105861    PIS\n",
       "         ... \n",
       "68295      LP\n",
       "120714    TOR\n",
       "74417     EXP\n",
       "99339     PIS\n",
       "113058    PIS\n",
       "Name: event, Length: 140, dtype: object"
      ]
     },
     "execution_count": 12,
     "metadata": {},
     "output_type": "execute_result"
    }
   ],
   "source": [
    "df.event"
   ]
  },
  {
   "cell_type": "code",
   "execution_count": 16,
   "metadata": {},
   "outputs": [],
   "source": [
    "from gini import gini"
   ]
  },
  {
   "cell_type": "code",
   "execution_count": 17,
   "metadata": {},
   "outputs": [
    {
     "data": {
      "text/plain": [
       "0.9402597402597402"
      ]
     },
     "execution_count": 17,
     "metadata": {},
     "output_type": "execute_result"
    }
   ],
   "source": [
    "gini(kmeans.labels_)"
   ]
  },
  {
   "cell_type": "code",
   "execution_count": 22,
   "metadata": {},
   "outputs": [],
   "source": [
    "from sklearn.preprocessing import LabelEncoder\n",
    "\n",
    "real_labels = LabelEncoder().fit_transform(balanced_table.event.values)"
   ]
  },
  {
   "cell_type": "code",
   "execution_count": 23,
   "metadata": {},
   "outputs": [
    {
     "data": {
      "text/plain": [
       "array([4, 3, 5, 2, 3, 1, 3, 0, 4, 5, 6, 1, 4, 5, 3, 6, 2, 6, 0, 4, 2, 6,\n",
       "       5, 2, 0, 2, 6, 0, 0, 1, 1, 3, 4, 2, 6, 6, 4, 0, 5, 2, 0, 6, 3, 6,\n",
       "       5, 2, 6, 4, 4, 3, 4, 3, 4, 3, 1, 0, 1, 6, 0, 6, 0, 1, 4, 2, 1, 6,\n",
       "       2, 2, 5, 4, 3, 5, 4, 1, 3, 3, 4, 0, 3, 1, 5, 6, 0, 6, 1, 5, 2, 4,\n",
       "       2, 3, 5, 1, 1, 6, 3, 5, 6, 5, 2, 0, 5, 6, 2, 2, 0, 1, 4, 0, 1, 0,\n",
       "       1, 5, 2, 4, 4, 2, 5, 3, 0, 2, 1, 3, 6, 5, 1, 0, 3, 5, 5, 6, 4, 5,\n",
       "       0, 1, 1, 2, 4, 0, 3, 3])"
      ]
     },
     "execution_count": 23,
     "metadata": {},
     "output_type": "execute_result"
    }
   ],
   "source": [
    "real_labels"
   ]
  },
  {
   "cell_type": "code",
   "execution_count": 24,
   "metadata": {},
   "outputs": [
    {
     "data": {
      "text/plain": [
       "0.38095238095238093"
      ]
     },
     "execution_count": 24,
     "metadata": {},
     "output_type": "execute_result"
    }
   ],
   "source": [
    "gini(real_labels)"
   ]
  }
 ],
 "metadata": {
  "interpreter": {
   "hash": "52b7a19755d7590c8f33dced4cf51b8fc2d67197dedd754d3fdc4df20b4f1b94"
  },
  "kernelspec": {
   "display_name": "Python 3.9.7 64-bit ('volca3': conda)",
   "language": "python",
   "name": "python3"
  },
  "language_info": {
   "codemirror_mode": {
    "name": "ipython",
    "version": 3
   },
   "file_extension": ".py",
   "mimetype": "text/x-python",
   "name": "python",
   "nbconvert_exporter": "python",
   "pygments_lexer": "ipython3",
   "version": "3.9.7"
  },
  "orig_nbformat": 4
 },
 "nbformat": 4,
 "nbformat_minor": 2
}
