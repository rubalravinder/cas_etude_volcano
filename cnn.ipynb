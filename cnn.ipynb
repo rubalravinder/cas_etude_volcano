{
 "cells": [
  {
   "cell_type": "markdown",
   "metadata": {},
   "source": [
    "## Load Data"
   ]
  },
  {
   "cell_type": "code",
   "execution_count": 23,
   "metadata": {},
   "outputs": [
    {
     "name": "stdout",
     "output_type": "stream",
     "text": [
      "The autoreload extension is already loaded. To reload it, use:\n",
      "  %reload_ext autoreload\n"
     ]
    }
   ],
   "source": [
    "%load_ext autoreload\n",
    "%autoreload 2\n",
    "\n",
    "import numpy as np\n",
    "import pandas as pd\n",
    "import matplotlib.pyplot as plt\n",
    "from scipy import signal\n",
    "import tensorflow as tf\n",
    "import glob\n",
    "from scipy import interpolate\n",
    "from collections import Counter\n",
    "import os\n",
    "from itertools import product\n",
    "\n",
    "plt.style.use(\"dark_background\")\n",
    "\n",
    "types_vocab = [\"EXP\", \"HIB\", \"LP\", \"PIS\", \"TOR\", \"TR\", \"VT\"]"
   ]
  },
  {
   "cell_type": "code",
   "execution_count": 2,
   "metadata": {},
   "outputs": [],
   "source": [
    "try:\n",
    "    table = pd.read_pickle(\"data/table.pkl\")\n",
    "except:\n",
    "    table = pd.read_excel(\"data/association_table_corrected_index.xlsx\")\n"
   ]
  },
  {
   "cell_type": "code",
   "execution_count": 3,
   "metadata": {},
   "outputs": [
    {
     "data": {
      "text/html": [
       "<div>\n",
       "<style scoped>\n",
       "    .dataframe tbody tr th:only-of-type {\n",
       "        vertical-align: middle;\n",
       "    }\n",
       "\n",
       "    .dataframe tbody tr th {\n",
       "        vertical-align: top;\n",
       "    }\n",
       "\n",
       "    .dataframe thead th {\n",
       "        text-align: right;\n",
       "    }\n",
       "</style>\n",
       "<table border=\"1\" class=\"dataframe\">\n",
       "  <thead>\n",
       "    <tr style=\"text-align: right;\">\n",
       "      <th></th>\n",
       "      <th>Index</th>\n",
       "      <th>Event</th>\n",
       "      <th>Duration</th>\n",
       "      <th>Event start</th>\n",
       "      <th>Event stop</th>\n",
       "      <th>File name</th>\n",
       "      <th>File start</th>\n",
       "      <th>File end</th>\n",
       "      <th>Sampling rate</th>\n",
       "      <th>Overlap</th>\n",
       "      <th>Unnamed: 10</th>\n",
       "      <th>Unnamed: 11</th>\n",
       "      <th>Unnamed: 12</th>\n",
       "      <th>npts</th>\n",
       "      <th>energy</th>\n",
       "      <th>path</th>\n",
       "    </tr>\n",
       "  </thead>\n",
       "  <tbody>\n",
       "    <tr>\n",
       "      <th>0</th>\n",
       "      <td>0</td>\n",
       "      <td>LP1</td>\n",
       "      <td>33</td>\n",
       "      <td>2006-05-23 20:39:27.060000+00:00</td>\n",
       "      <td>2006-05-23 20:40:00.060000+00:00</td>\n",
       "      <td>20060523_2033.UB1.SL.Z.sac</td>\n",
       "      <td>2006-05-23 20:33:05.895000+00:00</td>\n",
       "      <td>2006-05-23 20:43:05.885000+00:00</td>\n",
       "      <td>100.0</td>\n",
       "      <td>False</td>\n",
       "      <td>NaN</td>\n",
       "      <td>NaN</td>\n",
       "      <td>NaN</td>\n",
       "      <td>60000.0</td>\n",
       "      <td>0.24403</td>\n",
       "      <td>C:/Users/EC265595/Documents/Data/Ubinas_2006_2...</td>\n",
       "    </tr>\n",
       "    <tr>\n",
       "      <th>1</th>\n",
       "      <td>1</td>\n",
       "      <td>LP1</td>\n",
       "      <td>45</td>\n",
       "      <td>2006-05-23 20:39:59.960000+00:00</td>\n",
       "      <td>2006-05-23 20:40:44.960000+00:00</td>\n",
       "      <td>20060523_2033.UB1.SL.Z.sac</td>\n",
       "      <td>2006-05-23 20:33:05.895000+00:00</td>\n",
       "      <td>2006-05-23 20:43:05.885000+00:00</td>\n",
       "      <td>100.0</td>\n",
       "      <td>False</td>\n",
       "      <td>NaN</td>\n",
       "      <td>NaN</td>\n",
       "      <td>NaN</td>\n",
       "      <td>60000.0</td>\n",
       "      <td>0.11833</td>\n",
       "      <td>C:/Users/EC265595/Documents/Data/Ubinas_2006_2...</td>\n",
       "    </tr>\n",
       "    <tr>\n",
       "      <th>2</th>\n",
       "      <td>2</td>\n",
       "      <td>TR2</td>\n",
       "      <td>128</td>\n",
       "      <td>2006-05-23 22:37:52.910000+00:00</td>\n",
       "      <td>2006-05-23 22:40:00.910000+00:00</td>\n",
       "      <td>20060523_2235.UB1.SL.Z.sac</td>\n",
       "      <td>2006-05-23 22:35:19.895000+00:00</td>\n",
       "      <td>2006-05-23 23:05:19.875000+00:00</td>\n",
       "      <td>50.0</td>\n",
       "      <td>False</td>\n",
       "      <td>NaN</td>\n",
       "      <td>NaN</td>\n",
       "      <td>NaN</td>\n",
       "      <td>90000.0</td>\n",
       "      <td>0.79052</td>\n",
       "      <td>C:/Users/EC265595/Documents/Data/Ubinas_2006_2...</td>\n",
       "    </tr>\n",
       "    <tr>\n",
       "      <th>3</th>\n",
       "      <td>3</td>\n",
       "      <td>LP1</td>\n",
       "      <td>32</td>\n",
       "      <td>2006-05-23 22:44:09.410000+00:00</td>\n",
       "      <td>2006-05-23 22:44:41.410000+00:00</td>\n",
       "      <td>20060523_2235.UB1.SL.Z.sac</td>\n",
       "      <td>2006-05-23 22:35:19.895000+00:00</td>\n",
       "      <td>2006-05-23 23:05:19.875000+00:00</td>\n",
       "      <td>50.0</td>\n",
       "      <td>False</td>\n",
       "      <td>NaN</td>\n",
       "      <td>NaN</td>\n",
       "      <td>NaN</td>\n",
       "      <td>90000.0</td>\n",
       "      <td>1.15570</td>\n",
       "      <td>C:/Users/EC265595/Documents/Data/Ubinas_2006_2...</td>\n",
       "    </tr>\n",
       "    <tr>\n",
       "      <th>4</th>\n",
       "      <td>4</td>\n",
       "      <td>TR2</td>\n",
       "      <td>78</td>\n",
       "      <td>2006-05-23 22:46:58.440000+00:00</td>\n",
       "      <td>2006-05-23 22:48:16.440000+00:00</td>\n",
       "      <td>20060523_2245.UB1.SL.Z.sac</td>\n",
       "      <td>2006-05-23 22:45:19.895000+00:00</td>\n",
       "      <td>2006-05-23 22:55:19.885000+00:00</td>\n",
       "      <td>100.0</td>\n",
       "      <td>False</td>\n",
       "      <td>NaN</td>\n",
       "      <td>NaN</td>\n",
       "      <td>NaN</td>\n",
       "      <td>60000.0</td>\n",
       "      <td>0.23330</td>\n",
       "      <td>C:/Users/EC265595/Documents/Data/Ubinas_2006_2...</td>\n",
       "    </tr>\n",
       "  </tbody>\n",
       "</table>\n",
       "</div>"
      ],
      "text/plain": [
       "   Index Event  Duration                       Event start  \\\n",
       "0      0   LP1        33  2006-05-23 20:39:27.060000+00:00   \n",
       "1      1   LP1        45  2006-05-23 20:39:59.960000+00:00   \n",
       "2      2   TR2       128  2006-05-23 22:37:52.910000+00:00   \n",
       "3      3   LP1        32  2006-05-23 22:44:09.410000+00:00   \n",
       "4      4   TR2        78  2006-05-23 22:46:58.440000+00:00   \n",
       "\n",
       "                         Event stop                   File name  \\\n",
       "0  2006-05-23 20:40:00.060000+00:00  20060523_2033.UB1.SL.Z.sac   \n",
       "1  2006-05-23 20:40:44.960000+00:00  20060523_2033.UB1.SL.Z.sac   \n",
       "2  2006-05-23 22:40:00.910000+00:00  20060523_2235.UB1.SL.Z.sac   \n",
       "3  2006-05-23 22:44:41.410000+00:00  20060523_2235.UB1.SL.Z.sac   \n",
       "4  2006-05-23 22:48:16.440000+00:00  20060523_2245.UB1.SL.Z.sac   \n",
       "\n",
       "                         File start                          File end  \\\n",
       "0  2006-05-23 20:33:05.895000+00:00  2006-05-23 20:43:05.885000+00:00   \n",
       "1  2006-05-23 20:33:05.895000+00:00  2006-05-23 20:43:05.885000+00:00   \n",
       "2  2006-05-23 22:35:19.895000+00:00  2006-05-23 23:05:19.875000+00:00   \n",
       "3  2006-05-23 22:35:19.895000+00:00  2006-05-23 23:05:19.875000+00:00   \n",
       "4  2006-05-23 22:45:19.895000+00:00  2006-05-23 22:55:19.885000+00:00   \n",
       "\n",
       "   Sampling rate  Overlap  Unnamed: 10  Unnamed: 11  Unnamed: 12     npts  \\\n",
       "0          100.0    False          NaN          NaN          NaN  60000.0   \n",
       "1          100.0    False          NaN          NaN          NaN  60000.0   \n",
       "2           50.0    False          NaN          NaN          NaN  90000.0   \n",
       "3           50.0    False          NaN          NaN          NaN  90000.0   \n",
       "4          100.0    False          NaN          NaN          NaN  60000.0   \n",
       "\n",
       "    energy                                               path  \n",
       "0  0.24403  C:/Users/EC265595/Documents/Data/Ubinas_2006_2...  \n",
       "1  0.11833  C:/Users/EC265595/Documents/Data/Ubinas_2006_2...  \n",
       "2  0.79052  C:/Users/EC265595/Documents/Data/Ubinas_2006_2...  \n",
       "3  1.15570  C:/Users/EC265595/Documents/Data/Ubinas_2006_2...  \n",
       "4  0.23330  C:/Users/EC265595/Documents/Data/Ubinas_2006_2...  "
      ]
     },
     "execution_count": 3,
     "metadata": {},
     "output_type": "execute_result"
    }
   ],
   "source": [
    "table.head()\n"
   ]
  },
  {
   "cell_type": "code",
   "execution_count": 4,
   "metadata": {},
   "outputs": [],
   "source": [
    "if not os.path.isfile(\"data/table.pkl\"):\n",
    "    table.to_pickle(\"data/table.pkl\")\n"
   ]
  },
  {
   "cell_type": "markdown",
   "metadata": {},
   "source": [
    "## Make list of spectrograms"
   ]
  },
  {
   "cell_type": "code",
   "execution_count": 5,
   "metadata": {},
   "outputs": [
    {
     "data": {
      "text/plain": [
       "67"
      ]
     },
     "execution_count": 5,
     "metadata": {},
     "output_type": "execute_result"
    }
   ],
   "source": [
    "table.Event.value_counts().min()\n"
   ]
  },
  {
   "cell_type": "code",
   "execution_count": 87,
   "metadata": {},
   "outputs": [],
   "source": [
    "TRAIN_SIZE = 80\n",
    "TEST_SIZE = 20\n"
   ]
  },
  {
   "cell_type": "code",
   "execution_count": 88,
   "metadata": {},
   "outputs": [],
   "source": [
    "T_MAX = 60\n",
    "F_MAX = 20\n",
    "\n",
    "t_itp = np.linspace(0, T_MAX, 25)\n",
    "f_itp = np.linspace(0, F_MAX, 25)\n"
   ]
  },
  {
   "cell_type": "code",
   "execution_count": 89,
   "metadata": {},
   "outputs": [],
   "source": [
    "dict_interps = dict()\n",
    "counter = Counter()\n",
    "list_interps = []\n",
    "list_types = []\n"
   ]
  },
  {
   "cell_type": "code",
   "execution_count": 90,
   "metadata": {},
   "outputs": [],
   "source": [
    "# shuffle the dataframe\n",
    "table = table.sample(frac=1)\n"
   ]
  },
  {
   "cell_type": "code",
   "execution_count": 91,
   "metadata": {},
   "outputs": [],
   "source": [
    "# ts = np.load(f\"data/Extracted/EXP/EXP_128.npy\")\n",
    "# f, t, S = signal.spectrogram(ts, row[\"Sampling rate\"])\n",
    "# func = interpolate.RectBivariateSpline(f, t, S)\n",
    "# plt.imshow(S)"
   ]
  },
  {
   "cell_type": "code",
   "execution_count": 92,
   "metadata": {},
   "outputs": [],
   "source": [
    "for index, row in table.iterrows():\n",
    "    event = row[\"Event\"]\n",
    "    event_type = event if event in types_vocab else event[:-1]\n",
    "    if counter[event_type] >= TRAIN_SIZE + TEST_SIZE:\n",
    "        continue\n",
    "    name = event_type + \"_\" + str(row[\"Index\"])\n",
    "    filename = name + \".npy\"\n",
    "    try:\n",
    "        ts = np.load(f\"data/Extracted/{event_type}/{filename}\")\n",
    "        f, t, S = signal.spectrogram(ts, row[\"Sampling rate\"])\n",
    "        func = interpolate.RectBivariateSpline(f, t, S)\n",
    "        # func = interpolate.interp2d(f,t,S, fill_value = 0)\n",
    "    except:\n",
    "        continue\n",
    "    S_int = func(f_itp, t_itp)\n",
    "    for (i, f_i), (j, t_j) in product(enumerate(f_itp),enumerate(t_itp)):\n",
    "        if f_i > f.max() or t_j > t.max():\n",
    "            S_int[i,j] = 0\n",
    "    # dict_interps[name] = S_int\n",
    "    list_interps.append(S_int)\n",
    "    list_types.append(event_type)\n",
    "    counter[event_type] += 1\n"
   ]
  },
  {
   "cell_type": "code",
   "execution_count": 93,
   "metadata": {},
   "outputs": [
    {
     "data": {
      "text/plain": [
       "698"
      ]
     },
     "execution_count": 93,
     "metadata": {},
     "output_type": "execute_result"
    }
   ],
   "source": [
    "len(list_interps)\n"
   ]
  },
  {
   "cell_type": "code",
   "execution_count": 94,
   "metadata": {},
   "outputs": [
    {
     "data": {
      "text/plain": [
       "Counter({'LP': 100,\n",
       "         'TR': 100,\n",
       "         'HIB': 100,\n",
       "         'PIS': 100,\n",
       "         'TOR': 98,\n",
       "         'VT': 100,\n",
       "         'EXP': 100})"
      ]
     },
     "execution_count": 94,
     "metadata": {},
     "output_type": "execute_result"
    }
   ],
   "source": [
    "Counter(list_types)\n"
   ]
  },
  {
   "cell_type": "code",
   "execution_count": 95,
   "metadata": {},
   "outputs": [],
   "source": [
    "# np.savez(\"./dataset_spectro\", **dict_interps)"
   ]
  },
  {
   "cell_type": "markdown",
   "metadata": {},
   "source": [
    "## Datasets"
   ]
  },
  {
   "cell_type": "code",
   "execution_count": 96,
   "metadata": {},
   "outputs": [
    {
     "data": {
      "image/png": "[encoded data removed]",
      "text/plain": [
       "<Figure size 720x720 with 25 Axes>"
      ]
     },
     "metadata": {},
     "output_type": "display_data"
    }
   ],
   "source": [
    "plt.figure(figsize=(10,10))\n",
    "perm = np.random.permutation(len(list_interps))\n",
    "for i in range(25):\n",
    "    plt.subplot(5,5,i+1)\n",
    "    plt.xticks([])\n",
    "    plt.yticks([])\n",
    "    plt.grid(False)\n",
    "    plt.imshow(list_interps[perm[i]])\n",
    "    plt.xlabel(list_types[perm[i]])\n",
    "plt.show()"
   ]
  },
  {
   "cell_type": "code",
   "execution_count": 97,
   "metadata": {},
   "outputs": [],
   "source": [
    "from sklearn.preprocessing import LabelEncoder\n",
    "\n",
    "le = LabelEncoder()\n",
    "list_types_num = le.fit_transform(list_types)\n"
   ]
  },
  {
   "cell_type": "code",
   "execution_count": 98,
   "metadata": {},
   "outputs": [],
   "source": [
    "# dataset = tf.data.Dataset.from_tensor_slices((list_interps, list_types_num))\n",
    "# dataset"
   ]
  },
  {
   "cell_type": "code",
   "execution_count": 99,
   "metadata": {},
   "outputs": [],
   "source": [
    "dataset = tf.data.Dataset.from_tensor_slices((list_interps, list_types_num))\n",
    "dataset = dataset.shuffle(TEST_SIZE + TRAIN_SIZE)\n",
    "test_dataset = dataset.take(TEST_SIZE)\n",
    "train_dataset = dataset.skip(TEST_SIZE)\n",
    "test_dataset = test_dataset.batch(1)\n",
    "train_dataset = train_dataset.batch(1)\n",
    "# train_dataset = tf.data.Dataset.from_tensor_slices((list_interps[:20], list_types[:20]))\n",
    "# test_dataset = tf.data.Dataset.from_tensor_slices((list_interps[20:], list_types[20:]))"
   ]
  },
  {
   "cell_type": "code",
   "execution_count": 100,
   "metadata": {},
   "outputs": [
    {
     "data": {
      "text/plain": [
       "<BatchDataset shapes: ((None, 25, 25), (None,)), types: (tf.float64, tf.int64)>"
      ]
     },
     "execution_count": 100,
     "metadata": {},
     "output_type": "execute_result"
    }
   ],
   "source": [
    "test_dataset"
   ]
  },
  {
   "cell_type": "code",
   "execution_count": 101,
   "metadata": {},
   "outputs": [
    {
     "name": "stderr",
     "output_type": "stream",
     "text": [
      "/tmp/ipykernel_17797/1936445080.py:1: MatplotlibDeprecationWarning: shading='flat' when X and Y have the same dimensions as C is deprecated since 3.3.  Either specify the corners of the quadrilaterals with X and Y, or pass shading='auto', 'nearest' or 'gouraud', or set rcParams['pcolor.shading'].  This will become an error two minor releases later.\n",
      "  plt.pcolormesh(t_itp, f_itp, list_interps[8])\n"
     ]
    },
    {
     "data": {
      "text/plain": [
       "<matplotlib.collections.QuadMesh at 0x7f10147d5190>"
      ]
     },
     "execution_count": 101,
     "metadata": {},
     "output_type": "execute_result"
    },
    {
     "data": {
      "image/png": "[encoded data removed]",
      "text/plain": [
       "<Figure size 432x288 with 1 Axes>"
      ]
     },
     "metadata": {},
     "output_type": "display_data"
    }
   ],
   "source": [
    "plt.pcolormesh(t_itp, f_itp, list_interps[8])"
   ]
  },
  {
   "cell_type": "code",
   "execution_count": 102,
   "metadata": {},
   "outputs": [],
   "source": [
    "from tensorflow.keras import datasets, layers, models"
   ]
  },
  {
   "cell_type": "code",
   "execution_count": 111,
   "metadata": {},
   "outputs": [
    {
     "name": "stdout",
     "output_type": "stream",
     "text": [
      "Model: \"sequential_3\"\n",
      "_________________________________________________________________\n",
      "Layer (type)                 Output Shape              Param #   \n",
      "=================================================================\n",
      "reshape_3 (Reshape)          (None, 25, 25, 1)         0         \n",
      "_________________________________________________________________\n",
      "conv2d_9 (Conv2D)            (None, 23, 23, 32)        320       \n",
      "_________________________________________________________________\n",
      "max_pooling2d_6 (MaxPooling2 (None, 11, 11, 32)        0         \n",
      "_________________________________________________________________\n",
      "conv2d_10 (Conv2D)           (None, 9, 9, 64)          18496     \n",
      "_________________________________________________________________\n",
      "max_pooling2d_7 (MaxPooling2 (None, 4, 4, 64)          0         \n",
      "_________________________________________________________________\n",
      "conv2d_11 (Conv2D)           (None, 2, 2, 32)          18464     \n",
      "_________________________________________________________________\n",
      "flatten_3 (Flatten)          (None, 128)               0         \n",
      "_________________________________________________________________\n",
      "dropout_6 (Dropout)          (None, 128)               0         \n",
      "_________________________________________________________________\n",
      "dense_6 (Dense)              (None, 32)                4128      \n",
      "_________________________________________________________________\n",
      "dropout_7 (Dropout)          (None, 32)                0         \n",
      "_________________________________________________________________\n",
      "dense_7 (Dense)              (None, 7)                 231       \n",
      "=================================================================\n",
      "Total params: 41,639\n",
      "Trainable params: 41,639\n",
      "Non-trainable params: 0\n",
      "_________________________________________________________________\n"
     ]
    }
   ],
   "source": [
    "dropout_rate = 0.1\n",
    "\n",
    "model = models.Sequential()\n",
    "model.add(layers.Reshape((25, 25, 1), input_shape=(25, 25)))\n",
    "model.add(layers.Conv2D(32, (3, 3), activation=\"relu\", input_shape=(25, 25, 1)))\n",
    "model.add(layers.MaxPooling2D((2, 2)))\n",
    "model.add(layers.Conv2D(64, (3, 3), activation=\"relu\"))\n",
    "model.add(layers.MaxPooling2D((2, 2)))\n",
    "model.add(layers.Conv2D(32, (3, 3), activation=\"relu\"))\n",
    "model.add(layers.Flatten())\n",
    "model.add(layers.Dropout(dropout_rate))\n",
    "model.add(layers.Dense(32, activation=\"relu\"))\n",
    "model.add(layers.Dropout(dropout_rate))\n",
    "model.add(layers.Dense(7))\n",
    "\n",
    "model.summary()"
   ]
  },
  {
   "cell_type": "code",
   "execution_count": 115,
   "metadata": {},
   "outputs": [],
   "source": [
    "model.compile(\n",
    "    optimizer=\"adam\",\n",
    "    loss=tf.keras.losses.SparseCategoricalCrossentropy(from_logits=True),\n",
    "    metrics=[\"accuracy\"],\n",
    ")"
   ]
  },
  {
   "cell_type": "code",
   "execution_count": 116,
   "metadata": {},
   "outputs": [],
   "source": [
    "from tensorflow.keras.callbacks import EarlyStopping\n",
    "\n",
    "early_stopping = EarlyStopping(\n",
    "    monitor=\"accuracy\", patience=10, restore_best_weights=True\n",
    ")"
   ]
  },
  {
   "cell_type": "code",
   "execution_count": 117,
   "metadata": {},
   "outputs": [
    {
     "name": "stdout",
     "output_type": "stream",
     "text": [
      "Epoch 1/50\n",
      "678/678 [==============================] - 3s 3ms/step - loss: 18124.1699 - accuracy: 0.3215\n",
      "Epoch 2/50\n",
      "678/678 [==============================] - 2s 3ms/step - loss: 10249.2734 - accuracy: 0.2493\n",
      "Epoch 3/50\n",
      "678/678 [==============================] - 2s 3ms/step - loss: 8860.5391 - accuracy: 0.2640\n",
      "Epoch 4/50\n",
      "678/678 [==============================] - 2s 3ms/step - loss: 3214.9336 - accuracy: 0.2950\n",
      "Epoch 5/50\n",
      "678/678 [==============================] - 2s 3ms/step - loss: 1065.2024 - accuracy: 0.2537\n",
      "Epoch 6/50\n",
      "678/678 [==============================] - 2s 3ms/step - loss: 768.5020 - accuracy: 0.2316\n",
      "Epoch 7/50\n",
      "678/678 [==============================] - 2s 3ms/step - loss: 240.1417 - accuracy: 0.2935\n",
      "Epoch 8/50\n",
      "678/678 [==============================] - 2s 3ms/step - loss: 2146.1196 - accuracy: 0.2537\n",
      "Epoch 9/50\n",
      "678/678 [==============================] - 2s 3ms/step - loss: 2247.6265 - accuracy: 0.2301\n",
      "Epoch 10/50\n",
      "678/678 [==============================] - 2s 3ms/step - loss: 1709.5236 - accuracy: 0.1578\n",
      "Epoch 11/50\n",
      "678/678 [==============================] - 2s 3ms/step - loss: 34.9917 - accuracy: 0.1416\n"
     ]
    }
   ],
   "source": [
    "history = model.fit(train_dataset, epochs=50, callbacks=[early_stopping])"
   ]
  },
  {
   "cell_type": "code",
   "execution_count": 107,
   "metadata": {},
   "outputs": [
    {
     "name": "stdout",
     "output_type": "stream",
     "text": [
      "20/20 [==============================] - 0s 2ms/step - loss: 796.1033 - accuracy: 0.1000\n"
     ]
    },
    {
     "data": {
      "text/plain": [
       "[796.1033325195312, 0.10000000149011612]"
      ]
     },
     "execution_count": 107,
     "metadata": {},
     "output_type": "execute_result"
    }
   ],
   "source": [
    "model.evaluate(test_dataset)"
   ]
  },
  {
   "cell_type": "code",
   "execution_count": null,
   "metadata": {},
   "outputs": [],
   "source": []
  }
 ],
 "metadata": {
  "interpreter": {
   "hash": "18b71b3ca86bc70e425ee8697666d2d9c8c3a0cbd08f13108941583ebc405025"
  },
  "kernelspec": {
   "display_name": "Python 3.9.7 64-bit ('analysis': conda)",
   "name": "python3"
  },
  "language_info": {
   "codemirror_mode": {
    "name": "ipython",
    "version": 3
   },
   "file_extension": ".py",
   "mimetype": "text/x-python",
   "name": "python",
   "nbconvert_exporter": "python",
   "pygments_lexer": "ipython3",
   "version": "3.9.7"
  },
  "orig_nbformat": 4
 },
 "nbformat": 4,
 "nbformat_minor": 2
}
