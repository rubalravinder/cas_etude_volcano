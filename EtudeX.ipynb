{
 "cells": [
  {
   "cell_type": "code",
   "execution_count": 43,
   "id": "8226d2cb",
   "metadata": {},
   "outputs": [
    {
     "name": "stdout",
     "output_type": "stream",
     "text": [
      "The autoreload extension is already loaded. To reload it, use:\n",
      "  %reload_ext autoreload\n"
     ]
    }
   ],
   "source": [
    "import numpy as np\n",
    "import pandas as pd\n",
    "import matplotlib.pyplot as plt\n",
    "import datetime\n",
    "from transformer import *\n",
    "import os\n",
    "%load_ext autoreload\n",
    "%autoreload 2"
   ]
  },
  {
   "cell_type": "markdown",
   "id": "a33917ac",
   "metadata": {},
   "source": [
    "# Pickle"
   ]
  },
  {
   "cell_type": "code",
   "execution_count": 26,
   "id": "fd2b83ff",
   "metadata": {},
   "outputs": [],
   "source": [
    "import pickle\n",
    "\n",
    "try:\n",
    "    table = pd.read_pickle('../association_table.pkl')\n",
    "except:\n",
    "    table = pd.read_excel('../Cas_D_Etude/Cas_Etude_Volcano/NE PAS OUVRIR/association_table.xlsx')\n",
    "    table.to_pickle(\"../Cas_D_Etude/Cas_Etude_Vulcano/association_table.pkl\")"
   ]
  },
  {
   "cell_type": "markdown",
   "id": "9f01eb16",
   "metadata": {},
   "source": [
    "# balanced_subsampler"
   ]
  },
  {
   "cell_type": "code",
   "execution_count": 27,
   "id": "d0448194",
   "metadata": {},
   "outputs": [
    {
     "data": {
      "text/plain": [
       "TOR    100\n",
       "TR     100\n",
       "PIS    100\n",
       "HIB    100\n",
       "VT     100\n",
       "EXP    100\n",
       "LP     100\n",
       "Name: event, dtype: int64"
      ]
     },
     "execution_count": 27,
     "metadata": {},
     "output_type": "execute_result"
    }
   ],
   "source": [
    "from transformer import Event\n",
    "from subsampler import balanced_subsampler\n",
    "\n",
    "table = Event().fit_transform(table)\n",
    "balanced_table = balanced_subsampler(table, 100)\n",
    "balanced_table.event.value_counts()"
   ]
  },
  {
   "cell_type": "code",
   "execution_count": 33,
   "id": "db0fe9f2",
   "metadata": {},
   "outputs": [],
   "source": [
    "balanced_table.to_pickle(\"/home/d5learner-08/GDrive/Cas_D_Etude/Cas_Etude_Vulcano/association_balanced_table.pkl\")"
   ]
  },
  {
   "cell_type": "code",
   "execution_count": 40,
   "id": "7769d6dd",
   "metadata": {},
   "outputs": [
    {
     "data": {
      "text/html": [
       "<div>\n",
       "<style scoped>\n",
       "    .dataframe tbody tr th:only-of-type {\n",
       "        vertical-align: middle;\n",
       "    }\n",
       "\n",
       "    .dataframe tbody tr th {\n",
       "        vertical-align: top;\n",
       "    }\n",
       "\n",
       "    .dataframe thead th {\n",
       "        text-align: right;\n",
       "    }\n",
       "</style>\n",
       "<table border=\"1\" class=\"dataframe\">\n",
       "  <thead>\n",
       "    <tr style=\"text-align: right;\">\n",
       "      <th></th>\n",
       "      <th>Index</th>\n",
       "      <th>Event</th>\n",
       "      <th>Duration</th>\n",
       "      <th>Event start</th>\n",
       "      <th>Event stop</th>\n",
       "      <th>File name</th>\n",
       "      <th>File start</th>\n",
       "      <th>File end</th>\n",
       "      <th>Sampling rate</th>\n",
       "      <th>Overlap</th>\n",
       "      <th>Unnamed: 10</th>\n",
       "      <th>Unnamed: 11</th>\n",
       "      <th>Unnamed: 12</th>\n",
       "      <th>npts</th>\n",
       "      <th>energy</th>\n",
       "      <th>path</th>\n",
       "      <th>event</th>\n",
       "    </tr>\n",
       "  </thead>\n",
       "  <tbody>\n",
       "    <tr>\n",
       "      <th>68058</th>\n",
       "      <td>68058</td>\n",
       "      <td>TR2</td>\n",
       "      <td>354</td>\n",
       "      <td>2007-04-23 03:16:13.990000+00:00</td>\n",
       "      <td>2007-04-23 03:22:07.990000+00:00</td>\n",
       "      <td>20070423_0300.UB1.SL.Z.sac</td>\n",
       "      <td>2007-04-23 03:00:00.019000+00:00</td>\n",
       "      <td>2007-04-23 03:59:59.969000+00:00</td>\n",
       "      <td>40.0</td>\n",
       "      <td>False</td>\n",
       "      <td>NaN</td>\n",
       "      <td>NaN</td>\n",
       "      <td>NaN</td>\n",
       "      <td>143999.0</td>\n",
       "      <td>0.72632</td>\n",
       "      <td>C:/Users/EC265595/Documents/Data/Ubinas_2006_2...</td>\n",
       "      <td>TR</td>\n",
       "    </tr>\n",
       "    <tr>\n",
       "      <th>100084</th>\n",
       "      <td>100084</td>\n",
       "      <td>PIS</td>\n",
       "      <td>27</td>\n",
       "      <td>2008-02-17 06:17:15.150000+00:00</td>\n",
       "      <td>2008-02-17 06:17:42.150000+00:00</td>\n",
       "      <td>20080217_0600.UB1.SL.Z.sac</td>\n",
       "      <td>2008-02-17 06:00:00.036000+00:00</td>\n",
       "      <td>2008-02-17 07:00:00.036000+00:00</td>\n",
       "      <td>50.0</td>\n",
       "      <td>False</td>\n",
       "      <td>NaN</td>\n",
       "      <td>NaN</td>\n",
       "      <td>NaN</td>\n",
       "      <td>180001.0</td>\n",
       "      <td>0.39290</td>\n",
       "      <td>C:/Users/EC265595/Documents/Data/Ubinas_2006_2...</td>\n",
       "      <td>PIS</td>\n",
       "    </tr>\n",
       "    <tr>\n",
       "      <th>80771</th>\n",
       "      <td>80771</td>\n",
       "      <td>TR1</td>\n",
       "      <td>2701</td>\n",
       "      <td>2007-06-16 11:00:10.670000+00:00</td>\n",
       "      <td>2007-06-16 11:45:11.670000+00:00</td>\n",
       "      <td>20070616_1100.UB1.SL.Z.sac</td>\n",
       "      <td>2007-06-16 10:59:59.993000+00:00</td>\n",
       "      <td>2007-06-16 11:59:59.993000+00:00</td>\n",
       "      <td>100.0</td>\n",
       "      <td>False</td>\n",
       "      <td>NaN</td>\n",
       "      <td>NaN</td>\n",
       "      <td>NaN</td>\n",
       "      <td>360001.0</td>\n",
       "      <td>11.18200</td>\n",
       "      <td>C:/Users/EC265595/Documents/Data/Ubinas_2006_2...</td>\n",
       "      <td>TR</td>\n",
       "    </tr>\n",
       "    <tr>\n",
       "      <th>121808</th>\n",
       "      <td>121808</td>\n",
       "      <td>TOR</td>\n",
       "      <td>27</td>\n",
       "      <td>2011-01-22 05:40:34.710000+00:00</td>\n",
       "      <td>2011-01-22 05:41:01.710000+00:00</td>\n",
       "      <td>20110122_0500.UB1.SL.Z.sac</td>\n",
       "      <td>2011-01-22 05:00:00.043000+00:00</td>\n",
       "      <td>2011-01-22 06:00:00.043000+00:00</td>\n",
       "      <td>100.0</td>\n",
       "      <td>False</td>\n",
       "      <td>NaN</td>\n",
       "      <td>NaN</td>\n",
       "      <td>NaN</td>\n",
       "      <td>360001.0</td>\n",
       "      <td>0.02427</td>\n",
       "      <td>C:/Users/EC265595/Documents/Data/Ubinas_2006_2...</td>\n",
       "      <td>TOR</td>\n",
       "    </tr>\n",
       "    <tr>\n",
       "      <th>115494</th>\n",
       "      <td>115494</td>\n",
       "      <td>VT1</td>\n",
       "      <td>27</td>\n",
       "      <td>2009-12-02 02:50:06.150000+00:00</td>\n",
       "      <td>2009-12-02 02:50:33.150000+00:00</td>\n",
       "      <td>20091202_0200.UB1.SL.Z.sac</td>\n",
       "      <td>2009-12-02 02:00:00.036000+00:00</td>\n",
       "      <td>2009-12-02 03:00:00.036000+00:00</td>\n",
       "      <td>50.0</td>\n",
       "      <td>False</td>\n",
       "      <td>NaN</td>\n",
       "      <td>NaN</td>\n",
       "      <td>NaN</td>\n",
       "      <td>180001.0</td>\n",
       "      <td>69.37142</td>\n",
       "      <td>C:/Users/EC265595/Documents/Data/Ubinas_2006_2...</td>\n",
       "      <td>VT</td>\n",
       "    </tr>\n",
       "  </tbody>\n",
       "</table>\n",
       "</div>"
      ],
      "text/plain": [
       "         Index Event  Duration                       Event start  \\\n",
       "68058    68058   TR2       354  2007-04-23 03:16:13.990000+00:00   \n",
       "100084  100084   PIS        27  2008-02-17 06:17:15.150000+00:00   \n",
       "80771    80771   TR1      2701  2007-06-16 11:00:10.670000+00:00   \n",
       "121808  121808   TOR        27  2011-01-22 05:40:34.710000+00:00   \n",
       "115494  115494   VT1        27  2009-12-02 02:50:06.150000+00:00   \n",
       "\n",
       "                              Event stop                   File name  \\\n",
       "68058   2007-04-23 03:22:07.990000+00:00  20070423_0300.UB1.SL.Z.sac   \n",
       "100084  2008-02-17 06:17:42.150000+00:00  20080217_0600.UB1.SL.Z.sac   \n",
       "80771   2007-06-16 11:45:11.670000+00:00  20070616_1100.UB1.SL.Z.sac   \n",
       "121808  2011-01-22 05:41:01.710000+00:00  20110122_0500.UB1.SL.Z.sac   \n",
       "115494  2009-12-02 02:50:33.150000+00:00  20091202_0200.UB1.SL.Z.sac   \n",
       "\n",
       "                              File start                          File end  \\\n",
       "68058   2007-04-23 03:00:00.019000+00:00  2007-04-23 03:59:59.969000+00:00   \n",
       "100084  2008-02-17 06:00:00.036000+00:00  2008-02-17 07:00:00.036000+00:00   \n",
       "80771   2007-06-16 10:59:59.993000+00:00  2007-06-16 11:59:59.993000+00:00   \n",
       "121808  2011-01-22 05:00:00.043000+00:00  2011-01-22 06:00:00.043000+00:00   \n",
       "115494  2009-12-02 02:00:00.036000+00:00  2009-12-02 03:00:00.036000+00:00   \n",
       "\n",
       "        Sampling rate  Overlap  Unnamed: 10  Unnamed: 11  Unnamed: 12  \\\n",
       "68058            40.0    False          NaN          NaN          NaN   \n",
       "100084           50.0    False          NaN          NaN          NaN   \n",
       "80771           100.0    False          NaN          NaN          NaN   \n",
       "121808          100.0    False          NaN          NaN          NaN   \n",
       "115494           50.0    False          NaN          NaN          NaN   \n",
       "\n",
       "            npts    energy                                               path  \\\n",
       "68058   143999.0   0.72632  C:/Users/EC265595/Documents/Data/Ubinas_2006_2...   \n",
       "100084  180001.0   0.39290  C:/Users/EC265595/Documents/Data/Ubinas_2006_2...   \n",
       "80771   360001.0  11.18200  C:/Users/EC265595/Documents/Data/Ubinas_2006_2...   \n",
       "121808  360001.0   0.02427  C:/Users/EC265595/Documents/Data/Ubinas_2006_2...   \n",
       "115494  180001.0  69.37142  C:/Users/EC265595/Documents/Data/Ubinas_2006_2...   \n",
       "\n",
       "       event  \n",
       "68058     TR  \n",
       "100084   PIS  \n",
       "80771     TR  \n",
       "121808   TOR  \n",
       "115494    VT  "
      ]
     },
     "execution_count": 40,
     "metadata": {},
     "output_type": "execute_result"
    }
   ],
   "source": [
    "balanced_table.head(5)"
   ]
  },
  {
   "cell_type": "code",
   "execution_count": 44,
   "id": "aaf68ea4",
   "metadata": {},
   "outputs": [],
   "source": [
    "path = \"data/Extracted/\"\n",
    "\n",
    "transfo = Transformer(path)\n",
    "table_transf=transfo.fit_transform(balanced_table)"
   ]
  },
  {
   "cell_type": "code",
   "execution_count": 30,
   "id": "af8c8856",
   "metadata": {},
   "outputs": [],
   "source": [
    "table_transf.to_pickle(\"/home/d5learner-08/GDrive/Cas_D_Etude/Cas_Etude_Vulcano/association_table_transfo.pkl\")"
   ]
  },
  {
   "cell_type": "code",
   "execution_count": 45,
   "id": "913d53b1",
   "metadata": {},
   "outputs": [
    {
     "data": {
      "text/html": [
       "<div>\n",
       "<style scoped>\n",
       "    .dataframe tbody tr th:only-of-type {\n",
       "        vertical-align: middle;\n",
       "    }\n",
       "\n",
       "    .dataframe tbody tr th {\n",
       "        vertical-align: top;\n",
       "    }\n",
       "\n",
       "    .dataframe thead th {\n",
       "        text-align: right;\n",
       "    }\n",
       "</style>\n",
       "<table border=\"1\" class=\"dataframe\">\n",
       "  <thead>\n",
       "    <tr style=\"text-align: right;\">\n",
       "      <th></th>\n",
       "      <th>Index</th>\n",
       "      <th>Event</th>\n",
       "      <th>Duration</th>\n",
       "      <th>Event start</th>\n",
       "      <th>Event stop</th>\n",
       "      <th>Sampling rate</th>\n",
       "      <th>Overlap</th>\n",
       "      <th>npts</th>\n",
       "      <th>energy</th>\n",
       "      <th>path</th>\n",
       "      <th>event</th>\n",
       "      <th>variance</th>\n",
       "      <th>mean</th>\n",
       "      <th>median</th>\n",
       "      <th>maximum</th>\n",
       "      <th>amplitude</th>\n",
       "      <th>kurtosis</th>\n",
       "      <th>skew</th>\n",
       "    </tr>\n",
       "  </thead>\n",
       "  <tbody>\n",
       "    <tr>\n",
       "      <th>68058</th>\n",
       "      <td>68058</td>\n",
       "      <td>TR2</td>\n",
       "      <td>354</td>\n",
       "      <td>2007-04-23 03:16:13.990000+00:00</td>\n",
       "      <td>2007-04-23 03:22:07.990000+00:00</td>\n",
       "      <td>40.0</td>\n",
       "      <td>False</td>\n",
       "      <td>143999.0</td>\n",
       "      <td>0.72632</td>\n",
       "      <td>data/Extracted/TR/TR_68058.npy</td>\n",
       "      <td>TR</td>\n",
       "      <td>49533.359375</td>\n",
       "      <td>-228.184677</td>\n",
       "      <td>-227.000000</td>\n",
       "      <td>945.000000</td>\n",
       "      <td>2543.000000</td>\n",
       "      <td>0.0</td>\n",
       "      <td>0.0</td>\n",
       "    </tr>\n",
       "    <tr>\n",
       "      <th>100084</th>\n",
       "      <td>100084</td>\n",
       "      <td>PIS</td>\n",
       "      <td>27</td>\n",
       "      <td>2008-02-17 06:17:15.150000+00:00</td>\n",
       "      <td>2008-02-17 06:17:42.150000+00:00</td>\n",
       "      <td>50.0</td>\n",
       "      <td>False</td>\n",
       "      <td>180001.0</td>\n",
       "      <td>0.39290</td>\n",
       "      <td>data/Extracted/PIS/PIS_100084.npy</td>\n",
       "      <td>PIS</td>\n",
       "      <td>14347.152344</td>\n",
       "      <td>53.722961</td>\n",
       "      <td>53.000000</td>\n",
       "      <td>538.000000</td>\n",
       "      <td>976.000000</td>\n",
       "      <td>0.0</td>\n",
       "      <td>0.0</td>\n",
       "    </tr>\n",
       "    <tr>\n",
       "      <th>80771</th>\n",
       "      <td>80771</td>\n",
       "      <td>TR1</td>\n",
       "      <td>2701</td>\n",
       "      <td>2007-06-16 11:00:10.670000+00:00</td>\n",
       "      <td>2007-06-16 11:45:11.670000+00:00</td>\n",
       "      <td>100.0</td>\n",
       "      <td>False</td>\n",
       "      <td>360001.0</td>\n",
       "      <td>11.18200</td>\n",
       "      <td>data/Extracted/TR/TR_80771.npy</td>\n",
       "      <td>TR</td>\n",
       "      <td>39968.671875</td>\n",
       "      <td>67.558739</td>\n",
       "      <td>68.000000</td>\n",
       "      <td>1715.000000</td>\n",
       "      <td>3429.000000</td>\n",
       "      <td>0.0</td>\n",
       "      <td>0.0</td>\n",
       "    </tr>\n",
       "    <tr>\n",
       "      <th>121808</th>\n",
       "      <td>121808</td>\n",
       "      <td>TOR</td>\n",
       "      <td>27</td>\n",
       "      <td>2011-01-22 05:40:34.710000+00:00</td>\n",
       "      <td>2011-01-22 05:41:01.710000+00:00</td>\n",
       "      <td>100.0</td>\n",
       "      <td>False</td>\n",
       "      <td>360001.0</td>\n",
       "      <td>0.02427</td>\n",
       "      <td>data/Extracted/TOR/TOR_121808.npy</td>\n",
       "      <td>TOR</td>\n",
       "      <td>1773.701904</td>\n",
       "      <td>0.112566</td>\n",
       "      <td>0.044842</td>\n",
       "      <td>275.282593</td>\n",
       "      <td>486.641968</td>\n",
       "      <td>0.0</td>\n",
       "      <td>0.0</td>\n",
       "    </tr>\n",
       "    <tr>\n",
       "      <th>115494</th>\n",
       "      <td>115494</td>\n",
       "      <td>VT1</td>\n",
       "      <td>27</td>\n",
       "      <td>2009-12-02 02:50:06.150000+00:00</td>\n",
       "      <td>2009-12-02 02:50:33.150000+00:00</td>\n",
       "      <td>50.0</td>\n",
       "      <td>False</td>\n",
       "      <td>180001.0</td>\n",
       "      <td>69.37142</td>\n",
       "      <td>data/Extracted/VT/VT_115494.npy</td>\n",
       "      <td>VT</td>\n",
       "      <td>27.193705</td>\n",
       "      <td>59.099998</td>\n",
       "      <td>59.000000</td>\n",
       "      <td>74.000000</td>\n",
       "      <td>32.000000</td>\n",
       "      <td>0.0</td>\n",
       "      <td>0.0</td>\n",
       "    </tr>\n",
       "  </tbody>\n",
       "</table>\n",
       "</div>"
      ],
      "text/plain": [
       "         Index Event  Duration                       Event start  \\\n",
       "68058    68058   TR2       354  2007-04-23 03:16:13.990000+00:00   \n",
       "100084  100084   PIS        27  2008-02-17 06:17:15.150000+00:00   \n",
       "80771    80771   TR1      2701  2007-06-16 11:00:10.670000+00:00   \n",
       "121808  121808   TOR        27  2011-01-22 05:40:34.710000+00:00   \n",
       "115494  115494   VT1        27  2009-12-02 02:50:06.150000+00:00   \n",
       "\n",
       "                              Event stop  Sampling rate  Overlap      npts  \\\n",
       "68058   2007-04-23 03:22:07.990000+00:00           40.0    False  143999.0   \n",
       "100084  2008-02-17 06:17:42.150000+00:00           50.0    False  180001.0   \n",
       "80771   2007-06-16 11:45:11.670000+00:00          100.0    False  360001.0   \n",
       "121808  2011-01-22 05:41:01.710000+00:00          100.0    False  360001.0   \n",
       "115494  2009-12-02 02:50:33.150000+00:00           50.0    False  180001.0   \n",
       "\n",
       "          energy                               path event      variance  \\\n",
       "68058    0.72632     data/Extracted/TR/TR_68058.npy    TR  49533.359375   \n",
       "100084   0.39290  data/Extracted/PIS/PIS_100084.npy   PIS  14347.152344   \n",
       "80771   11.18200     data/Extracted/TR/TR_80771.npy    TR  39968.671875   \n",
       "121808   0.02427  data/Extracted/TOR/TOR_121808.npy   TOR   1773.701904   \n",
       "115494  69.37142    data/Extracted/VT/VT_115494.npy    VT     27.193705   \n",
       "\n",
       "              mean      median      maximum    amplitude  kurtosis  skew  \n",
       "68058  -228.184677 -227.000000   945.000000  2543.000000       0.0   0.0  \n",
       "100084   53.722961   53.000000   538.000000   976.000000       0.0   0.0  \n",
       "80771    67.558739   68.000000  1715.000000  3429.000000       0.0   0.0  \n",
       "121808    0.112566    0.044842   275.282593   486.641968       0.0   0.0  \n",
       "115494   59.099998   59.000000    74.000000    32.000000       0.0   0.0  "
      ]
     },
     "execution_count": 45,
     "metadata": {},
     "output_type": "execute_result"
    }
   ],
   "source": [
    "table_transf.head(5)"
   ]
  },
  {
   "cell_type": "code",
   "execution_count": 54,
   "id": "c5471a5d",
   "metadata": {},
   "outputs": [
    {
     "name": "stdout",
     "output_type": "stream",
     "text": [
      "0.6723809523809523\n",
      "{'n_estimators': 60}\n"
     ]
    },
    {
     "data": {
      "text/plain": [
       "RandomForestClassifier()"
      ]
     },
     "execution_count": 54,
     "metadata": {},
     "output_type": "execute_result"
    }
   ],
   "source": [
    "# gridsearch for the Random Forest classifier\n",
    "from sklearn.model_selection import train_test_split\n",
    "from sklearn.ensemble import RandomForestClassifier\n",
    "from sklearn.model_selection import GridSearchCV\n",
    "\n",
    "liste_X =[\"Duration\",\"energy\", \"mean\", \"median\", \"maximum\",  \"amplitude\", \"variance\"]\n",
    "\n",
    "y=table_transf.event.copy()\n",
    "X=table_transf[liste_X]\n",
    "\n",
    "X_train, X_test, y_train, y_test = train_test_split(X, y, random_state = 10)\n",
    "\n",
    "k_range = [60,80,100,150]\n",
    "param_grid =  {'n_estimators': k_range}\n",
    "\n",
    "RF_clf=RandomForestClassifier()\n",
    "\n",
    "grid_search = GridSearchCV(RF_clf, param_grid, cv=3, scoring='accuracy')\n",
    "grid_search.fit(X_train, y_train)\n",
    "\n",
    "print(grid_search.best_score_)\n",
    "print(grid_search.best_params_)\n",
    "\n",
    "RF_clf.fit(X_train, y_train)\n"
   ]
  },
  {
   "cell_type": "code",
   "execution_count": 55,
   "id": "fb2633b6",
   "metadata": {},
   "outputs": [
    {
     "data": {
      "text/plain": [
       "0.6285714285714286"
      ]
     },
     "execution_count": 55,
     "metadata": {},
     "output_type": "execute_result"
    }
   ],
   "source": [
    "RF_clf.score(X_test,y_test)"
   ]
  },
  {
   "cell_type": "markdown",
   "id": "4957af0c",
   "metadata": {},
   "source": [
    "# Random forest - feature_importances"
   ]
  },
  {
   "cell_type": "code",
   "execution_count": 51,
   "id": "3da9b897",
   "metadata": {},
   "outputs": [
    {
     "data": {
      "text/plain": [
       "[[0.22052487047439084, 'Duration'],\n",
       " [0.2109691475337638, 'energy'],\n",
       " [0.12703698251704218, 'mean'],\n",
       " [0.09941284950822, 'median'],\n",
       " [0.09838655369914899, 'maximum'],\n",
       " [0.11000794980358675, 'amplitude'],\n",
       " [0.13366164646384732, 'variance']]"
      ]
     },
     "execution_count": 51,
     "metadata": {},
     "output_type": "execute_result"
    }
   ],
   "source": [
    "liste_X =[\"Duration\",\"energy\", \"mean\", \"median\", \"maximum\",  \"amplitude\", \"variance\"]\n",
    "\n",
    "[list(a) for a in zip(RF_clf.feature_importances_,liste_X)]"
   ]
  },
  {
   "cell_type": "markdown",
   "id": "38525cd7",
   "metadata": {},
   "source": [
    "# kurtosis, skew"
   ]
  },
  {
   "cell_type": "code",
   "execution_count": 17,
   "id": "646ef748",
   "metadata": {},
   "outputs": [
    {
     "name": "stdout",
     "output_type": "stream",
     "text": [
      "excess kurtosis of normal distribution (should be 0): 5.791941681180415\n",
      "skewness of normal distribution (should be 0): 0.25979697704315186\n"
     ]
    }
   ],
   "source": [
    "import numpy as np\n",
    "from scipy.stats import kurtosis\n",
    "from scipy.stats import skew\n",
    "from transformer import Transformer\n",
    "\n",
    "path = \"data/Extracted/\"\n",
    "\n",
    "transfo = Transformer(path)\n",
    "y=transfo.open_file(balanced_table,74458)\n",
    "\n",
    "\n",
    "print( 'excess kurtosis of normal distribution (should be 0): {}'.format( kurtosis(y) ))\n",
    "print( 'skewness of normal distribution (should be 0): {}'.format( skew(y) ))\n"
   ]
  },
  {
   "cell_type": "code",
   "execution_count": null,
   "id": "b3733cd8",
   "metadata": {},
   "outputs": [],
   "source": []
  },
  {
   "cell_type": "code",
   "execution_count": null,
   "id": "d67886a6",
   "metadata": {},
   "outputs": [],
   "source": []
  },
  {
   "cell_type": "markdown",
   "id": "c326869b",
   "metadata": {},
   "source": [
    "%store df"
   ]
  },
  {
   "cell_type": "markdown",
   "id": "17abc167",
   "metadata": {},
   "source": [
    "%store -r df"
   ]
  },
  {
   "cell_type": "code",
   "execution_count": null,
   "id": "27894f0e",
   "metadata": {},
   "outputs": [],
   "source": [
    "\n",
    "df_histo=plt.hist(np_VT_400,bins=500)\n",
    "plt.show()   \n",
    "maxi=np.max(df_histo[0]) \n",
    "l=df_histo[0].tolist()\n",
    "i=l.index(maxi)\n",
    "print(df_histo[1][i])\n",
    "p=max(plt.plot(np_VT_400))\n",
    "print(p)"
   ]
  },
  {
   "cell_type": "code",
   "execution_count": null,
   "id": "cedd45ac",
   "metadata": {},
   "outputs": [],
   "source": [
    "def TF_stat():\n",
    "    \n",
    "    T = df.loc[0,'Duration'] # Durée échantillonnage\n",
    "    fe = df.loc[0,'Sampling rate']  # Freq échantionnage\n",
    "    echantillons = np.load(df.loc[0,'path'])\n",
    "\n",
    "    tfd = fft(echantillons)\n",
    "    N=len(echantillons)\n",
    "    spectre = np.absolute(tfd)*2/N\n",
    "    #L'échelle des fréquences est construite sachant que l'espacement fréquentiel de deux points de la TFD est l'inverse de la durée T :\n",
    "    freq=np.arange(N)*1.0/T"
   ]
  },
  {
   "cell_type": "code",
   "execution_count": null,
   "id": "31e4b576",
   "metadata": {},
   "outputs": [],
   "source": [
    "import math\n",
    "import numpy as np\n",
    "from matplotlib.pyplot import *\n",
    "from numpy.fft import fft \n",
    "from scipy import fftpack\n",
    "\n",
    "T = df.loc[0,'Duration'] # Durée échantillonnage\n",
    "fe = df.loc[0,'Sampling rate']  # Freq échantionnage\n",
    "echantillons = np.load(df.loc[0,'path'])\n",
    "\n",
    "tfd = fft(echantillons)\n",
    "N=len(echantillons)\n",
    "spectre = np.absolute(tfd)*2/N\n",
    "            \n",
    "\n",
    "#L'échelle des fréquences est construite sachant que l'espacement fréquentiel de deux points de la TFD est l'inverse de la durée T :\n",
    "freq=np.arange(N)*1.0/T\n",
    "           \n",
    "#On trace le spectre pour des fréquences allant de zéro à la moitié de la fréquence d'échantillonnage :\n",
    "\n",
    "figure(figsize=(10,4))\n",
    "plot(freq,spectre,'r')\n",
    "xlabel('f')\n",
    "ylabel('A')\n",
    "axis([-0.1,fe/2,0,spectre.max()])\n",
    "grid()\n",
    "\n",
    "\n",
    "X = fftpack.fft(echantillons)   \n",
    "\n"
   ]
  }
 ],
 "metadata": {
  "kernelspec": {
   "display_name": "Python 3",
   "language": "python",
   "name": "python3"
  },
  "language_info": {
   "codemirror_mode": {
    "name": "ipython",
    "version": 3
   },
   "file_extension": ".py",
   "mimetype": "text/x-python",
   "name": "python",
   "nbconvert_exporter": "python",
   "pygments_lexer": "ipython3",
   "version": "3.8.5"
  },
  "toc": {
   "base_numbering": 1,
   "nav_menu": {},
   "number_sections": true,
   "sideBar": true,
   "skip_h1_title": false,
   "title_cell": "Table of Contents",
   "title_sidebar": "Contents",
   "toc_cell": false,
   "toc_position": {},
   "toc_section_display": true,
   "toc_window_display": false
  }
 },
 "nbformat": 4,
 "nbformat_minor": 5
}
