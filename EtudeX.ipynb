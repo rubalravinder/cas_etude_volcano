{
 "cells": [
  {
   "cell_type": "code",
   "execution_count": 49,
   "id": "4b736627",
   "metadata": {},
   "outputs": [
    {
     "ename": "ModuleNotFoundError",
     "evalue": "No module named 'transformer'",
     "output_type": "error",
     "traceback": [
      "\u001b[0;31m---------------------------------------------------------------------------\u001b[0m",
      "\u001b[0;31mModuleNotFoundError\u001b[0m                       Traceback (most recent call last)",
      "\u001b[0;32m<ipython-input-49-fec38f85e45d>\u001b[0m in \u001b[0;36m<module>\u001b[0;34m\u001b[0m\n\u001b[1;32m      3\u001b[0m \u001b[0;32mimport\u001b[0m \u001b[0mmatplotlib\u001b[0m\u001b[0;34m.\u001b[0m\u001b[0mpyplot\u001b[0m \u001b[0;32mas\u001b[0m \u001b[0mplt\u001b[0m\u001b[0;34m\u001b[0m\u001b[0;34m\u001b[0m\u001b[0m\n\u001b[1;32m      4\u001b[0m \u001b[0;32mimport\u001b[0m \u001b[0mdatetime\u001b[0m\u001b[0;34m\u001b[0m\u001b[0;34m\u001b[0m\u001b[0m\n\u001b[0;32m----> 5\u001b[0;31m \u001b[0;32mfrom\u001b[0m \u001b[0mtransformer\u001b[0m \u001b[0;32mimport\u001b[0m \u001b[0;34m*\u001b[0m\u001b[0;34m\u001b[0m\u001b[0;34m\u001b[0m\u001b[0m\n\u001b[0m\u001b[1;32m      6\u001b[0m \u001b[0;32mimport\u001b[0m \u001b[0mos\u001b[0m\u001b[0;34m\u001b[0m\u001b[0;34m\u001b[0m\u001b[0m\n\u001b[1;32m      7\u001b[0m \u001b[0mget_ipython\u001b[0m\u001b[0;34m(\u001b[0m\u001b[0;34m)\u001b[0m\u001b[0;34m.\u001b[0m\u001b[0mrun_line_magic\u001b[0m\u001b[0;34m(\u001b[0m\u001b[0;34m'load_ext'\u001b[0m\u001b[0;34m,\u001b[0m \u001b[0;34m'autoreload'\u001b[0m\u001b[0;34m)\u001b[0m\u001b[0;34m\u001b[0m\u001b[0;34m\u001b[0m\u001b[0m\n",
      "\u001b[0;31mModuleNotFoundError\u001b[0m: No module named 'transformer'"
     ]
    }
   ],
   "source": [
    "import numpy as np\n",
    "import pandas as pd\n",
    "import matplotlib.pyplot as plt\n",
    "import datetime\n",
    "from transformer import *\n",
    "import os\n",
    "%load_ext autoreload\n",
    "%autoreload 2"
   ]
  },
  {
   "cell_type": "code",
   "execution_count": null,
   "id": "a2dd5d39",
   "metadata": {},
   "outputs": [],
   "source": [
    "df = pd.read_excel('../Cas_D_Etude/Cas_Etude_Volcano/NE PAS OUVRIR/association_table_corrected_index.xlsx')"
   ]
  },
  {
   "cell_type": "code",
   "execution_count": null,
   "id": "37c86cdd",
   "metadata": {},
   "outputs": [],
   "source": [
    "df.head(5)"
   ]
  },
  {
   "cell_type": "code",
   "execution_count": null,
   "id": "e7b53ea3",
   "metadata": {},
   "outputs": [],
   "source": [
    "import pickle\n",
    "\n",
    "try:\n",
    "    table = pd.read_pickle('../association_table.pkl')\n",
    "except:\n",
    "    table = pd.read_excel('../Cas_D_Etude/Cas_Etude_Volcano/NE PAS OUVRIR/association_table.xlsx')\n",
    "    table.to_pickle(\"../Cas_Etude_Vulcano/association_table.pkl\")"
   ]
  },
  {
   "cell_type": "code",
   "execution_count": 32,
   "id": "568c991b",
   "metadata": {},
   "outputs": [],
   "source": [
    "df=table"
   ]
  },
  {
   "cell_type": "markdown",
   "id": "f1e1044c",
   "metadata": {},
   "source": [
    "# Class Transformer "
   ]
  },
  {
   "cell_type": "code",
   "execution_count": 28,
   "id": "4e3c2e35",
   "metadata": {},
   "outputs": [
    {
     "name": "stdout",
     "output_type": "stream",
     "text": [
      "class Transformer successfully imported\n"
     ]
    }
   ],
   "source": [
    "# TACHE : empilement de pipelines avec l'aide d'une classe transformer qui:\n",
    "#   - récupérer à partir des 2 1eres colonnes du fichier association_table_corrected_index.xlsx le nom du fichier numpy\n",
    "#   - créer un chemin pour aller récupérer les données du fichier numpy\n",
    "\n",
    "import pandas as pd\n",
    "import numpy as np\n",
    "import os\n",
    "from sklearn.base import TransformerMixin\n",
    "from pathlib import Path\n",
    "\n",
    "class Transformer(TransformerMixin):\n",
    "\n",
    "    def __init__(self, directory_path):\n",
    "        self.directory_path = directory_path\n",
    "#       directory_path : absolute path of the directory containing all folders of numpy files (until Extracted/)\n",
    "#                        /!\\ DO NOT FORGET TO END THE STRING BY THE CHARACTER '/'\n",
    "    \n",
    "    def get_event_and_file_name(self, catalog_file, index:int):\n",
    "        \"\"\"\n",
    "        Input :\n",
    "            - catalog_file : table associating the files with their information and indexes\n",
    "            - index : index of the desired file row in the catalog_file\n",
    "        Output : event associated with file, directory where the file is stored and string with the name of the file\n",
    "        \"\"\"\n",
    "        list_of_file_directories = ['EXP','HIB','LP','PIS','TOR','TR','VT']\n",
    "        event = catalog_file.loc[index,'Event']\n",
    "\n",
    "        # on supprime le dernier caractère pour avoir le nom du dossier où est le fichier\n",
    "        if event not in list_of_file_directories:\n",
    "            event_without_last_digit = event[:-1]\n",
    "            name = str(event_without_last_digit + '_' + str(index))\n",
    "            return event_without_last_digit, name\n",
    "        else:\n",
    "            name = str(event + '_' + str(index))\n",
    "            return event, name\n",
    "\n",
    "    def put_event_in_df(self,catalog_file):\n",
    "        \"\"\"\n",
    "        Input :\n",
    "            - catalog_file : table associating the files with their information and indexes\n",
    "        Output : creates a column in the dataframe for the type of event\n",
    "        \"\"\"\n",
    "        for idx in catalog_file.index:\n",
    "            try :\n",
    "                event, name = self.get_event_and_file_name(catalog_file, idx)\n",
    "                catalog_file.loc[idx, 'event'] = event\n",
    "            except:\n",
    "                pass\n",
    "        return catalog_file\n",
    "    \n",
    "    def get_file_path(self, catalog_file, index):\n",
    "        \"\"\"\n",
    "        Input :\n",
    "            - catalog_file : table associating the files with their information and indexes\n",
    "            - index : index of the desired file row in the catalog_file\n",
    "        Output : return the relative path for the desired file\n",
    "        \"\"\"\n",
    "        # on récupère le nom de l'event (dossier dans lequel est rangé le fichier) et du fichier\n",
    "        event, name = self.get_event_and_file_name(catalog_file, index)\n",
    "        \n",
    "        # on crée un string pour avoir le chemin du fichier\n",
    "        end_folder_path = str(event + '/' + name + '.npy')\n",
    "        final_path = self.directory_path + end_folder_path\n",
    "        return final_path\n",
    "    \n",
    "    def put_path_in_df(self, catalog_file):\n",
    "        \"\"\"\n",
    "        Input :\n",
    "            - catalog_file : table associating the files with their information and indexes\n",
    "        Output : creates a column in the dataframe for the file path of each numpy file\n",
    "        \"\"\"\n",
    "        for idx in catalog_file.index:\n",
    "            try :\n",
    "                path = self.get_file_path(catalog_file, idx)\n",
    "                catalog_file.loc[idx, 'path'] = path\n",
    "            except:\n",
    "                pass\n",
    "        return catalog_file\n",
    "\n",
    "    def open_file(self, catalog_file, index):\n",
    "        \"\"\"\n",
    "        Input :\n",
    "            - catalog_file : table associating the files with their information and indexes\n",
    "            - index : index of the desired file row in the catalog_file        \n",
    "        Output : loads the file at the desired index\n",
    "        \"\"\"\n",
    "        # on récupère le chemin menant au fichier\n",
    "        path = self.get_file_path(catalog_file, index)\n",
    "        \n",
    "        if os.path.exists(path):\n",
    "            file = np.load(path) # on ouvre le fichier seulement s'il existe\n",
    "            return file\n",
    "        else:\n",
    "            pass\n",
    "    \n",
    "    def get_info_from_file(self, catalog_file, index):\n",
    "        \"\"\"\n",
    "        Input : \n",
    "            - catalog_file : table associating the files with their information and indexes\n",
    "            - index : index of the desired file row in the catalog_file        \n",
    "        Output : Returns a tuple with the variance, mean, median, maximum and amplitude of the numpy array\n",
    "        \"\"\"\n",
    "        try:\n",
    "            data = self.open_file(catalog_file, index)\n",
    "            variance = np.var(data)\n",
    "            mean = np.mean(data)\n",
    "            median = np.median(data)\n",
    "            maximum = np.amax(data)\n",
    "            minimum = np.amin(data)\n",
    "            amplitude = maximum - minimum\n",
    "            return variance, mean, median, maximum, amplitude\n",
    "        except:\n",
    "            pass\n",
    "    \n",
    "    def supp_columns(self, catalog_file, columns_to_supp=[\"File name\",\"File start\" ,\"File end\" ,\"Unnamed: 10\" ,\"Unnamed: 11\" ,\"Unnamed: 12\"]):\n",
    "        \"\"\"\n",
    "        Input :\n",
    "            - catalog_file : table associating the files with their information and indexes\n",
    "            - columns_to_supp : list of columns names to delete from the dataframe catalog_file. If None, following\n",
    "                                columns are deleted : [\"File name\",\"File start\" ,\"File end\" ,\"Unnamed: 10\" ,\"Unnamed: 11\" ,\"Unnamed: 12\"] \n",
    "        Output : returns the dataframe catalog_file cleant from unused columns\n",
    "        \"\"\"\n",
    "        catalog_file.drop(columns_to_supp, axis=1, inplace=True)\n",
    "        return catalog_file\n",
    "    \n",
    "    def put_info_in_df(self, catalog_file):\n",
    "        \"\"\"\n",
    "        Input :\n",
    "            - catalog_file : table associating the files with their information and indexes\n",
    "        Output : creates a different column for variance, mean, median, maximum and amplitude of each numpy array.\n",
    "        \"\"\"\n",
    "        for idx in catalog_file.index:\n",
    "            try :\n",
    "                variance, mean, median, maximum, amplitude = self.get_info_from_file(catalog_file, idx)\n",
    "                catalog_file.loc[idx, 'variance'] = variance\n",
    "                catalog_file.loc[idx, 'mean'] = mean\n",
    "                catalog_file.loc[idx, 'median'] = median\n",
    "                catalog_file.loc[idx, 'maximum'] = maximum\n",
    "                catalog_file.loc[idx, 'amplitude'] = amplitude\n",
    "            except:\n",
    "                pass\n",
    "        return catalog_file\n",
    "\n",
    "    def fit_transform(self, X):\n",
    "        \"\"\"\n",
    "        Input :\n",
    "            - X : array-like of shape (n_samples, n_features)\n",
    "        Output : returns a fit_transformed X array\n",
    "        \"\"\"\n",
    "        X_copy = X.copy()\n",
    "        X_with_event = self.put_event_in_df(X_copy)\n",
    "        X_with_path = self.put_path_in_df(X_with_event)\n",
    "        X_supp_cols = self.supp_columns(X_with_path)\n",
    "        X_add_cols = self.put_info_in_df(X_supp_cols)\n",
    "        return X_add_cols\n",
    "\n",
    "\n",
    "if __name__ == '__main__':\n",
    "    print('class Transformer successfully imported')"
   ]
  },
  {
   "cell_type": "code",
   "execution_count": 36,
   "id": "5ac7a1f1",
   "metadata": {},
   "outputs": [
    {
     "data": {
      "text/plain": [
       "LP1    79.07\n",
       "TR2    10.10\n",
       "TR1     3.75\n",
       "LPP     3.65\n",
       "PIS     1.36\n",
       "VT1     1.07\n",
       "HIB     0.38\n",
       "VTP     0.22\n",
       "LP2     0.13\n",
       "EXP     0.13\n",
       "TOR     0.09\n",
       "TRA     0.05\n",
       "Name: Event, dtype: float64"
      ]
     },
     "execution_count": 36,
     "metadata": {},
     "output_type": "execute_result"
    }
   ],
   "source": [
    "round(df.Event.value_counts()*100/len(df),2)"
   ]
  },
  {
   "cell_type": "code",
   "execution_count": 47,
   "id": "9a668b1d",
   "metadata": {},
   "outputs": [
    {
     "data": {
      "text/plain": [
       "TR2    52.56\n",
       "LPP    20.10\n",
       "TR1    14.17\n",
       "PIS     7.35\n",
       "HIB     2.23\n",
       "VT1     1.54\n",
       "LP2     0.71\n",
       "EXP     0.71\n",
       "TOR     0.50\n",
       "VTP     0.10\n",
       "TRA     0.02\n",
       "Name: Event, dtype: float64"
      ]
     },
     "execution_count": 47,
     "metadata": {},
     "output_type": "execute_result"
    }
   ],
   "source": [
    "round(df_transf.Event.value_counts()*100/len(df_transf),2)"
   ]
  },
  {
   "cell_type": "code",
   "execution_count": 37,
   "id": "98c50f2a",
   "metadata": {},
   "outputs": [],
   "source": [
    "df_partiel=df[df.Event!='LP1']"
   ]
  },
  {
   "cell_type": "code",
   "execution_count": 38,
   "id": "7e108f30",
   "metadata": {},
   "outputs": [],
   "source": [
    "path = \"/home/d5learner-08/GDrive/Cas_D_Etude/Cas_Etude_Vulcano/NE PAS OUVRIR/Extracted/\"\n",
    "transfo = Transformer(path)\n",
    "\n",
    "df_transf=transfo.fit_transform(df_partiel)"
   ]
  },
  {
   "cell_type": "code",
   "execution_count": 39,
   "id": "062b7b1a",
   "metadata": {},
   "outputs": [],
   "source": [
    "df_transf.to_pickle(\"../Cas_Etude_Vulcano/association_table_transfo.pkl\")"
   ]
  },
  {
   "cell_type": "code",
   "execution_count": 44,
   "id": "4fbe77e2",
   "metadata": {},
   "outputs": [
    {
     "name": "stdout",
     "output_type": "stream",
     "text": [
      "<class 'pandas.core.frame.DataFrame'>\n",
      "Int64Index: 20285 entries, 2 to 124783\n",
      "Data columns (total 16 columns):\n",
      " #   Column         Non-Null Count  Dtype  \n",
      "---  ------         --------------  -----  \n",
      " 0   Index          20285 non-null  int64  \n",
      " 1   Event          20285 non-null  object \n",
      " 2   Duration       20285 non-null  int64  \n",
      " 3   Event start    20285 non-null  object \n",
      " 4   Event stop     20285 non-null  object \n",
      " 5   Sampling rate  20285 non-null  float64\n",
      " 6   Overlap        20285 non-null  bool   \n",
      " 7   npts           20285 non-null  float64\n",
      " 8   energy         20285 non-null  float64\n",
      " 9   path           20285 non-null  object \n",
      " 10  event          20285 non-null  object \n",
      " 11  variance       20285 non-null  float64\n",
      " 12  mean           20285 non-null  float64\n",
      " 13  median         20285 non-null  float64\n",
      " 14  maximum        20285 non-null  float64\n",
      " 15  amplitude      20285 non-null  float64\n",
      "dtypes: bool(1), float64(8), int64(2), object(5)\n",
      "memory usage: 2.5+ MB\n"
     ]
    }
   ],
   "source": [
    "df_transf.info()"
   ]
  },
  {
   "cell_type": "code",
   "execution_count": 41,
   "id": "669b4ea6",
   "metadata": {},
   "outputs": [
    {
     "data": {
      "text/html": [
       "<div>\n",
       "<style scoped>\n",
       "    .dataframe tbody tr th:only-of-type {\n",
       "        vertical-align: middle;\n",
       "    }\n",
       "\n",
       "    .dataframe tbody tr th {\n",
       "        vertical-align: top;\n",
       "    }\n",
       "\n",
       "    .dataframe thead th {\n",
       "        text-align: right;\n",
       "    }\n",
       "</style>\n",
       "<table border=\"1\" class=\"dataframe\">\n",
       "  <thead>\n",
       "    <tr style=\"text-align: right;\">\n",
       "      <th></th>\n",
       "      <th>Index</th>\n",
       "      <th>Event</th>\n",
       "      <th>Duration</th>\n",
       "      <th>Event start</th>\n",
       "      <th>Event stop</th>\n",
       "      <th>Sampling rate</th>\n",
       "      <th>Overlap</th>\n",
       "      <th>npts</th>\n",
       "      <th>energy</th>\n",
       "      <th>path</th>\n",
       "      <th>event</th>\n",
       "      <th>variance</th>\n",
       "      <th>mean</th>\n",
       "      <th>median</th>\n",
       "      <th>maximum</th>\n",
       "      <th>amplitude</th>\n",
       "    </tr>\n",
       "  </thead>\n",
       "  <tbody>\n",
       "    <tr>\n",
       "      <th>2</th>\n",
       "      <td>2</td>\n",
       "      <td>TR2</td>\n",
       "      <td>128</td>\n",
       "      <td>2006-05-23 22:37:52.910000+00:00</td>\n",
       "      <td>2006-05-23 22:40:00.910000+00:00</td>\n",
       "      <td>50.0</td>\n",
       "      <td>False</td>\n",
       "      <td>90000.0</td>\n",
       "      <td>0.79052</td>\n",
       "      <td>/home/d5learner-08/GDrive/Cas_D_Etude/Cas_Etud...</td>\n",
       "      <td>TR</td>\n",
       "      <td>42986.019531</td>\n",
       "      <td>26.641539</td>\n",
       "      <td>27.549942</td>\n",
       "      <td>990.936279</td>\n",
       "      <td>1959.923828</td>\n",
       "    </tr>\n",
       "    <tr>\n",
       "      <th>4</th>\n",
       "      <td>4</td>\n",
       "      <td>TR2</td>\n",
       "      <td>78</td>\n",
       "      <td>2006-05-23 22:46:58.440000+00:00</td>\n",
       "      <td>2006-05-23 22:48:16.440000+00:00</td>\n",
       "      <td>100.0</td>\n",
       "      <td>False</td>\n",
       "      <td>60000.0</td>\n",
       "      <td>0.23330</td>\n",
       "      <td>/home/d5learner-08/GDrive/Cas_D_Etude/Cas_Etud...</td>\n",
       "      <td>TR</td>\n",
       "      <td>27451.826172</td>\n",
       "      <td>190.655899</td>\n",
       "      <td>207.000000</td>\n",
       "      <td>740.000000</td>\n",
       "      <td>1200.000000</td>\n",
       "    </tr>\n",
       "    <tr>\n",
       "      <th>23</th>\n",
       "      <td>23</td>\n",
       "      <td>TR2</td>\n",
       "      <td>120</td>\n",
       "      <td>2006-05-23 23:07:00.580000+00:00</td>\n",
       "      <td>2006-05-23 23:09:00.580000+00:00</td>\n",
       "      <td>50.0</td>\n",
       "      <td>False</td>\n",
       "      <td>150100.0</td>\n",
       "      <td>0.87245</td>\n",
       "      <td>/home/d5learner-08/GDrive/Cas_D_Etude/Cas_Etud...</td>\n",
       "      <td>TR</td>\n",
       "      <td>68384.156250</td>\n",
       "      <td>231.322540</td>\n",
       "      <td>224.151184</td>\n",
       "      <td>1353.595825</td>\n",
       "      <td>3030.478760</td>\n",
       "    </tr>\n",
       "    <tr>\n",
       "      <th>24</th>\n",
       "      <td>24</td>\n",
       "      <td>TR2</td>\n",
       "      <td>148</td>\n",
       "      <td>2006-05-23 23:12:23.640000+00:00</td>\n",
       "      <td>2006-05-23 23:14:51.640000+00:00</td>\n",
       "      <td>50.0</td>\n",
       "      <td>False</td>\n",
       "      <td>150100.0</td>\n",
       "      <td>0.70454</td>\n",
       "      <td>/home/d5learner-08/GDrive/Cas_D_Etude/Cas_Etud...</td>\n",
       "      <td>TR</td>\n",
       "      <td>44482.503906</td>\n",
       "      <td>154.392151</td>\n",
       "      <td>157.484436</td>\n",
       "      <td>1559.584229</td>\n",
       "      <td>2553.325928</td>\n",
       "    </tr>\n",
       "    <tr>\n",
       "      <th>25</th>\n",
       "      <td>25</td>\n",
       "      <td>TR2</td>\n",
       "      <td>73</td>\n",
       "      <td>2006-05-23 23:18:59.120000+00:00</td>\n",
       "      <td>2006-05-23 23:20:12.120000+00:00</td>\n",
       "      <td>100.0</td>\n",
       "      <td>False</td>\n",
       "      <td>60000.0</td>\n",
       "      <td>0.36044</td>\n",
       "      <td>/home/d5learner-08/GDrive/Cas_D_Etude/Cas_Etud...</td>\n",
       "      <td>TR</td>\n",
       "      <td>45587.742188</td>\n",
       "      <td>147.313705</td>\n",
       "      <td>145.000000</td>\n",
       "      <td>1095.000000</td>\n",
       "      <td>1947.000000</td>\n",
       "    </tr>\n",
       "  </tbody>\n",
       "</table>\n",
       "</div>"
      ],
      "text/plain": [
       "    Index Event  Duration                       Event start  \\\n",
       "2       2   TR2       128  2006-05-23 22:37:52.910000+00:00   \n",
       "4       4   TR2        78  2006-05-23 22:46:58.440000+00:00   \n",
       "23     23   TR2       120  2006-05-23 23:07:00.580000+00:00   \n",
       "24     24   TR2       148  2006-05-23 23:12:23.640000+00:00   \n",
       "25     25   TR2        73  2006-05-23 23:18:59.120000+00:00   \n",
       "\n",
       "                          Event stop  Sampling rate  Overlap      npts  \\\n",
       "2   2006-05-23 22:40:00.910000+00:00           50.0    False   90000.0   \n",
       "4   2006-05-23 22:48:16.440000+00:00          100.0    False   60000.0   \n",
       "23  2006-05-23 23:09:00.580000+00:00           50.0    False  150100.0   \n",
       "24  2006-05-23 23:14:51.640000+00:00           50.0    False  150100.0   \n",
       "25  2006-05-23 23:20:12.120000+00:00          100.0    False   60000.0   \n",
       "\n",
       "     energy                                               path event  \\\n",
       "2   0.79052  /home/d5learner-08/GDrive/Cas_D_Etude/Cas_Etud...    TR   \n",
       "4   0.23330  /home/d5learner-08/GDrive/Cas_D_Etude/Cas_Etud...    TR   \n",
       "23  0.87245  /home/d5learner-08/GDrive/Cas_D_Etude/Cas_Etud...    TR   \n",
       "24  0.70454  /home/d5learner-08/GDrive/Cas_D_Etude/Cas_Etud...    TR   \n",
       "25  0.36044  /home/d5learner-08/GDrive/Cas_D_Etude/Cas_Etud...    TR   \n",
       "\n",
       "        variance        mean      median      maximum    amplitude  \n",
       "2   42986.019531   26.641539   27.549942   990.936279  1959.923828  \n",
       "4   27451.826172  190.655899  207.000000   740.000000  1200.000000  \n",
       "23  68384.156250  231.322540  224.151184  1353.595825  3030.478760  \n",
       "24  44482.503906  154.392151  157.484436  1559.584229  2553.325928  \n",
       "25  45587.742188  147.313705  145.000000  1095.000000  1947.000000  "
      ]
     },
     "execution_count": 41,
     "metadata": {},
     "output_type": "execute_result"
    }
   ],
   "source": [
    "df_transf.head(5)"
   ]
  },
  {
   "cell_type": "code",
   "execution_count": 42,
   "id": "23673deb",
   "metadata": {},
   "outputs": [
    {
     "data": {
      "text/plain": [
       "RandomForestClassifier()"
      ]
     },
     "execution_count": 42,
     "metadata": {},
     "output_type": "execute_result"
    }
   ],
   "source": [
    "# gridsearch for the Random Forest classifier\n",
    "from sklearn.model_selection import train_test_split\n",
    "from sklearn.ensemble import RandomForestClassifier\n",
    "from sklearn.model_selection import GridSearchCV\n",
    "\n",
    "df_transf.dropna(axis=0,how='any',inplace=True)\n",
    "\n",
    "y=df_transf.event.copy()\n",
    "X=df_transf[[\"Duration\",\"energy\", \"mean\", \"median\", \"maximum\",  \"amplitude\", \"variance\"]]\n",
    "\n",
    "X_train, X_test, y_train, y_test = train_test_split(X, y, random_state = 10)\n",
    "\n",
    "k_range = [5,30,60,100]\n",
    "param_grid =  {'n_estimators': k_range}\n",
    "\n",
    "RF_clf=RandomForestClassifier()\n",
    "\n",
    "# grid_search = GridSearchCV(RF_clf, param_grid, cv=3, scoring='recall') #'average_precision')\n",
    "# grid_search.fit(X_train, y_train)\n",
    "\n",
    "# print(grid_search.best_score_)\n",
    "# print(grid_search.best_params_)\n",
    "\n",
    "RF_clf.fit(X_train, y_train)\n"
   ]
  },
  {
   "cell_type": "code",
   "execution_count": 43,
   "id": "788601f2",
   "metadata": {},
   "outputs": [
    {
     "data": {
      "text/plain": [
       "0.8523264984227129"
      ]
     },
     "execution_count": 43,
     "metadata": {},
     "output_type": "execute_result"
    }
   ],
   "source": [
    "RF_clf.score(X_test,y_test)"
   ]
  },
  {
   "cell_type": "code",
   "execution_count": null,
   "id": "06f8df9f",
   "metadata": {},
   "outputs": [],
   "source": [
    "df_transf.E"
   ]
  },
  {
   "cell_type": "markdown",
   "id": "6b886990",
   "metadata": {},
   "source": [
    "%store df"
   ]
  },
  {
   "cell_type": "markdown",
   "id": "fc64a198",
   "metadata": {},
   "source": [
    "%store -r df"
   ]
  },
  {
   "cell_type": "code",
   "execution_count": 225,
   "id": "06edfe0c",
   "metadata": {},
   "outputs": [
    {
     "name": "stdout",
     "output_type": "stream",
     "text": [
      "614.3727\n"
     ]
    },
    {
     "data": {
      "image/png": "[encoded data removed]",
      "text/plain": [
       "<Figure size 432x288 with 1 Axes>"
      ]
     },
     "metadata": {
      "needs_background": "light"
     },
     "output_type": "display_data"
    },
    {
     "name": "stdout",
     "output_type": "stream",
     "text": [
      "174.81664\n",
      "Line2D(_line0)\n"
     ]
    },
    {
     "data": {
      "image/png": "[encoded data removed]",
      "text/plain": [
       "<Figure size 432x288 with 1 Axes>"
      ]
     },
     "metadata": {
      "needs_background": "light"
     },
     "output_type": "display_data"
    }
   ],
   "source": [
    "\n",
    "df_histo=plt.hist(np_VT_400,bins=500)\n",
    "plt.show()   \n",
    "maxi=np.max(df_histo[0]) \n",
    "l=df_histo[0].tolist()\n",
    "i=l.index(maxi)\n",
    "print(df_histo[1][i])\n",
    "p=max(plt.plot(np_VT_400))\n",
    "print(p)"
   ]
  },
  {
   "cell_type": "code",
   "execution_count": null,
   "id": "50dfcad2",
   "metadata": {},
   "outputs": [],
   "source": [
    "def TF_stat():\n",
    "    \n",
    "    T = df.loc[0,'Duration'] # Durée échantillonnage\n",
    "    fe = df.loc[0,'Sampling rate']  # Freq échantionnage\n",
    "    echantillons = np.load(df.loc[0,'path'])\n",
    "\n",
    "    tfd = fft(echantillons)\n",
    "    N=len(echantillons)\n",
    "    spectre = np.absolute(tfd)*2/N\n",
    "    #L'échelle des fréquences est construite sachant que l'espacement fréquentiel de deux points de la TFD est l'inverse de la durée T :\n",
    "    freq=np.arange(N)*1.0/T"
   ]
  },
  {
   "cell_type": "code",
   "execution_count": 235,
   "id": "a4e20ed1",
   "metadata": {},
   "outputs": [
    {
     "data": {
      "image/png": "[encoded data removed]",
      "text/plain": [
       "<Figure size 720x288 with 1 Axes>"
      ]
     },
     "metadata": {
      "needs_background": "light"
     },
     "output_type": "display_data"
    }
   ],
   "source": [
    "import math\n",
    "import numpy as np\n",
    "from matplotlib.pyplot import *\n",
    "from numpy.fft import fft \n",
    "from scipy import fftpack\n",
    "\n",
    "T = df.loc[0,'Duration'] # Durée échantillonnage\n",
    "fe = df.loc[0,'Sampling rate']  # Freq échantionnage\n",
    "echantillons = np.load(df.loc[0,'path'])\n",
    "\n",
    "tfd = fft(echantillons)\n",
    "N=len(echantillons)\n",
    "spectre = np.absolute(tfd)*2/N\n",
    "            \n",
    "\n",
    "#L'échelle des fréquences est construite sachant que l'espacement fréquentiel de deux points de la TFD est l'inverse de la durée T :\n",
    "freq=np.arange(N)*1.0/T\n",
    "           \n",
    "#On trace le spectre pour des fréquences allant de zéro à la moitié de la fréquence d'échantillonnage :\n",
    "\n",
    "figure(figsize=(10,4))\n",
    "plot(freq,spectre,'r')\n",
    "xlabel('f')\n",
    "ylabel('A')\n",
    "axis([-0.1,fe/2,0,spectre.max()])\n",
    "grid()\n",
    "\n",
    "\n",
    "X = fftpack.fft(echantillons)   \n",
    "\n"
   ]
  }
 ],
 "metadata": {
  "kernelspec": {
   "display_name": "Python 3",
   "language": "python",
   "name": "python3"
  },
  "language_info": {
   "codemirror_mode": {
    "name": "ipython",
    "version": 3
   },
   "file_extension": ".py",
   "mimetype": "text/x-python",
   "name": "python",
   "nbconvert_exporter": "python",
   "pygments_lexer": "ipython3",
   "version": "3.8.5"
  },
  "toc": {
   "base_numbering": 1,
   "nav_menu": {},
   "number_sections": true,
   "sideBar": true,
   "skip_h1_title": false,
   "title_cell": "Table of Contents",
   "title_sidebar": "Contents",
   "toc_cell": false,
   "toc_position": {},
   "toc_section_display": true,
   "toc_window_display": false
  }
 },
 "nbformat": 4,
 "nbformat_minor": 5
}
