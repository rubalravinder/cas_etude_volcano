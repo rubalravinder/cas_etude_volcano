{
 "cells": [
  {
   "cell_type": "code",
   "execution_count": 73,
   "id": "c43bb000",
   "metadata": {},
   "outputs": [
    {
     "name": "stdout",
     "output_type": "stream",
     "text": [
      "The autoreload extension is already loaded. To reload it, use:\n",
      "  %reload_ext autoreload\n"
     ]
    }
   ],
   "source": [
    "import numpy as np\n",
    "import pandas as pd\n",
    "import matplotlib.pyplot as plt\n",
    "import datetime\n",
    "from transformer import *\n",
    "import os\n",
    "%load_ext autoreload\n",
    "%autoreload 2"
   ]
  },
  {
   "cell_type": "markdown",
   "id": "27dbd0bc",
   "metadata": {},
   "source": [
    "# Pickle"
   ]
  },
  {
   "cell_type": "code",
   "execution_count": 26,
   "id": "7f0f4ef0",
   "metadata": {},
   "outputs": [],
   "source": [
    "import pickle\n",
    "\n",
    "try:\n",
    "    table = pd.read_pickle('../association_table.pkl')\n",
    "except:\n",
    "    table = pd.read_excel('../Cas_D_Etude/Cas_Etude_Volcano/NE PAS OUVRIR/association_table.xlsx')\n",
    "    table.to_pickle(\"../Cas_D_Etude/Cas_Etude_Vulcano/association_table.pkl\")"
   ]
  },
  {
   "cell_type": "markdown",
   "id": "be28212c",
   "metadata": {},
   "source": [
    "# Sampling data"
   ]
  },
  {
   "cell_type": "code",
   "execution_count": 27,
   "id": "5a120e36",
   "metadata": {},
   "outputs": [
    {
     "data": {
      "text/plain": [
       "TOR    100\n",
       "TR     100\n",
       "PIS    100\n",
       "HIB    100\n",
       "VT     100\n",
       "EXP    100\n",
       "LP     100\n",
       "Name: event, dtype: int64"
      ]
     },
     "execution_count": 27,
     "metadata": {},
     "output_type": "execute_result"
    }
   ],
   "source": [
    "from transformer import Event\n",
    "from subsampler import balanced_subsampler\n",
    "\n",
    "table = Event().fit_transform(table)\n",
    "balanced_table = balanced_subsampler(table, 100)\n",
    "balanced_table.event.value_counts()"
   ]
  },
  {
   "cell_type": "code",
   "execution_count": 33,
   "id": "7a91f4e9",
   "metadata": {},
   "outputs": [],
   "source": [
    "balanced_table.to_pickle(\"/home/d5learner-08/GDrive/Cas_D_Etude/Cas_Etude_Vulcano/association_balanced_table.pkl\")"
   ]
  },
  {
   "cell_type": "code",
   "execution_count": 75,
   "id": "1b94cee8",
   "metadata": {},
   "outputs": [
    {
     "data": {
      "text/html": [
       "<div>\n",
       "<style scoped>\n",
       "    .dataframe tbody tr th:only-of-type {\n",
       "        vertical-align: middle;\n",
       "    }\n",
       "\n",
       "    .dataframe tbody tr th {\n",
       "        vertical-align: top;\n",
       "    }\n",
       "\n",
       "    .dataframe thead th {\n",
       "        text-align: right;\n",
       "    }\n",
       "</style>\n",
       "<table border=\"1\" class=\"dataframe\">\n",
       "  <thead>\n",
       "    <tr style=\"text-align: right;\">\n",
       "      <th></th>\n",
       "      <th>Index</th>\n",
       "      <th>Event</th>\n",
       "      <th>Duration</th>\n",
       "      <th>Event start</th>\n",
       "      <th>Event stop</th>\n",
       "      <th>File name</th>\n",
       "      <th>File start</th>\n",
       "      <th>File end</th>\n",
       "      <th>Sampling rate</th>\n",
       "      <th>Overlap</th>\n",
       "      <th>Unnamed: 10</th>\n",
       "      <th>Unnamed: 11</th>\n",
       "      <th>Unnamed: 12</th>\n",
       "      <th>npts</th>\n",
       "      <th>energy</th>\n",
       "      <th>path</th>\n",
       "      <th>event</th>\n",
       "    </tr>\n",
       "  </thead>\n",
       "  <tbody>\n",
       "    <tr>\n",
       "      <th>68058</th>\n",
       "      <td>68058</td>\n",
       "      <td>TR2</td>\n",
       "      <td>354</td>\n",
       "      <td>2007-04-23 03:16:13.990000+00:00</td>\n",
       "      <td>2007-04-23 03:22:07.990000+00:00</td>\n",
       "      <td>20070423_0300.UB1.SL.Z.sac</td>\n",
       "      <td>2007-04-23 03:00:00.019000+00:00</td>\n",
       "      <td>2007-04-23 03:59:59.969000+00:00</td>\n",
       "      <td>40.0</td>\n",
       "      <td>False</td>\n",
       "      <td>NaN</td>\n",
       "      <td>NaN</td>\n",
       "      <td>NaN</td>\n",
       "      <td>143999.0</td>\n",
       "      <td>0.72632</td>\n",
       "      <td>C:/Users/EC265595/Documents/Data/Ubinas_2006_2...</td>\n",
       "      <td>TR</td>\n",
       "    </tr>\n",
       "    <tr>\n",
       "      <th>100084</th>\n",
       "      <td>100084</td>\n",
       "      <td>PIS</td>\n",
       "      <td>27</td>\n",
       "      <td>2008-02-17 06:17:15.150000+00:00</td>\n",
       "      <td>2008-02-17 06:17:42.150000+00:00</td>\n",
       "      <td>20080217_0600.UB1.SL.Z.sac</td>\n",
       "      <td>2008-02-17 06:00:00.036000+00:00</td>\n",
       "      <td>2008-02-17 07:00:00.036000+00:00</td>\n",
       "      <td>50.0</td>\n",
       "      <td>False</td>\n",
       "      <td>NaN</td>\n",
       "      <td>NaN</td>\n",
       "      <td>NaN</td>\n",
       "      <td>180001.0</td>\n",
       "      <td>0.39290</td>\n",
       "      <td>C:/Users/EC265595/Documents/Data/Ubinas_2006_2...</td>\n",
       "      <td>PIS</td>\n",
       "    </tr>\n",
       "    <tr>\n",
       "      <th>80771</th>\n",
       "      <td>80771</td>\n",
       "      <td>TR1</td>\n",
       "      <td>2701</td>\n",
       "      <td>2007-06-16 11:00:10.670000+00:00</td>\n",
       "      <td>2007-06-16 11:45:11.670000+00:00</td>\n",
       "      <td>20070616_1100.UB1.SL.Z.sac</td>\n",
       "      <td>2007-06-16 10:59:59.993000+00:00</td>\n",
       "      <td>2007-06-16 11:59:59.993000+00:00</td>\n",
       "      <td>100.0</td>\n",
       "      <td>False</td>\n",
       "      <td>NaN</td>\n",
       "      <td>NaN</td>\n",
       "      <td>NaN</td>\n",
       "      <td>360001.0</td>\n",
       "      <td>11.18200</td>\n",
       "      <td>C:/Users/EC265595/Documents/Data/Ubinas_2006_2...</td>\n",
       "      <td>TR</td>\n",
       "    </tr>\n",
       "    <tr>\n",
       "      <th>121808</th>\n",
       "      <td>121808</td>\n",
       "      <td>TOR</td>\n",
       "      <td>27</td>\n",
       "      <td>2011-01-22 05:40:34.710000+00:00</td>\n",
       "      <td>2011-01-22 05:41:01.710000+00:00</td>\n",
       "      <td>20110122_0500.UB1.SL.Z.sac</td>\n",
       "      <td>2011-01-22 05:00:00.043000+00:00</td>\n",
       "      <td>2011-01-22 06:00:00.043000+00:00</td>\n",
       "      <td>100.0</td>\n",
       "      <td>False</td>\n",
       "      <td>NaN</td>\n",
       "      <td>NaN</td>\n",
       "      <td>NaN</td>\n",
       "      <td>360001.0</td>\n",
       "      <td>0.02427</td>\n",
       "      <td>C:/Users/EC265595/Documents/Data/Ubinas_2006_2...</td>\n",
       "      <td>TOR</td>\n",
       "    </tr>\n",
       "    <tr>\n",
       "      <th>115494</th>\n",
       "      <td>115494</td>\n",
       "      <td>VT1</td>\n",
       "      <td>27</td>\n",
       "      <td>2009-12-02 02:50:06.150000+00:00</td>\n",
       "      <td>2009-12-02 02:50:33.150000+00:00</td>\n",
       "      <td>20091202_0200.UB1.SL.Z.sac</td>\n",
       "      <td>2009-12-02 02:00:00.036000+00:00</td>\n",
       "      <td>2009-12-02 03:00:00.036000+00:00</td>\n",
       "      <td>50.0</td>\n",
       "      <td>False</td>\n",
       "      <td>NaN</td>\n",
       "      <td>NaN</td>\n",
       "      <td>NaN</td>\n",
       "      <td>180001.0</td>\n",
       "      <td>69.37142</td>\n",
       "      <td>C:/Users/EC265595/Documents/Data/Ubinas_2006_2...</td>\n",
       "      <td>VT</td>\n",
       "    </tr>\n",
       "  </tbody>\n",
       "</table>\n",
       "</div>"
      ],
      "text/plain": [
       "         Index Event  Duration                       Event start  \\\n",
       "68058    68058   TR2       354  2007-04-23 03:16:13.990000+00:00   \n",
       "100084  100084   PIS        27  2008-02-17 06:17:15.150000+00:00   \n",
       "80771    80771   TR1      2701  2007-06-16 11:00:10.670000+00:00   \n",
       "121808  121808   TOR        27  2011-01-22 05:40:34.710000+00:00   \n",
       "115494  115494   VT1        27  2009-12-02 02:50:06.150000+00:00   \n",
       "\n",
       "                              Event stop                   File name  \\\n",
       "68058   2007-04-23 03:22:07.990000+00:00  20070423_0300.UB1.SL.Z.sac   \n",
       "100084  2008-02-17 06:17:42.150000+00:00  20080217_0600.UB1.SL.Z.sac   \n",
       "80771   2007-06-16 11:45:11.670000+00:00  20070616_1100.UB1.SL.Z.sac   \n",
       "121808  2011-01-22 05:41:01.710000+00:00  20110122_0500.UB1.SL.Z.sac   \n",
       "115494  2009-12-02 02:50:33.150000+00:00  20091202_0200.UB1.SL.Z.sac   \n",
       "\n",
       "                              File start                          File end  \\\n",
       "68058   2007-04-23 03:00:00.019000+00:00  2007-04-23 03:59:59.969000+00:00   \n",
       "100084  2008-02-17 06:00:00.036000+00:00  2008-02-17 07:00:00.036000+00:00   \n",
       "80771   2007-06-16 10:59:59.993000+00:00  2007-06-16 11:59:59.993000+00:00   \n",
       "121808  2011-01-22 05:00:00.043000+00:00  2011-01-22 06:00:00.043000+00:00   \n",
       "115494  2009-12-02 02:00:00.036000+00:00  2009-12-02 03:00:00.036000+00:00   \n",
       "\n",
       "        Sampling rate  Overlap  Unnamed: 10  Unnamed: 11  Unnamed: 12  \\\n",
       "68058            40.0    False          NaN          NaN          NaN   \n",
       "100084           50.0    False          NaN          NaN          NaN   \n",
       "80771           100.0    False          NaN          NaN          NaN   \n",
       "121808          100.0    False          NaN          NaN          NaN   \n",
       "115494           50.0    False          NaN          NaN          NaN   \n",
       "\n",
       "            npts    energy                                               path  \\\n",
       "68058   143999.0   0.72632  C:/Users/EC265595/Documents/Data/Ubinas_2006_2...   \n",
       "100084  180001.0   0.39290  C:/Users/EC265595/Documents/Data/Ubinas_2006_2...   \n",
       "80771   360001.0  11.18200  C:/Users/EC265595/Documents/Data/Ubinas_2006_2...   \n",
       "121808  360001.0   0.02427  C:/Users/EC265595/Documents/Data/Ubinas_2006_2...   \n",
       "115494  180001.0  69.37142  C:/Users/EC265595/Documents/Data/Ubinas_2006_2...   \n",
       "\n",
       "       event  \n",
       "68058     TR  \n",
       "100084   PIS  \n",
       "80771     TR  \n",
       "121808   TOR  \n",
       "115494    VT  "
      ]
     },
     "execution_count": 75,
     "metadata": {},
     "output_type": "execute_result"
    }
   ],
   "source": [
    "balanced_table.head(5)"
   ]
  },
  {
   "cell_type": "markdown",
   "id": "8c335f5b",
   "metadata": {},
   "source": [
    "# Pré-processing Data and créate Features"
   ]
  },
  {
   "cell_type": "code",
   "execution_count": 83,
   "id": "c42abffb",
   "metadata": {},
   "outputs": [],
   "source": [
    "path = \"data/Extracted/\"\n",
    "transfo = Transformer(path)\n",
    "table_transf=transfo.fit_transform(balanced_table)"
   ]
  },
  {
   "cell_type": "code",
   "execution_count": 84,
   "id": "d5ca542d",
   "metadata": {},
   "outputs": [],
   "source": [
    "table_transf.to_pickle(\"/home/d5learner-08/GDrive/Cas_D_Etude/Cas_Etude_Vulcano/association_table_transfo.pkl\")"
   ]
  },
  {
   "cell_type": "code",
   "execution_count": 85,
   "id": "831f791d",
   "metadata": {},
   "outputs": [
    {
     "data": {
      "text/html": [
       "<div>\n",
       "<style scoped>\n",
       "    .dataframe tbody tr th:only-of-type {\n",
       "        vertical-align: middle;\n",
       "    }\n",
       "\n",
       "    .dataframe tbody tr th {\n",
       "        vertical-align: top;\n",
       "    }\n",
       "\n",
       "    .dataframe thead th {\n",
       "        text-align: right;\n",
       "    }\n",
       "</style>\n",
       "<table border=\"1\" class=\"dataframe\">\n",
       "  <thead>\n",
       "    <tr style=\"text-align: right;\">\n",
       "      <th></th>\n",
       "      <th>Index</th>\n",
       "      <th>Event</th>\n",
       "      <th>Duration</th>\n",
       "      <th>Event start</th>\n",
       "      <th>Event stop</th>\n",
       "      <th>Sampling rate</th>\n",
       "      <th>Overlap</th>\n",
       "      <th>npts</th>\n",
       "      <th>energy</th>\n",
       "      <th>path</th>\n",
       "      <th>...</th>\n",
       "      <th>amplitude</th>\n",
       "      <th>kurtosis</th>\n",
       "      <th>skew</th>\n",
       "      <th>variance_TF</th>\n",
       "      <th>mean_TF</th>\n",
       "      <th>median_TF</th>\n",
       "      <th>maximum_TF</th>\n",
       "      <th>amplitude_TF</th>\n",
       "      <th>kurtosis_TF</th>\n",
       "      <th>skew_TF</th>\n",
       "    </tr>\n",
       "  </thead>\n",
       "  <tbody>\n",
       "    <tr>\n",
       "      <th>68058</th>\n",
       "      <td>68058</td>\n",
       "      <td>TR2</td>\n",
       "      <td>354</td>\n",
       "      <td>2007-04-23 03:16:13.990000+00:00</td>\n",
       "      <td>2007-04-23 03:22:07.990000+00:00</td>\n",
       "      <td>40.0</td>\n",
       "      <td>False</td>\n",
       "      <td>143999.0</td>\n",
       "      <td>0.72632</td>\n",
       "      <td>data/Extracted/TR/TR_68058.npy</td>\n",
       "      <td>...</td>\n",
       "      <td>2543.000000</td>\n",
       "      <td>2.390456</td>\n",
       "      <td>-0.119990</td>\n",
       "      <td>24.773052</td>\n",
       "      <td>1.981910</td>\n",
       "      <td>0.552380</td>\n",
       "      <td>456.369350</td>\n",
       "      <td>456.365152</td>\n",
       "      <td>4905.109534</td>\n",
       "      <td>54.545308</td>\n",
       "    </tr>\n",
       "    <tr>\n",
       "      <th>100084</th>\n",
       "      <td>100084</td>\n",
       "      <td>PIS</td>\n",
       "      <td>27</td>\n",
       "      <td>2008-02-17 06:17:15.150000+00:00</td>\n",
       "      <td>2008-02-17 06:17:42.150000+00:00</td>\n",
       "      <td>50.0</td>\n",
       "      <td>False</td>\n",
       "      <td>180001.0</td>\n",
       "      <td>0.39290</td>\n",
       "      <td>data/Extracted/PIS/PIS_100084.npy</td>\n",
       "      <td>...</td>\n",
       "      <td>976.000000</td>\n",
       "      <td>1.501916</td>\n",
       "      <td>-0.052582</td>\n",
       "      <td>36.803631</td>\n",
       "      <td>3.775980</td>\n",
       "      <td>1.660664</td>\n",
       "      <td>107.445926</td>\n",
       "      <td>107.443388</td>\n",
       "      <td>69.543058</td>\n",
       "      <td>5.704484</td>\n",
       "    </tr>\n",
       "    <tr>\n",
       "      <th>80771</th>\n",
       "      <td>80771</td>\n",
       "      <td>TR1</td>\n",
       "      <td>2701</td>\n",
       "      <td>2007-06-16 11:00:10.670000+00:00</td>\n",
       "      <td>2007-06-16 11:45:11.670000+00:00</td>\n",
       "      <td>100.0</td>\n",
       "      <td>False</td>\n",
       "      <td>360001.0</td>\n",
       "      <td>11.18200</td>\n",
       "      <td>data/Extracted/TR/TR_80771.npy</td>\n",
       "      <td>...</td>\n",
       "      <td>3429.000000</td>\n",
       "      <td>1.878277</td>\n",
       "      <td>-0.025397</td>\n",
       "      <td>0.555120</td>\n",
       "      <td>0.323081</td>\n",
       "      <td>0.133632</td>\n",
       "      <td>135.117475</td>\n",
       "      <td>135.117371</td>\n",
       "      <td>4000.806366</td>\n",
       "      <td>26.604645</td>\n",
       "    </tr>\n",
       "    <tr>\n",
       "      <th>121808</th>\n",
       "      <td>121808</td>\n",
       "      <td>TOR</td>\n",
       "      <td>27</td>\n",
       "      <td>2011-01-22 05:40:34.710000+00:00</td>\n",
       "      <td>2011-01-22 05:41:01.710000+00:00</td>\n",
       "      <td>100.0</td>\n",
       "      <td>False</td>\n",
       "      <td>360001.0</td>\n",
       "      <td>0.02427</td>\n",
       "      <td>data/Extracted/TOR/TOR_121808.npy</td>\n",
       "      <td>...</td>\n",
       "      <td>486.641968</td>\n",
       "      <td>5.103905</td>\n",
       "      <td>0.190435</td>\n",
       "      <td>2.253464</td>\n",
       "      <td>0.611769</td>\n",
       "      <td>0.005847</td>\n",
       "      <td>14.819391</td>\n",
       "      <td>14.818016</td>\n",
       "      <td>23.808191</td>\n",
       "      <td>4.330444</td>\n",
       "    </tr>\n",
       "    <tr>\n",
       "      <th>115494</th>\n",
       "      <td>115494</td>\n",
       "      <td>VT1</td>\n",
       "      <td>27</td>\n",
       "      <td>2009-12-02 02:50:06.150000+00:00</td>\n",
       "      <td>2009-12-02 02:50:33.150000+00:00</td>\n",
       "      <td>50.0</td>\n",
       "      <td>False</td>\n",
       "      <td>180001.0</td>\n",
       "      <td>69.37142</td>\n",
       "      <td>data/Extracted/VT/VT_115494.npy</td>\n",
       "      <td>...</td>\n",
       "      <td>32.000000</td>\n",
       "      <td>0.309994</td>\n",
       "      <td>-0.130074</td>\n",
       "      <td>10.383140</td>\n",
       "      <td>0.215640</td>\n",
       "      <td>0.077717</td>\n",
       "      <td>118.200000</td>\n",
       "      <td>118.198706</td>\n",
       "      <td>1328.395931</td>\n",
       "      <td>36.364759</td>\n",
       "    </tr>\n",
       "  </tbody>\n",
       "</table>\n",
       "<p>5 rows × 25 columns</p>\n",
       "</div>"
      ],
      "text/plain": [
       "         Index Event  Duration                       Event start  \\\n",
       "68058    68058   TR2       354  2007-04-23 03:16:13.990000+00:00   \n",
       "100084  100084   PIS        27  2008-02-17 06:17:15.150000+00:00   \n",
       "80771    80771   TR1      2701  2007-06-16 11:00:10.670000+00:00   \n",
       "121808  121808   TOR        27  2011-01-22 05:40:34.710000+00:00   \n",
       "115494  115494   VT1        27  2009-12-02 02:50:06.150000+00:00   \n",
       "\n",
       "                              Event stop  Sampling rate  Overlap      npts  \\\n",
       "68058   2007-04-23 03:22:07.990000+00:00           40.0    False  143999.0   \n",
       "100084  2008-02-17 06:17:42.150000+00:00           50.0    False  180001.0   \n",
       "80771   2007-06-16 11:45:11.670000+00:00          100.0    False  360001.0   \n",
       "121808  2011-01-22 05:41:01.710000+00:00          100.0    False  360001.0   \n",
       "115494  2009-12-02 02:50:33.150000+00:00           50.0    False  180001.0   \n",
       "\n",
       "          energy                               path  ...    amplitude  \\\n",
       "68058    0.72632     data/Extracted/TR/TR_68058.npy  ...  2543.000000   \n",
       "100084   0.39290  data/Extracted/PIS/PIS_100084.npy  ...   976.000000   \n",
       "80771   11.18200     data/Extracted/TR/TR_80771.npy  ...  3429.000000   \n",
       "121808   0.02427  data/Extracted/TOR/TOR_121808.npy  ...   486.641968   \n",
       "115494  69.37142    data/Extracted/VT/VT_115494.npy  ...    32.000000   \n",
       "\n",
       "        kurtosis      skew  variance_TF   mean_TF  median_TF  maximum_TF  \\\n",
       "68058   2.390456 -0.119990    24.773052  1.981910   0.552380  456.369350   \n",
       "100084  1.501916 -0.052582    36.803631  3.775980   1.660664  107.445926   \n",
       "80771   1.878277 -0.025397     0.555120  0.323081   0.133632  135.117475   \n",
       "121808  5.103905  0.190435     2.253464  0.611769   0.005847   14.819391   \n",
       "115494  0.309994 -0.130074    10.383140  0.215640   0.077717  118.200000   \n",
       "\n",
       "        amplitude_TF  kurtosis_TF    skew_TF  \n",
       "68058     456.365152  4905.109534  54.545308  \n",
       "100084    107.443388    69.543058   5.704484  \n",
       "80771     135.117371  4000.806366  26.604645  \n",
       "121808     14.818016    23.808191   4.330444  \n",
       "115494    118.198706  1328.395931  36.364759  \n",
       "\n",
       "[5 rows x 25 columns]"
      ]
     },
     "execution_count": 85,
     "metadata": {},
     "output_type": "execute_result"
    }
   ],
   "source": [
    "table_transf.head(5)"
   ]
  },
  {
   "cell_type": "markdown",
   "id": "c7ca44a0",
   "metadata": {},
   "source": [
    "# Test des features avec Random Forest"
   ]
  },
  {
   "cell_type": "code",
   "execution_count": 86,
   "id": "9d8e8131",
   "metadata": {},
   "outputs": [
    {
     "name": "stdout",
     "output_type": "stream",
     "text": [
      "0.6857142857142856\n",
      "{'n_estimators': 60}\n"
     ]
    },
    {
     "data": {
      "text/plain": [
       "RandomForestClassifier()"
      ]
     },
     "execution_count": 86,
     "metadata": {},
     "output_type": "execute_result"
    }
   ],
   "source": [
    "# gridsearch for the Random Forest classifier\n",
    "from sklearn.model_selection import train_test_split\n",
    "from sklearn.ensemble import RandomForestClassifier\n",
    "from sklearn.model_selection import GridSearchCV\n",
    "\n",
    "liste_X =[\"Duration\",\"energy\", \"mean\", \"median\", \"maximum\",  \"amplitude\", \"variance\", \"kurtosis\" ,\"skew\",\n",
    "         'variance_TF' ,'mean_TF' ,'median_TF' ,'maximum_TF','amplitude_TF','kurtosis_TF','skew_TF']\n",
    "\n",
    "y=table_transf.event.copy()\n",
    "X=table_transf[liste_X]\n",
    "\n",
    "X_train, X_test, y_train, y_test = train_test_split(X, y, random_state = 10)\n",
    "\n",
    "k_range = [60,80,100,150]\n",
    "param_grid =  {'n_estimators': k_range}\n",
    "\n",
    "RF_clf=RandomForestClassifier()\n",
    "\n",
    "grid_search = GridSearchCV(RF_clf, param_grid, cv=3, scoring='accuracy')\n",
    "grid_search.fit(X_train, y_train)\n",
    "\n",
    "print(grid_search.best_score_)\n",
    "print(grid_search.best_params_)\n",
    "\n",
    "RF_clf.fit(X_train, y_train)\n"
   ]
  },
  {
   "cell_type": "code",
   "execution_count": 87,
   "id": "588904eb",
   "metadata": {},
   "outputs": [
    {
     "data": {
      "text/plain": [
       "0.6457142857142857"
      ]
     },
     "execution_count": 87,
     "metadata": {},
     "output_type": "execute_result"
    }
   ],
   "source": [
    "# scorre \n",
    "RF_clf.score(X_test,y_test)"
   ]
  },
  {
   "cell_type": "code",
   "execution_count": 98,
   "id": "2a5b84a9",
   "metadata": {},
   "outputs": [
    {
     "data": {
      "text/plain": [
       "[(0.16388971478249703, 'energy'),\n",
       " (0.14541045878575237, 'Duration'),\n",
       " (0.07265331069813939, 'mean_TF'),\n",
       " (0.07005933434043325, 'variance_TF'),\n",
       " (0.0650424718199598, 'median_TF'),\n",
       " (0.05567995720803169, 'variance'),\n",
       " (0.050734616692955224, 'mean'),\n",
       " (0.04994764242728854, 'kurtosis_TF'),\n",
       " (0.04713141287868927, 'maximum_TF'),\n",
       " (0.04493241493429685, 'amplitude_TF'),\n",
       " (0.04413523269041178, 'amplitude'),\n",
       " (0.04325327140414188, 'median'),\n",
       " (0.04258347814758629, 'maximum'),\n",
       " (0.03641986735369376, 'kurtosis'),\n",
       " (0.03624274934667814, 'skew_TF'),\n",
       " (0.031884066489444814, 'skew')]"
      ]
     },
     "execution_count": 98,
     "metadata": {},
     "output_type": "execute_result"
    }
   ],
   "source": [
    "# Random forest - feature_importances\n",
    "liste_feature_importances=[a for a in zip(RF_clf.feature_importances_,liste_X)]\n",
    "liste_feature_importances.sort(key = lambda x: x[0],reverse=True)\n",
    "liste_feature_importances"
   ]
  },
  {
   "cell_type": "code",
   "execution_count": 101,
   "id": "e508c7e3",
   "metadata": {},
   "outputs": [],
   "source": [
    "liste_features_selected=['energy', 'Duration', 'mean_TF', 'variance_TF', 'median_TF','variance', 'mean','kurtosis_TF']"
   ]
  },
  {
   "cell_type": "code",
   "execution_count": 104,
   "id": "1d651318",
   "metadata": {},
   "outputs": [
    {
     "name": "stdout",
     "output_type": "stream",
     "text": [
      "0.6857142857142856\n",
      "{'max_depth': 15, 'n_estimators': 50}\n"
     ]
    },
    {
     "data": {
      "text/plain": [
       "RandomForestClassifier()"
      ]
     },
     "execution_count": 104,
     "metadata": {},
     "output_type": "execute_result"
    }
   ],
   "source": [
    "# gridsearch for the Random Forest classifier\n",
    "\n",
    "y=table_transf.event.copy()\n",
    "X=table_transf[liste_features_selected]\n",
    "\n",
    "X_train, X_test, y_train, y_test = train_test_split(X, y, random_state = 10)\n",
    "\n",
    "k_range = [30,50,100,150]\n",
    "d_range=[5,10,15]\n",
    "param_grid =  {'n_estimators': k_range, 'max_depth': d_range}\n",
    "\n",
    "RF_clf=RandomForestClassifier()\n",
    "\n",
    "grid_search = GridSearchCV(RF_clf, param_grid, cv=3, scoring='accuracy')\n",
    "grid_search.fit(X_train, y_train)\n",
    "\n",
    "print(grid_search.best_score_)\n",
    "print(grid_search.best_params_)\n",
    "\n",
    "RF_clf.fit(X_train, y_train)\n"
   ]
  },
  {
   "cell_type": "code",
   "execution_count": 105,
   "id": "a95dbb84",
   "metadata": {},
   "outputs": [
    {
     "data": {
      "text/plain": [
       "[(0.21479120999968493, 'energy'),\n",
       " (0.16474379264157082, 'Duration'),\n",
       " (0.11732446442694928, 'variance_TF'),\n",
       " (0.10774811188938604, 'median_TF'),\n",
       " (0.10713113198443003, 'variance'),\n",
       " (0.10249596613616661, 'mean_TF'),\n",
       " (0.09801465593267356, 'mean'),\n",
       " (0.08775066698913882, 'kurtosis_TF')]"
      ]
     },
     "execution_count": 105,
     "metadata": {},
     "output_type": "execute_result"
    }
   ],
   "source": [
    "liste_feature_importances=[a for a in zip(RF_clf.feature_importances_,liste_features_selected)]\n",
    "liste_feature_importances.sort(key = lambda x: x[0],reverse=True)\n",
    "liste_feature_importances"
   ]
  },
  {
   "cell_type": "markdown",
   "id": "79b4515c",
   "metadata": {},
   "source": [
    "# kurtosis, skew"
   ]
  },
  {
   "cell_type": "markdown",
   "id": "18fe6b38",
   "metadata": {},
   "source": [
    "import numpy as np\n",
    "from scipy.stats import kurtosis\n",
    "from scipy.stats import skew\n",
    "from transformer import Transformer\n",
    "\n",
    "path = \"data/Extracted/\"\n",
    "\n",
    "transfo = Transformer(path)\n",
    "y=transfo.open_file(balanced_table,74458)\n",
    "\n",
    "\n",
    "print( 'excess kurtosis of normal distribution (should be 0): {}'.format( kurtosis(y) ))\n",
    "print( 'skewness of normal distribution (should be 0): {}'.format( skew(y) ))\n"
   ]
  },
  {
   "cell_type": "markdown",
   "id": "26dc0336",
   "metadata": {},
   "source": [
    "%store df"
   ]
  },
  {
   "cell_type": "markdown",
   "id": "2d449281",
   "metadata": {},
   "source": [
    "%store -r df"
   ]
  },
  {
   "cell_type": "code",
   "execution_count": 70,
   "id": "ac658342",
   "metadata": {},
   "outputs": [
    {
     "data": {
      "image/png": "[encoded data removed]",
      "text/plain": [
       "<Figure size 720x288 with 1 Axes>"
      ]
     },
     "metadata": {
      "needs_background": "light"
     },
     "output_type": "display_data"
    }
   ],
   "source": [
    "import math\n",
    "import numpy as np\n",
    "from matplotlib.pyplot import *\n",
    "from numpy.fft import fft \n",
    "from scipy import fftpack\n",
    "\n",
    "T = table_transf.loc[74458,'Duration'] # Durée échantillonnage\n",
    "fe = table_transf.loc[74458,'Sampling rate']  # Freq échantionnage\n",
    "echantillons = np.load(table_transf.loc[74458,'path'])\n",
    "\n",
    "tfd = fft(echantillons)\n",
    "N=len(echantillons)\n",
    "spectre = np.absolute(tfd)*2/N\n",
    "            \n",
    "\n",
    "#L'échelle des fréquences est construite sachant que l'espacement fréquentiel de deux points de la TFD est l'inverse de la durée T :\n",
    "freq=np.arange(N)*1.0/T\n",
    "           \n",
    "#On trace le spectre pour des fréquences allant de zéro à la moitié de la fréquence d'échantillonnage :\n",
    "\n",
    "figure(figsize=(10,4))\n",
    "plot(freq,spectre,'r')\n",
    "xlabel('f')\n",
    "ylabel('A')\n",
    "axis([-0.1,fe/2,0,spectre.max()])\n",
    "grid()\n",
    "\n",
    "\n",
    "X = fftpack.fft(echantillons)   \n",
    "\n"
   ]
  },
  {
   "cell_type": "code",
   "execution_count": null,
   "id": "7386cc4a",
   "metadata": {},
   "outputs": [],
   "source": []
  }
 ],
 "metadata": {
  "kernelspec": {
   "display_name": "Python 3",
   "language": "python",
   "name": "python3"
  },
  "language_info": {
   "codemirror_mode": {
    "name": "ipython",
    "version": 3
   },
   "file_extension": ".py",
   "mimetype": "text/x-python",
   "name": "python",
   "nbconvert_exporter": "python",
   "pygments_lexer": "ipython3",
   "version": "3.8.5"
  },
  "toc": {
   "base_numbering": 1,
   "nav_menu": {},
   "number_sections": true,
   "sideBar": true,
   "skip_h1_title": false,
   "title_cell": "Table of Contents",
   "title_sidebar": "Contents",
   "toc_cell": false,
   "toc_position": {},
   "toc_section_display": true,
   "toc_window_display": false
  }
 },
 "nbformat": 4,
 "nbformat_minor": 5
}
