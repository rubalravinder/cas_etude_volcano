{
 "cells": [
  {
   "cell_type": "code",
   "execution_count": 9,
   "metadata": {},
   "outputs": [],
   "source": [
    "import numpy as np\n",
    "import pandas as pd\n",
    "import matplotlib.pyplot as plt\n",
    "from scipy import signal\n",
    "import tensorflow as tf\n",
    "import glob\n",
    "from scipy import interpolate\n",
    "from collections import Counter"
   ]
  },
  {
   "cell_type": "code",
   "execution_count": 10,
   "metadata": {},
   "outputs": [],
   "source": [
    "types_vocab = [\"EXP\", \"HIB\", \"LP\", \"PIS\", \"TOR\", \"TR\", \"VT\"]"
   ]
  },
  {
   "cell_type": "code",
   "execution_count": 11,
   "metadata": {},
   "outputs": [],
   "source": [
    "\n",
    "table = pd.read_excel(\"data/association_table_corrected_index.xlsx\")"
   ]
  },
  {
   "cell_type": "code",
   "execution_count": 12,
   "metadata": {},
   "outputs": [
    {
     "data": {
      "text/html": [
       "<div>\n",
       "<style scoped>\n",
       "    .dataframe tbody tr th:only-of-type {\n",
       "        vertical-align: middle;\n",
       "    }\n",
       "\n",
       "    .dataframe tbody tr th {\n",
       "        vertical-align: top;\n",
       "    }\n",
       "\n",
       "    .dataframe thead th {\n",
       "        text-align: right;\n",
       "    }\n",
       "</style>\n",
       "<table border=\"1\" class=\"dataframe\">\n",
       "  <thead>\n",
       "    <tr style=\"text-align: right;\">\n",
       "      <th></th>\n",
       "      <th>Index</th>\n",
       "      <th>Event</th>\n",
       "      <th>Duration</th>\n",
       "      <th>Event start</th>\n",
       "      <th>Event stop</th>\n",
       "      <th>File name</th>\n",
       "      <th>File start</th>\n",
       "      <th>File end</th>\n",
       "      <th>Sampling rate</th>\n",
       "      <th>Overlap</th>\n",
       "      <th>Unnamed: 10</th>\n",
       "      <th>Unnamed: 11</th>\n",
       "      <th>Unnamed: 12</th>\n",
       "      <th>npts</th>\n",
       "      <th>energy</th>\n",
       "      <th>path</th>\n",
       "    </tr>\n",
       "  </thead>\n",
       "  <tbody>\n",
       "    <tr>\n",
       "      <th>0</th>\n",
       "      <td>0</td>\n",
       "      <td>LP1</td>\n",
       "      <td>33</td>\n",
       "      <td>2006-05-23 20:39:27.060000+00:00</td>\n",
       "      <td>2006-05-23 20:40:00.060000+00:00</td>\n",
       "      <td>20060523_2033.UB1.SL.Z.sac</td>\n",
       "      <td>2006-05-23 20:33:05.895000+00:00</td>\n",
       "      <td>2006-05-23 20:43:05.885000+00:00</td>\n",
       "      <td>100.0</td>\n",
       "      <td>False</td>\n",
       "      <td>NaN</td>\n",
       "      <td>NaN</td>\n",
       "      <td>NaN</td>\n",
       "      <td>60000.0</td>\n",
       "      <td>0.24403</td>\n",
       "      <td>C:/Users/EC265595/Documents/Data/Ubinas_2006_2...</td>\n",
       "    </tr>\n",
       "    <tr>\n",
       "      <th>1</th>\n",
       "      <td>1</td>\n",
       "      <td>LP1</td>\n",
       "      <td>45</td>\n",
       "      <td>2006-05-23 20:39:59.960000+00:00</td>\n",
       "      <td>2006-05-23 20:40:44.960000+00:00</td>\n",
       "      <td>20060523_2033.UB1.SL.Z.sac</td>\n",
       "      <td>2006-05-23 20:33:05.895000+00:00</td>\n",
       "      <td>2006-05-23 20:43:05.885000+00:00</td>\n",
       "      <td>100.0</td>\n",
       "      <td>False</td>\n",
       "      <td>NaN</td>\n",
       "      <td>NaN</td>\n",
       "      <td>NaN</td>\n",
       "      <td>60000.0</td>\n",
       "      <td>0.11833</td>\n",
       "      <td>C:/Users/EC265595/Documents/Data/Ubinas_2006_2...</td>\n",
       "    </tr>\n",
       "    <tr>\n",
       "      <th>2</th>\n",
       "      <td>2</td>\n",
       "      <td>TR2</td>\n",
       "      <td>128</td>\n",
       "      <td>2006-05-23 22:37:52.910000+00:00</td>\n",
       "      <td>2006-05-23 22:40:00.910000+00:00</td>\n",
       "      <td>20060523_2235.UB1.SL.Z.sac</td>\n",
       "      <td>2006-05-23 22:35:19.895000+00:00</td>\n",
       "      <td>2006-05-23 23:05:19.875000+00:00</td>\n",
       "      <td>50.0</td>\n",
       "      <td>False</td>\n",
       "      <td>NaN</td>\n",
       "      <td>NaN</td>\n",
       "      <td>NaN</td>\n",
       "      <td>90000.0</td>\n",
       "      <td>0.79052</td>\n",
       "      <td>C:/Users/EC265595/Documents/Data/Ubinas_2006_2...</td>\n",
       "    </tr>\n",
       "    <tr>\n",
       "      <th>3</th>\n",
       "      <td>3</td>\n",
       "      <td>LP1</td>\n",
       "      <td>32</td>\n",
       "      <td>2006-05-23 22:44:09.410000+00:00</td>\n",
       "      <td>2006-05-23 22:44:41.410000+00:00</td>\n",
       "      <td>20060523_2235.UB1.SL.Z.sac</td>\n",
       "      <td>2006-05-23 22:35:19.895000+00:00</td>\n",
       "      <td>2006-05-23 23:05:19.875000+00:00</td>\n",
       "      <td>50.0</td>\n",
       "      <td>False</td>\n",
       "      <td>NaN</td>\n",
       "      <td>NaN</td>\n",
       "      <td>NaN</td>\n",
       "      <td>90000.0</td>\n",
       "      <td>1.15570</td>\n",
       "      <td>C:/Users/EC265595/Documents/Data/Ubinas_2006_2...</td>\n",
       "    </tr>\n",
       "    <tr>\n",
       "      <th>4</th>\n",
       "      <td>4</td>\n",
       "      <td>TR2</td>\n",
       "      <td>78</td>\n",
       "      <td>2006-05-23 22:46:58.440000+00:00</td>\n",
       "      <td>2006-05-23 22:48:16.440000+00:00</td>\n",
       "      <td>20060523_2245.UB1.SL.Z.sac</td>\n",
       "      <td>2006-05-23 22:45:19.895000+00:00</td>\n",
       "      <td>2006-05-23 22:55:19.885000+00:00</td>\n",
       "      <td>100.0</td>\n",
       "      <td>False</td>\n",
       "      <td>NaN</td>\n",
       "      <td>NaN</td>\n",
       "      <td>NaN</td>\n",
       "      <td>60000.0</td>\n",
       "      <td>0.23330</td>\n",
       "      <td>C:/Users/EC265595/Documents/Data/Ubinas_2006_2...</td>\n",
       "    </tr>\n",
       "  </tbody>\n",
       "</table>\n",
       "</div>"
      ],
      "text/plain": [
       "   Index Event  Duration                       Event start  \\\n",
       "0      0   LP1        33  2006-05-23 20:39:27.060000+00:00   \n",
       "1      1   LP1        45  2006-05-23 20:39:59.960000+00:00   \n",
       "2      2   TR2       128  2006-05-23 22:37:52.910000+00:00   \n",
       "3      3   LP1        32  2006-05-23 22:44:09.410000+00:00   \n",
       "4      4   TR2        78  2006-05-23 22:46:58.440000+00:00   \n",
       "\n",
       "                         Event stop                   File name  \\\n",
       "0  2006-05-23 20:40:00.060000+00:00  20060523_2033.UB1.SL.Z.sac   \n",
       "1  2006-05-23 20:40:44.960000+00:00  20060523_2033.UB1.SL.Z.sac   \n",
       "2  2006-05-23 22:40:00.910000+00:00  20060523_2235.UB1.SL.Z.sac   \n",
       "3  2006-05-23 22:44:41.410000+00:00  20060523_2235.UB1.SL.Z.sac   \n",
       "4  2006-05-23 22:48:16.440000+00:00  20060523_2245.UB1.SL.Z.sac   \n",
       "\n",
       "                         File start                          File end  \\\n",
       "0  2006-05-23 20:33:05.895000+00:00  2006-05-23 20:43:05.885000+00:00   \n",
       "1  2006-05-23 20:33:05.895000+00:00  2006-05-23 20:43:05.885000+00:00   \n",
       "2  2006-05-23 22:35:19.895000+00:00  2006-05-23 23:05:19.875000+00:00   \n",
       "3  2006-05-23 22:35:19.895000+00:00  2006-05-23 23:05:19.875000+00:00   \n",
       "4  2006-05-23 22:45:19.895000+00:00  2006-05-23 22:55:19.885000+00:00   \n",
       "\n",
       "   Sampling rate  Overlap  Unnamed: 10  Unnamed: 11  Unnamed: 12     npts  \\\n",
       "0          100.0    False          NaN          NaN          NaN  60000.0   \n",
       "1          100.0    False          NaN          NaN          NaN  60000.0   \n",
       "2           50.0    False          NaN          NaN          NaN  90000.0   \n",
       "3           50.0    False          NaN          NaN          NaN  90000.0   \n",
       "4          100.0    False          NaN          NaN          NaN  60000.0   \n",
       "\n",
       "    energy                                               path  \n",
       "0  0.24403  C:/Users/EC265595/Documents/Data/Ubinas_2006_2...  \n",
       "1  0.11833  C:/Users/EC265595/Documents/Data/Ubinas_2006_2...  \n",
       "2  0.79052  C:/Users/EC265595/Documents/Data/Ubinas_2006_2...  \n",
       "3  1.15570  C:/Users/EC265595/Documents/Data/Ubinas_2006_2...  \n",
       "4  0.23330  C:/Users/EC265595/Documents/Data/Ubinas_2006_2...  "
      ]
     },
     "execution_count": 12,
     "metadata": {},
     "output_type": "execute_result"
    }
   ],
   "source": [
    "table.head()"
   ]
  },
  {
   "cell_type": "code",
   "execution_count": 69,
   "metadata": {},
   "outputs": [
    {
     "data": {
      "text/plain": [
       "<bound method Series.unique of 82120     LP1\n",
       "22465     LP1\n",
       "73151     TR2\n",
       "13521     LP1\n",
       "12153     LPP\n",
       "         ... \n",
       "107618    LP1\n",
       "122724    LP1\n",
       "78992     LP1\n",
       "58462     LP1\n",
       "97802     LP1\n",
       "Name: Event, Length: 124874, dtype: object>"
      ]
     },
     "execution_count": 69,
     "metadata": {},
     "output_type": "execute_result"
    }
   ],
   "source": [
    "table.Event.unique"
   ]
  },
  {
   "cell_type": "code",
   "execution_count": 65,
   "metadata": {},
   "outputs": [
    {
     "data": {
      "text/html": [
       "<div>\n",
       "<style scoped>\n",
       "    .dataframe tbody tr th:only-of-type {\n",
       "        vertical-align: middle;\n",
       "    }\n",
       "\n",
       "    .dataframe tbody tr th {\n",
       "        vertical-align: top;\n",
       "    }\n",
       "\n",
       "    .dataframe thead th {\n",
       "        text-align: right;\n",
       "    }\n",
       "</style>\n",
       "<table border=\"1\" class=\"dataframe\">\n",
       "  <thead>\n",
       "    <tr style=\"text-align: right;\">\n",
       "      <th></th>\n",
       "      <th>Index</th>\n",
       "      <th>Event</th>\n",
       "      <th>Duration</th>\n",
       "      <th>Event start</th>\n",
       "      <th>Event stop</th>\n",
       "      <th>File name</th>\n",
       "      <th>File start</th>\n",
       "      <th>File end</th>\n",
       "      <th>Sampling rate</th>\n",
       "      <th>Overlap</th>\n",
       "      <th>Unnamed: 10</th>\n",
       "      <th>Unnamed: 11</th>\n",
       "      <th>Unnamed: 12</th>\n",
       "      <th>npts</th>\n",
       "      <th>energy</th>\n",
       "      <th>path</th>\n",
       "    </tr>\n",
       "  </thead>\n",
       "  <tbody>\n",
       "    <tr>\n",
       "      <th>35157</th>\n",
       "      <td>35157</td>\n",
       "      <td>HIB</td>\n",
       "      <td>41</td>\n",
       "      <td>2006-11-10 01:13:27.880000+00:00</td>\n",
       "      <td>2006-11-10 01:14:08.880000+00:00</td>\n",
       "      <td>20061110_0108.UB1.SL.Z.sac</td>\n",
       "      <td>2006-11-10 01:00:00.019000+00:00</td>\n",
       "      <td>2006-11-10 01:59:59.969000+00:00</td>\n",
       "      <td>40.0</td>\n",
       "      <td>False</td>\n",
       "      <td>NaN</td>\n",
       "      <td>NaN</td>\n",
       "      <td>NaN</td>\n",
       "      <td>143999.0</td>\n",
       "      <td>0.08742</td>\n",
       "      <td>C:/Users/EC265595/Documents/Data/Ubinas_2006_2...</td>\n",
       "    </tr>\n",
       "  </tbody>\n",
       "</table>\n",
       "</div>"
      ],
      "text/plain": [
       "       Index Event  Duration                       Event start  \\\n",
       "35157  35157   HIB        41  2006-11-10 01:13:27.880000+00:00   \n",
       "\n",
       "                             Event stop                   File name  \\\n",
       "35157  2006-11-10 01:14:08.880000+00:00  20061110_0108.UB1.SL.Z.sac   \n",
       "\n",
       "                             File start                          File end  \\\n",
       "35157  2006-11-10 01:00:00.019000+00:00  2006-11-10 01:59:59.969000+00:00   \n",
       "\n",
       "       Sampling rate  Overlap  Unnamed: 10  Unnamed: 11  Unnamed: 12  \\\n",
       "35157           40.0    False          NaN          NaN          NaN   \n",
       "\n",
       "           npts   energy                                               path  \n",
       "35157  143999.0  0.08742  C:/Users/EC265595/Documents/Data/Ubinas_2006_2...  "
      ]
     },
     "execution_count": 65,
     "metadata": {},
     "output_type": "execute_result"
    }
   ],
   "source": [
    "table[table.Index == 35157]"
   ]
  },
  {
   "cell_type": "code",
   "execution_count": 63,
   "metadata": {},
   "outputs": [],
   "source": [
    "ts = np.load(\"data/Extracted/HIB/HIB_35157.npy\")"
   ]
  },
  {
   "cell_type": "code",
   "execution_count": 64,
   "metadata": {},
   "outputs": [
    {
     "data": {
      "text/plain": [
       "[<matplotlib.lines.Line2D at 0x7f4fba7ce8b0>]"
      ]
     },
     "execution_count": 64,
     "metadata": {},
     "output_type": "execute_result"
    },
    {
     "data": {
      "image/png": "[encoded data removed]",
      "text/plain": [
       "<Figure size 432x288 with 1 Axes>"
      ]
     },
     "metadata": {
      "needs_background": "light"
     },
     "output_type": "display_data"
    }
   ],
   "source": [
    "plt.plot(ts)"
   ]
  },
  {
   "cell_type": "code",
   "execution_count": 66,
   "metadata": {},
   "outputs": [],
   "source": [
    "f,t,S = signal.spectrogram(ts,40)"
   ]
  },
  {
   "cell_type": "code",
   "execution_count": 67,
   "metadata": {},
   "outputs": [
    {
     "name": "stderr",
     "output_type": "stream",
     "text": [
      "<ipython-input-67-a402d51ced0b>:1: MatplotlibDeprecationWarning: shading='flat' when X and Y have the same dimensions as C is deprecated since 3.3.  Either specify the corners of the quadrilaterals with X and Y, or pass shading='auto', 'nearest' or 'gouraud', or set rcParams['pcolor.shading'].  This will become an error two minor releases later.\n",
      "  plt.pcolormesh(t,f,S)\n"
     ]
    },
    {
     "data": {
      "text/plain": [
       "<matplotlib.collections.QuadMesh at 0x7f4fba2b3580>"
      ]
     },
     "execution_count": 67,
     "metadata": {},
     "output_type": "execute_result"
    },
    {
     "data": {
      "image/png": "[encoded data removed]",
      "text/plain": [
       "<Figure size 432x288 with 1 Axes>"
      ]
     },
     "metadata": {
      "needs_background": "light"
     },
     "output_type": "display_data"
    }
   ],
   "source": [
    "plt.pcolormesh(t,f,S)"
   ]
  },
  {
   "cell_type": "code",
   "execution_count": 68,
   "metadata": {},
   "outputs": [],
   "source": [
    "func = interpolate.RectBivariateSpline(f,t,S)"
   ]
  },
  {
   "cell_type": "code",
   "execution_count": null,
   "metadata": {},
   "outputs": [],
   "source": []
  },
  {
   "cell_type": "code",
   "execution_count": 3,
   "metadata": {},
   "outputs": [],
   "source": [
    "text_path = 'NE PAS OUVRIR/Extracted/EXP/*'\n",
    "\n",
    "text_files = glob.glob(text_path)"
   ]
  },
  {
   "cell_type": "code",
   "execution_count": 20,
   "metadata": {},
   "outputs": [],
   "source": [
    "def load_file(filename):\n",
    "    tf.py_function(np.load, inp=filename, Tout=[tf.float32])"
   ]
  },
  {
   "cell_type": "code",
   "execution_count": null,
   "metadata": {},
   "outputs": [],
   "source": [
    "dataset = tf.data.Dataset.from_tensor_slices(text_files)\n",
    "dataset = dataset.map(map_func=load_file, num_parallel_calls=tf.data.AUTOTUNE)"
   ]
  },
  {
   "cell_type": "code",
   "execution_count": 7,
   "metadata": {},
   "outputs": [
    {
     "data": {
      "text/plain": [
       "<TensorSliceDataset shapes: (), types: tf.string>"
      ]
     },
     "execution_count": 7,
     "metadata": {},
     "output_type": "execute_result"
    }
   ],
   "source": [
    "dataset"
   ]
  },
  {
   "cell_type": "markdown",
   "metadata": {},
   "source": [
    "## Make dict"
   ]
  },
  {
   "cell_type": "code",
   "execution_count": 13,
   "metadata": {},
   "outputs": [],
   "source": [
    "t_itp = np.linspace(0, 120, 25)"
   ]
  },
  {
   "cell_type": "code",
   "execution_count": 14,
   "metadata": {},
   "outputs": [],
   "source": [
    "f_itp = np.linspace(0, 10 ,25)"
   ]
  },
  {
   "cell_type": "code",
   "execution_count": 15,
   "metadata": {},
   "outputs": [],
   "source": [
    "dict_interps = dict()\n",
    "counter = Counter()\n",
    "list_interps = []\n",
    "list_types = []"
   ]
  },
  {
   "cell_type": "code",
   "execution_count": 16,
   "metadata": {},
   "outputs": [],
   "source": [
    "# shuffle the dataframe\n",
    "table = table.sample(frac=1)"
   ]
  },
  {
   "cell_type": "code",
   "execution_count": 17,
   "metadata": {},
   "outputs": [],
   "source": [
    "for index, row in table.iterrows():\n",
    "    event = row[\"Event\"]\n",
    "    event_type = event if event in types_vocab else event[:-1]\n",
    "    if counter[event_type] >= 30:\n",
    "        continue\n",
    "    name = event_type + \"_\" + str(row[\"Index\"])\n",
    "    filename = name + \".npy\"\n",
    "    try:\n",
    "        ts = np.load(f\"data/Extracted/{event_type}/{filename}\")\n",
    "        f,t,S = signal.spectrogram(ts,row[\"Sampling rate\"])\n",
    "        func = interpolate.RectBivariateSpline(f,t,S)\n",
    "    except:\n",
    "        continue\n",
    "    S_int = func(f_itp, t_itp)\n",
    "    # dict_interps[name] = S_int\n",
    "    list_interps.append(S_int)\n",
    "    list_types.append(event_type)\n",
    "    counter[event_type] += 1"
   ]
  },
  {
   "cell_type": "code",
   "execution_count": 20,
   "metadata": {},
   "outputs": [
    {
     "data": {
      "text/plain": [
       "210"
      ]
     },
     "execution_count": 20,
     "metadata": {},
     "output_type": "execute_result"
    }
   ],
   "source": [
    "len(list_interps)"
   ]
  },
  {
   "cell_type": "code",
   "execution_count": 21,
   "metadata": {},
   "outputs": [
    {
     "data": {
      "text/plain": [
       "Counter({'TR': 30,\n",
       "         'LP': 30,\n",
       "         'PIS': 30,\n",
       "         'EXP': 30,\n",
       "         'VT': 30,\n",
       "         'TOR': 30,\n",
       "         'HIB': 30})"
      ]
     },
     "execution_count": 21,
     "metadata": {},
     "output_type": "execute_result"
    }
   ],
   "source": [
    "Counter(list_types)"
   ]
  },
  {
   "cell_type": "code",
   "execution_count": null,
   "metadata": {},
   "outputs": [],
   "source": [
    "\n",
    "# np.savez(\"./dataset_spectro\", **dict_interps)"
   ]
  },
  {
   "cell_type": "markdown",
   "metadata": {},
   "source": [
    "## Datasets"
   ]
  },
  {
   "cell_type": "code",
   "execution_count": 35,
   "metadata": {},
   "outputs": [],
   "source": [
    "from sklearn.preprocessing import LabelEncoder"
   ]
  },
  {
   "cell_type": "code",
   "execution_count": 38,
   "metadata": {},
   "outputs": [],
   "source": [
    "le = LabelEncoder()\n",
    "list_types = le.fit_transform(list_types)"
   ]
  },
  {
   "cell_type": "code",
   "execution_count": 39,
   "metadata": {},
   "outputs": [
    {
     "data": {
      "text/plain": [
       "<TensorSliceDataset shapes: ((25, 25), ()), types: (tf.float64, tf.int64)>"
      ]
     },
     "execution_count": 39,
     "metadata": {},
     "output_type": "execute_result"
    }
   ],
   "source": [
    "dataset = tf.data.Dataset.from_tensor_slices((list_interps, list_types))\n",
    "dataset"
   ]
  },
  {
   "cell_type": "code",
   "execution_count": 40,
   "metadata": {},
   "outputs": [],
   "source": [
    "dataset = tf.data.Dataset.from_tensor_slices((list_interps, list_types))\n",
    "dataset = dataset.shuffle(30)\n",
    "test_dataset = dataset.take(10) \n",
    "train_dataset = dataset.skip(10)\n",
    "test_dataset = test_dataset.batch(1)\n",
    "train_dataset = train_dataset.batch(1)\n",
    "# train_dataset = tf.data.Dataset.from_tensor_slices((list_interps[:20], list_types[:20]))\n",
    "# test_dataset = tf.data.Dataset.from_tensor_slices((list_interps[20:], list_types[20:]))"
   ]
  },
  {
   "cell_type": "code",
   "execution_count": 41,
   "metadata": {},
   "outputs": [
    {
     "data": {
      "text/plain": [
       "<BatchDataset shapes: ((None, 25, 25), (None,)), types: (tf.float64, tf.int64)>"
      ]
     },
     "execution_count": 41,
     "metadata": {},
     "output_type": "execute_result"
    }
   ],
   "source": [
    "test_dataset"
   ]
  },
  {
   "cell_type": "code",
   "execution_count": 42,
   "metadata": {},
   "outputs": [
    {
     "name": "stderr",
     "output_type": "stream",
     "text": [
      "/tmp/ipykernel_39901/1221987843.py:1: MatplotlibDeprecationWarning: shading='flat' when X and Y have the same dimensions as C is deprecated since 3.3.  Either specify the corners of the quadrilaterals with X and Y, or pass shading='auto', 'nearest' or 'gouraud', or set rcParams['pcolor.shading'].  This will become an error two minor releases later.\n",
      "  plt.pcolormesh(t_itp,f_itp,list_interps[8])\n"
     ]
    },
    {
     "data": {
      "text/plain": [
       "<matplotlib.collections.QuadMesh at 0x7fcc2c735fd0>"
      ]
     },
     "execution_count": 42,
     "metadata": {},
     "output_type": "execute_result"
    },
    {
     "data": {
      "image/png": "[encoded data removed]",
      "text/plain": [
       "<Figure size 432x288 with 1 Axes>"
      ]
     },
     "metadata": {
      "needs_background": "light"
     },
     "output_type": "display_data"
    }
   ],
   "source": [
    "plt.pcolormesh(t_itp,f_itp,list_interps[8])"
   ]
  },
  {
   "cell_type": "code",
   "execution_count": 43,
   "metadata": {},
   "outputs": [],
   "source": [
    "from tensorflow.keras import datasets, layers, models"
   ]
  },
  {
   "cell_type": "code",
   "execution_count": 44,
   "metadata": {},
   "outputs": [
    {
     "name": "stdout",
     "output_type": "stream",
     "text": [
      "Model: \"sequential_1\"\n",
      "_________________________________________________________________\n",
      "Layer (type)                 Output Shape              Param #   \n",
      "=================================================================\n",
      "reshape_1 (Reshape)          (None, 25, 25, 1)         0         \n",
      "_________________________________________________________________\n",
      "conv2d_3 (Conv2D)            (None, 23, 23, 16)        160       \n",
      "_________________________________________________________________\n",
      "max_pooling2d_2 (MaxPooling2 (None, 11, 11, 16)        0         \n",
      "_________________________________________________________________\n",
      "conv2d_4 (Conv2D)            (None, 9, 9, 32)          4640      \n",
      "_________________________________________________________________\n",
      "max_pooling2d_3 (MaxPooling2 (None, 4, 4, 32)          0         \n",
      "_________________________________________________________________\n",
      "conv2d_5 (Conv2D)            (None, 2, 2, 16)          4624      \n",
      "_________________________________________________________________\n",
      "flatten_1 (Flatten)          (None, 64)                0         \n",
      "_________________________________________________________________\n",
      "dense_2 (Dense)              (None, 16)                1040      \n",
      "_________________________________________________________________\n",
      "dense_3 (Dense)              (None, 7)                 119       \n",
      "=================================================================\n",
      "Total params: 10,583\n",
      "Trainable params: 10,583\n",
      "Non-trainable params: 0\n",
      "_________________________________________________________________\n"
     ]
    }
   ],
   "source": [
    "model = models.Sequential()\n",
    "model.add(layers.Reshape((25,25,1), input_shape=(25,25)))\n",
    "model.add(layers.Conv2D(16, (3,3), activation = \"relu\", input_shape = (25,25,1)))\n",
    "model.add(layers.MaxPooling2D((2,2)))\n",
    "model.add(layers.Conv2D(32, (3,3), activation = \"relu\"))\n",
    "model.add(layers.MaxPooling2D((2,2)))\n",
    "model.add(layers.Conv2D(16, (3,3), activation = \"relu\"))\n",
    "model.add(layers.Flatten())\n",
    "model.add(layers.Dense(16, activation=\"relu\"))\n",
    "model.add(layers.Dense(7))\n",
    "\n",
    "model.summary()"
   ]
  },
  {
   "cell_type": "code",
   "execution_count": 45,
   "metadata": {},
   "outputs": [],
   "source": [
    "model.compile(optimizer='adam',\n",
    "              loss=tf.keras.losses.SparseCategoricalCrossentropy(from_logits=True),\n",
    "              metrics=['accuracy'])\n"
   ]
  },
  {
   "cell_type": "code",
   "execution_count": 46,
   "metadata": {},
   "outputs": [
    {
     "name": "stdout",
     "output_type": "stream",
     "text": [
      "Epoch 1/10\n"
     ]
    },
    {
     "name": "stderr",
     "output_type": "stream",
     "text": [
      "2021-11-16 16:10:47.167533: I tensorflow/stream_executor/cuda/cuda_dnn.cc:369] Loaded cuDNN version 8201\n",
      "2021-11-16 16:10:48.085922: I tensorflow/core/platform/default/subprocess.cc:304] Start cannot spawn child process: No such file or directory\n",
      "2021-11-16 16:10:48.087912: I tensorflow/core/platform/default/subprocess.cc:304] Start cannot spawn child process: No such file or directory\n",
      "2021-11-16 16:10:48.087943: W tensorflow/stream_executor/gpu/asm_compiler.cc:77] Couldn't get ptxas version string: Internal: Couldn't invoke ptxas --version\n",
      "2021-11-16 16:10:48.089927: I tensorflow/core/platform/default/subprocess.cc:304] Start cannot spawn child process: No such file or directory\n",
      "2021-11-16 16:10:48.089998: W tensorflow/stream_executor/gpu/redzone_allocator.cc:314] Internal: Failed to launch ptxas\n",
      "Relying on driver to perform ptx compilation. \n",
      "Modify $PATH to customize ptxas location.\n",
      "This message will be only logged once.\n"
     ]
    },
    {
     "name": "stdout",
     "output_type": "stream",
     "text": [
      "200/200 [==============================] - 4s 3ms/step - loss: 6505.1138 - accuracy: 0.2850\n",
      "Epoch 2/10\n",
      "200/200 [==============================] - 1s 4ms/step - loss: 6894.7505 - accuracy: 0.2800\n",
      "Epoch 3/10\n",
      "200/200 [==============================] - 1s 3ms/step - loss: 1570.8800 - accuracy: 0.2300\n",
      "Epoch 4/10\n",
      "200/200 [==============================] - 1s 3ms/step - loss: 8678.6680 - accuracy: 0.2150\n",
      "Epoch 5/10\n",
      "200/200 [==============================] - 1s 3ms/step - loss: 1420.7997 - accuracy: 0.2800\n",
      "Epoch 6/10\n",
      "200/200 [==============================] - 1s 3ms/step - loss: 926.9604 - accuracy: 0.3400\n",
      "Epoch 7/10\n",
      "200/200 [==============================] - 1s 3ms/step - loss: 461.6359 - accuracy: 0.3100\n",
      "Epoch 8/10\n",
      "200/200 [==============================] - 1s 3ms/step - loss: 228.4127 - accuracy: 0.3400\n",
      "Epoch 9/10\n",
      "200/200 [==============================] - 1s 3ms/step - loss: 119.8696 - accuracy: 0.3350\n",
      "Epoch 10/10\n",
      "200/200 [==============================] - 1s 3ms/step - loss: 71.3802 - accuracy: 0.3550\n"
     ]
    }
   ],
   "source": [
    "history = model.fit(train_dataset, epochs=10)"
   ]
  },
  {
   "cell_type": "code",
   "execution_count": 47,
   "metadata": {},
   "outputs": [
    {
     "name": "stdout",
     "output_type": "stream",
     "text": [
      "10/10 [==============================] - 0s 3ms/step - loss: 220.4789 - accuracy: 0.4000\n"
     ]
    },
    {
     "data": {
      "text/plain": [
       "[220.47885131835938, 0.4000000059604645]"
      ]
     },
     "execution_count": 47,
     "metadata": {},
     "output_type": "execute_result"
    }
   ],
   "source": [
    "model.evaluate(test_dataset)"
   ]
  }
 ],
 "metadata": {
  "interpreter": {
   "hash": "18b71b3ca86bc70e425ee8697666d2d9c8c3a0cbd08f13108941583ebc405025"
  },
  "kernelspec": {
   "display_name": "Python 3.9.7 64-bit ('analysis': conda)",
   "name": "python3"
  },
  "language_info": {
   "codemirror_mode": {
    "name": "ipython",
    "version": 3
   },
   "file_extension": ".py",
   "mimetype": "text/x-python",
   "name": "python",
   "nbconvert_exporter": "python",
   "pygments_lexer": "ipython3",
   "version": "3.9.7"
  },
  "orig_nbformat": 4
 },
 "nbformat": 4,
 "nbformat_minor": 2
}
