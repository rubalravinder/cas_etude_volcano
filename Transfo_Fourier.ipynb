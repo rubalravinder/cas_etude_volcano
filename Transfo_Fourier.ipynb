{
 "cells": [
  {
   "cell_type": "code",
   "execution_count": null,
   "id": "541688f7",
   "metadata": {},
   "outputs": [],
   "source": []
  },
  {
   "cell_type": "code",
   "execution_count": 19,
   "id": "58f3ad91",
   "metadata": {},
   "outputs": [
    {
     "data": {
      "text/plain": [
       "array([456.36935028,   0.6063094 ,   1.08079797, ...,   1.32804192,\n",
       "         1.08079797,   0.6063094 ])"
      ]
     },
     "execution_count": 19,
     "metadata": {},
     "output_type": "execute_result"
    }
   ],
   "source": [
    "import math\n",
    "import numpy as np\n",
    "import pandas as pd\n",
    "from matplotlib.pyplot import *\n",
    "from numpy.fft import fft \n",
    "from scipy import fftpack\n",
    "from transformer import Transformer\n",
    "\n",
    "catalog_file=pd.read_pickle(\"/home/d5learner-08/GDrive/Cas_D_Etude/Cas_Etude_Vulcano/association_balanced_table.pkl\")\n",
    "index=68058\n",
    "\n",
    "def TF(catalog_file, index): \n",
    "    \n",
    "    data= Transformer(\"data/Extracted/\").open_file(catalog_file, index)\n",
    "    tfd = fft(data)\n",
    "    N=len(data)\n",
    "    spectre = np.absolute(tfd)*2/N  \n",
    "    return spectre  \n",
    "\n",
    "TF(catalog_file,68058)"
   ]
  },
  {
   "cell_type": "code",
   "execution_count": null,
   "id": "c4d0bc1b",
   "metadata": {},
   "outputs": [],
   "source": []
  }
 ],
 "metadata": {
  "kernelspec": {
   "display_name": "Python 3",
   "language": "python",
   "name": "python3"
  },
  "language_info": {
   "codemirror_mode": {
    "name": "ipython",
    "version": 3
   },
   "file_extension": ".py",
   "mimetype": "text/x-python",
   "name": "python",
   "nbconvert_exporter": "python",
   "pygments_lexer": "ipython3",
   "version": "3.8.5"
  },
  "toc": {
   "base_numbering": 1,
   "nav_menu": {},
   "number_sections": true,
   "sideBar": true,
   "skip_h1_title": false,
   "title_cell": "Table of Contents",
   "title_sidebar": "Contents",
   "toc_cell": false,
   "toc_position": {},
   "toc_section_display": true,
   "toc_window_display": false
  }
 },
 "nbformat": 4,
 "nbformat_minor": 5
}
