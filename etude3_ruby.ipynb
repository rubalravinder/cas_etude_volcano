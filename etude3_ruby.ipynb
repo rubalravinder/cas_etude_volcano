{
 "cells": [
  {
   "cell_type": "code",
   "execution_count": 13,
   "id": "e7a0b13a",
   "metadata": {},
   "outputs": [
    {
     "name": "stdout",
     "output_type": "stream",
     "text": [
      "class Transformer and Event successfully imported\n"
     ]
    }
   ],
   "source": [
    "%run 'transformer.py'\n",
    "%run 'subsampler.py'\n",
    "%run 'visualisation.py'"
   ]
  },
  {
   "cell_type": "code",
   "execution_count": 14,
   "id": "12fabcc9",
   "metadata": {},
   "outputs": [],
   "source": [
    "import os\n",
    "import seaborn as sns\n",
    "import matplotlib.pyplot as plt"
   ]
  },
  {
   "cell_type": "code",
   "execution_count": 15,
   "id": "a7af41d5",
   "metadata": {},
   "outputs": [],
   "source": [
    "%store -r association_table"
   ]
  },
  {
   "cell_type": "code",
   "execution_count": 16,
   "id": "a7d53430",
   "metadata": {},
   "outputs": [
    {
     "data": {
      "text/html": [
       "<div>\n",
       "<style scoped>\n",
       "    .dataframe tbody tr th:only-of-type {\n",
       "        vertical-align: middle;\n",
       "    }\n",
       "\n",
       "    .dataframe tbody tr th {\n",
       "        vertical-align: top;\n",
       "    }\n",
       "\n",
       "    .dataframe thead th {\n",
       "        text-align: right;\n",
       "    }\n",
       "</style>\n",
       "<table border=\"1\" class=\"dataframe\">\n",
       "  <thead>\n",
       "    <tr style=\"text-align: right;\">\n",
       "      <th></th>\n",
       "      <th>Index</th>\n",
       "      <th>Event</th>\n",
       "      <th>Duration</th>\n",
       "      <th>Event start</th>\n",
       "      <th>Event stop</th>\n",
       "      <th>File name</th>\n",
       "      <th>File start</th>\n",
       "      <th>File end</th>\n",
       "      <th>Sampling rate</th>\n",
       "      <th>Overlap</th>\n",
       "      <th>Unnamed: 10</th>\n",
       "      <th>Unnamed: 11</th>\n",
       "      <th>Unnamed: 12</th>\n",
       "      <th>npts</th>\n",
       "      <th>energy</th>\n",
       "      <th>path</th>\n",
       "    </tr>\n",
       "  </thead>\n",
       "  <tbody>\n",
       "    <tr>\n",
       "      <th>32806</th>\n",
       "      <td>32806</td>\n",
       "      <td>LP1</td>\n",
       "      <td>22</td>\n",
       "      <td>2006-09-28 14:03:57.700000+00:00</td>\n",
       "      <td>2006-09-28 14:04:19.700000+00:00</td>\n",
       "      <td>20060928_1416.UB1.SL.Z.sac</td>\n",
       "      <td>2006-09-28 14:00:00.019000+00:00</td>\n",
       "      <td>2006-09-28 14:59:59.969000+00:00</td>\n",
       "      <td>40.0</td>\n",
       "      <td>False</td>\n",
       "      <td>NaN</td>\n",
       "      <td>NaN</td>\n",
       "      <td>NaN</td>\n",
       "      <td>143999.0</td>\n",
       "      <td>0.02771</td>\n",
       "      <td>C:/Users/EC265595/Documents/Data/Ubinas_2006_2...</td>\n",
       "    </tr>\n",
       "    <tr>\n",
       "      <th>45474</th>\n",
       "      <td>45474</td>\n",
       "      <td>LP1</td>\n",
       "      <td>46</td>\n",
       "      <td>2007-10-01 15:00:08.490000+00:00</td>\n",
       "      <td>2007-10-01 15:00:54.490000+00:00</td>\n",
       "      <td>20071001_1500.UB1.SL.Z.sac</td>\n",
       "      <td>2007-10-01 15:00:00.039000+00:00</td>\n",
       "      <td>2007-10-01 16:00:00.039000+00:00</td>\n",
       "      <td>50.0</td>\n",
       "      <td>False</td>\n",
       "      <td>NaN</td>\n",
       "      <td>NaN</td>\n",
       "      <td>NaN</td>\n",
       "      <td>180001.0</td>\n",
       "      <td>0.03492</td>\n",
       "      <td>C:/Users/EC265595/Documents/Data/Ubinas_2006_2...</td>\n",
       "    </tr>\n",
       "    <tr>\n",
       "      <th>122993</th>\n",
       "      <td>122993</td>\n",
       "      <td>LP1</td>\n",
       "      <td>28</td>\n",
       "      <td>2011-03-28 16:41:55.710000+00:00</td>\n",
       "      <td>2011-03-28 16:42:23.710000+00:00</td>\n",
       "      <td>20110328_1600.UB1.SL.Z.sac</td>\n",
       "      <td>2011-03-28 15:59:59.795000+00:00</td>\n",
       "      <td>2011-03-28 17:00:08.705000+00:00</td>\n",
       "      <td>100.0</td>\n",
       "      <td>False</td>\n",
       "      <td>NaN</td>\n",
       "      <td>NaN</td>\n",
       "      <td>NaN</td>\n",
       "      <td>360892.0</td>\n",
       "      <td>1.14098</td>\n",
       "      <td>C:/Users/EC265595/Documents/Data/Ubinas_2006_2...</td>\n",
       "    </tr>\n",
       "  </tbody>\n",
       "</table>\n",
       "</div>"
      ],
      "text/plain": [
       "         Index Event  Duration                       Event start  \\\n",
       "32806    32806   LP1        22  2006-09-28 14:03:57.700000+00:00   \n",
       "45474    45474   LP1        46  2007-10-01 15:00:08.490000+00:00   \n",
       "122993  122993   LP1        28  2011-03-28 16:41:55.710000+00:00   \n",
       "\n",
       "                              Event stop                   File name  \\\n",
       "32806   2006-09-28 14:04:19.700000+00:00  20060928_1416.UB1.SL.Z.sac   \n",
       "45474   2007-10-01 15:00:54.490000+00:00  20071001_1500.UB1.SL.Z.sac   \n",
       "122993  2011-03-28 16:42:23.710000+00:00  20110328_1600.UB1.SL.Z.sac   \n",
       "\n",
       "                              File start                          File end  \\\n",
       "32806   2006-09-28 14:00:00.019000+00:00  2006-09-28 14:59:59.969000+00:00   \n",
       "45474   2007-10-01 15:00:00.039000+00:00  2007-10-01 16:00:00.039000+00:00   \n",
       "122993  2011-03-28 15:59:59.795000+00:00  2011-03-28 17:00:08.705000+00:00   \n",
       "\n",
       "        Sampling rate  Overlap  Unnamed: 10  Unnamed: 11  Unnamed: 12  \\\n",
       "32806            40.0    False          NaN          NaN          NaN   \n",
       "45474            50.0    False          NaN          NaN          NaN   \n",
       "122993          100.0    False          NaN          NaN          NaN   \n",
       "\n",
       "            npts   energy                                               path  \n",
       "32806   143999.0  0.02771  C:/Users/EC265595/Documents/Data/Ubinas_2006_2...  \n",
       "45474   180001.0  0.03492  C:/Users/EC265595/Documents/Data/Ubinas_2006_2...  \n",
       "122993  360892.0  1.14098  C:/Users/EC265595/Documents/Data/Ubinas_2006_2...  "
      ]
     },
     "execution_count": 16,
     "metadata": {},
     "output_type": "execute_result"
    }
   ],
   "source": [
    "association_table.sample(3)"
   ]
  },
  {
   "cell_type": "markdown",
   "id": "2a581fe9",
   "metadata": {},
   "source": [
    "# Preprocessing"
   ]
  },
  {
   "cell_type": "code",
   "execution_count": 17,
   "id": "1df7912e",
   "metadata": {},
   "outputs": [],
   "source": [
    "data = association_table.copy()"
   ]
  },
  {
   "cell_type": "code",
   "execution_count": 18,
   "id": "1c7cca1c",
   "metadata": {},
   "outputs": [],
   "source": [
    "data['event'] = data.Event.apply(event_class)"
   ]
  },
  {
   "cell_type": "code",
   "execution_count": 19,
   "id": "de0a0ba3",
   "metadata": {},
   "outputs": [],
   "source": [
    "data_ts = data[['event', 'Event start']]"
   ]
  },
  {
   "cell_type": "code",
   "execution_count": 20,
   "id": "ebff4bc3",
   "metadata": {},
   "outputs": [
    {
     "name": "stderr",
     "output_type": "stream",
     "text": [
      "/home/d5learner-15/.local/lib/python3.8/site-packages/pandas/core/indexing.py:1843: SettingWithCopyWarning: \n",
      "A value is trying to be set on a copy of a slice from a DataFrame.\n",
      "Try using .loc[row_indexer,col_indexer] = value instead\n",
      "\n",
      "See the caveats in the documentation: https://pandas.pydata.org/pandas-docs/stable/user_guide/indexing.html#returning-a-view-versus-a-copy\n",
      "  self.obj[item_labels[indexer[info_axis]]] = value\n"
     ]
    }
   ],
   "source": [
    "data_ts.loc[:,'Event start'] = pd.to_datetime(data_ts.loc[:,'Event start'])"
   ]
  },
  {
   "cell_type": "code",
   "execution_count": 21,
   "id": "0064df77",
   "metadata": {},
   "outputs": [
    {
     "data": {
      "text/plain": [
       "event                       object\n",
       "Event start    datetime64[ns, UTC]\n",
       "dtype: object"
      ]
     },
     "execution_count": 21,
     "metadata": {},
     "output_type": "execute_result"
    }
   ],
   "source": [
    "data_ts.dtypes"
   ]
  },
  {
   "cell_type": "markdown",
   "id": "1fa85d4c",
   "metadata": {},
   "source": [
    "# Différence entre les Event start"
   ]
  },
  {
   "cell_type": "code",
   "execution_count": 22,
   "id": "0cf3b295",
   "metadata": {},
   "outputs": [],
   "source": [
    "def diff_datetime(df):\n",
    "    for idx in df.reset_index().index[1:]:\n",
    "        df.loc[idx,'diff']= data_ts.loc[idx,'Event start'] - data_ts.loc[idx-1,'Event start']\n",
    "    return df"
   ]
  },
  {
   "cell_type": "code",
   "execution_count": 23,
   "id": "3c375447",
   "metadata": {},
   "outputs": [],
   "source": [
    "data_LP = data_ts[data_ts.event == 'LP']\n",
    "data_TR = data_ts[data_ts.event == 'TR']\n",
    "data_EXP = data_ts[data_ts.event == 'EXP']\n",
    "data_VT = data_ts[data_ts.event == 'VT']\n",
    "data_HIB = data_ts[data_ts.event == 'HIB']\n",
    "data_PIS = data_ts[data_ts.event == 'PIS']\n",
    "data_TOR = data_ts[data_ts.event == 'TOR']"
   ]
  },
  {
   "cell_type": "markdown",
   "id": "1cd6070b",
   "metadata": {},
   "source": [
    "# data_LP"
   ]
  },
  {
   "cell_type": "code",
   "execution_count": 24,
   "id": "d9f8e3dc",
   "metadata": {},
   "outputs": [
    {
     "name": "stderr",
     "output_type": "stream",
     "text": [
      "<ipython-input-24-e99cd0f23180>:2: SettingWithCopyWarning: \n",
      "A value is trying to be set on a copy of a slice from a DataFrame\n",
      "\n",
      "See the caveats in the documentation: https://pandas.pydata.org/pandas-docs/stable/user_guide/indexing.html#returning-a-view-versus-a-copy\n",
      "  data_LP.sort_values(by='Event start', inplace=True)\n"
     ]
    }
   ],
   "source": [
    "# on trie par date\n",
    "data_LP.sort_values(by='Event start', inplace=True)"
   ]
  },
  {
   "cell_type": "code",
   "execution_count": 26,
   "id": "f05f55af",
   "metadata": {
    "scrolled": true
   },
   "outputs": [
    {
     "name": "stderr",
     "output_type": "stream",
     "text": [
      "<ipython-input-26-69a451940756>:2: SettingWithCopyWarning: \n",
      "A value is trying to be set on a copy of a slice from a DataFrame.\n",
      "Try using .loc[row_indexer,col_indexer] = value instead\n",
      "\n",
      "See the caveats in the documentation: https://pandas.pydata.org/pandas-docs/stable/user_guide/indexing.html#returning-a-view-versus-a-copy\n",
      "  data_LP['diff'] = data_LP['Event start'].diff(1)\n"
     ]
    }
   ],
   "source": [
    "# diff_datetime(data_LP)\n",
    "data_LP['diff'] = data_LP['Event start'].diff(1)"
   ]
  },
  {
   "cell_type": "code",
   "execution_count": 27,
   "id": "15fe9b72",
   "metadata": {},
   "outputs": [
    {
     "data": {
      "text/html": [
       "<div>\n",
       "<style scoped>\n",
       "    .dataframe tbody tr th:only-of-type {\n",
       "        vertical-align: middle;\n",
       "    }\n",
       "\n",
       "    .dataframe tbody tr th {\n",
       "        vertical-align: top;\n",
       "    }\n",
       "\n",
       "    .dataframe thead th {\n",
       "        text-align: right;\n",
       "    }\n",
       "</style>\n",
       "<table border=\"1\" class=\"dataframe\">\n",
       "  <thead>\n",
       "    <tr style=\"text-align: right;\">\n",
       "      <th></th>\n",
       "      <th>event</th>\n",
       "      <th>Event start</th>\n",
       "      <th>diff</th>\n",
       "    </tr>\n",
       "  </thead>\n",
       "  <tbody>\n",
       "    <tr>\n",
       "      <th>4223</th>\n",
       "      <td>LP</td>\n",
       "      <td>2006-01-06 01:17:26.980000+00:00</td>\n",
       "      <td>NaT</td>\n",
       "    </tr>\n",
       "    <tr>\n",
       "      <th>4224</th>\n",
       "      <td>LP</td>\n",
       "      <td>2006-01-06 01:20:39.720000+00:00</td>\n",
       "      <td>0 days 00:03:12.740000</td>\n",
       "    </tr>\n",
       "    <tr>\n",
       "      <th>4225</th>\n",
       "      <td>LP</td>\n",
       "      <td>2006-01-06 01:38:08.070000+00:00</td>\n",
       "      <td>0 days 00:17:28.350000</td>\n",
       "    </tr>\n",
       "    <tr>\n",
       "      <th>4226</th>\n",
       "      <td>LP</td>\n",
       "      <td>2006-01-06 01:42:51.480000+00:00</td>\n",
       "      <td>0 days 00:04:43.410000</td>\n",
       "    </tr>\n",
       "    <tr>\n",
       "      <th>4228</th>\n",
       "      <td>LP</td>\n",
       "      <td>2006-01-06 02:12:48.880000+00:00</td>\n",
       "      <td>0 days 00:29:57.400000</td>\n",
       "    </tr>\n",
       "    <tr>\n",
       "      <th>...</th>\n",
       "      <td>...</td>\n",
       "      <td>...</td>\n",
       "      <td>...</td>\n",
       "    </tr>\n",
       "    <tr>\n",
       "      <th>31696</th>\n",
       "      <td>LP</td>\n",
       "      <td>NaT</td>\n",
       "      <td>NaT</td>\n",
       "    </tr>\n",
       "    <tr>\n",
       "      <th>43506</th>\n",
       "      <td>LP</td>\n",
       "      <td>NaT</td>\n",
       "      <td>NaT</td>\n",
       "    </tr>\n",
       "    <tr>\n",
       "      <th>45453</th>\n",
       "      <td>LP</td>\n",
       "      <td>NaT</td>\n",
       "      <td>NaT</td>\n",
       "    </tr>\n",
       "    <tr>\n",
       "      <th>75534</th>\n",
       "      <td>LP</td>\n",
       "      <td>NaT</td>\n",
       "      <td>NaT</td>\n",
       "    </tr>\n",
       "    <tr>\n",
       "      <th>120331</th>\n",
       "      <td>LP</td>\n",
       "      <td>NaT</td>\n",
       "      <td>NaT</td>\n",
       "    </tr>\n",
       "  </tbody>\n",
       "</table>\n",
       "<p>103462 rows × 3 columns</p>\n",
       "</div>"
      ],
      "text/plain": [
       "       event                      Event start                   diff\n",
       "4223      LP 2006-01-06 01:17:26.980000+00:00                    NaT\n",
       "4224      LP 2006-01-06 01:20:39.720000+00:00 0 days 00:03:12.740000\n",
       "4225      LP 2006-01-06 01:38:08.070000+00:00 0 days 00:17:28.350000\n",
       "4226      LP 2006-01-06 01:42:51.480000+00:00 0 days 00:04:43.410000\n",
       "4228      LP 2006-01-06 02:12:48.880000+00:00 0 days 00:29:57.400000\n",
       "...      ...                              ...                    ...\n",
       "31696     LP                              NaT                    NaT\n",
       "43506     LP                              NaT                    NaT\n",
       "45453     LP                              NaT                    NaT\n",
       "75534     LP                              NaT                    NaT\n",
       "120331    LP                              NaT                    NaT\n",
       "\n",
       "[103462 rows x 3 columns]"
      ]
     },
     "execution_count": 27,
     "metadata": {},
     "output_type": "execute_result"
    }
   ],
   "source": [
    "data_LP"
   ]
  },
  {
   "cell_type": "code",
   "execution_count": 28,
   "id": "5d4f9ec7",
   "metadata": {},
   "outputs": [],
   "source": [
    "data_LP.diff = pd.to_timedelta(data_ts.diff, unit='hour', errors='ignore')"
   ]
  },
  {
   "cell_type": "code",
   "execution_count": 30,
   "id": "2459fc1a",
   "metadata": {},
   "outputs": [
    {
     "name": "stderr",
     "output_type": "stream",
     "text": [
      "<ipython-input-30-f80b4cdcac2c>:1: SettingWithCopyWarning: \n",
      "A value is trying to be set on a copy of a slice from a DataFrame.\n",
      "Try using .loc[row_indexer,col_indexer] = value instead\n",
      "\n",
      "See the caveats in the documentation: https://pandas.pydata.org/pandas-docs/stable/user_guide/indexing.html#returning-a-view-versus-a-copy\n",
      "  data_LP['minutes'] = data_LP['diff'].dt.total_seconds()/60\n"
     ]
    }
   ],
   "source": [
    "data_LP['minutes'] = data_LP['diff'].dt.total_seconds()/60"
   ]
  },
  {
   "cell_type": "code",
   "execution_count": 31,
   "id": "843b9f11",
   "metadata": {},
   "outputs": [
    {
     "name": "stderr",
     "output_type": "stream",
     "text": [
      "<ipython-input-31-71f357bab2d6>:1: SettingWithCopyWarning: \n",
      "A value is trying to be set on a copy of a slice from a DataFrame.\n",
      "Try using .loc[row_indexer,col_indexer] = value instead\n",
      "\n",
      "See the caveats in the documentation: https://pandas.pydata.org/pandas-docs/stable/user_guide/indexing.html#returning-a-view-versus-a-copy\n",
      "  data_LP['seconds'] = data_LP['diff'].dt.seconds\n"
     ]
    }
   ],
   "source": [
    "data_LP['seconds'] = data_LP['diff'].dt.seconds"
   ]
  },
  {
   "cell_type": "code",
   "execution_count": 35,
   "id": "dcf164b1",
   "metadata": {},
   "outputs": [
    {
     "data": {
      "text/plain": [
       "<AxesSubplot:xlabel='Event start'>"
      ]
     },
     "execution_count": 35,
     "metadata": {},
     "output_type": "execute_result"
    },
    {
     "data": {
      "image/png": "[encoded data removed]",
      "text/plain": [
       "<Figure size 1224x360 with 1 Axes>"
      ]
     },
     "metadata": {
      "needs_background": "light"
     },
     "output_type": "display_data"
    }
   ],
   "source": [
    "data_LP[['Event start', 'seconds']].plot(x='Event start', y='seconds', figsize=(17,5))#, marker='.', linestyle='')"
   ]
  },
  {
   "cell_type": "code",
   "execution_count": 36,
   "id": "21352174",
   "metadata": {},
   "outputs": [
    {
     "data": {
      "text/plain": [
       "<AxesSubplot:xlabel='Event start'>"
      ]
     },
     "execution_count": 36,
     "metadata": {},
     "output_type": "execute_result"
    },
    {
     "data": {
      "image/png": "[encoded data removed]",
      "text/plain": [
       "<Figure size 1224x360 with 1 Axes>"
      ]
     },
     "metadata": {
      "needs_background": "light"
     },
     "output_type": "display_data"
    }
   ],
   "source": [
    "data_LP[['Event start', 'minutes']].plot(x='Event start', y='minutes', figsize=(17,5))#, marker='.', linestyle='')"
   ]
  },
  {
   "cell_type": "code",
   "execution_count": 34,
   "id": "2945cee9",
   "metadata": {},
   "outputs": [
    {
     "data": {
      "text/html": [
       "<div>\n",
       "<style scoped>\n",
       "    .dataframe tbody tr th:only-of-type {\n",
       "        vertical-align: middle;\n",
       "    }\n",
       "\n",
       "    .dataframe tbody tr th {\n",
       "        vertical-align: top;\n",
       "    }\n",
       "\n",
       "    .dataframe thead th {\n",
       "        text-align: right;\n",
       "    }\n",
       "</style>\n",
       "<table border=\"1\" class=\"dataframe\">\n",
       "  <thead>\n",
       "    <tr style=\"text-align: right;\">\n",
       "      <th></th>\n",
       "      <th>event</th>\n",
       "      <th>Event start</th>\n",
       "      <th>diff</th>\n",
       "      <th>minutes</th>\n",
       "      <th>seconds</th>\n",
       "    </tr>\n",
       "  </thead>\n",
       "  <tbody>\n",
       "    <tr>\n",
       "      <th>4223</th>\n",
       "      <td>LP</td>\n",
       "      <td>2006-01-06 01:17:26.980000+00:00</td>\n",
       "      <td>NaT</td>\n",
       "      <td>NaN</td>\n",
       "      <td>NaN</td>\n",
       "    </tr>\n",
       "    <tr>\n",
       "      <th>4224</th>\n",
       "      <td>LP</td>\n",
       "      <td>2006-01-06 01:20:39.720000+00:00</td>\n",
       "      <td>0 days 00:03:12.740000</td>\n",
       "      <td>3.212333</td>\n",
       "      <td>192.0</td>\n",
       "    </tr>\n",
       "    <tr>\n",
       "      <th>4225</th>\n",
       "      <td>LP</td>\n",
       "      <td>2006-01-06 01:38:08.070000+00:00</td>\n",
       "      <td>0 days 00:17:28.350000</td>\n",
       "      <td>17.472500</td>\n",
       "      <td>1048.0</td>\n",
       "    </tr>\n",
       "    <tr>\n",
       "      <th>4226</th>\n",
       "      <td>LP</td>\n",
       "      <td>2006-01-06 01:42:51.480000+00:00</td>\n",
       "      <td>0 days 00:04:43.410000</td>\n",
       "      <td>4.723500</td>\n",
       "      <td>283.0</td>\n",
       "    </tr>\n",
       "    <tr>\n",
       "      <th>4228</th>\n",
       "      <td>LP</td>\n",
       "      <td>2006-01-06 02:12:48.880000+00:00</td>\n",
       "      <td>0 days 00:29:57.400000</td>\n",
       "      <td>29.956667</td>\n",
       "      <td>1797.0</td>\n",
       "    </tr>\n",
       "    <tr>\n",
       "      <th>...</th>\n",
       "      <td>...</td>\n",
       "      <td>...</td>\n",
       "      <td>...</td>\n",
       "      <td>...</td>\n",
       "      <td>...</td>\n",
       "    </tr>\n",
       "    <tr>\n",
       "      <th>31696</th>\n",
       "      <td>LP</td>\n",
       "      <td>NaT</td>\n",
       "      <td>NaT</td>\n",
       "      <td>NaN</td>\n",
       "      <td>NaN</td>\n",
       "    </tr>\n",
       "    <tr>\n",
       "      <th>43506</th>\n",
       "      <td>LP</td>\n",
       "      <td>NaT</td>\n",
       "      <td>NaT</td>\n",
       "      <td>NaN</td>\n",
       "      <td>NaN</td>\n",
       "    </tr>\n",
       "    <tr>\n",
       "      <th>45453</th>\n",
       "      <td>LP</td>\n",
       "      <td>NaT</td>\n",
       "      <td>NaT</td>\n",
       "      <td>NaN</td>\n",
       "      <td>NaN</td>\n",
       "    </tr>\n",
       "    <tr>\n",
       "      <th>75534</th>\n",
       "      <td>LP</td>\n",
       "      <td>NaT</td>\n",
       "      <td>NaT</td>\n",
       "      <td>NaN</td>\n",
       "      <td>NaN</td>\n",
       "    </tr>\n",
       "    <tr>\n",
       "      <th>120331</th>\n",
       "      <td>LP</td>\n",
       "      <td>NaT</td>\n",
       "      <td>NaT</td>\n",
       "      <td>NaN</td>\n",
       "      <td>NaN</td>\n",
       "    </tr>\n",
       "  </tbody>\n",
       "</table>\n",
       "<p>103462 rows × 5 columns</p>\n",
       "</div>"
      ],
      "text/plain": [
       "       event                      Event start                   diff  \\\n",
       "4223      LP 2006-01-06 01:17:26.980000+00:00                    NaT   \n",
       "4224      LP 2006-01-06 01:20:39.720000+00:00 0 days 00:03:12.740000   \n",
       "4225      LP 2006-01-06 01:38:08.070000+00:00 0 days 00:17:28.350000   \n",
       "4226      LP 2006-01-06 01:42:51.480000+00:00 0 days 00:04:43.410000   \n",
       "4228      LP 2006-01-06 02:12:48.880000+00:00 0 days 00:29:57.400000   \n",
       "...      ...                              ...                    ...   \n",
       "31696     LP                              NaT                    NaT   \n",
       "43506     LP                              NaT                    NaT   \n",
       "45453     LP                              NaT                    NaT   \n",
       "75534     LP                              NaT                    NaT   \n",
       "120331    LP                              NaT                    NaT   \n",
       "\n",
       "          minutes  seconds  \n",
       "4223          NaN      NaN  \n",
       "4224     3.212333    192.0  \n",
       "4225    17.472500   1048.0  \n",
       "4226     4.723500    283.0  \n",
       "4228    29.956667   1797.0  \n",
       "...           ...      ...  \n",
       "31696         NaN      NaN  \n",
       "43506         NaN      NaN  \n",
       "45453         NaN      NaN  \n",
       "75534         NaN      NaN  \n",
       "120331        NaN      NaN  \n",
       "\n",
       "[103462 rows x 5 columns]"
      ]
     },
     "execution_count": 34,
     "metadata": {},
     "output_type": "execute_result"
    }
   ],
   "source": [
    "data_LP"
   ]
  },
  {
   "cell_type": "code",
   "execution_count": null,
   "id": "3fe0f9be",
   "metadata": {},
   "outputs": [],
   "source": []
  }
 ],
 "metadata": {
  "kernelspec": {
   "display_name": "Python 3",
   "language": "python",
   "name": "python3"
  },
  "language_info": {
   "codemirror_mode": {
    "name": "ipython",
    "version": 3
   },
   "file_extension": ".py",
   "mimetype": "text/x-python",
   "name": "python",
   "nbconvert_exporter": "python",
   "pygments_lexer": "ipython3",
   "version": "3.8.10"
  }
 },
 "nbformat": 4,
 "nbformat_minor": 5
}
