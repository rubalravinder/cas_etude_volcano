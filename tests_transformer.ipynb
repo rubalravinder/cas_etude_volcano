{
 "cells": [
  {
   "cell_type": "code",
   "execution_count": 1,
   "id": "ea28fa74",
   "metadata": {},
   "outputs": [
    {
     "name": "stdout",
     "output_type": "stream",
     "text": [
      "class Transformer successfully imported\n"
     ]
    }
   ],
   "source": [
    "%run '../transformer.py'"
   ]
  },
  {
   "cell_type": "code",
   "execution_count": 3,
   "id": "704eb2ed",
   "metadata": {},
   "outputs": [],
   "source": [
    "association_table = pd.read_excel('../data/association_table_corrected_index.xlsx', engine='openpyxl')"
   ]
  },
  {
   "cell_type": "code",
   "execution_count": 4,
   "id": "54214d6b",
   "metadata": {},
   "outputs": [],
   "source": [
    "# instaciation de classe\n",
    "transfo = Transformer(directory_path = '/home/d5learner-15/Documents/cas_etude_volcano/data/Extracted/')"
   ]
  },
  {
   "cell_type": "code",
   "execution_count": 5,
   "id": "2e2200a5",
   "metadata": {},
   "outputs": [
    {
     "name": "stdout",
     "output_type": "stream",
     "text": [
      "TR TR_2\n",
      "/home/d5learner-15/Documents/cas_etude_volcano/data/Extracted/TR/TR_2.npy\n"
     ]
    }
   ],
   "source": [
    "# test get_event_and_file_name()\n",
    "event, file_name = transfo.get_event_and_file_name(association_table,2)\n",
    "print(event, file_name)\n",
    "\n",
    "file_path = transfo.get_file_path(association_table, 2)\n",
    "print(file_path)"
   ]
  },
  {
   "cell_type": "code",
   "execution_count": 6,
   "id": "45f862b5",
   "metadata": {},
   "outputs": [
    {
     "data": {
      "text/plain": [
       "(43673.58, 208.36441, 198.70193, 957.90704, 1622.745)"
      ]
     },
     "execution_count": 6,
     "metadata": {},
     "output_type": "execute_result"
    }
   ],
   "source": [
    "# test open_file et get_info_from_file\n",
    "transfo.get_info_from_file(association_table, 21)"
   ]
  },
  {
   "cell_type": "code",
   "execution_count": 7,
   "id": "a7c11284",
   "metadata": {
    "scrolled": true
   },
   "outputs": [
    {
     "data": {
      "text/plain": [
       "'/home/d5learner-15/Documents/cas_etude_volcano/notebook'"
      ]
     },
     "execution_count": 7,
     "metadata": {},
     "output_type": "execute_result"
    }
   ],
   "source": [
    "# chemin absolu menant à ce notebook\n",
    "os.path.abspath('')"
   ]
  },
  {
   "cell_type": "code",
   "execution_count": 6,
   "id": "78652184",
   "metadata": {
    "scrolled": true
   },
   "outputs": [
    {
     "name": "stdout",
     "output_type": "stream",
     "text": [
      "Avant: (124874, 16)\n",
      "Apres: (124874, 10)\n"
     ]
    }
   ],
   "source": [
    "# test supp_columns()\n",
    "df_test = association_table.copy()\n",
    "print('Avant:', df_test.shape)\n",
    "df_test = transfo.supp_columns(df_test)\n",
    "print('Apres:',df_test.shape)"
   ]
  },
  {
   "cell_type": "code",
   "execution_count": 8,
   "id": "8f4c6126",
   "metadata": {},
   "outputs": [
    {
     "name": "stderr",
     "output_type": "stream",
     "text": [
      "/home/d5learner-15/.local/lib/python3.8/site-packages/pandas/core/frame.py:4308: SettingWithCopyWarning: \n",
      "A value is trying to be set on a copy of a slice from a DataFrame\n",
      "\n",
      "See the caveats in the documentation: https://pandas.pydata.org/pandas-docs/stable/user_guide/indexing.html#returning-a-view-versus-a-copy\n",
      "  return super().drop(\n",
      "/home/d5learner-15/.local/lib/python3.8/site-packages/pandas/core/indexing.py:1599: SettingWithCopyWarning: \n",
      "A value is trying to be set on a copy of a slice from a DataFrame.\n",
      "Try using .loc[row_indexer,col_indexer] = value instead\n",
      "\n",
      "See the caveats in the documentation: https://pandas.pydata.org/pandas-docs/stable/user_guide/indexing.html#returning-a-view-versus-a-copy\n",
      "  self.obj[key] = infer_fill_value(value)\n",
      "/home/d5learner-15/.local/lib/python3.8/site-packages/pandas/core/indexing.py:1720: SettingWithCopyWarning: \n",
      "A value is trying to be set on a copy of a slice from a DataFrame.\n",
      "Try using .loc[row_indexer,col_indexer] = value instead\n",
      "\n",
      "See the caveats in the documentation: https://pandas.pydata.org/pandas-docs/stable/user_guide/indexing.html#returning-a-view-versus-a-copy\n",
      "  self._setitem_single_column(loc, value, pi)\n"
     ]
    }
   ],
   "source": [
    "X = transfo.fit_transform(association_table.head(10))"
   ]
  },
  {
   "cell_type": "code",
   "execution_count": 10,
   "id": "5eef4051",
   "metadata": {},
   "outputs": [
    {
     "data": {
      "text/html": [
       "<div>\n",
       "<style scoped>\n",
       "    .dataframe tbody tr th:only-of-type {\n",
       "        vertical-align: middle;\n",
       "    }\n",
       "\n",
       "    .dataframe tbody tr th {\n",
       "        vertical-align: top;\n",
       "    }\n",
       "\n",
       "    .dataframe thead th {\n",
       "        text-align: right;\n",
       "    }\n",
       "</style>\n",
       "<table border=\"1\" class=\"dataframe\">\n",
       "  <thead>\n",
       "    <tr style=\"text-align: right;\">\n",
       "      <th></th>\n",
       "      <th>Index</th>\n",
       "      <th>Event</th>\n",
       "      <th>Duration</th>\n",
       "      <th>Event start</th>\n",
       "      <th>Event stop</th>\n",
       "      <th>Sampling rate</th>\n",
       "      <th>Overlap</th>\n",
       "      <th>npts</th>\n",
       "      <th>energy</th>\n",
       "      <th>path</th>\n",
       "      <th>variance</th>\n",
       "      <th>mean</th>\n",
       "      <th>median</th>\n",
       "      <th>maximum</th>\n",
       "      <th>amplitude</th>\n",
       "    </tr>\n",
       "  </thead>\n",
       "  <tbody>\n",
       "    <tr>\n",
       "      <th>7</th>\n",
       "      <td>7</td>\n",
       "      <td>LP1</td>\n",
       "      <td>23</td>\n",
       "      <td>2006-05-23 22:49:35.700000+00:00</td>\n",
       "      <td>2006-05-23 22:49:58.700000+00:00</td>\n",
       "      <td>100.0</td>\n",
       "      <td>False</td>\n",
       "      <td>60000.0</td>\n",
       "      <td>0.02537</td>\n",
       "      <td>C:/Users/EC265595/Documents/Data/Ubinas_2006_2...</td>\n",
       "      <td>10092.757812</td>\n",
       "      <td>181.600876</td>\n",
       "      <td>179.0</td>\n",
       "      <td>596.0</td>\n",
       "      <td>886.0</td>\n",
       "    </tr>\n",
       "    <tr>\n",
       "      <th>1</th>\n",
       "      <td>1</td>\n",
       "      <td>LP1</td>\n",
       "      <td>45</td>\n",
       "      <td>2006-05-23 20:39:59.960000+00:00</td>\n",
       "      <td>2006-05-23 20:40:44.960000+00:00</td>\n",
       "      <td>100.0</td>\n",
       "      <td>False</td>\n",
       "      <td>60000.0</td>\n",
       "      <td>0.11833</td>\n",
       "      <td>C:/Users/EC265595/Documents/Data/Ubinas_2006_2...</td>\n",
       "      <td>21388.722656</td>\n",
       "      <td>71.648224</td>\n",
       "      <td>69.0</td>\n",
       "      <td>719.0</td>\n",
       "      <td>1157.0</td>\n",
       "    </tr>\n",
       "    <tr>\n",
       "      <th>8</th>\n",
       "      <td>8</td>\n",
       "      <td>LP1</td>\n",
       "      <td>15</td>\n",
       "      <td>2006-05-23 22:49:59.480000+00:00</td>\n",
       "      <td>2006-05-23 22:50:14.480000+00:00</td>\n",
       "      <td>100.0</td>\n",
       "      <td>False</td>\n",
       "      <td>60000.0</td>\n",
       "      <td>0.03761</td>\n",
       "      <td>C:/Users/EC265595/Documents/Data/Ubinas_2006_2...</td>\n",
       "      <td>22330.906250</td>\n",
       "      <td>189.344666</td>\n",
       "      <td>186.0</td>\n",
       "      <td>765.0</td>\n",
       "      <td>1109.0</td>\n",
       "    </tr>\n",
       "  </tbody>\n",
       "</table>\n",
       "</div>"
      ],
      "text/plain": [
       "   Index Event  Duration                       Event start  \\\n",
       "7      7   LP1        23  2006-05-23 22:49:35.700000+00:00   \n",
       "1      1   LP1        45  2006-05-23 20:39:59.960000+00:00   \n",
       "8      8   LP1        15  2006-05-23 22:49:59.480000+00:00   \n",
       "\n",
       "                         Event stop  Sampling rate  Overlap     npts   energy  \\\n",
       "7  2006-05-23 22:49:58.700000+00:00          100.0    False  60000.0  0.02537   \n",
       "1  2006-05-23 20:40:44.960000+00:00          100.0    False  60000.0  0.11833   \n",
       "8  2006-05-23 22:50:14.480000+00:00          100.0    False  60000.0  0.03761   \n",
       "\n",
       "                                                path      variance  \\\n",
       "7  C:/Users/EC265595/Documents/Data/Ubinas_2006_2...  10092.757812   \n",
       "1  C:/Users/EC265595/Documents/Data/Ubinas_2006_2...  21388.722656   \n",
       "8  C:/Users/EC265595/Documents/Data/Ubinas_2006_2...  22330.906250   \n",
       "\n",
       "         mean  median  maximum  amplitude  \n",
       "7  181.600876   179.0    596.0      886.0  \n",
       "1   71.648224    69.0    719.0     1157.0  \n",
       "8  189.344666   186.0    765.0     1109.0  "
      ]
     },
     "execution_count": 10,
     "metadata": {},
     "output_type": "execute_result"
    }
   ],
   "source": [
    "X.sample(3)"
   ]
  },
  {
   "cell_type": "code",
   "execution_count": 11,
   "id": "693b782d",
   "metadata": {},
   "outputs": [
    {
     "data": {
      "text/html": [
       "<div>\n",
       "<style scoped>\n",
       "    .dataframe tbody tr th:only-of-type {\n",
       "        vertical-align: middle;\n",
       "    }\n",
       "\n",
       "    .dataframe tbody tr th {\n",
       "        vertical-align: top;\n",
       "    }\n",
       "\n",
       "    .dataframe thead th {\n",
       "        text-align: right;\n",
       "    }\n",
       "</style>\n",
       "<table border=\"1\" class=\"dataframe\">\n",
       "  <thead>\n",
       "    <tr style=\"text-align: right;\">\n",
       "      <th></th>\n",
       "      <th>Index</th>\n",
       "      <th>Event</th>\n",
       "      <th>Duration</th>\n",
       "      <th>Event start</th>\n",
       "      <th>Event stop</th>\n",
       "      <th>File name</th>\n",
       "      <th>File start</th>\n",
       "      <th>File end</th>\n",
       "      <th>Sampling rate</th>\n",
       "      <th>Overlap</th>\n",
       "      <th>Unnamed: 10</th>\n",
       "      <th>Unnamed: 11</th>\n",
       "      <th>Unnamed: 12</th>\n",
       "      <th>npts</th>\n",
       "      <th>energy</th>\n",
       "      <th>path</th>\n",
       "    </tr>\n",
       "  </thead>\n",
       "  <tbody>\n",
       "    <tr>\n",
       "      <th>120791</th>\n",
       "      <td>120791</td>\n",
       "      <td>TOR</td>\n",
       "      <td>20</td>\n",
       "      <td>2010-07-26 16:14:04.560000+00:00</td>\n",
       "      <td>2010-07-26 16:14:24.560000+00:00</td>\n",
       "      <td>20100726_1600.UB1.SL.Z.sac</td>\n",
       "      <td>2010-07-26 16:00:00.039000+00:00</td>\n",
       "      <td>2010-07-26 17:00:00.039000+00:00</td>\n",
       "      <td>50.0</td>\n",
       "      <td>False</td>\n",
       "      <td>NaN</td>\n",
       "      <td>NaN</td>\n",
       "      <td>NaN</td>\n",
       "      <td>180001.0</td>\n",
       "      <td>0.01106</td>\n",
       "      <td>C:/Users/EC265595/Documents/Data/Ubinas_2006_2...</td>\n",
       "    </tr>\n",
       "    <tr>\n",
       "      <th>53524</th>\n",
       "      <td>53524</td>\n",
       "      <td>LP1</td>\n",
       "      <td>40</td>\n",
       "      <td>2007-02-23 23:40:53.450000+00:00</td>\n",
       "      <td>2007-02-23 23:41:33.450000+00:00</td>\n",
       "      <td>20070223_2300.UB1.SL.Z.sac</td>\n",
       "      <td>2007-02-23 23:00:00.019000+00:00</td>\n",
       "      <td>2007-02-23 23:59:59.969000+00:00</td>\n",
       "      <td>40.0</td>\n",
       "      <td>False</td>\n",
       "      <td>NaN</td>\n",
       "      <td>NaN</td>\n",
       "      <td>NaN</td>\n",
       "      <td>143999.0</td>\n",
       "      <td>0.01769</td>\n",
       "      <td>C:/Users/EC265595/Documents/Data/Ubinas_2006_2...</td>\n",
       "    </tr>\n",
       "    <tr>\n",
       "      <th>116932</th>\n",
       "      <td>116932</td>\n",
       "      <td>TR1</td>\n",
       "      <td>858</td>\n",
       "      <td>2009-09-05 14:01:31.660000+00:00</td>\n",
       "      <td>2009-09-05 14:15:49.660000+00:00</td>\n",
       "      <td>NaN</td>\n",
       "      <td>NaN</td>\n",
       "      <td>NaN</td>\n",
       "      <td>NaN</td>\n",
       "      <td>False</td>\n",
       "      <td>NaN</td>\n",
       "      <td>NaN</td>\n",
       "      <td>NaN</td>\n",
       "      <td>NaN</td>\n",
       "      <td>0.29051</td>\n",
       "      <td>NaN</td>\n",
       "    </tr>\n",
       "  </tbody>\n",
       "</table>\n",
       "</div>"
      ],
      "text/plain": [
       "         Index Event  Duration                       Event start  \\\n",
       "120791  120791   TOR        20  2010-07-26 16:14:04.560000+00:00   \n",
       "53524    53524   LP1        40  2007-02-23 23:40:53.450000+00:00   \n",
       "116932  116932   TR1       858  2009-09-05 14:01:31.660000+00:00   \n",
       "\n",
       "                              Event stop                   File name  \\\n",
       "120791  2010-07-26 16:14:24.560000+00:00  20100726_1600.UB1.SL.Z.sac   \n",
       "53524   2007-02-23 23:41:33.450000+00:00  20070223_2300.UB1.SL.Z.sac   \n",
       "116932  2009-09-05 14:15:49.660000+00:00                         NaN   \n",
       "\n",
       "                              File start                          File end  \\\n",
       "120791  2010-07-26 16:00:00.039000+00:00  2010-07-26 17:00:00.039000+00:00   \n",
       "53524   2007-02-23 23:00:00.019000+00:00  2007-02-23 23:59:59.969000+00:00   \n",
       "116932                               NaN                               NaN   \n",
       "\n",
       "        Sampling rate  Overlap  Unnamed: 10  Unnamed: 11  Unnamed: 12  \\\n",
       "120791           50.0    False          NaN          NaN          NaN   \n",
       "53524            40.0    False          NaN          NaN          NaN   \n",
       "116932            NaN    False          NaN          NaN          NaN   \n",
       "\n",
       "            npts   energy                                               path  \n",
       "120791  180001.0  0.01106  C:/Users/EC265595/Documents/Data/Ubinas_2006_2...  \n",
       "53524   143999.0  0.01769  C:/Users/EC265595/Documents/Data/Ubinas_2006_2...  \n",
       "116932       NaN  0.29051                                                NaN  "
      ]
     },
     "execution_count": 11,
     "metadata": {},
     "output_type": "execute_result"
    }
   ],
   "source": [
    "association_table.sample(3)"
   ]
  },
  {
   "cell_type": "code",
   "execution_count": null,
   "id": "48eff7bc",
   "metadata": {},
   "outputs": [],
   "source": []
  }
 ],
 "metadata": {
  "kernelspec": {
   "display_name": "Python 3",
   "language": "python",
   "name": "python3"
  },
  "language_info": {
   "codemirror_mode": {
    "name": "ipython",
    "version": 3
   },
   "file_extension": ".py",
   "mimetype": "text/x-python",
   "name": "python",
   "nbconvert_exporter": "python",
   "pygments_lexer": "ipython3",
   "version": "3.8.10"
  }
 },
 "nbformat": 4,
 "nbformat_minor": 5
}
