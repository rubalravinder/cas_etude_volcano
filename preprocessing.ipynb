{
 "cells": [
  {
   "cell_type": "markdown",
   "metadata": {},
   "source": [
    "## Load Data"
   ]
  },
  {
   "cell_type": "code",
   "execution_count": 1,
   "metadata": {},
   "outputs": [],
   "source": [
    "%load_ext autoreload\n",
    "%autoreload 2\n",
    "\n",
    "import pandas as pd\n",
    "import os"
   ]
  },
  {
   "cell_type": "code",
   "execution_count": 2,
   "metadata": {},
   "outputs": [],
   "source": [
    "try:\n",
    "    table = pd.read_pickle(\"data/table.pkl\")\n",
    "except:\n",
    "    table = pd.read_excel(\"data/association_table_corrected_index.xlsx\")\n",
    "    table.to_pickle(\"data/table.pkl\")"
   ]
  },
  {
   "cell_type": "code",
   "execution_count": null,
   "metadata": {},
   "outputs": [],
   "source": [
    "from transformer import Event\n",
    "from subsampler import balanced_subsampler\n",
    "\n",
    "NUMBER_OF_SAMPLES_PER_EVENT = 20\n",
    "\n",
    "table = Event().fit_transform(table)\n",
    "balanced_table = balanced_subsampler(table, NUMBER_OF_SAMPLES_PER_EVENT)\n",
    "balanced_table.event.value_counts()"
   ]
  }
 ],
 "metadata": {
  "interpreter": {
   "hash": "52b7a19755d7590c8f33dced4cf51b8fc2d67197dedd754d3fdc4df20b4f1b94"
  },
  "kernelspec": {
   "display_name": "Python 3",
   "language": "python",
   "name": "python3"
  },
  "language_info": {
   "codemirror_mode": {
    "name": "ipython",
    "version": 3
   },
   "file_extension": ".py",
   "mimetype": "text/x-python",
   "name": "python",
   "nbconvert_exporter": "python",
   "pygments_lexer": "ipython3",
   "version": "3.8.5"
  },
  "toc": {
   "base_numbering": 1,
   "nav_menu": {},
   "number_sections": true,
   "sideBar": true,
   "skip_h1_title": false,
   "title_cell": "Table of Contents",
   "title_sidebar": "Contents",
   "toc_cell": false,
   "toc_position": {},
   "toc_section_display": true,
   "toc_window_display": false
  }
 },
 "nbformat": 4,
 "nbformat_minor": 2
}
